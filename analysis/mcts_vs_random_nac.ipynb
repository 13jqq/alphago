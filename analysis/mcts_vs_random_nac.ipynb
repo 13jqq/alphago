{
 "cells": [
  {
   "cell_type": "code",
   "execution_count": 3,
   "metadata": {
    "collapsed": true
   },
   "outputs": [],
   "source": [
    "from alphago.player import MCTSPlayer, RandomPlayer, OptimalPlayer\n",
    "from alphago.games import noughts_and_crosses, connect_four\n",
    "from alphago.estimator import create_trivial_estimator\n",
    "from alphago.evaluator import evaluate"
   ]
  },
  {
   "cell_type": "code",
   "execution_count": 4,
   "metadata": {},
   "outputs": [],
   "source": [
    "trivial_estimator = create_trivial_estimator(\n",
    "    noughts_and_crosses.compute_next_states)\n",
    "player1 = MCTSPlayer(2, noughts_and_crosses, trivial_estimator,\n",
    "                     1000, 0.5, tau=0.1)\n",
    "player2 = OptimalPlayer(1, noughts_and_crosses)"
   ]
  },
  {
   "cell_type": "code",
   "execution_count": 5,
   "metadata": {},
   "outputs": [
    {
     "name": "stderr",
     "output_type": "stream",
     "text": [
      "\r  0%|          | 0/1000 [00:00<?, ?it/s]"
     ]
    },
    {
     "name": "stderr",
     "output_type": "stream",
     "text": [
      "\r  0%|          | 1/1000 [00:02<35:50,  2.15s/it]"
     ]
    },
    {
     "name": "stderr",
     "output_type": "stream",
     "text": [
      "\rWin1/Win2/Draw: 0/0/1:   0%|          | 1/1000 [00:02<35:50,  2.15s/it]"
     ]
    },
    {
     "name": "stderr",
     "output_type": "stream",
     "text": [
      "\rWin1/Win2/Draw: 0/0/1:   0%|          | 2/1000 [00:02<25:59,  1.56s/it]"
     ]
    },
    {
     "name": "stderr",
     "output_type": "stream",
     "text": [
      "\rWin1/Win2/Draw: 0/0/2:   0%|          | 2/1000 [00:02<25:59,  1.56s/it]"
     ]
    },
    {
     "name": "stderr",
     "output_type": "stream",
     "text": [
      "\rWin1/Win2/Draw: 0/0/2:   0%|          | 3/1000 [00:02<18:57,  1.14s/it]"
     ]
    },
    {
     "name": "stderr",
     "output_type": "stream",
     "text": [
      "\rWin1/Win2/Draw: 0/0/3:   0%|          | 3/1000 [00:02<18:57,  1.14s/it]"
     ]
    },
    {
     "name": "stderr",
     "output_type": "stream",
     "text": [
      "\rWin1/Win2/Draw: 0/0/3:   0%|          | 4/1000 [00:02<14:02,  1.18it/s]"
     ]
    },
    {
     "name": "stderr",
     "output_type": "stream",
     "text": [
      "\rWin1/Win2/Draw: 0/0/4:   0%|          | 4/1000 [00:02<14:02,  1.18it/s]"
     ]
    },
    {
     "name": "stderr",
     "output_type": "stream",
     "text": [
      "\rWin1/Win2/Draw: 0/0/4:   0%|          | 5/1000 [00:02<10:35,  1.57it/s]"
     ]
    },
    {
     "name": "stderr",
     "output_type": "stream",
     "text": [
      "\rWin1/Win2/Draw: 0/0/5:   0%|          | 5/1000 [00:02<10:35,  1.57it/s]"
     ]
    },
    {
     "name": "stderr",
     "output_type": "stream",
     "text": [
      "\rWin1/Win2/Draw: 0/0/5:   1%|          | 6/1000 [00:02<08:12,  2.02it/s]"
     ]
    },
    {
     "name": "stderr",
     "output_type": "stream",
     "text": [
      "\rWin1/Win2/Draw: 0/0/6:   1%|          | 6/1000 [00:02<08:12,  2.02it/s]"
     ]
    },
    {
     "name": "stderr",
     "output_type": "stream",
     "text": [
      "\rWin1/Win2/Draw: 0/0/6:   1%|          | 7/1000 [00:03<06:30,  2.54it/s]"
     ]
    },
    {
     "name": "stderr",
     "output_type": "stream",
     "text": [
      "\rWin1/Win2/Draw: 0/0/7:   1%|          | 7/1000 [00:03<06:30,  2.54it/s]"
     ]
    },
    {
     "name": "stderr",
     "output_type": "stream",
     "text": [
      "\rWin1/Win2/Draw: 0/0/7:   1%|          | 8/1000 [00:03<05:18,  3.11it/s]"
     ]
    },
    {
     "name": "stderr",
     "output_type": "stream",
     "text": [
      "\rWin1/Win2/Draw: 0/0/8:   1%|          | 8/1000 [00:03<05:18,  3.11it/s]"
     ]
    },
    {
     "name": "stderr",
     "output_type": "stream",
     "text": [
      "\rWin1/Win2/Draw: 0/0/8:   1%|          | 9/1000 [00:03<04:27,  3.70it/s]"
     ]
    },
    {
     "name": "stderr",
     "output_type": "stream",
     "text": [
      "\rWin1/Win2/Draw: 0/0/9:   1%|          | 9/1000 [00:03<04:27,  3.70it/s]"
     ]
    },
    {
     "name": "stderr",
     "output_type": "stream",
     "text": [
      "\rWin1/Win2/Draw: 0/0/9:   1%|          | 10/1000 [00:03<03:52,  4.26it/s]"
     ]
    },
    {
     "name": "stderr",
     "output_type": "stream",
     "text": [
      "\rWin1/Win2/Draw: 0/0/10:   1%|          | 10/1000 [00:03<03:52,  4.26it/s]"
     ]
    },
    {
     "name": "stderr",
     "output_type": "stream",
     "text": [
      "\rWin1/Win2/Draw: 0/0/10:   1%|          | 11/1000 [00:03<03:29,  4.73it/s]"
     ]
    },
    {
     "name": "stderr",
     "output_type": "stream",
     "text": [
      "\rWin1/Win2/Draw: 0/0/11:   1%|          | 11/1000 [00:03<03:29,  4.73it/s]"
     ]
    },
    {
     "name": "stderr",
     "output_type": "stream",
     "text": [
      "\rWin1/Win2/Draw: 0/0/11:   1%|          | 12/1000 [00:03<03:19,  4.95it/s]"
     ]
    },
    {
     "name": "stderr",
     "output_type": "stream",
     "text": [
      "\rWin1/Win2/Draw: 0/0/12:   1%|          | 12/1000 [00:03<03:19,  4.95it/s]"
     ]
    },
    {
     "name": "stderr",
     "output_type": "stream",
     "text": [
      "\rWin1/Win2/Draw: 0/0/12:   1%|▏         | 13/1000 [00:04<03:04,  5.34it/s]"
     ]
    },
    {
     "name": "stderr",
     "output_type": "stream",
     "text": [
      "\rWin1/Win2/Draw: 0/0/13:   1%|▏         | 13/1000 [00:04<03:04,  5.34it/s]"
     ]
    },
    {
     "name": "stderr",
     "output_type": "stream",
     "text": [
      "\rWin1/Win2/Draw: 0/0/13:   1%|▏         | 14/1000 [00:04<02:54,  5.66it/s]"
     ]
    },
    {
     "name": "stderr",
     "output_type": "stream",
     "text": [
      "\rWin1/Win2/Draw: 0/0/14:   1%|▏         | 14/1000 [00:04<02:54,  5.66it/s]"
     ]
    },
    {
     "name": "stderr",
     "output_type": "stream",
     "text": [
      "\rWin1/Win2/Draw: 0/0/14:   2%|▏         | 15/1000 [00:04<02:46,  5.91it/s]"
     ]
    },
    {
     "name": "stderr",
     "output_type": "stream",
     "text": [
      "\rWin1/Win2/Draw: 0/0/15:   2%|▏         | 15/1000 [00:04<02:46,  5.91it/s]"
     ]
    },
    {
     "name": "stderr",
     "output_type": "stream",
     "text": [
      "\rWin1/Win2/Draw: 0/0/15:   2%|▏         | 16/1000 [00:04<02:42,  6.04it/s]"
     ]
    },
    {
     "name": "stderr",
     "output_type": "stream",
     "text": [
      "\rWin1/Win2/Draw: 0/0/16:   2%|▏         | 16/1000 [00:04<02:42,  6.04it/s]"
     ]
    },
    {
     "name": "stderr",
     "output_type": "stream",
     "text": [
      "\rWin1/Win2/Draw: 0/0/16:   2%|▏         | 17/1000 [00:04<02:40,  6.14it/s]"
     ]
    },
    {
     "name": "stderr",
     "output_type": "stream",
     "text": [
      "\rWin1/Win2/Draw: 0/0/17:   2%|▏         | 17/1000 [00:04<02:40,  6.14it/s]"
     ]
    },
    {
     "name": "stderr",
     "output_type": "stream",
     "text": [
      "\rWin1/Win2/Draw: 0/0/17:   2%|▏         | 18/1000 [00:04<02:37,  6.22it/s]"
     ]
    },
    {
     "name": "stderr",
     "output_type": "stream",
     "text": [
      "\rWin1/Win2/Draw: 0/0/18:   2%|▏         | 18/1000 [00:04<02:37,  6.22it/s]"
     ]
    },
    {
     "name": "stderr",
     "output_type": "stream",
     "text": [
      "\rWin1/Win2/Draw: 0/0/18:   2%|▏         | 19/1000 [00:04<02:36,  6.28it/s]"
     ]
    },
    {
     "name": "stderr",
     "output_type": "stream",
     "text": [
      "\rWin1/Win2/Draw: 0/0/19:   2%|▏         | 19/1000 [00:05<02:36,  6.28it/s]"
     ]
    },
    {
     "name": "stderr",
     "output_type": "stream",
     "text": [
      "\rWin1/Win2/Draw: 0/0/19:   2%|▏         | 20/1000 [00:05<02:34,  6.34it/s]"
     ]
    },
    {
     "name": "stderr",
     "output_type": "stream",
     "text": [
      "\rWin1/Win2/Draw: 0/0/20:   2%|▏         | 20/1000 [00:05<02:34,  6.34it/s]"
     ]
    },
    {
     "name": "stderr",
     "output_type": "stream",
     "text": [
      "\rWin1/Win2/Draw: 0/0/20:   2%|▏         | 21/1000 [00:05<02:34,  6.34it/s]"
     ]
    },
    {
     "name": "stderr",
     "output_type": "stream",
     "text": [
      "\rWin1/Win2/Draw: 0/0/21:   2%|▏         | 21/1000 [00:05<02:34,  6.34it/s]"
     ]
    },
    {
     "name": "stderr",
     "output_type": "stream",
     "text": [
      "\rWin1/Win2/Draw: 0/0/21:   2%|▏         | 22/1000 [00:05<02:32,  6.41it/s]"
     ]
    },
    {
     "name": "stderr",
     "output_type": "stream",
     "text": [
      "\rWin1/Win2/Draw: 0/0/22:   2%|▏         | 22/1000 [00:05<02:32,  6.41it/s]"
     ]
    },
    {
     "name": "stderr",
     "output_type": "stream",
     "text": [
      "\rWin1/Win2/Draw: 0/0/22:   2%|▏         | 23/1000 [00:05<02:39,  6.12it/s]"
     ]
    },
    {
     "name": "stderr",
     "output_type": "stream",
     "text": [
      "\rWin1/Win2/Draw: 0/0/23:   2%|▏         | 23/1000 [00:05<02:39,  6.12it/s]"
     ]
    },
    {
     "name": "stderr",
     "output_type": "stream",
     "text": [
      "\rWin1/Win2/Draw: 0/0/23:   2%|▏         | 24/1000 [00:05<02:35,  6.26it/s]"
     ]
    },
    {
     "name": "stderr",
     "output_type": "stream",
     "text": [
      "\rWin1/Win2/Draw: 0/0/24:   2%|▏         | 24/1000 [00:05<02:35,  6.26it/s]"
     ]
    },
    {
     "name": "stderr",
     "output_type": "stream",
     "text": [
      "\rWin1/Win2/Draw: 0/0/24:   2%|▎         | 25/1000 [00:05<02:37,  6.21it/s]"
     ]
    },
    {
     "name": "stderr",
     "output_type": "stream",
     "text": [
      "\rWin1/Win2/Draw: 0/0/25:   2%|▎         | 25/1000 [00:05<02:37,  6.21it/s]"
     ]
    },
    {
     "name": "stderr",
     "output_type": "stream",
     "text": [
      "\rWin1/Win2/Draw: 0/0/25:   3%|▎         | 26/1000 [00:06<02:33,  6.33it/s]"
     ]
    },
    {
     "name": "stderr",
     "output_type": "stream",
     "text": [
      "\rWin1/Win2/Draw: 0/0/26:   3%|▎         | 26/1000 [00:06<02:33,  6.33it/s]"
     ]
    },
    {
     "name": "stderr",
     "output_type": "stream",
     "text": [
      "\rWin1/Win2/Draw: 0/0/26:   3%|▎         | 27/1000 [00:06<02:34,  6.30it/s]"
     ]
    },
    {
     "name": "stderr",
     "output_type": "stream",
     "text": [
      "\rWin1/Win2/Draw: 0/0/27:   3%|▎         | 27/1000 [00:06<02:34,  6.30it/s]"
     ]
    },
    {
     "name": "stderr",
     "output_type": "stream",
     "text": [
      "\rWin1/Win2/Draw: 0/0/27:   3%|▎         | 28/1000 [00:06<02:33,  6.33it/s]"
     ]
    },
    {
     "name": "stderr",
     "output_type": "stream",
     "text": [
      "\rWin1/Win2/Draw: 0/0/28:   3%|▎         | 28/1000 [00:06<02:33,  6.33it/s]"
     ]
    },
    {
     "name": "stderr",
     "output_type": "stream",
     "text": [
      "\rWin1/Win2/Draw: 0/0/28:   3%|▎         | 29/1000 [00:06<02:32,  6.36it/s]"
     ]
    },
    {
     "name": "stderr",
     "output_type": "stream",
     "text": [
      "\rWin1/Win2/Draw: 0/0/29:   3%|▎         | 29/1000 [00:06<02:32,  6.36it/s]"
     ]
    },
    {
     "name": "stderr",
     "output_type": "stream",
     "text": [
      "\rWin1/Win2/Draw: 0/0/29:   3%|▎         | 30/1000 [00:06<02:30,  6.46it/s]"
     ]
    },
    {
     "name": "stderr",
     "output_type": "stream",
     "text": [
      "\rWin1/Win2/Draw: 0/0/30:   3%|▎         | 30/1000 [00:06<02:30,  6.46it/s]"
     ]
    },
    {
     "name": "stderr",
     "output_type": "stream",
     "text": [
      "\rWin1/Win2/Draw: 0/0/30:   3%|▎         | 31/1000 [00:06<02:30,  6.43it/s]"
     ]
    },
    {
     "name": "stderr",
     "output_type": "stream",
     "text": [
      "\rWin1/Win2/Draw: 0/0/31:   3%|▎         | 31/1000 [00:06<02:30,  6.43it/s]"
     ]
    },
    {
     "name": "stderr",
     "output_type": "stream",
     "text": [
      "\rWin1/Win2/Draw: 0/0/31:   3%|▎         | 32/1000 [00:07<02:29,  6.46it/s]"
     ]
    },
    {
     "name": "stderr",
     "output_type": "stream",
     "text": [
      "\rWin1/Win2/Draw: 0/0/32:   3%|▎         | 32/1000 [00:07<02:29,  6.46it/s]"
     ]
    },
    {
     "name": "stderr",
     "output_type": "stream",
     "text": [
      "\rWin1/Win2/Draw: 0/0/32:   3%|▎         | 33/1000 [00:07<02:32,  6.35it/s]"
     ]
    },
    {
     "name": "stderr",
     "output_type": "stream",
     "text": [
      "\rWin1/Win2/Draw: 0/0/33:   3%|▎         | 33/1000 [00:07<02:32,  6.35it/s]"
     ]
    },
    {
     "name": "stderr",
     "output_type": "stream",
     "text": [
      "\rWin1/Win2/Draw: 0/0/33:   3%|▎         | 34/1000 [00:07<02:37,  6.14it/s]"
     ]
    },
    {
     "name": "stderr",
     "output_type": "stream",
     "text": [
      "\rWin1/Win2/Draw: 0/0/34:   3%|▎         | 34/1000 [00:07<02:37,  6.14it/s]"
     ]
    },
    {
     "name": "stderr",
     "output_type": "stream",
     "text": [
      "\rWin1/Win2/Draw: 0/0/34:   4%|▎         | 35/1000 [00:07<02:34,  6.23it/s]"
     ]
    },
    {
     "name": "stderr",
     "output_type": "stream",
     "text": [
      "\rWin1/Win2/Draw: 0/0/35:   4%|▎         | 35/1000 [00:07<02:34,  6.23it/s]"
     ]
    },
    {
     "name": "stderr",
     "output_type": "stream",
     "text": [
      "\rWin1/Win2/Draw: 0/0/35:   4%|▎         | 36/1000 [00:07<02:31,  6.35it/s]"
     ]
    },
    {
     "name": "stderr",
     "output_type": "stream",
     "text": [
      "\rWin1/Win2/Draw: 0/0/36:   4%|▎         | 36/1000 [00:07<02:31,  6.35it/s]"
     ]
    },
    {
     "name": "stderr",
     "output_type": "stream",
     "text": [
      "\rWin1/Win2/Draw: 0/0/36:   4%|▎         | 37/1000 [00:07<02:29,  6.43it/s]"
     ]
    },
    {
     "name": "stderr",
     "output_type": "stream",
     "text": [
      "\rWin1/Win2/Draw: 0/0/37:   4%|▎         | 37/1000 [00:07<02:29,  6.43it/s]"
     ]
    },
    {
     "name": "stderr",
     "output_type": "stream",
     "text": [
      "\rWin1/Win2/Draw: 0/0/37:   4%|▍         | 38/1000 [00:07<02:30,  6.40it/s]"
     ]
    },
    {
     "name": "stderr",
     "output_type": "stream",
     "text": [
      "\rWin1/Win2/Draw: 0/0/38:   4%|▍         | 38/1000 [00:07<02:30,  6.40it/s]"
     ]
    },
    {
     "name": "stderr",
     "output_type": "stream",
     "text": [
      "\rWin1/Win2/Draw: 0/0/38:   4%|▍         | 39/1000 [00:08<02:35,  6.16it/s]"
     ]
    },
    {
     "name": "stderr",
     "output_type": "stream",
     "text": [
      "\rWin1/Win2/Draw: 0/0/39:   4%|▍         | 39/1000 [00:08<02:35,  6.16it/s]"
     ]
    },
    {
     "name": "stderr",
     "output_type": "stream",
     "text": [
      "\rWin1/Win2/Draw: 0/0/39:   4%|▍         | 40/1000 [00:08<02:36,  6.15it/s]"
     ]
    },
    {
     "name": "stderr",
     "output_type": "stream",
     "text": [
      "\rWin1/Win2/Draw: 0/0/40:   4%|▍         | 40/1000 [00:08<02:36,  6.15it/s]"
     ]
    },
    {
     "name": "stderr",
     "output_type": "stream",
     "text": [
      "\rWin1/Win2/Draw: 0/0/40:   4%|▍         | 41/1000 [00:08<02:36,  6.15it/s]"
     ]
    },
    {
     "name": "stderr",
     "output_type": "stream",
     "text": [
      "\rWin1/Win2/Draw: 0/0/41:   4%|▍         | 41/1000 [00:08<02:36,  6.15it/s]"
     ]
    },
    {
     "name": "stderr",
     "output_type": "stream",
     "text": [
      "\rWin1/Win2/Draw: 0/0/41:   4%|▍         | 42/1000 [00:08<02:34,  6.21it/s]"
     ]
    },
    {
     "name": "stderr",
     "output_type": "stream",
     "text": [
      "\rWin1/Win2/Draw: 0/0/42:   4%|▍         | 42/1000 [00:08<02:34,  6.21it/s]"
     ]
    },
    {
     "name": "stderr",
     "output_type": "stream",
     "text": [
      "\rWin1/Win2/Draw: 0/0/42:   4%|▍         | 43/1000 [00:08<02:39,  6.02it/s]"
     ]
    },
    {
     "name": "stderr",
     "output_type": "stream",
     "text": [
      "\rWin1/Win2/Draw: 0/0/43:   4%|▍         | 43/1000 [00:08<02:39,  6.02it/s]"
     ]
    },
    {
     "name": "stderr",
     "output_type": "stream",
     "text": [
      "\rWin1/Win2/Draw: 0/0/43:   4%|▍         | 44/1000 [00:08<02:36,  6.09it/s]"
     ]
    },
    {
     "name": "stderr",
     "output_type": "stream",
     "text": [
      "\rWin1/Win2/Draw: 0/0/44:   4%|▍         | 44/1000 [00:08<02:36,  6.09it/s]"
     ]
    },
    {
     "name": "stderr",
     "output_type": "stream",
     "text": [
      "\rWin1/Win2/Draw: 0/0/44:   4%|▍         | 45/1000 [00:09<02:34,  6.19it/s]"
     ]
    },
    {
     "name": "stderr",
     "output_type": "stream",
     "text": [
      "\rWin1/Win2/Draw: 0/0/45:   4%|▍         | 45/1000 [00:09<02:34,  6.19it/s]"
     ]
    },
    {
     "name": "stderr",
     "output_type": "stream",
     "text": [
      "\rWin1/Win2/Draw: 0/0/45:   5%|▍         | 46/1000 [00:09<02:33,  6.23it/s]"
     ]
    },
    {
     "name": "stderr",
     "output_type": "stream",
     "text": [
      "\rWin1/Win2/Draw: 0/0/46:   5%|▍         | 46/1000 [00:09<02:33,  6.23it/s]"
     ]
    },
    {
     "name": "stderr",
     "output_type": "stream",
     "text": [
      "\rWin1/Win2/Draw: 0/0/46:   5%|▍         | 47/1000 [00:09<02:32,  6.27it/s]"
     ]
    },
    {
     "name": "stderr",
     "output_type": "stream",
     "text": [
      "\rWin1/Win2/Draw: 0/0/47:   5%|▍         | 47/1000 [00:09<02:32,  6.27it/s]"
     ]
    },
    {
     "name": "stderr",
     "output_type": "stream",
     "text": [
      "\rWin1/Win2/Draw: 0/0/47:   5%|▍         | 48/1000 [00:09<02:31,  6.28it/s]"
     ]
    },
    {
     "name": "stderr",
     "output_type": "stream",
     "text": [
      "\rWin1/Win2/Draw: 0/0/48:   5%|▍         | 48/1000 [00:09<02:31,  6.28it/s]"
     ]
    },
    {
     "name": "stderr",
     "output_type": "stream",
     "text": [
      "\rWin1/Win2/Draw: 0/0/48:   5%|▍         | 49/1000 [00:09<02:30,  6.33it/s]"
     ]
    },
    {
     "name": "stderr",
     "output_type": "stream",
     "text": [
      "\rWin1/Win2/Draw: 0/0/49:   5%|▍         | 49/1000 [00:09<02:30,  6.33it/s]"
     ]
    },
    {
     "name": "stderr",
     "output_type": "stream",
     "text": [
      "\rWin1/Win2/Draw: 0/0/49:   5%|▌         | 50/1000 [00:09<02:31,  6.28it/s]"
     ]
    },
    {
     "name": "stderr",
     "output_type": "stream",
     "text": [
      "\rWin1/Win2/Draw: 0/0/50:   5%|▌         | 50/1000 [00:09<02:31,  6.28it/s]"
     ]
    },
    {
     "name": "stderr",
     "output_type": "stream",
     "text": [
      "\rWin1/Win2/Draw: 0/0/50:   5%|▌         | 51/1000 [00:10<02:30,  6.31it/s]"
     ]
    },
    {
     "name": "stderr",
     "output_type": "stream",
     "text": [
      "\rWin1/Win2/Draw: 0/0/51:   5%|▌         | 51/1000 [00:10<02:30,  6.31it/s]"
     ]
    },
    {
     "name": "stderr",
     "output_type": "stream",
     "text": [
      "\rWin1/Win2/Draw: 0/0/51:   5%|▌         | 52/1000 [00:10<02:34,  6.15it/s]"
     ]
    },
    {
     "name": "stderr",
     "output_type": "stream",
     "text": [
      "\rWin1/Win2/Draw: 0/0/52:   5%|▌         | 52/1000 [00:10<02:34,  6.15it/s]"
     ]
    },
    {
     "name": "stderr",
     "output_type": "stream",
     "text": [
      "\rWin1/Win2/Draw: 0/0/52:   5%|▌         | 53/1000 [00:10<02:39,  5.94it/s]"
     ]
    },
    {
     "name": "stderr",
     "output_type": "stream",
     "text": [
      "\rWin1/Win2/Draw: 0/0/53:   5%|▌         | 53/1000 [00:10<02:39,  5.94it/s]"
     ]
    },
    {
     "name": "stderr",
     "output_type": "stream",
     "text": [
      "\rWin1/Win2/Draw: 0/0/53:   5%|▌         | 54/1000 [00:10<02:35,  6.09it/s]"
     ]
    },
    {
     "name": "stderr",
     "output_type": "stream",
     "text": [
      "\rWin1/Win2/Draw: 0/0/54:   5%|▌         | 54/1000 [00:10<02:35,  6.09it/s]"
     ]
    },
    {
     "name": "stderr",
     "output_type": "stream",
     "text": [
      "\rWin1/Win2/Draw: 0/0/54:   6%|▌         | 55/1000 [00:10<02:32,  6.20it/s]"
     ]
    },
    {
     "name": "stderr",
     "output_type": "stream",
     "text": [
      "\rWin1/Win2/Draw: 0/0/55:   6%|▌         | 55/1000 [00:10<02:32,  6.20it/s]"
     ]
    },
    {
     "name": "stderr",
     "output_type": "stream",
     "text": [
      "\rWin1/Win2/Draw: 0/0/55:   6%|▌         | 56/1000 [00:10<02:29,  6.29it/s]"
     ]
    },
    {
     "name": "stderr",
     "output_type": "stream",
     "text": [
      "\rWin1/Win2/Draw: 0/0/56:   6%|▌         | 56/1000 [00:10<02:29,  6.29it/s]"
     ]
    },
    {
     "name": "stderr",
     "output_type": "stream",
     "text": [
      "\rWin1/Win2/Draw: 0/0/56:   6%|▌         | 57/1000 [00:11<02:28,  6.35it/s]"
     ]
    },
    {
     "name": "stderr",
     "output_type": "stream",
     "text": [
      "\rWin1/Win2/Draw: 0/0/57:   6%|▌         | 57/1000 [00:11<02:28,  6.35it/s]"
     ]
    },
    {
     "name": "stderr",
     "output_type": "stream",
     "text": [
      "\rWin1/Win2/Draw: 0/0/57:   6%|▌         | 58/1000 [00:11<02:28,  6.33it/s]"
     ]
    },
    {
     "name": "stderr",
     "output_type": "stream",
     "text": [
      "\rWin1/Win2/Draw: 0/0/58:   6%|▌         | 58/1000 [00:11<02:28,  6.33it/s]"
     ]
    },
    {
     "name": "stderr",
     "output_type": "stream",
     "text": [
      "\rWin1/Win2/Draw: 0/0/58:   6%|▌         | 59/1000 [00:11<02:28,  6.35it/s]"
     ]
    },
    {
     "name": "stderr",
     "output_type": "stream",
     "text": [
      "\rWin1/Win2/Draw: 0/0/59:   6%|▌         | 59/1000 [00:11<02:28,  6.35it/s]"
     ]
    },
    {
     "name": "stderr",
     "output_type": "stream",
     "text": [
      "\rWin1/Win2/Draw: 0/0/59:   6%|▌         | 60/1000 [00:11<02:25,  6.44it/s]"
     ]
    },
    {
     "name": "stderr",
     "output_type": "stream",
     "text": [
      "\rWin1/Win2/Draw: 0/0/60:   6%|▌         | 60/1000 [00:11<02:25,  6.44it/s]"
     ]
    },
    {
     "name": "stderr",
     "output_type": "stream",
     "text": [
      "\rWin1/Win2/Draw: 0/0/60:   6%|▌         | 61/1000 [00:11<02:23,  6.52it/s]"
     ]
    },
    {
     "name": "stderr",
     "output_type": "stream",
     "text": [
      "\rWin1/Win2/Draw: 0/0/61:   6%|▌         | 61/1000 [00:11<02:23,  6.52it/s]"
     ]
    },
    {
     "name": "stderr",
     "output_type": "stream",
     "text": [
      "\rWin1/Win2/Draw: 0/0/61:   6%|▌         | 62/1000 [00:11<02:23,  6.53it/s]"
     ]
    },
    {
     "name": "stderr",
     "output_type": "stream",
     "text": [
      "\rWin1/Win2/Draw: 0/0/62:   6%|▌         | 62/1000 [00:11<02:23,  6.53it/s]"
     ]
    },
    {
     "name": "stderr",
     "output_type": "stream",
     "text": [
      "\rWin1/Win2/Draw: 0/0/62:   6%|▋         | 63/1000 [00:11<02:22,  6.59it/s]"
     ]
    },
    {
     "name": "stderr",
     "output_type": "stream",
     "text": [
      "\rWin1/Win2/Draw: 0/0/63:   6%|▋         | 63/1000 [00:11<02:22,  6.59it/s]"
     ]
    },
    {
     "name": "stderr",
     "output_type": "stream",
     "text": [
      "\rWin1/Win2/Draw: 0/0/63:   6%|▋         | 64/1000 [00:12<02:29,  6.26it/s]"
     ]
    },
    {
     "name": "stderr",
     "output_type": "stream",
     "text": [
      "\rWin1/Win2/Draw: 0/0/64:   6%|▋         | 64/1000 [00:12<02:29,  6.26it/s]"
     ]
    },
    {
     "name": "stderr",
     "output_type": "stream",
     "text": [
      "\rWin1/Win2/Draw: 0/0/64:   6%|▋         | 65/1000 [00:12<02:27,  6.35it/s]"
     ]
    },
    {
     "name": "stderr",
     "output_type": "stream",
     "text": [
      "\rWin1/Win2/Draw: 0/0/65:   6%|▋         | 65/1000 [00:12<02:27,  6.35it/s]"
     ]
    },
    {
     "name": "stderr",
     "output_type": "stream",
     "text": [
      "\rWin1/Win2/Draw: 0/0/65:   7%|▋         | 66/1000 [00:12<02:25,  6.44it/s]"
     ]
    },
    {
     "name": "stderr",
     "output_type": "stream",
     "text": [
      "\rWin1/Win2/Draw: 0/0/66:   7%|▋         | 66/1000 [00:12<02:25,  6.44it/s]"
     ]
    },
    {
     "name": "stderr",
     "output_type": "stream",
     "text": [
      "\rWin1/Win2/Draw: 0/0/66:   7%|▋         | 67/1000 [00:12<02:24,  6.47it/s]"
     ]
    },
    {
     "name": "stderr",
     "output_type": "stream",
     "text": [
      "\rWin1/Win2/Draw: 0/0/67:   7%|▋         | 67/1000 [00:12<02:24,  6.47it/s]"
     ]
    },
    {
     "name": "stderr",
     "output_type": "stream",
     "text": [
      "\rWin1/Win2/Draw: 0/0/67:   7%|▋         | 68/1000 [00:12<02:25,  6.42it/s]"
     ]
    },
    {
     "name": "stderr",
     "output_type": "stream",
     "text": [
      "\rWin1/Win2/Draw: 0/0/68:   7%|▋         | 68/1000 [00:12<02:25,  6.42it/s]"
     ]
    },
    {
     "name": "stderr",
     "output_type": "stream",
     "text": [
      "\rWin1/Win2/Draw: 0/0/68:   7%|▋         | 69/1000 [00:12<02:25,  6.38it/s]"
     ]
    },
    {
     "name": "stderr",
     "output_type": "stream",
     "text": [
      "\rWin1/Win2/Draw: 0/0/69:   7%|▋         | 69/1000 [00:12<02:25,  6.38it/s]"
     ]
    },
    {
     "name": "stderr",
     "output_type": "stream",
     "text": [
      "\rWin1/Win2/Draw: 0/0/69:   7%|▋         | 70/1000 [00:13<02:26,  6.36it/s]"
     ]
    },
    {
     "name": "stderr",
     "output_type": "stream",
     "text": [
      "\rWin1/Win2/Draw: 0/0/70:   7%|▋         | 70/1000 [00:13<02:26,  6.36it/s]"
     ]
    },
    {
     "name": "stderr",
     "output_type": "stream",
     "text": [
      "\rWin1/Win2/Draw: 0/0/70:   7%|▋         | 71/1000 [00:13<02:25,  6.37it/s]"
     ]
    },
    {
     "name": "stderr",
     "output_type": "stream",
     "text": [
      "\rWin1/Win2/Draw: 0/0/71:   7%|▋         | 71/1000 [00:13<02:25,  6.37it/s]"
     ]
    },
    {
     "name": "stderr",
     "output_type": "stream",
     "text": [
      "\rWin1/Win2/Draw: 0/0/71:   7%|▋         | 72/1000 [00:13<02:25,  6.37it/s]"
     ]
    },
    {
     "name": "stderr",
     "output_type": "stream",
     "text": [
      "\rWin1/Win2/Draw: 0/0/72:   7%|▋         | 72/1000 [00:13<02:25,  6.37it/s]"
     ]
    },
    {
     "name": "stderr",
     "output_type": "stream",
     "text": [
      "\rWin1/Win2/Draw: 0/0/72:   7%|▋         | 73/1000 [00:13<02:31,  6.11it/s]"
     ]
    },
    {
     "name": "stderr",
     "output_type": "stream",
     "text": [
      "\rWin1/Win2/Draw: 0/0/73:   7%|▋         | 73/1000 [00:13<02:31,  6.11it/s]"
     ]
    },
    {
     "name": "stderr",
     "output_type": "stream",
     "text": [
      "\rWin1/Win2/Draw: 0/0/73:   7%|▋         | 74/1000 [00:13<02:28,  6.25it/s]"
     ]
    },
    {
     "name": "stderr",
     "output_type": "stream",
     "text": [
      "\rWin1/Win2/Draw: 0/0/74:   7%|▋         | 74/1000 [00:13<02:28,  6.25it/s]"
     ]
    },
    {
     "name": "stderr",
     "output_type": "stream",
     "text": [
      "\rWin1/Win2/Draw: 0/0/74:   8%|▊         | 75/1000 [00:13<02:26,  6.33it/s]"
     ]
    },
    {
     "name": "stderr",
     "output_type": "stream",
     "text": [
      "\rWin1/Win2/Draw: 0/0/75:   8%|▊         | 75/1000 [00:13<02:26,  6.33it/s]"
     ]
    },
    {
     "name": "stderr",
     "output_type": "stream",
     "text": [
      "\rWin1/Win2/Draw: 0/0/75:   8%|▊         | 76/1000 [00:14<02:25,  6.35it/s]"
     ]
    },
    {
     "name": "stderr",
     "output_type": "stream",
     "text": [
      "\rWin1/Win2/Draw: 0/0/76:   8%|▊         | 76/1000 [00:14<02:25,  6.35it/s]"
     ]
    },
    {
     "name": "stderr",
     "output_type": "stream",
     "text": [
      "\rWin1/Win2/Draw: 0/0/76:   8%|▊         | 77/1000 [00:14<02:24,  6.40it/s]"
     ]
    },
    {
     "name": "stderr",
     "output_type": "stream",
     "text": [
      "\rWin1/Win2/Draw: 0/0/77:   8%|▊         | 77/1000 [00:14<02:24,  6.40it/s]"
     ]
    },
    {
     "name": "stderr",
     "output_type": "stream",
     "text": [
      "\rWin1/Win2/Draw: 0/0/77:   8%|▊         | 78/1000 [00:14<02:23,  6.41it/s]"
     ]
    },
    {
     "name": "stderr",
     "output_type": "stream",
     "text": [
      "\rWin1/Win2/Draw: 0/0/78:   8%|▊         | 78/1000 [00:14<02:23,  6.41it/s]"
     ]
    },
    {
     "name": "stderr",
     "output_type": "stream",
     "text": [
      "\rWin1/Win2/Draw: 0/0/78:   8%|▊         | 79/1000 [00:14<02:23,  6.42it/s]"
     ]
    },
    {
     "name": "stderr",
     "output_type": "stream",
     "text": [
      "\rWin1/Win2/Draw: 0/0/79:   8%|▊         | 79/1000 [00:14<02:23,  6.42it/s]"
     ]
    },
    {
     "name": "stderr",
     "output_type": "stream",
     "text": [
      "\rWin1/Win2/Draw: 0/0/79:   8%|▊         | 80/1000 [00:14<02:22,  6.47it/s]"
     ]
    },
    {
     "name": "stderr",
     "output_type": "stream",
     "text": [
      "\rWin1/Win2/Draw: 0/0/80:   8%|▊         | 80/1000 [00:14<02:22,  6.47it/s]"
     ]
    },
    {
     "name": "stderr",
     "output_type": "stream",
     "text": [
      "\rWin1/Win2/Draw: 0/0/80:   8%|▊         | 81/1000 [00:14<02:21,  6.50it/s]"
     ]
    },
    {
     "name": "stderr",
     "output_type": "stream",
     "text": [
      "\rWin1/Win2/Draw: 0/0/81:   8%|▊         | 81/1000 [00:14<02:21,  6.50it/s]"
     ]
    },
    {
     "name": "stderr",
     "output_type": "stream",
     "text": [
      "\rWin1/Win2/Draw: 0/0/81:   8%|▊         | 82/1000 [00:14<02:21,  6.49it/s]"
     ]
    },
    {
     "name": "stderr",
     "output_type": "stream",
     "text": [
      "\rWin1/Win2/Draw: 0/0/82:   8%|▊         | 82/1000 [00:14<02:21,  6.49it/s]"
     ]
    },
    {
     "name": "stderr",
     "output_type": "stream",
     "text": [
      "\rWin1/Win2/Draw: 0/0/82:   8%|▊         | 83/1000 [00:15<02:20,  6.51it/s]"
     ]
    },
    {
     "name": "stderr",
     "output_type": "stream",
     "text": [
      "\rWin1/Win2/Draw: 0/0/83:   8%|▊         | 83/1000 [00:15<02:20,  6.51it/s]"
     ]
    },
    {
     "name": "stderr",
     "output_type": "stream",
     "text": [
      "\rWin1/Win2/Draw: 0/0/83:   8%|▊         | 84/1000 [00:15<02:28,  6.15it/s]"
     ]
    },
    {
     "name": "stderr",
     "output_type": "stream",
     "text": [
      "\rWin1/Win2/Draw: 0/0/84:   8%|▊         | 84/1000 [00:15<02:28,  6.15it/s]"
     ]
    },
    {
     "name": "stderr",
     "output_type": "stream",
     "text": [
      "\rWin1/Win2/Draw: 0/0/84:   8%|▊         | 85/1000 [00:15<02:26,  6.23it/s]"
     ]
    },
    {
     "name": "stderr",
     "output_type": "stream",
     "text": [
      "\rWin1/Win2/Draw: 0/0/85:   8%|▊         | 85/1000 [00:15<02:26,  6.23it/s]"
     ]
    },
    {
     "name": "stderr",
     "output_type": "stream",
     "text": [
      "\rWin1/Win2/Draw: 0/0/85:   9%|▊         | 86/1000 [00:15<02:25,  6.29it/s]"
     ]
    },
    {
     "name": "stderr",
     "output_type": "stream",
     "text": [
      "\rWin1/Win2/Draw: 0/0/86:   9%|▊         | 86/1000 [00:15<02:25,  6.29it/s]"
     ]
    },
    {
     "name": "stderr",
     "output_type": "stream",
     "text": [
      "\rWin1/Win2/Draw: 0/0/86:   9%|▊         | 87/1000 [00:15<02:23,  6.37it/s]"
     ]
    },
    {
     "name": "stderr",
     "output_type": "stream",
     "text": [
      "\rWin1/Win2/Draw: 0/0/87:   9%|▊         | 87/1000 [00:15<02:23,  6.37it/s]"
     ]
    },
    {
     "name": "stderr",
     "output_type": "stream",
     "text": [
      "\rWin1/Win2/Draw: 0/0/87:   9%|▉         | 88/1000 [00:15<02:23,  6.34it/s]"
     ]
    },
    {
     "name": "stderr",
     "output_type": "stream",
     "text": [
      "\rWin1/Win2/Draw: 0/0/88:   9%|▉         | 88/1000 [00:15<02:23,  6.34it/s]"
     ]
    },
    {
     "name": "stderr",
     "output_type": "stream",
     "text": [
      "\rWin1/Win2/Draw: 0/0/88:   9%|▉         | 89/1000 [00:16<02:22,  6.41it/s]"
     ]
    },
    {
     "name": "stderr",
     "output_type": "stream",
     "text": [
      "\rWin1/Win2/Draw: 0/0/89:   9%|▉         | 89/1000 [00:16<02:22,  6.41it/s]"
     ]
    },
    {
     "name": "stderr",
     "output_type": "stream",
     "text": [
      "\rWin1/Win2/Draw: 0/0/89:   9%|▉         | 90/1000 [00:16<02:21,  6.41it/s]"
     ]
    },
    {
     "name": "stderr",
     "output_type": "stream",
     "text": [
      "\rWin1/Win2/Draw: 0/0/90:   9%|▉         | 90/1000 [00:16<02:21,  6.41it/s]"
     ]
    },
    {
     "name": "stderr",
     "output_type": "stream",
     "text": [
      "\rWin1/Win2/Draw: 0/0/90:   9%|▉         | 91/1000 [00:16<02:21,  6.41it/s]"
     ]
    },
    {
     "name": "stderr",
     "output_type": "stream",
     "text": [
      "\rWin1/Win2/Draw: 0/0/91:   9%|▉         | 91/1000 [00:16<02:21,  6.41it/s]"
     ]
    },
    {
     "name": "stderr",
     "output_type": "stream",
     "text": [
      "\rWin1/Win2/Draw: 0/0/91:   9%|▉         | 92/1000 [00:16<02:20,  6.47it/s]"
     ]
    },
    {
     "name": "stderr",
     "output_type": "stream",
     "text": [
      "\rWin1/Win2/Draw: 0/0/92:   9%|▉         | 92/1000 [00:16<02:20,  6.47it/s]"
     ]
    },
    {
     "name": "stderr",
     "output_type": "stream",
     "text": [
      "\rWin1/Win2/Draw: 0/0/92:   9%|▉         | 93/1000 [00:16<02:20,  6.46it/s]"
     ]
    },
    {
     "name": "stderr",
     "output_type": "stream",
     "text": [
      "\rWin1/Win2/Draw: 0/0/93:   9%|▉         | 93/1000 [00:16<02:20,  6.46it/s]"
     ]
    },
    {
     "name": "stderr",
     "output_type": "stream",
     "text": [
      "\rWin1/Win2/Draw: 0/0/93:   9%|▉         | 94/1000 [00:16<02:27,  6.13it/s]"
     ]
    },
    {
     "name": "stderr",
     "output_type": "stream",
     "text": [
      "\rWin1/Win2/Draw: 0/0/94:   9%|▉         | 94/1000 [00:16<02:27,  6.13it/s]"
     ]
    },
    {
     "name": "stderr",
     "output_type": "stream",
     "text": [
      "\rWin1/Win2/Draw: 0/0/94:  10%|▉         | 95/1000 [00:17<02:25,  6.22it/s]"
     ]
    },
    {
     "name": "stderr",
     "output_type": "stream",
     "text": [
      "\rWin1/Win2/Draw: 0/0/95:  10%|▉         | 95/1000 [00:17<02:25,  6.22it/s]"
     ]
    },
    {
     "name": "stderr",
     "output_type": "stream",
     "text": [
      "\rWin1/Win2/Draw: 0/0/95:  10%|▉         | 96/1000 [00:17<02:23,  6.28it/s]"
     ]
    },
    {
     "name": "stderr",
     "output_type": "stream",
     "text": [
      "\rWin1/Win2/Draw: 0/0/96:  10%|▉         | 96/1000 [00:17<02:23,  6.28it/s]"
     ]
    },
    {
     "name": "stderr",
     "output_type": "stream",
     "text": [
      "\rWin1/Win2/Draw: 0/0/96:  10%|▉         | 97/1000 [00:17<02:23,  6.30it/s]"
     ]
    },
    {
     "name": "stderr",
     "output_type": "stream",
     "text": [
      "\rWin1/Win2/Draw: 0/0/97:  10%|▉         | 97/1000 [00:17<02:23,  6.30it/s]"
     ]
    },
    {
     "name": "stderr",
     "output_type": "stream",
     "text": [
      "\rWin1/Win2/Draw: 0/0/97:  10%|▉         | 98/1000 [00:17<02:23,  6.30it/s]"
     ]
    },
    {
     "name": "stderr",
     "output_type": "stream",
     "text": [
      "\rWin1/Win2/Draw: 0/0/98:  10%|▉         | 98/1000 [00:17<02:23,  6.30it/s]"
     ]
    },
    {
     "name": "stderr",
     "output_type": "stream",
     "text": [
      "\rWin1/Win2/Draw: 0/0/98:  10%|▉         | 99/1000 [00:17<02:22,  6.33it/s]"
     ]
    },
    {
     "name": "stderr",
     "output_type": "stream",
     "text": [
      "\rWin1/Win2/Draw: 0/0/99:  10%|▉         | 99/1000 [00:17<02:22,  6.33it/s]"
     ]
    },
    {
     "name": "stderr",
     "output_type": "stream",
     "text": [
      "\rWin1/Win2/Draw: 0/0/99:  10%|█         | 100/1000 [00:17<02:27,  6.09it/s]"
     ]
    },
    {
     "name": "stderr",
     "output_type": "stream",
     "text": [
      "\rWin1/Win2/Draw: 0/0/100:  10%|█         | 100/1000 [00:17<02:27,  6.09it/s]"
     ]
    },
    {
     "name": "stderr",
     "output_type": "stream",
     "text": [
      "\rWin1/Win2/Draw: 0/0/100:  10%|█         | 101/1000 [00:17<02:25,  6.19it/s]"
     ]
    },
    {
     "name": "stderr",
     "output_type": "stream",
     "text": [
      "\rWin1/Win2/Draw: 0/0/101:  10%|█         | 101/1000 [00:17<02:25,  6.19it/s]"
     ]
    },
    {
     "name": "stderr",
     "output_type": "stream",
     "text": [
      "\rWin1/Win2/Draw: 0/0/101:  10%|█         | 102/1000 [00:18<02:23,  6.26it/s]"
     ]
    },
    {
     "name": "stderr",
     "output_type": "stream",
     "text": [
      "\rWin1/Win2/Draw: 0/0/102:  10%|█         | 102/1000 [00:18<02:23,  6.26it/s]"
     ]
    },
    {
     "name": "stderr",
     "output_type": "stream",
     "text": [
      "\rWin1/Win2/Draw: 0/0/102:  10%|█         | 103/1000 [00:18<02:22,  6.31it/s]"
     ]
    },
    {
     "name": "stderr",
     "output_type": "stream",
     "text": [
      "\rWin1/Win2/Draw: 0/0/103:  10%|█         | 103/1000 [00:18<02:22,  6.31it/s]"
     ]
    },
    {
     "name": "stderr",
     "output_type": "stream",
     "text": [
      "\rWin1/Win2/Draw: 0/0/103:  10%|█         | 104/1000 [00:18<02:20,  6.39it/s]"
     ]
    },
    {
     "name": "stderr",
     "output_type": "stream",
     "text": [
      "\rWin1/Win2/Draw: 0/0/104:  10%|█         | 104/1000 [00:18<02:20,  6.39it/s]"
     ]
    },
    {
     "name": "stderr",
     "output_type": "stream",
     "text": [
      "\rWin1/Win2/Draw: 0/0/104:  10%|█         | 105/1000 [00:18<02:26,  6.12it/s]"
     ]
    },
    {
     "name": "stderr",
     "output_type": "stream",
     "text": [
      "\rWin1/Win2/Draw: 0/0/105:  10%|█         | 105/1000 [00:18<02:26,  6.12it/s]"
     ]
    },
    {
     "name": "stderr",
     "output_type": "stream",
     "text": [
      "\rWin1/Win2/Draw: 0/0/105:  11%|█         | 106/1000 [00:18<02:24,  6.20it/s]"
     ]
    },
    {
     "name": "stderr",
     "output_type": "stream",
     "text": [
      "\rWin1/Win2/Draw: 0/0/106:  11%|█         | 106/1000 [00:18<02:24,  6.20it/s]"
     ]
    },
    {
     "name": "stderr",
     "output_type": "stream",
     "text": [
      "\rWin1/Win2/Draw: 0/0/106:  11%|█         | 107/1000 [00:18<02:23,  6.22it/s]"
     ]
    },
    {
     "name": "stderr",
     "output_type": "stream",
     "text": [
      "\rWin1/Win2/Draw: 0/0/107:  11%|█         | 107/1000 [00:18<02:23,  6.22it/s]"
     ]
    },
    {
     "name": "stderr",
     "output_type": "stream",
     "text": [
      "\rWin1/Win2/Draw: 0/0/107:  11%|█         | 108/1000 [00:19<02:22,  6.27it/s]"
     ]
    },
    {
     "name": "stderr",
     "output_type": "stream",
     "text": [
      "\rWin1/Win2/Draw: 0/0/108:  11%|█         | 108/1000 [00:19<02:22,  6.27it/s]"
     ]
    },
    {
     "name": "stderr",
     "output_type": "stream",
     "text": [
      "\rWin1/Win2/Draw: 0/0/108:  11%|█         | 109/1000 [00:19<02:19,  6.37it/s]"
     ]
    },
    {
     "name": "stderr",
     "output_type": "stream",
     "text": [
      "\rWin1/Win2/Draw: 0/0/109:  11%|█         | 109/1000 [00:19<02:19,  6.37it/s]"
     ]
    },
    {
     "name": "stderr",
     "output_type": "stream",
     "text": [
      "\rWin1/Win2/Draw: 0/0/109:  11%|█         | 110/1000 [00:19<02:17,  6.45it/s]"
     ]
    },
    {
     "name": "stderr",
     "output_type": "stream",
     "text": [
      "\rWin1/Win2/Draw: 0/0/110:  11%|█         | 110/1000 [00:19<02:17,  6.45it/s]"
     ]
    },
    {
     "name": "stderr",
     "output_type": "stream",
     "text": [
      "\rWin1/Win2/Draw: 0/0/110:  11%|█         | 111/1000 [00:19<02:17,  6.46it/s]"
     ]
    },
    {
     "name": "stderr",
     "output_type": "stream",
     "text": [
      "\rWin1/Win2/Draw: 0/0/111:  11%|█         | 111/1000 [00:19<02:17,  6.46it/s]"
     ]
    },
    {
     "name": "stderr",
     "output_type": "stream",
     "text": [
      "\rWin1/Win2/Draw: 0/0/111:  11%|█         | 112/1000 [00:19<02:16,  6.53it/s]"
     ]
    },
    {
     "name": "stderr",
     "output_type": "stream",
     "text": [
      "\rWin1/Win2/Draw: 0/0/112:  11%|█         | 112/1000 [00:19<02:16,  6.53it/s]"
     ]
    },
    {
     "name": "stderr",
     "output_type": "stream",
     "text": [
      "\rWin1/Win2/Draw: 0/0/112:  11%|█▏        | 113/1000 [00:19<02:16,  6.51it/s]"
     ]
    },
    {
     "name": "stderr",
     "output_type": "stream",
     "text": [
      "\rWin1/Win2/Draw: 0/0/113:  11%|█▏        | 113/1000 [00:19<02:16,  6.51it/s]"
     ]
    },
    {
     "name": "stderr",
     "output_type": "stream",
     "text": [
      "\rWin1/Win2/Draw: 0/0/113:  11%|█▏        | 114/1000 [00:20<02:16,  6.49it/s]"
     ]
    },
    {
     "name": "stderr",
     "output_type": "stream",
     "text": [
      "\rWin1/Win2/Draw: 0/0/114:  11%|█▏        | 114/1000 [00:20<02:16,  6.49it/s]"
     ]
    },
    {
     "name": "stderr",
     "output_type": "stream",
     "text": [
      "\rWin1/Win2/Draw: 0/0/114:  12%|█▏        | 115/1000 [00:20<02:16,  6.47it/s]"
     ]
    },
    {
     "name": "stderr",
     "output_type": "stream",
     "text": [
      "\rWin1/Win2/Draw: 0/0/115:  12%|█▏        | 115/1000 [00:20<02:16,  6.47it/s]"
     ]
    },
    {
     "name": "stderr",
     "output_type": "stream",
     "text": [
      "\rWin1/Win2/Draw: 0/0/115:  12%|█▏        | 116/1000 [00:20<02:21,  6.24it/s]"
     ]
    },
    {
     "name": "stderr",
     "output_type": "stream",
     "text": [
      "\rWin1/Win2/Draw: 0/0/116:  12%|█▏        | 116/1000 [00:20<02:21,  6.24it/s]"
     ]
    },
    {
     "name": "stderr",
     "output_type": "stream",
     "text": [
      "\rWin1/Win2/Draw: 0/0/116:  12%|█▏        | 117/1000 [00:20<02:20,  6.28it/s]"
     ]
    },
    {
     "name": "stderr",
     "output_type": "stream",
     "text": [
      "\rWin1/Win2/Draw: 0/0/117:  12%|█▏        | 117/1000 [00:20<02:20,  6.28it/s]"
     ]
    },
    {
     "name": "stderr",
     "output_type": "stream",
     "text": [
      "\rWin1/Win2/Draw: 0/0/117:  12%|█▏        | 118/1000 [00:20<02:20,  6.28it/s]"
     ]
    },
    {
     "name": "stderr",
     "output_type": "stream",
     "text": [
      "\rWin1/Win2/Draw: 0/0/118:  12%|█▏        | 118/1000 [00:20<02:20,  6.28it/s]"
     ]
    },
    {
     "name": "stderr",
     "output_type": "stream",
     "text": [
      "\rWin1/Win2/Draw: 0/0/118:  12%|█▏        | 119/1000 [00:20<02:20,  6.29it/s]"
     ]
    },
    {
     "name": "stderr",
     "output_type": "stream",
     "text": [
      "\rWin1/Win2/Draw: 0/0/119:  12%|█▏        | 119/1000 [00:20<02:20,  6.29it/s]"
     ]
    },
    {
     "name": "stderr",
     "output_type": "stream",
     "text": [
      "\rWin1/Win2/Draw: 0/0/119:  12%|█▏        | 120/1000 [00:21<02:23,  6.12it/s]"
     ]
    },
    {
     "name": "stderr",
     "output_type": "stream",
     "text": [
      "\rWin1/Win2/Draw: 0/0/120:  12%|█▏        | 120/1000 [00:21<02:23,  6.12it/s]"
     ]
    },
    {
     "name": "stderr",
     "output_type": "stream",
     "text": [
      "\rWin1/Win2/Draw: 0/0/120:  12%|█▏        | 121/1000 [00:21<02:28,  5.91it/s]"
     ]
    },
    {
     "name": "stderr",
     "output_type": "stream",
     "text": [
      "\rWin1/Win2/Draw: 0/0/121:  12%|█▏        | 121/1000 [00:21<02:28,  5.91it/s]"
     ]
    },
    {
     "name": "stderr",
     "output_type": "stream",
     "text": [
      "\rWin1/Win2/Draw: 0/0/121:  12%|█▏        | 122/1000 [00:21<02:26,  6.00it/s]"
     ]
    },
    {
     "name": "stderr",
     "output_type": "stream",
     "text": [
      "\rWin1/Win2/Draw: 0/0/122:  12%|█▏        | 122/1000 [00:21<02:26,  6.00it/s]"
     ]
    },
    {
     "name": "stderr",
     "output_type": "stream",
     "text": [
      "\rWin1/Win2/Draw: 0/0/122:  12%|█▏        | 123/1000 [00:21<02:24,  6.08it/s]"
     ]
    },
    {
     "name": "stderr",
     "output_type": "stream",
     "text": [
      "\rWin1/Win2/Draw: 0/0/123:  12%|█▏        | 123/1000 [00:21<02:24,  6.08it/s]"
     ]
    },
    {
     "name": "stderr",
     "output_type": "stream",
     "text": [
      "\rWin1/Win2/Draw: 0/0/123:  12%|█▏        | 124/1000 [00:21<02:19,  6.27it/s]"
     ]
    },
    {
     "name": "stderr",
     "output_type": "stream",
     "text": [
      "\rWin1/Win2/Draw: 0/0/124:  12%|█▏        | 124/1000 [00:21<02:19,  6.27it/s]"
     ]
    },
    {
     "name": "stderr",
     "output_type": "stream",
     "text": [
      "\rWin1/Win2/Draw: 0/0/124:  12%|█▎        | 125/1000 [00:21<02:22,  6.13it/s]"
     ]
    },
    {
     "name": "stderr",
     "output_type": "stream",
     "text": [
      "\rWin1/Win2/Draw: 0/0/125:  12%|█▎        | 125/1000 [00:21<02:22,  6.13it/s]"
     ]
    },
    {
     "name": "stderr",
     "output_type": "stream",
     "text": [
      "\rWin1/Win2/Draw: 0/0/125:  13%|█▎        | 126/1000 [00:21<02:18,  6.31it/s]"
     ]
    },
    {
     "name": "stderr",
     "output_type": "stream",
     "text": [
      "\rWin1/Win2/Draw: 0/0/126:  13%|█▎        | 126/1000 [00:21<02:18,  6.31it/s]"
     ]
    },
    {
     "name": "stderr",
     "output_type": "stream",
     "text": [
      "\rWin1/Win2/Draw: 0/0/126:  13%|█▎        | 127/1000 [00:22<02:17,  6.37it/s]"
     ]
    },
    {
     "name": "stderr",
     "output_type": "stream",
     "text": [
      "\rWin1/Win2/Draw: 0/0/127:  13%|█▎        | 127/1000 [00:22<02:17,  6.37it/s]"
     ]
    },
    {
     "name": "stderr",
     "output_type": "stream",
     "text": [
      "\rWin1/Win2/Draw: 0/0/127:  13%|█▎        | 128/1000 [00:22<02:14,  6.47it/s]"
     ]
    },
    {
     "name": "stderr",
     "output_type": "stream",
     "text": [
      "\rWin1/Win2/Draw: 0/0/128:  13%|█▎        | 128/1000 [00:22<02:14,  6.47it/s]"
     ]
    },
    {
     "name": "stderr",
     "output_type": "stream",
     "text": [
      "\rWin1/Win2/Draw: 0/0/128:  13%|█▎        | 129/1000 [00:22<02:13,  6.53it/s]"
     ]
    },
    {
     "name": "stderr",
     "output_type": "stream",
     "text": [
      "\rWin1/Win2/Draw: 0/0/129:  13%|█▎        | 129/1000 [00:22<02:13,  6.53it/s]"
     ]
    },
    {
     "name": "stderr",
     "output_type": "stream",
     "text": [
      "\rWin1/Win2/Draw: 0/0/129:  13%|█▎        | 130/1000 [00:22<02:12,  6.56it/s]"
     ]
    },
    {
     "name": "stderr",
     "output_type": "stream",
     "text": [
      "\rWin1/Win2/Draw: 0/0/130:  13%|█▎        | 130/1000 [00:22<02:12,  6.56it/s]"
     ]
    },
    {
     "name": "stderr",
     "output_type": "stream",
     "text": [
      "\rWin1/Win2/Draw: 0/0/130:  13%|█▎        | 131/1000 [00:22<02:11,  6.60it/s]"
     ]
    },
    {
     "name": "stderr",
     "output_type": "stream",
     "text": [
      "\rWin1/Win2/Draw: 0/0/131:  13%|█▎        | 131/1000 [00:22<02:11,  6.60it/s]"
     ]
    },
    {
     "name": "stderr",
     "output_type": "stream",
     "text": [
      "\rWin1/Win2/Draw: 0/0/131:  13%|█▎        | 132/1000 [00:22<02:11,  6.62it/s]"
     ]
    },
    {
     "name": "stderr",
     "output_type": "stream",
     "text": [
      "\rWin1/Win2/Draw: 0/0/132:  13%|█▎        | 132/1000 [00:22<02:11,  6.62it/s]"
     ]
    },
    {
     "name": "stderr",
     "output_type": "stream",
     "text": [
      "\rWin1/Win2/Draw: 0/0/132:  13%|█▎        | 133/1000 [00:23<02:10,  6.64it/s]"
     ]
    },
    {
     "name": "stderr",
     "output_type": "stream",
     "text": [
      "\rWin1/Win2/Draw: 0/0/133:  13%|█▎        | 133/1000 [00:23<02:10,  6.64it/s]"
     ]
    },
    {
     "name": "stderr",
     "output_type": "stream",
     "text": [
      "\rWin1/Win2/Draw: 0/0/133:  13%|█▎        | 134/1000 [00:23<02:10,  6.66it/s]"
     ]
    },
    {
     "name": "stderr",
     "output_type": "stream",
     "text": [
      "\rWin1/Win2/Draw: 0/0/134:  13%|█▎        | 134/1000 [00:23<02:10,  6.66it/s]"
     ]
    },
    {
     "name": "stderr",
     "output_type": "stream",
     "text": [
      "\rWin1/Win2/Draw: 0/0/134:  14%|█▎        | 135/1000 [00:23<02:17,  6.28it/s]"
     ]
    },
    {
     "name": "stderr",
     "output_type": "stream",
     "text": [
      "\rWin1/Win2/Draw: 0/0/135:  14%|█▎        | 135/1000 [00:23<02:17,  6.28it/s]"
     ]
    },
    {
     "name": "stderr",
     "output_type": "stream",
     "text": [
      "\rWin1/Win2/Draw: 0/0/135:  14%|█▎        | 136/1000 [00:23<02:15,  6.40it/s]"
     ]
    },
    {
     "name": "stderr",
     "output_type": "stream",
     "text": [
      "\rWin1/Win2/Draw: 0/0/136:  14%|█▎        | 136/1000 [00:23<02:15,  6.40it/s]"
     ]
    },
    {
     "name": "stderr",
     "output_type": "stream",
     "text": [
      "\rWin1/Win2/Draw: 0/0/136:  14%|█▎        | 137/1000 [00:23<02:13,  6.49it/s]"
     ]
    },
    {
     "name": "stderr",
     "output_type": "stream",
     "text": [
      "\rWin1/Win2/Draw: 0/0/137:  14%|█▎        | 137/1000 [00:23<02:13,  6.49it/s]"
     ]
    },
    {
     "name": "stderr",
     "output_type": "stream",
     "text": [
      "\rWin1/Win2/Draw: 0/0/137:  14%|█▍        | 138/1000 [00:23<02:13,  6.46it/s]"
     ]
    },
    {
     "name": "stderr",
     "output_type": "stream",
     "text": [
      "\rWin1/Win2/Draw: 0/0/138:  14%|█▍        | 138/1000 [00:23<02:13,  6.46it/s]"
     ]
    },
    {
     "name": "stderr",
     "output_type": "stream",
     "text": [
      "\rWin1/Win2/Draw: 0/0/138:  14%|█▍        | 139/1000 [00:23<02:12,  6.51it/s]"
     ]
    },
    {
     "name": "stderr",
     "output_type": "stream",
     "text": [
      "\rWin1/Win2/Draw: 0/0/139:  14%|█▍        | 139/1000 [00:23<02:12,  6.51it/s]"
     ]
    },
    {
     "name": "stderr",
     "output_type": "stream",
     "text": [
      "\rWin1/Win2/Draw: 0/0/139:  14%|█▍        | 140/1000 [00:24<02:10,  6.57it/s]"
     ]
    },
    {
     "name": "stderr",
     "output_type": "stream",
     "text": [
      "\rWin1/Win2/Draw: 0/0/140:  14%|█▍        | 140/1000 [00:24<02:10,  6.57it/s]"
     ]
    },
    {
     "name": "stderr",
     "output_type": "stream",
     "text": [
      "\rWin1/Win2/Draw: 0/0/140:  14%|█▍        | 141/1000 [00:24<02:10,  6.58it/s]"
     ]
    },
    {
     "name": "stderr",
     "output_type": "stream",
     "text": [
      "\rWin1/Win2/Draw: 0/0/141:  14%|█▍        | 141/1000 [00:24<02:10,  6.58it/s]"
     ]
    },
    {
     "name": "stderr",
     "output_type": "stream",
     "text": [
      "\rWin1/Win2/Draw: 0/0/141:  14%|█▍        | 142/1000 [00:24<02:09,  6.62it/s]"
     ]
    },
    {
     "name": "stderr",
     "output_type": "stream",
     "text": [
      "\rWin1/Win2/Draw: 0/0/142:  14%|█▍        | 142/1000 [00:24<02:09,  6.62it/s]"
     ]
    },
    {
     "name": "stderr",
     "output_type": "stream",
     "text": [
      "\rWin1/Win2/Draw: 0/0/142:  14%|█▍        | 143/1000 [00:24<02:10,  6.59it/s]"
     ]
    },
    {
     "name": "stderr",
     "output_type": "stream",
     "text": [
      "\rWin1/Win2/Draw: 0/0/143:  14%|█▍        | 143/1000 [00:24<02:10,  6.59it/s]"
     ]
    },
    {
     "name": "stderr",
     "output_type": "stream",
     "text": [
      "\rWin1/Win2/Draw: 0/0/143:  14%|█▍        | 144/1000 [00:24<02:09,  6.62it/s]"
     ]
    },
    {
     "name": "stderr",
     "output_type": "stream",
     "text": [
      "\rWin1/Win2/Draw: 0/0/144:  14%|█▍        | 144/1000 [00:24<02:09,  6.62it/s]"
     ]
    },
    {
     "name": "stderr",
     "output_type": "stream",
     "text": [
      "\rWin1/Win2/Draw: 0/0/144:  14%|█▍        | 145/1000 [00:24<02:10,  6.57it/s]"
     ]
    },
    {
     "name": "stderr",
     "output_type": "stream",
     "text": [
      "\rWin1/Win2/Draw: 0/0/145:  14%|█▍        | 145/1000 [00:24<02:10,  6.57it/s]"
     ]
    },
    {
     "name": "stderr",
     "output_type": "stream",
     "text": [
      "\rWin1/Win2/Draw: 0/0/145:  15%|█▍        | 146/1000 [00:25<02:16,  6.28it/s]"
     ]
    },
    {
     "name": "stderr",
     "output_type": "stream",
     "text": [
      "\rWin1/Win2/Draw: 0/0/146:  15%|█▍        | 146/1000 [00:25<02:16,  6.28it/s]"
     ]
    },
    {
     "name": "stderr",
     "output_type": "stream",
     "text": [
      "\rWin1/Win2/Draw: 0/0/146:  15%|█▍        | 147/1000 [00:25<02:14,  6.33it/s]"
     ]
    },
    {
     "name": "stderr",
     "output_type": "stream",
     "text": [
      "\rWin1/Win2/Draw: 0/0/147:  15%|█▍        | 147/1000 [00:25<02:14,  6.33it/s]"
     ]
    },
    {
     "name": "stderr",
     "output_type": "stream",
     "text": [
      "\rWin1/Win2/Draw: 0/0/147:  15%|█▍        | 148/1000 [00:25<02:12,  6.41it/s]"
     ]
    },
    {
     "name": "stderr",
     "output_type": "stream",
     "text": [
      "\rWin1/Win2/Draw: 0/0/148:  15%|█▍        | 148/1000 [00:25<02:12,  6.41it/s]"
     ]
    },
    {
     "name": "stderr",
     "output_type": "stream",
     "text": [
      "\rWin1/Win2/Draw: 0/0/148:  15%|█▍        | 149/1000 [00:25<02:11,  6.45it/s]"
     ]
    },
    {
     "name": "stderr",
     "output_type": "stream",
     "text": [
      "\rWin1/Win2/Draw: 0/0/149:  15%|█▍        | 149/1000 [00:25<02:11,  6.45it/s]"
     ]
    },
    {
     "name": "stderr",
     "output_type": "stream",
     "text": [
      "\rWin1/Win2/Draw: 0/0/149:  15%|█▌        | 150/1000 [00:25<02:10,  6.49it/s]"
     ]
    },
    {
     "name": "stderr",
     "output_type": "stream",
     "text": [
      "\rWin1/Win2/Draw: 0/0/150:  15%|█▌        | 150/1000 [00:25<02:10,  6.49it/s]"
     ]
    },
    {
     "name": "stderr",
     "output_type": "stream",
     "text": [
      "\rWin1/Win2/Draw: 0/0/150:  15%|█▌        | 151/1000 [00:25<02:09,  6.53it/s]"
     ]
    },
    {
     "name": "stderr",
     "output_type": "stream",
     "text": [
      "\rWin1/Win2/Draw: 0/0/151:  15%|█▌        | 151/1000 [00:25<02:09,  6.53it/s]"
     ]
    },
    {
     "name": "stderr",
     "output_type": "stream",
     "text": [
      "\rWin1/Win2/Draw: 0/0/151:  15%|█▌        | 152/1000 [00:25<02:09,  6.57it/s]"
     ]
    },
    {
     "name": "stderr",
     "output_type": "stream",
     "text": [
      "\rWin1/Win2/Draw: 0/0/152:  15%|█▌        | 152/1000 [00:25<02:09,  6.57it/s]"
     ]
    },
    {
     "name": "stderr",
     "output_type": "stream",
     "text": [
      "\rWin1/Win2/Draw: 0/0/152:  15%|█▌        | 153/1000 [00:26<02:08,  6.59it/s]"
     ]
    },
    {
     "name": "stderr",
     "output_type": "stream",
     "text": [
      "\rWin1/Win2/Draw: 0/0/153:  15%|█▌        | 153/1000 [00:26<02:08,  6.59it/s]"
     ]
    },
    {
     "name": "stderr",
     "output_type": "stream",
     "text": [
      "\rWin1/Win2/Draw: 0/0/153:  15%|█▌        | 154/1000 [00:26<02:08,  6.57it/s]"
     ]
    },
    {
     "name": "stderr",
     "output_type": "stream",
     "text": [
      "\rWin1/Win2/Draw: 0/0/154:  15%|█▌        | 154/1000 [00:26<02:08,  6.57it/s]"
     ]
    },
    {
     "name": "stderr",
     "output_type": "stream",
     "text": [
      "\rWin1/Win2/Draw: 0/0/154:  16%|█▌        | 155/1000 [00:26<02:14,  6.29it/s]"
     ]
    },
    {
     "name": "stderr",
     "output_type": "stream",
     "text": [
      "\rWin1/Win2/Draw: 0/0/155:  16%|█▌        | 155/1000 [00:26<02:14,  6.29it/s]"
     ]
    },
    {
     "name": "stderr",
     "output_type": "stream",
     "text": [
      "\rWin1/Win2/Draw: 0/0/155:  16%|█▌        | 156/1000 [00:26<02:11,  6.41it/s]"
     ]
    },
    {
     "name": "stderr",
     "output_type": "stream",
     "text": [
      "\rWin1/Win2/Draw: 0/0/156:  16%|█▌        | 156/1000 [00:26<02:11,  6.41it/s]"
     ]
    },
    {
     "name": "stderr",
     "output_type": "stream",
     "text": [
      "\rWin1/Win2/Draw: 0/0/156:  16%|█▌        | 157/1000 [00:26<02:11,  6.43it/s]"
     ]
    },
    {
     "name": "stderr",
     "output_type": "stream",
     "text": [
      "\rWin1/Win2/Draw: 0/0/157:  16%|█▌        | 157/1000 [00:26<02:11,  6.43it/s]"
     ]
    },
    {
     "name": "stderr",
     "output_type": "stream",
     "text": [
      "\rWin1/Win2/Draw: 0/0/157:  16%|█▌        | 158/1000 [00:26<02:12,  6.34it/s]"
     ]
    },
    {
     "name": "stderr",
     "output_type": "stream",
     "text": [
      "\rWin1/Win2/Draw: 0/0/158:  16%|█▌        | 158/1000 [00:26<02:12,  6.34it/s]"
     ]
    },
    {
     "name": "stderr",
     "output_type": "stream",
     "text": [
      "\rWin1/Win2/Draw: 0/0/158:  16%|█▌        | 159/1000 [00:27<02:14,  6.28it/s]"
     ]
    },
    {
     "name": "stderr",
     "output_type": "stream",
     "text": [
      "\rWin1/Win2/Draw: 0/0/159:  16%|█▌        | 159/1000 [00:27<02:14,  6.28it/s]"
     ]
    },
    {
     "name": "stderr",
     "output_type": "stream",
     "text": [
      "\rWin1/Win2/Draw: 0/0/159:  16%|█▌        | 160/1000 [00:27<02:18,  6.08it/s]"
     ]
    },
    {
     "name": "stderr",
     "output_type": "stream",
     "text": [
      "\rWin1/Win2/Draw: 0/0/160:  16%|█▌        | 160/1000 [00:27<02:18,  6.08it/s]"
     ]
    },
    {
     "name": "stderr",
     "output_type": "stream",
     "text": [
      "\rWin1/Win2/Draw: 0/0/160:  16%|█▌        | 161/1000 [00:27<02:18,  6.07it/s]"
     ]
    },
    {
     "name": "stderr",
     "output_type": "stream",
     "text": [
      "\rWin1/Win2/Draw: 0/0/161:  16%|█▌        | 161/1000 [00:27<02:18,  6.07it/s]"
     ]
    },
    {
     "name": "stderr",
     "output_type": "stream",
     "text": [
      "\rWin1/Win2/Draw: 0/0/161:  16%|█▌        | 162/1000 [00:27<02:14,  6.24it/s]"
     ]
    },
    {
     "name": "stderr",
     "output_type": "stream",
     "text": [
      "\rWin1/Win2/Draw: 0/0/162:  16%|█▌        | 162/1000 [00:27<02:14,  6.24it/s]"
     ]
    },
    {
     "name": "stderr",
     "output_type": "stream",
     "text": [
      "\rWin1/Win2/Draw: 0/0/162:  16%|█▋        | 163/1000 [00:27<02:10,  6.39it/s]"
     ]
    },
    {
     "name": "stderr",
     "output_type": "stream",
     "text": [
      "\rWin1/Win2/Draw: 0/0/163:  16%|█▋        | 163/1000 [00:27<02:10,  6.39it/s]"
     ]
    },
    {
     "name": "stderr",
     "output_type": "stream",
     "text": [
      "\rWin1/Win2/Draw: 0/0/163:  16%|█▋        | 164/1000 [00:27<02:10,  6.41it/s]"
     ]
    },
    {
     "name": "stderr",
     "output_type": "stream",
     "text": [
      "\rWin1/Win2/Draw: 0/0/164:  16%|█▋        | 164/1000 [00:27<02:10,  6.41it/s]"
     ]
    },
    {
     "name": "stderr",
     "output_type": "stream",
     "text": [
      "\rWin1/Win2/Draw: 0/0/164:  16%|█▋        | 165/1000 [00:28<02:11,  6.36it/s]"
     ]
    },
    {
     "name": "stderr",
     "output_type": "stream",
     "text": [
      "\rWin1/Win2/Draw: 0/0/165:  16%|█▋        | 165/1000 [00:28<02:11,  6.36it/s]"
     ]
    },
    {
     "name": "stderr",
     "output_type": "stream",
     "text": [
      "\rWin1/Win2/Draw: 0/0/165:  17%|█▋        | 166/1000 [00:28<02:18,  6.03it/s]"
     ]
    },
    {
     "name": "stderr",
     "output_type": "stream",
     "text": [
      "\rWin1/Win2/Draw: 0/0/166:  17%|█▋        | 166/1000 [00:28<02:18,  6.03it/s]"
     ]
    },
    {
     "name": "stderr",
     "output_type": "stream",
     "text": [
      "\rWin1/Win2/Draw: 0/0/166:  17%|█▋        | 167/1000 [00:28<02:17,  6.08it/s]"
     ]
    },
    {
     "name": "stderr",
     "output_type": "stream",
     "text": [
      "\rWin1/Win2/Draw: 0/0/167:  17%|█▋        | 167/1000 [00:28<02:17,  6.08it/s]"
     ]
    },
    {
     "name": "stderr",
     "output_type": "stream",
     "text": [
      "\rWin1/Win2/Draw: 0/0/167:  17%|█▋        | 168/1000 [00:28<02:15,  6.14it/s]"
     ]
    },
    {
     "name": "stderr",
     "output_type": "stream",
     "text": [
      "\rWin1/Win2/Draw: 0/0/168:  17%|█▋        | 168/1000 [00:28<02:15,  6.14it/s]"
     ]
    },
    {
     "name": "stderr",
     "output_type": "stream",
     "text": [
      "\rWin1/Win2/Draw: 0/0/168:  17%|█▋        | 169/1000 [00:28<02:13,  6.25it/s]"
     ]
    },
    {
     "name": "stderr",
     "output_type": "stream",
     "text": [
      "\rWin1/Win2/Draw: 0/0/169:  17%|█▋        | 169/1000 [00:28<02:13,  6.25it/s]"
     ]
    },
    {
     "name": "stderr",
     "output_type": "stream",
     "text": [
      "\rWin1/Win2/Draw: 0/0/169:  17%|█▋        | 170/1000 [00:28<02:10,  6.36it/s]"
     ]
    },
    {
     "name": "stderr",
     "output_type": "stream",
     "text": [
      "\rWin1/Win2/Draw: 0/0/170:  17%|█▋        | 170/1000 [00:28<02:10,  6.36it/s]"
     ]
    },
    {
     "name": "stderr",
     "output_type": "stream",
     "text": [
      "\rWin1/Win2/Draw: 0/0/170:  17%|█▋        | 171/1000 [00:28<02:08,  6.43it/s]"
     ]
    },
    {
     "name": "stderr",
     "output_type": "stream",
     "text": [
      "\rWin1/Win2/Draw: 0/0/171:  17%|█▋        | 171/1000 [00:28<02:08,  6.43it/s]"
     ]
    },
    {
     "name": "stderr",
     "output_type": "stream",
     "text": [
      "\rWin1/Win2/Draw: 0/0/171:  17%|█▋        | 172/1000 [00:29<02:07,  6.52it/s]"
     ]
    },
    {
     "name": "stderr",
     "output_type": "stream",
     "text": [
      "\rWin1/Win2/Draw: 0/0/172:  17%|█▋        | 172/1000 [00:29<02:07,  6.52it/s]"
     ]
    },
    {
     "name": "stderr",
     "output_type": "stream",
     "text": [
      "\rWin1/Win2/Draw: 0/0/172:  17%|█▋        | 173/1000 [00:29<02:06,  6.56it/s]"
     ]
    },
    {
     "name": "stderr",
     "output_type": "stream",
     "text": [
      "\rWin1/Win2/Draw: 0/0/173:  17%|█▋        | 173/1000 [00:29<02:06,  6.56it/s]"
     ]
    },
    {
     "name": "stderr",
     "output_type": "stream",
     "text": [
      "\rWin1/Win2/Draw: 0/0/173:  17%|█▋        | 174/1000 [00:29<02:04,  6.62it/s]"
     ]
    },
    {
     "name": "stderr",
     "output_type": "stream",
     "text": [
      "\rWin1/Win2/Draw: 0/0/174:  17%|█▋        | 174/1000 [00:29<02:04,  6.62it/s]"
     ]
    },
    {
     "name": "stderr",
     "output_type": "stream",
     "text": [
      "\rWin1/Win2/Draw: 0/0/174:  18%|█▊        | 175/1000 [00:29<02:04,  6.61it/s]"
     ]
    },
    {
     "name": "stderr",
     "output_type": "stream",
     "text": [
      "\rWin1/Win2/Draw: 0/0/175:  18%|█▊        | 175/1000 [00:29<02:04,  6.61it/s]"
     ]
    },
    {
     "name": "stderr",
     "output_type": "stream",
     "text": [
      "\rWin1/Win2/Draw: 0/0/175:  18%|█▊        | 176/1000 [00:29<02:10,  6.33it/s]"
     ]
    },
    {
     "name": "stderr",
     "output_type": "stream",
     "text": [
      "\rWin1/Win2/Draw: 0/0/176:  18%|█▊        | 176/1000 [00:29<02:10,  6.33it/s]"
     ]
    },
    {
     "name": "stderr",
     "output_type": "stream",
     "text": [
      "\rWin1/Win2/Draw: 0/0/176:  18%|█▊        | 177/1000 [00:29<02:07,  6.43it/s]"
     ]
    },
    {
     "name": "stderr",
     "output_type": "stream",
     "text": [
      "\rWin1/Win2/Draw: 0/0/177:  18%|█▊        | 177/1000 [00:29<02:07,  6.43it/s]"
     ]
    },
    {
     "name": "stderr",
     "output_type": "stream",
     "text": [
      "\rWin1/Win2/Draw: 0/0/177:  18%|█▊        | 178/1000 [00:30<02:06,  6.52it/s]"
     ]
    },
    {
     "name": "stderr",
     "output_type": "stream",
     "text": [
      "\rWin1/Win2/Draw: 0/0/178:  18%|█▊        | 178/1000 [00:30<02:06,  6.52it/s]"
     ]
    },
    {
     "name": "stderr",
     "output_type": "stream",
     "text": [
      "\rWin1/Win2/Draw: 0/0/178:  18%|█▊        | 179/1000 [00:30<02:05,  6.55it/s]"
     ]
    },
    {
     "name": "stderr",
     "output_type": "stream",
     "text": [
      "\rWin1/Win2/Draw: 0/0/179:  18%|█▊        | 179/1000 [00:30<02:05,  6.55it/s]"
     ]
    },
    {
     "name": "stderr",
     "output_type": "stream",
     "text": [
      "\rWin1/Win2/Draw: 0/0/179:  18%|█▊        | 180/1000 [00:30<02:05,  6.54it/s]"
     ]
    },
    {
     "name": "stderr",
     "output_type": "stream",
     "text": [
      "\rWin1/Win2/Draw: 0/0/180:  18%|█▊        | 180/1000 [00:30<02:05,  6.54it/s]"
     ]
    },
    {
     "name": "stderr",
     "output_type": "stream",
     "text": [
      "\rWin1/Win2/Draw: 0/0/180:  18%|█▊        | 181/1000 [00:30<02:04,  6.58it/s]"
     ]
    },
    {
     "name": "stderr",
     "output_type": "stream",
     "text": [
      "\rWin1/Win2/Draw: 0/0/181:  18%|█▊        | 181/1000 [00:30<02:04,  6.58it/s]"
     ]
    },
    {
     "name": "stderr",
     "output_type": "stream",
     "text": [
      "\rWin1/Win2/Draw: 0/0/181:  18%|█▊        | 182/1000 [00:30<02:03,  6.61it/s]"
     ]
    },
    {
     "name": "stderr",
     "output_type": "stream",
     "text": [
      "\rWin1/Win2/Draw: 0/0/182:  18%|█▊        | 182/1000 [00:30<02:03,  6.61it/s]"
     ]
    },
    {
     "name": "stderr",
     "output_type": "stream",
     "text": [
      "\rWin1/Win2/Draw: 0/0/182:  18%|█▊        | 183/1000 [00:30<02:03,  6.60it/s]"
     ]
    },
    {
     "name": "stderr",
     "output_type": "stream",
     "text": [
      "\rWin1/Win2/Draw: 0/0/183:  18%|█▊        | 183/1000 [00:30<02:03,  6.60it/s]"
     ]
    },
    {
     "name": "stderr",
     "output_type": "stream",
     "text": [
      "\rWin1/Win2/Draw: 0/0/183:  18%|█▊        | 184/1000 [00:30<02:03,  6.58it/s]"
     ]
    },
    {
     "name": "stderr",
     "output_type": "stream",
     "text": [
      "\rWin1/Win2/Draw: 0/0/184:  18%|█▊        | 184/1000 [00:30<02:03,  6.58it/s]"
     ]
    },
    {
     "name": "stderr",
     "output_type": "stream",
     "text": [
      "\rWin1/Win2/Draw: 0/0/184:  18%|█▊        | 185/1000 [00:31<02:03,  6.60it/s]"
     ]
    },
    {
     "name": "stderr",
     "output_type": "stream",
     "text": [
      "\rWin1/Win2/Draw: 0/0/185:  18%|█▊        | 185/1000 [00:31<02:03,  6.60it/s]"
     ]
    },
    {
     "name": "stderr",
     "output_type": "stream",
     "text": [
      "\rWin1/Win2/Draw: 0/0/185:  19%|█▊        | 186/1000 [00:31<02:03,  6.59it/s]"
     ]
    },
    {
     "name": "stderr",
     "output_type": "stream",
     "text": [
      "\rWin1/Win2/Draw: 0/0/186:  19%|█▊        | 186/1000 [00:31<02:03,  6.59it/s]"
     ]
    },
    {
     "name": "stderr",
     "output_type": "stream",
     "text": [
      "\rWin1/Win2/Draw: 0/0/186:  19%|█▊        | 187/1000 [00:31<02:09,  6.30it/s]"
     ]
    },
    {
     "name": "stderr",
     "output_type": "stream",
     "text": [
      "\rWin1/Win2/Draw: 0/0/187:  19%|█▊        | 187/1000 [00:31<02:09,  6.30it/s]"
     ]
    },
    {
     "name": "stderr",
     "output_type": "stream",
     "text": [
      "\rWin1/Win2/Draw: 0/0/187:  19%|█▉        | 188/1000 [00:31<02:09,  6.29it/s]"
     ]
    },
    {
     "name": "stderr",
     "output_type": "stream",
     "text": [
      "\rWin1/Win2/Draw: 0/0/188:  19%|█▉        | 188/1000 [00:31<02:09,  6.29it/s]"
     ]
    },
    {
     "name": "stderr",
     "output_type": "stream",
     "text": [
      "\rWin1/Win2/Draw: 0/0/188:  19%|█▉        | 189/1000 [00:31<02:09,  6.29it/s]"
     ]
    },
    {
     "name": "stderr",
     "output_type": "stream",
     "text": [
      "\rWin1/Win2/Draw: 0/0/189:  19%|█▉        | 189/1000 [00:31<02:09,  6.29it/s]"
     ]
    },
    {
     "name": "stderr",
     "output_type": "stream",
     "text": [
      "\rWin1/Win2/Draw: 0/0/189:  19%|█▉        | 190/1000 [00:31<02:07,  6.36it/s]"
     ]
    },
    {
     "name": "stderr",
     "output_type": "stream",
     "text": [
      "\rWin1/Win2/Draw: 0/0/190:  19%|█▉        | 190/1000 [00:31<02:07,  6.36it/s]"
     ]
    },
    {
     "name": "stderr",
     "output_type": "stream",
     "text": [
      "\rWin1/Win2/Draw: 0/0/190:  19%|█▉        | 191/1000 [00:32<02:06,  6.42it/s]"
     ]
    },
    {
     "name": "stderr",
     "output_type": "stream",
     "text": [
      "\rWin1/Win2/Draw: 0/0/191:  19%|█▉        | 191/1000 [00:32<02:06,  6.42it/s]"
     ]
    },
    {
     "name": "stderr",
     "output_type": "stream",
     "text": [
      "\rWin1/Win2/Draw: 0/0/191:  19%|█▉        | 192/1000 [00:32<02:05,  6.45it/s]"
     ]
    },
    {
     "name": "stderr",
     "output_type": "stream",
     "text": [
      "\rWin1/Win2/Draw: 0/0/192:  19%|█▉        | 192/1000 [00:32<02:05,  6.45it/s]"
     ]
    },
    {
     "name": "stderr",
     "output_type": "stream",
     "text": [
      "\rWin1/Win2/Draw: 0/0/192:  19%|█▉        | 193/1000 [00:32<02:04,  6.49it/s]"
     ]
    },
    {
     "name": "stderr",
     "output_type": "stream",
     "text": [
      "\rWin1/Win2/Draw: 0/0/193:  19%|█▉        | 193/1000 [00:32<02:04,  6.49it/s]"
     ]
    },
    {
     "name": "stderr",
     "output_type": "stream",
     "text": [
      "\rWin1/Win2/Draw: 0/0/193:  19%|█▉        | 194/1000 [00:32<02:03,  6.54it/s]"
     ]
    },
    {
     "name": "stderr",
     "output_type": "stream",
     "text": [
      "\rWin1/Win2/Draw: 0/0/194:  19%|█▉        | 194/1000 [00:32<02:03,  6.54it/s]"
     ]
    },
    {
     "name": "stderr",
     "output_type": "stream",
     "text": [
      "\rWin1/Win2/Draw: 0/0/194:  20%|█▉        | 195/1000 [00:32<02:02,  6.55it/s]"
     ]
    },
    {
     "name": "stderr",
     "output_type": "stream",
     "text": [
      "\rWin1/Win2/Draw: 0/0/195:  20%|█▉        | 195/1000 [00:32<02:02,  6.55it/s]"
     ]
    },
    {
     "name": "stderr",
     "output_type": "stream",
     "text": [
      "\rWin1/Win2/Draw: 0/0/195:  20%|█▉        | 196/1000 [00:32<02:01,  6.60it/s]"
     ]
    },
    {
     "name": "stderr",
     "output_type": "stream",
     "text": [
      "\rWin1/Win2/Draw: 0/0/196:  20%|█▉        | 196/1000 [00:32<02:01,  6.60it/s]"
     ]
    },
    {
     "name": "stderr",
     "output_type": "stream",
     "text": [
      "\rWin1/Win2/Draw: 0/0/196:  20%|█▉        | 197/1000 [00:32<02:02,  6.58it/s]"
     ]
    },
    {
     "name": "stderr",
     "output_type": "stream",
     "text": [
      "\rWin1/Win2/Draw: 0/0/197:  20%|█▉        | 197/1000 [00:32<02:02,  6.58it/s]"
     ]
    },
    {
     "name": "stderr",
     "output_type": "stream",
     "text": [
      "\rWin1/Win2/Draw: 0/0/197:  20%|█▉        | 198/1000 [00:33<02:07,  6.28it/s]"
     ]
    },
    {
     "name": "stderr",
     "output_type": "stream",
     "text": [
      "\rWin1/Win2/Draw: 0/0/198:  20%|█▉        | 198/1000 [00:33<02:07,  6.28it/s]"
     ]
    },
    {
     "name": "stderr",
     "output_type": "stream",
     "text": [
      "\rWin1/Win2/Draw: 0/0/198:  20%|█▉        | 199/1000 [00:33<02:05,  6.37it/s]"
     ]
    },
    {
     "name": "stderr",
     "output_type": "stream",
     "text": [
      "\rWin1/Win2/Draw: 0/0/199:  20%|█▉        | 199/1000 [00:33<02:05,  6.37it/s]"
     ]
    },
    {
     "name": "stderr",
     "output_type": "stream",
     "text": [
      "\rWin1/Win2/Draw: 0/0/199:  20%|██        | 200/1000 [00:33<02:03,  6.47it/s]"
     ]
    },
    {
     "name": "stderr",
     "output_type": "stream",
     "text": [
      "\rWin1/Win2/Draw: 0/0/200:  20%|██        | 200/1000 [00:33<02:03,  6.47it/s]"
     ]
    },
    {
     "name": "stderr",
     "output_type": "stream",
     "text": [
      "\rWin1/Win2/Draw: 0/0/200:  20%|██        | 201/1000 [00:33<02:02,  6.54it/s]"
     ]
    },
    {
     "name": "stderr",
     "output_type": "stream",
     "text": [
      "\rWin1/Win2/Draw: 0/0/201:  20%|██        | 201/1000 [00:33<02:02,  6.54it/s]"
     ]
    },
    {
     "name": "stderr",
     "output_type": "stream",
     "text": [
      "\rWin1/Win2/Draw: 0/0/201:  20%|██        | 202/1000 [00:33<02:01,  6.58it/s]"
     ]
    },
    {
     "name": "stderr",
     "output_type": "stream",
     "text": [
      "\rWin1/Win2/Draw: 0/0/202:  20%|██        | 202/1000 [00:33<02:01,  6.58it/s]"
     ]
    },
    {
     "name": "stderr",
     "output_type": "stream",
     "text": [
      "\rWin1/Win2/Draw: 0/0/202:  20%|██        | 203/1000 [00:33<02:01,  6.55it/s]"
     ]
    },
    {
     "name": "stderr",
     "output_type": "stream",
     "text": [
      "\rWin1/Win2/Draw: 0/0/203:  20%|██        | 203/1000 [00:33<02:01,  6.55it/s]"
     ]
    },
    {
     "name": "stderr",
     "output_type": "stream",
     "text": [
      "\rWin1/Win2/Draw: 0/0/203:  20%|██        | 204/1000 [00:34<02:00,  6.59it/s]"
     ]
    },
    {
     "name": "stderr",
     "output_type": "stream",
     "text": [
      "\rWin1/Win2/Draw: 0/0/204:  20%|██        | 204/1000 [00:34<02:00,  6.59it/s]"
     ]
    },
    {
     "name": "stderr",
     "output_type": "stream",
     "text": [
      "\rWin1/Win2/Draw: 0/0/204:  20%|██        | 205/1000 [00:34<02:01,  6.53it/s]"
     ]
    },
    {
     "name": "stderr",
     "output_type": "stream",
     "text": [
      "\rWin1/Win2/Draw: 0/0/205:  20%|██        | 205/1000 [00:34<02:01,  6.53it/s]"
     ]
    },
    {
     "name": "stderr",
     "output_type": "stream",
     "text": [
      "\rWin1/Win2/Draw: 0/0/205:  21%|██        | 206/1000 [00:34<02:02,  6.50it/s]"
     ]
    },
    {
     "name": "stderr",
     "output_type": "stream",
     "text": [
      "\rWin1/Win2/Draw: 0/0/206:  21%|██        | 206/1000 [00:34<02:02,  6.50it/s]"
     ]
    },
    {
     "name": "stderr",
     "output_type": "stream",
     "text": [
      "\rWin1/Win2/Draw: 0/0/206:  21%|██        | 207/1000 [00:34<02:06,  6.25it/s]"
     ]
    },
    {
     "name": "stderr",
     "output_type": "stream",
     "text": [
      "\rWin1/Win2/Draw: 0/0/207:  21%|██        | 207/1000 [00:34<02:06,  6.25it/s]"
     ]
    },
    {
     "name": "stderr",
     "output_type": "stream",
     "text": [
      "\rWin1/Win2/Draw: 0/0/207:  21%|██        | 208/1000 [00:34<02:05,  6.33it/s]"
     ]
    },
    {
     "name": "stderr",
     "output_type": "stream",
     "text": [
      "\rWin1/Win2/Draw: 0/0/208:  21%|██        | 208/1000 [00:34<02:05,  6.33it/s]"
     ]
    },
    {
     "name": "stderr",
     "output_type": "stream",
     "text": [
      "\rWin1/Win2/Draw: 0/0/208:  21%|██        | 209/1000 [00:34<02:04,  6.36it/s]"
     ]
    },
    {
     "name": "stderr",
     "output_type": "stream",
     "text": [
      "\rWin1/Win2/Draw: 0/0/209:  21%|██        | 209/1000 [00:34<02:04,  6.36it/s]"
     ]
    },
    {
     "name": "stderr",
     "output_type": "stream",
     "text": [
      "\rWin1/Win2/Draw: 0/0/209:  21%|██        | 210/1000 [00:34<02:03,  6.41it/s]"
     ]
    },
    {
     "name": "stderr",
     "output_type": "stream",
     "text": [
      "\rWin1/Win2/Draw: 0/0/210:  21%|██        | 210/1000 [00:35<02:03,  6.41it/s]"
     ]
    },
    {
     "name": "stderr",
     "output_type": "stream",
     "text": [
      "\rWin1/Win2/Draw: 0/0/210:  21%|██        | 211/1000 [00:35<02:01,  6.48it/s]"
     ]
    },
    {
     "name": "stderr",
     "output_type": "stream",
     "text": [
      "\rWin1/Win2/Draw: 0/0/211:  21%|██        | 211/1000 [00:35<02:01,  6.48it/s]"
     ]
    },
    {
     "name": "stderr",
     "output_type": "stream",
     "text": [
      "\rWin1/Win2/Draw: 0/0/211:  21%|██        | 212/1000 [00:35<02:00,  6.52it/s]"
     ]
    },
    {
     "name": "stderr",
     "output_type": "stream",
     "text": [
      "\rWin1/Win2/Draw: 0/0/212:  21%|██        | 212/1000 [00:35<02:00,  6.52it/s]"
     ]
    },
    {
     "name": "stderr",
     "output_type": "stream",
     "text": [
      "\rWin1/Win2/Draw: 0/0/212:  21%|██▏       | 213/1000 [00:35<01:59,  6.57it/s]"
     ]
    },
    {
     "name": "stderr",
     "output_type": "stream",
     "text": [
      "\rWin1/Win2/Draw: 0/0/213:  21%|██▏       | 213/1000 [00:35<01:59,  6.57it/s]"
     ]
    },
    {
     "name": "stderr",
     "output_type": "stream",
     "text": [
      "\rWin1/Win2/Draw: 0/0/213:  21%|██▏       | 214/1000 [00:35<01:58,  6.61it/s]"
     ]
    },
    {
     "name": "stderr",
     "output_type": "stream",
     "text": [
      "\rWin1/Win2/Draw: 0/0/214:  21%|██▏       | 214/1000 [00:35<01:58,  6.61it/s]"
     ]
    },
    {
     "name": "stderr",
     "output_type": "stream",
     "text": [
      "\rWin1/Win2/Draw: 0/0/214:  22%|██▏       | 215/1000 [00:35<01:57,  6.66it/s]"
     ]
    },
    {
     "name": "stderr",
     "output_type": "stream",
     "text": [
      "\rWin1/Win2/Draw: 0/0/215:  22%|██▏       | 215/1000 [00:35<01:57,  6.66it/s]"
     ]
    },
    {
     "name": "stderr",
     "output_type": "stream",
     "text": [
      "\rWin1/Win2/Draw: 0/0/215:  22%|██▏       | 216/1000 [00:35<01:57,  6.65it/s]"
     ]
    },
    {
     "name": "stderr",
     "output_type": "stream",
     "text": [
      "\rWin1/Win2/Draw: 0/0/216:  22%|██▏       | 216/1000 [00:35<01:57,  6.65it/s]"
     ]
    },
    {
     "name": "stderr",
     "output_type": "stream",
     "text": [
      "\rWin1/Win2/Draw: 0/0/216:  22%|██▏       | 217/1000 [00:36<02:03,  6.36it/s]"
     ]
    },
    {
     "name": "stderr",
     "output_type": "stream",
     "text": [
      "\rWin1/Win2/Draw: 0/0/217:  22%|██▏       | 217/1000 [00:36<02:03,  6.36it/s]"
     ]
    },
    {
     "name": "stderr",
     "output_type": "stream",
     "text": [
      "\rWin1/Win2/Draw: 0/0/217:  22%|██▏       | 218/1000 [00:36<02:02,  6.41it/s]"
     ]
    },
    {
     "name": "stderr",
     "output_type": "stream",
     "text": [
      "\rWin1/Win2/Draw: 0/0/218:  22%|██▏       | 218/1000 [00:36<02:02,  6.41it/s]"
     ]
    },
    {
     "name": "stderr",
     "output_type": "stream",
     "text": [
      "\rWin1/Win2/Draw: 0/0/218:  22%|██▏       | 219/1000 [00:36<02:01,  6.41it/s]"
     ]
    },
    {
     "name": "stderr",
     "output_type": "stream",
     "text": [
      "\rWin1/Win2/Draw: 0/0/219:  22%|██▏       | 219/1000 [00:36<02:01,  6.41it/s]"
     ]
    },
    {
     "name": "stderr",
     "output_type": "stream",
     "text": [
      "\rWin1/Win2/Draw: 0/0/219:  22%|██▏       | 220/1000 [00:36<02:01,  6.42it/s]"
     ]
    },
    {
     "name": "stderr",
     "output_type": "stream",
     "text": [
      "\rWin1/Win2/Draw: 0/0/220:  22%|██▏       | 220/1000 [00:36<02:01,  6.42it/s]"
     ]
    },
    {
     "name": "stderr",
     "output_type": "stream",
     "text": [
      "\rWin1/Win2/Draw: 0/0/220:  22%|██▏       | 221/1000 [00:36<02:00,  6.46it/s]"
     ]
    },
    {
     "name": "stderr",
     "output_type": "stream",
     "text": [
      "\rWin1/Win2/Draw: 0/0/221:  22%|██▏       | 221/1000 [00:36<02:00,  6.46it/s]"
     ]
    },
    {
     "name": "stderr",
     "output_type": "stream",
     "text": [
      "\rWin1/Win2/Draw: 0/0/221:  22%|██▏       | 222/1000 [00:36<02:01,  6.43it/s]"
     ]
    },
    {
     "name": "stderr",
     "output_type": "stream",
     "text": [
      "\rWin1/Win2/Draw: 0/0/222:  22%|██▏       | 222/1000 [00:36<02:01,  6.43it/s]"
     ]
    },
    {
     "name": "stderr",
     "output_type": "stream",
     "text": [
      "\rWin1/Win2/Draw: 0/0/222:  22%|██▏       | 223/1000 [00:36<02:00,  6.45it/s]"
     ]
    },
    {
     "name": "stderr",
     "output_type": "stream",
     "text": [
      "\rWin1/Win2/Draw: 0/0/223:  22%|██▏       | 223/1000 [00:37<02:00,  6.45it/s]"
     ]
    },
    {
     "name": "stderr",
     "output_type": "stream",
     "text": [
      "\rWin1/Win2/Draw: 0/0/223:  22%|██▏       | 224/1000 [00:37<01:58,  6.53it/s]"
     ]
    },
    {
     "name": "stderr",
     "output_type": "stream",
     "text": [
      "\rWin1/Win2/Draw: 0/0/224:  22%|██▏       | 224/1000 [00:37<01:58,  6.53it/s]"
     ]
    },
    {
     "name": "stderr",
     "output_type": "stream",
     "text": [
      "\rWin1/Win2/Draw: 0/0/224:  22%|██▎       | 225/1000 [00:37<01:58,  6.55it/s]"
     ]
    },
    {
     "name": "stderr",
     "output_type": "stream",
     "text": [
      "\rWin1/Win2/Draw: 0/0/225:  22%|██▎       | 225/1000 [00:37<01:58,  6.55it/s]"
     ]
    },
    {
     "name": "stderr",
     "output_type": "stream",
     "text": [
      "\rWin1/Win2/Draw: 0/0/225:  23%|██▎       | 226/1000 [00:37<01:57,  6.61it/s]"
     ]
    },
    {
     "name": "stderr",
     "output_type": "stream",
     "text": [
      "\rWin1/Win2/Draw: 0/0/226:  23%|██▎       | 226/1000 [00:37<01:57,  6.61it/s]"
     ]
    },
    {
     "name": "stderr",
     "output_type": "stream",
     "text": [
      "\rWin1/Win2/Draw: 0/0/226:  23%|██▎       | 227/1000 [00:37<01:56,  6.62it/s]"
     ]
    },
    {
     "name": "stderr",
     "output_type": "stream",
     "text": [
      "\rWin1/Win2/Draw: 0/0/227:  23%|██▎       | 227/1000 [00:37<01:56,  6.62it/s]"
     ]
    },
    {
     "name": "stderr",
     "output_type": "stream",
     "text": [
      "\rWin1/Win2/Draw: 0/0/227:  23%|██▎       | 228/1000 [00:37<02:02,  6.32it/s]"
     ]
    },
    {
     "name": "stderr",
     "output_type": "stream",
     "text": [
      "\rWin1/Win2/Draw: 0/0/228:  23%|██▎       | 228/1000 [00:37<02:02,  6.32it/s]"
     ]
    },
    {
     "name": "stderr",
     "output_type": "stream",
     "text": [
      "\rWin1/Win2/Draw: 0/0/228:  23%|██▎       | 229/1000 [00:37<02:00,  6.41it/s]"
     ]
    },
    {
     "name": "stderr",
     "output_type": "stream",
     "text": [
      "\rWin1/Win2/Draw: 0/0/229:  23%|██▎       | 229/1000 [00:37<02:00,  6.41it/s]"
     ]
    },
    {
     "name": "stderr",
     "output_type": "stream",
     "text": [
      "\rWin1/Win2/Draw: 0/0/229:  23%|██▎       | 230/1000 [00:38<01:58,  6.52it/s]"
     ]
    },
    {
     "name": "stderr",
     "output_type": "stream",
     "text": [
      "\rWin1/Win2/Draw: 0/0/230:  23%|██▎       | 230/1000 [00:38<01:58,  6.52it/s]"
     ]
    },
    {
     "name": "stderr",
     "output_type": "stream",
     "text": [
      "\rWin1/Win2/Draw: 0/0/230:  23%|██▎       | 231/1000 [00:38<01:56,  6.59it/s]"
     ]
    },
    {
     "name": "stderr",
     "output_type": "stream",
     "text": [
      "\rWin1/Win2/Draw: 0/0/231:  23%|██▎       | 231/1000 [00:38<01:56,  6.59it/s]"
     ]
    },
    {
     "name": "stderr",
     "output_type": "stream",
     "text": [
      "\rWin1/Win2/Draw: 0/0/231:  23%|██▎       | 232/1000 [00:38<01:56,  6.62it/s]"
     ]
    },
    {
     "name": "stderr",
     "output_type": "stream",
     "text": [
      "\rWin1/Win2/Draw: 0/0/232:  23%|██▎       | 232/1000 [00:38<01:56,  6.62it/s]"
     ]
    },
    {
     "name": "stderr",
     "output_type": "stream",
     "text": [
      "\rWin1/Win2/Draw: 0/0/232:  23%|██▎       | 233/1000 [00:38<01:55,  6.62it/s]"
     ]
    },
    {
     "name": "stderr",
     "output_type": "stream",
     "text": [
      "\rWin1/Win2/Draw: 0/0/233:  23%|██▎       | 233/1000 [00:38<01:55,  6.62it/s]"
     ]
    },
    {
     "name": "stderr",
     "output_type": "stream",
     "text": [
      "\rWin1/Win2/Draw: 0/0/233:  23%|██▎       | 234/1000 [00:38<01:55,  6.63it/s]"
     ]
    },
    {
     "name": "stderr",
     "output_type": "stream",
     "text": [
      "\rWin1/Win2/Draw: 0/0/234:  23%|██▎       | 234/1000 [00:38<01:55,  6.63it/s]"
     ]
    },
    {
     "name": "stderr",
     "output_type": "stream",
     "text": [
      "\rWin1/Win2/Draw: 0/0/234:  24%|██▎       | 235/1000 [00:38<01:54,  6.65it/s]"
     ]
    },
    {
     "name": "stderr",
     "output_type": "stream",
     "text": [
      "\rWin1/Win2/Draw: 0/0/235:  24%|██▎       | 235/1000 [00:38<01:54,  6.65it/s]"
     ]
    },
    {
     "name": "stderr",
     "output_type": "stream",
     "text": [
      "\rWin1/Win2/Draw: 0/0/235:  24%|██▎       | 236/1000 [00:38<01:55,  6.62it/s]"
     ]
    },
    {
     "name": "stderr",
     "output_type": "stream",
     "text": [
      "\rWin1/Win2/Draw: 0/0/236:  24%|██▎       | 236/1000 [00:38<01:55,  6.62it/s]"
     ]
    },
    {
     "name": "stderr",
     "output_type": "stream",
     "text": [
      "\rWin1/Win2/Draw: 0/0/236:  24%|██▎       | 237/1000 [00:39<01:59,  6.38it/s]"
     ]
    },
    {
     "name": "stderr",
     "output_type": "stream",
     "text": [
      "\rWin1/Win2/Draw: 0/0/237:  24%|██▎       | 237/1000 [00:39<01:59,  6.38it/s]"
     ]
    },
    {
     "name": "stderr",
     "output_type": "stream",
     "text": [
      "\rWin1/Win2/Draw: 0/0/237:  24%|██▍       | 238/1000 [00:39<01:58,  6.44it/s]"
     ]
    },
    {
     "name": "stderr",
     "output_type": "stream",
     "text": [
      "\rWin1/Win2/Draw: 0/0/238:  24%|██▍       | 238/1000 [00:39<01:58,  6.44it/s]"
     ]
    },
    {
     "name": "stderr",
     "output_type": "stream",
     "text": [
      "\rWin1/Win2/Draw: 0/0/238:  24%|██▍       | 239/1000 [00:39<01:56,  6.54it/s]"
     ]
    },
    {
     "name": "stderr",
     "output_type": "stream",
     "text": [
      "\rWin1/Win2/Draw: 0/0/239:  24%|██▍       | 239/1000 [00:39<01:56,  6.54it/s]"
     ]
    },
    {
     "name": "stderr",
     "output_type": "stream",
     "text": [
      "\rWin1/Win2/Draw: 0/0/239:  24%|██▍       | 240/1000 [00:39<01:55,  6.58it/s]"
     ]
    },
    {
     "name": "stderr",
     "output_type": "stream",
     "text": [
      "\rWin1/Win2/Draw: 0/0/240:  24%|██▍       | 240/1000 [00:39<01:55,  6.58it/s]"
     ]
    },
    {
     "name": "stderr",
     "output_type": "stream",
     "text": [
      "\rWin1/Win2/Draw: 0/0/240:  24%|██▍       | 241/1000 [00:39<01:54,  6.64it/s]"
     ]
    },
    {
     "name": "stderr",
     "output_type": "stream",
     "text": [
      "\rWin1/Win2/Draw: 0/0/241:  24%|██▍       | 241/1000 [00:39<01:54,  6.64it/s]"
     ]
    },
    {
     "name": "stderr",
     "output_type": "stream",
     "text": [
      "\rWin1/Win2/Draw: 0/0/241:  24%|██▍       | 242/1000 [00:39<01:54,  6.65it/s]"
     ]
    },
    {
     "name": "stderr",
     "output_type": "stream",
     "text": [
      "\rWin1/Win2/Draw: 0/0/242:  24%|██▍       | 242/1000 [00:39<01:54,  6.65it/s]"
     ]
    },
    {
     "name": "stderr",
     "output_type": "stream",
     "text": [
      "\rWin1/Win2/Draw: 0/0/242:  24%|██▍       | 243/1000 [00:40<01:53,  6.66it/s]"
     ]
    },
    {
     "name": "stderr",
     "output_type": "stream",
     "text": [
      "\rWin1/Win2/Draw: 0/0/243:  24%|██▍       | 243/1000 [00:40<01:53,  6.66it/s]"
     ]
    },
    {
     "name": "stderr",
     "output_type": "stream",
     "text": [
      "\rWin1/Win2/Draw: 0/0/243:  24%|██▍       | 244/1000 [00:40<01:53,  6.67it/s]"
     ]
    },
    {
     "name": "stderr",
     "output_type": "stream",
     "text": [
      "\rWin1/Win2/Draw: 0/0/244:  24%|██▍       | 244/1000 [00:40<01:53,  6.67it/s]"
     ]
    },
    {
     "name": "stderr",
     "output_type": "stream",
     "text": [
      "\rWin1/Win2/Draw: 0/0/244:  24%|██▍       | 245/1000 [00:40<01:54,  6.61it/s]"
     ]
    },
    {
     "name": "stderr",
     "output_type": "stream",
     "text": [
      "\rWin1/Win2/Draw: 0/0/245:  24%|██▍       | 245/1000 [00:40<01:54,  6.61it/s]"
     ]
    },
    {
     "name": "stderr",
     "output_type": "stream",
     "text": [
      "\rWin1/Win2/Draw: 0/0/245:  25%|██▍       | 246/1000 [00:40<01:54,  6.56it/s]"
     ]
    },
    {
     "name": "stderr",
     "output_type": "stream",
     "text": [
      "\rWin1/Win2/Draw: 0/0/246:  25%|██▍       | 246/1000 [00:40<01:54,  6.56it/s]"
     ]
    },
    {
     "name": "stderr",
     "output_type": "stream",
     "text": [
      "\rWin1/Win2/Draw: 0/0/246:  25%|██▍       | 247/1000 [00:40<01:55,  6.53it/s]"
     ]
    },
    {
     "name": "stderr",
     "output_type": "stream",
     "text": [
      "\rWin1/Win2/Draw: 0/0/247:  25%|██▍       | 247/1000 [00:40<01:55,  6.53it/s]"
     ]
    },
    {
     "name": "stderr",
     "output_type": "stream",
     "text": [
      "\rWin1/Win2/Draw: 0/0/247:  25%|██▍       | 248/1000 [00:40<02:01,  6.21it/s]"
     ]
    },
    {
     "name": "stderr",
     "output_type": "stream",
     "text": [
      "\rWin1/Win2/Draw: 0/0/248:  25%|██▍       | 248/1000 [00:40<02:01,  6.21it/s]"
     ]
    },
    {
     "name": "stderr",
     "output_type": "stream",
     "text": [
      "\rWin1/Win2/Draw: 0/0/248:  25%|██▍       | 249/1000 [00:40<01:59,  6.26it/s]"
     ]
    },
    {
     "name": "stderr",
     "output_type": "stream",
     "text": [
      "\rWin1/Win2/Draw: 0/0/249:  25%|██▍       | 249/1000 [00:40<01:59,  6.26it/s]"
     ]
    },
    {
     "name": "stderr",
     "output_type": "stream",
     "text": [
      "\rWin1/Win2/Draw: 0/0/249:  25%|██▌       | 250/1000 [00:41<01:58,  6.35it/s]"
     ]
    },
    {
     "name": "stderr",
     "output_type": "stream",
     "text": [
      "\rWin1/Win2/Draw: 0/0/250:  25%|██▌       | 250/1000 [00:41<01:58,  6.35it/s]"
     ]
    },
    {
     "name": "stderr",
     "output_type": "stream",
     "text": [
      "\rWin1/Win2/Draw: 0/0/250:  25%|██▌       | 251/1000 [00:41<01:56,  6.41it/s]"
     ]
    },
    {
     "name": "stderr",
     "output_type": "stream",
     "text": [
      "\rWin1/Win2/Draw: 0/0/251:  25%|██▌       | 251/1000 [00:41<01:56,  6.41it/s]"
     ]
    },
    {
     "name": "stderr",
     "output_type": "stream",
     "text": [
      "\rWin1/Win2/Draw: 0/0/251:  25%|██▌       | 252/1000 [00:41<01:55,  6.50it/s]"
     ]
    },
    {
     "name": "stderr",
     "output_type": "stream",
     "text": [
      "\rWin1/Win2/Draw: 0/0/252:  25%|██▌       | 252/1000 [00:41<01:55,  6.50it/s]"
     ]
    },
    {
     "name": "stderr",
     "output_type": "stream",
     "text": [
      "\rWin1/Win2/Draw: 0/0/252:  25%|██▌       | 253/1000 [00:41<01:55,  6.49it/s]"
     ]
    },
    {
     "name": "stderr",
     "output_type": "stream",
     "text": [
      "\rWin1/Win2/Draw: 0/0/253:  25%|██▌       | 253/1000 [00:41<01:55,  6.49it/s]"
     ]
    },
    {
     "name": "stderr",
     "output_type": "stream",
     "text": [
      "\rWin1/Win2/Draw: 0/0/253:  25%|██▌       | 254/1000 [00:41<01:54,  6.53it/s]"
     ]
    },
    {
     "name": "stderr",
     "output_type": "stream",
     "text": [
      "\rWin1/Win2/Draw: 0/0/254:  25%|██▌       | 254/1000 [00:41<01:54,  6.53it/s]"
     ]
    },
    {
     "name": "stderr",
     "output_type": "stream",
     "text": [
      "\rWin1/Win2/Draw: 0/0/254:  26%|██▌       | 255/1000 [00:41<01:55,  6.45it/s]"
     ]
    },
    {
     "name": "stderr",
     "output_type": "stream",
     "text": [
      "\rWin1/Win2/Draw: 0/0/255:  26%|██▌       | 255/1000 [00:41<01:55,  6.45it/s]"
     ]
    },
    {
     "name": "stderr",
     "output_type": "stream",
     "text": [
      "\rWin1/Win2/Draw: 0/0/255:  26%|██▌       | 256/1000 [00:42<01:56,  6.40it/s]"
     ]
    },
    {
     "name": "stderr",
     "output_type": "stream",
     "text": [
      "\rWin1/Win2/Draw: 0/0/256:  26%|██▌       | 256/1000 [00:42<01:56,  6.40it/s]"
     ]
    },
    {
     "name": "stderr",
     "output_type": "stream",
     "text": [
      "\rWin1/Win2/Draw: 0/0/256:  26%|██▌       | 257/1000 [00:42<01:54,  6.47it/s]"
     ]
    },
    {
     "name": "stderr",
     "output_type": "stream",
     "text": [
      "\rWin1/Win2/Draw: 0/0/257:  26%|██▌       | 257/1000 [00:42<01:54,  6.47it/s]"
     ]
    },
    {
     "name": "stderr",
     "output_type": "stream",
     "text": [
      "\rWin1/Win2/Draw: 0/0/257:  26%|██▌       | 258/1000 [00:42<01:59,  6.19it/s]"
     ]
    },
    {
     "name": "stderr",
     "output_type": "stream",
     "text": [
      "\rWin1/Win2/Draw: 0/0/258:  26%|██▌       | 258/1000 [00:42<01:59,  6.19it/s]"
     ]
    },
    {
     "name": "stderr",
     "output_type": "stream",
     "text": [
      "\rWin1/Win2/Draw: 0/0/258:  26%|██▌       | 259/1000 [00:42<01:59,  6.20it/s]"
     ]
    },
    {
     "name": "stderr",
     "output_type": "stream",
     "text": [
      "\rWin1/Win2/Draw: 0/0/259:  26%|██▌       | 259/1000 [00:42<01:59,  6.20it/s]"
     ]
    },
    {
     "name": "stderr",
     "output_type": "stream",
     "text": [
      "\rWin1/Win2/Draw: 0/0/259:  26%|██▌       | 260/1000 [00:42<01:57,  6.32it/s]"
     ]
    },
    {
     "name": "stderr",
     "output_type": "stream",
     "text": [
      "\rWin1/Win2/Draw: 0/0/260:  26%|██▌       | 260/1000 [00:42<01:57,  6.32it/s]"
     ]
    },
    {
     "name": "stderr",
     "output_type": "stream",
     "text": [
      "\rWin1/Win2/Draw: 0/0/260:  26%|██▌       | 261/1000 [00:42<01:55,  6.41it/s]"
     ]
    },
    {
     "name": "stderr",
     "output_type": "stream",
     "text": [
      "\rWin1/Win2/Draw: 0/0/261:  26%|██▌       | 261/1000 [00:42<01:55,  6.41it/s]"
     ]
    },
    {
     "name": "stderr",
     "output_type": "stream",
     "text": [
      "\rWin1/Win2/Draw: 0/0/261:  26%|██▌       | 262/1000 [00:43<01:55,  6.39it/s]"
     ]
    },
    {
     "name": "stderr",
     "output_type": "stream",
     "text": [
      "\rWin1/Win2/Draw: 0/0/262:  26%|██▌       | 262/1000 [00:43<01:55,  6.39it/s]"
     ]
    },
    {
     "name": "stderr",
     "output_type": "stream",
     "text": [
      "\rWin1/Win2/Draw: 0/0/262:  26%|██▋       | 263/1000 [00:43<01:55,  6.40it/s]"
     ]
    },
    {
     "name": "stderr",
     "output_type": "stream",
     "text": [
      "\rWin1/Win2/Draw: 0/0/263:  26%|██▋       | 263/1000 [00:43<01:55,  6.40it/s]"
     ]
    },
    {
     "name": "stderr",
     "output_type": "stream",
     "text": [
      "\rWin1/Win2/Draw: 0/0/263:  26%|██▋       | 264/1000 [00:43<01:55,  6.38it/s]"
     ]
    },
    {
     "name": "stderr",
     "output_type": "stream",
     "text": [
      "\rWin1/Win2/Draw: 0/0/264:  26%|██▋       | 264/1000 [00:43<01:55,  6.38it/s]"
     ]
    },
    {
     "name": "stderr",
     "output_type": "stream",
     "text": [
      "\rWin1/Win2/Draw: 0/0/264:  26%|██▋       | 265/1000 [00:43<01:53,  6.45it/s]"
     ]
    },
    {
     "name": "stderr",
     "output_type": "stream",
     "text": [
      "\rWin1/Win2/Draw: 0/0/265:  26%|██▋       | 265/1000 [00:43<01:53,  6.45it/s]"
     ]
    },
    {
     "name": "stderr",
     "output_type": "stream",
     "text": [
      "\rWin1/Win2/Draw: 0/0/265:  27%|██▋       | 266/1000 [00:43<01:53,  6.45it/s]"
     ]
    },
    {
     "name": "stderr",
     "output_type": "stream",
     "text": [
      "\rWin1/Win2/Draw: 0/0/266:  27%|██▋       | 266/1000 [00:43<01:53,  6.45it/s]"
     ]
    },
    {
     "name": "stderr",
     "output_type": "stream",
     "text": [
      "\rWin1/Win2/Draw: 0/0/266:  27%|██▋       | 267/1000 [00:43<01:52,  6.51it/s]"
     ]
    },
    {
     "name": "stderr",
     "output_type": "stream",
     "text": [
      "\rWin1/Win2/Draw: 0/0/267:  27%|██▋       | 267/1000 [00:43<01:52,  6.51it/s]"
     ]
    },
    {
     "name": "stderr",
     "output_type": "stream",
     "text": [
      "\rWin1/Win2/Draw: 0/0/267:  27%|██▋       | 268/1000 [00:43<01:53,  6.47it/s]"
     ]
    },
    {
     "name": "stderr",
     "output_type": "stream",
     "text": [
      "\rWin1/Win2/Draw: 0/0/268:  27%|██▋       | 268/1000 [00:43<01:53,  6.47it/s]"
     ]
    },
    {
     "name": "stderr",
     "output_type": "stream",
     "text": [
      "\rWin1/Win2/Draw: 0/0/268:  27%|██▋       | 269/1000 [00:44<01:59,  6.12it/s]"
     ]
    },
    {
     "name": "stderr",
     "output_type": "stream",
     "text": [
      "\rWin1/Win2/Draw: 0/0/269:  27%|██▋       | 269/1000 [00:44<01:59,  6.12it/s]"
     ]
    },
    {
     "name": "stderr",
     "output_type": "stream",
     "text": [
      "\rWin1/Win2/Draw: 0/0/269:  27%|██▋       | 270/1000 [00:44<02:06,  5.79it/s]"
     ]
    },
    {
     "name": "stderr",
     "output_type": "stream",
     "text": [
      "\rWin1/Win2/Draw: 0/0/270:  27%|██▋       | 270/1000 [00:44<02:06,  5.79it/s]"
     ]
    },
    {
     "name": "stderr",
     "output_type": "stream",
     "text": [
      "\rWin1/Win2/Draw: 0/0/270:  27%|██▋       | 271/1000 [00:44<02:25,  5.00it/s]"
     ]
    },
    {
     "name": "stderr",
     "output_type": "stream",
     "text": [
      "\rWin1/Win2/Draw: 0/0/271:  27%|██▋       | 271/1000 [00:44<02:25,  5.00it/s]"
     ]
    },
    {
     "name": "stderr",
     "output_type": "stream",
     "text": [
      "\rWin1/Win2/Draw: 0/0/271:  27%|██▋       | 272/1000 [00:44<02:17,  5.31it/s]"
     ]
    },
    {
     "name": "stderr",
     "output_type": "stream",
     "text": [
      "\rWin1/Win2/Draw: 0/0/272:  27%|██▋       | 272/1000 [00:44<02:17,  5.31it/s]"
     ]
    },
    {
     "name": "stderr",
     "output_type": "stream",
     "text": [
      "\rWin1/Win2/Draw: 0/0/272:  27%|██▋       | 273/1000 [00:44<02:11,  5.53it/s]"
     ]
    },
    {
     "name": "stderr",
     "output_type": "stream",
     "text": [
      "\rWin1/Win2/Draw: 0/0/273:  27%|██▋       | 273/1000 [00:44<02:11,  5.53it/s]"
     ]
    },
    {
     "name": "stderr",
     "output_type": "stream",
     "text": [
      "\rWin1/Win2/Draw: 0/0/273:  27%|██▋       | 274/1000 [00:45<02:07,  5.67it/s]"
     ]
    },
    {
     "name": "stderr",
     "output_type": "stream",
     "text": [
      "\rWin1/Win2/Draw: 0/0/274:  27%|██▋       | 274/1000 [00:45<02:07,  5.67it/s]"
     ]
    },
    {
     "name": "stderr",
     "output_type": "stream",
     "text": [
      "\rWin1/Win2/Draw: 0/0/274:  28%|██▊       | 275/1000 [00:45<02:04,  5.81it/s]"
     ]
    },
    {
     "name": "stderr",
     "output_type": "stream",
     "text": [
      "\rWin1/Win2/Draw: 0/0/275:  28%|██▊       | 275/1000 [00:45<02:04,  5.81it/s]"
     ]
    },
    {
     "name": "stderr",
     "output_type": "stream",
     "text": [
      "\rWin1/Win2/Draw: 0/0/275:  28%|██▊       | 276/1000 [00:45<02:01,  5.94it/s]"
     ]
    },
    {
     "name": "stderr",
     "output_type": "stream",
     "text": [
      "\rWin1/Win2/Draw: 0/0/276:  28%|██▊       | 276/1000 [00:45<02:01,  5.94it/s]"
     ]
    },
    {
     "name": "stderr",
     "output_type": "stream",
     "text": [
      "\rWin1/Win2/Draw: 0/0/276:  28%|██▊       | 277/1000 [00:45<02:01,  5.97it/s]"
     ]
    },
    {
     "name": "stderr",
     "output_type": "stream",
     "text": [
      "\rWin1/Win2/Draw: 0/0/277:  28%|██▊       | 277/1000 [00:45<02:01,  5.97it/s]"
     ]
    },
    {
     "name": "stderr",
     "output_type": "stream",
     "text": [
      "\rWin1/Win2/Draw: 0/0/277:  28%|██▊       | 278/1000 [00:45<01:57,  6.14it/s]"
     ]
    },
    {
     "name": "stderr",
     "output_type": "stream",
     "text": [
      "\rWin1/Win2/Draw: 0/0/278:  28%|██▊       | 278/1000 [00:45<01:57,  6.14it/s]"
     ]
    },
    {
     "name": "stderr",
     "output_type": "stream",
     "text": [
      "\rWin1/Win2/Draw: 0/0/278:  28%|██▊       | 279/1000 [00:45<01:57,  6.13it/s]"
     ]
    },
    {
     "name": "stderr",
     "output_type": "stream",
     "text": [
      "\rWin1/Win2/Draw: 0/0/279:  28%|██▊       | 279/1000 [00:45<01:57,  6.13it/s]"
     ]
    },
    {
     "name": "stderr",
     "output_type": "stream",
     "text": [
      "\rWin1/Win2/Draw: 0/0/279:  28%|██▊       | 280/1000 [00:46<02:00,  5.96it/s]"
     ]
    },
    {
     "name": "stderr",
     "output_type": "stream",
     "text": [
      "\rWin1/Win2/Draw: 0/0/280:  28%|██▊       | 280/1000 [00:46<02:00,  5.96it/s]"
     ]
    },
    {
     "name": "stderr",
     "output_type": "stream",
     "text": [
      "\rWin1/Win2/Draw: 0/0/280:  28%|██▊       | 281/1000 [00:46<01:56,  6.16it/s]"
     ]
    },
    {
     "name": "stderr",
     "output_type": "stream",
     "text": [
      "\rWin1/Win2/Draw: 0/0/281:  28%|██▊       | 281/1000 [00:46<01:56,  6.16it/s]"
     ]
    },
    {
     "name": "stderr",
     "output_type": "stream",
     "text": [
      "\rWin1/Win2/Draw: 0/0/281:  28%|██▊       | 282/1000 [00:46<01:54,  6.28it/s]"
     ]
    },
    {
     "name": "stderr",
     "output_type": "stream",
     "text": [
      "\rWin1/Win2/Draw: 0/0/282:  28%|██▊       | 282/1000 [00:46<01:54,  6.28it/s]"
     ]
    },
    {
     "name": "stderr",
     "output_type": "stream",
     "text": [
      "\rWin1/Win2/Draw: 0/0/282:  28%|██▊       | 283/1000 [00:46<01:53,  6.30it/s]"
     ]
    },
    {
     "name": "stderr",
     "output_type": "stream",
     "text": [
      "\rWin1/Win2/Draw: 0/0/283:  28%|██▊       | 283/1000 [00:46<01:53,  6.30it/s]"
     ]
    },
    {
     "name": "stderr",
     "output_type": "stream",
     "text": [
      "\rWin1/Win2/Draw: 0/0/283:  28%|██▊       | 284/1000 [00:46<01:53,  6.31it/s]"
     ]
    },
    {
     "name": "stderr",
     "output_type": "stream",
     "text": [
      "\rWin1/Win2/Draw: 0/0/284:  28%|██▊       | 284/1000 [00:46<01:53,  6.31it/s]"
     ]
    },
    {
     "name": "stderr",
     "output_type": "stream",
     "text": [
      "\rWin1/Win2/Draw: 0/0/284:  28%|██▊       | 285/1000 [00:46<01:51,  6.42it/s]"
     ]
    },
    {
     "name": "stderr",
     "output_type": "stream",
     "text": [
      "\rWin1/Win2/Draw: 0/0/285:  28%|██▊       | 285/1000 [00:46<01:51,  6.42it/s]"
     ]
    },
    {
     "name": "stderr",
     "output_type": "stream",
     "text": [
      "\rWin1/Win2/Draw: 0/0/285:  29%|██▊       | 286/1000 [00:46<01:50,  6.48it/s]"
     ]
    },
    {
     "name": "stderr",
     "output_type": "stream",
     "text": [
      "\rWin1/Win2/Draw: 0/0/286:  29%|██▊       | 286/1000 [00:46<01:50,  6.48it/s]"
     ]
    },
    {
     "name": "stderr",
     "output_type": "stream",
     "text": [
      "\rWin1/Win2/Draw: 0/0/286:  29%|██▊       | 287/1000 [00:47<01:51,  6.37it/s]"
     ]
    },
    {
     "name": "stderr",
     "output_type": "stream",
     "text": [
      "\rWin1/Win2/Draw: 0/0/287:  29%|██▊       | 287/1000 [00:47<01:51,  6.37it/s]"
     ]
    },
    {
     "name": "stderr",
     "output_type": "stream",
     "text": [
      "\rWin1/Win2/Draw: 0/0/287:  29%|██▉       | 288/1000 [00:47<01:52,  6.34it/s]"
     ]
    },
    {
     "name": "stderr",
     "output_type": "stream",
     "text": [
      "\rWin1/Win2/Draw: 0/0/288:  29%|██▉       | 288/1000 [00:47<01:52,  6.34it/s]"
     ]
    },
    {
     "name": "stderr",
     "output_type": "stream",
     "text": [
      "\rWin1/Win2/Draw: 0/0/288:  29%|██▉       | 289/1000 [00:47<01:55,  6.14it/s]"
     ]
    },
    {
     "name": "stderr",
     "output_type": "stream",
     "text": [
      "\rWin1/Win2/Draw: 0/0/289:  29%|██▉       | 289/1000 [00:47<01:55,  6.14it/s]"
     ]
    },
    {
     "name": "stderr",
     "output_type": "stream",
     "text": [
      "\rWin1/Win2/Draw: 0/0/289:  29%|██▉       | 290/1000 [00:47<01:53,  6.28it/s]"
     ]
    },
    {
     "name": "stderr",
     "output_type": "stream",
     "text": [
      "\rWin1/Win2/Draw: 0/0/290:  29%|██▉       | 290/1000 [00:47<01:53,  6.28it/s]"
     ]
    },
    {
     "name": "stderr",
     "output_type": "stream",
     "text": [
      "\rWin1/Win2/Draw: 0/0/290:  29%|██▉       | 291/1000 [00:47<01:51,  6.36it/s]"
     ]
    },
    {
     "name": "stderr",
     "output_type": "stream",
     "text": [
      "\rWin1/Win2/Draw: 0/0/291:  29%|██▉       | 291/1000 [00:47<01:51,  6.36it/s]"
     ]
    },
    {
     "name": "stderr",
     "output_type": "stream",
     "text": [
      "\rWin1/Win2/Draw: 0/0/291:  29%|██▉       | 292/1000 [00:47<01:50,  6.41it/s]"
     ]
    },
    {
     "name": "stderr",
     "output_type": "stream",
     "text": [
      "\rWin1/Win2/Draw: 0/0/292:  29%|██▉       | 292/1000 [00:47<01:50,  6.41it/s]"
     ]
    },
    {
     "name": "stderr",
     "output_type": "stream",
     "text": [
      "\rWin1/Win2/Draw: 0/0/292:  29%|██▉       | 293/1000 [00:48<01:49,  6.48it/s]"
     ]
    },
    {
     "name": "stderr",
     "output_type": "stream",
     "text": [
      "\rWin1/Win2/Draw: 0/0/293:  29%|██▉       | 293/1000 [00:48<01:49,  6.48it/s]"
     ]
    },
    {
     "name": "stderr",
     "output_type": "stream",
     "text": [
      "\rWin1/Win2/Draw: 0/0/293:  29%|██▉       | 294/1000 [00:48<01:48,  6.52it/s]"
     ]
    },
    {
     "name": "stderr",
     "output_type": "stream",
     "text": [
      "\rWin1/Win2/Draw: 0/0/294:  29%|██▉       | 294/1000 [00:48<01:48,  6.52it/s]"
     ]
    },
    {
     "name": "stderr",
     "output_type": "stream",
     "text": [
      "\rWin1/Win2/Draw: 0/0/294:  30%|██▉       | 295/1000 [00:48<01:47,  6.57it/s]"
     ]
    },
    {
     "name": "stderr",
     "output_type": "stream",
     "text": [
      "\rWin1/Win2/Draw: 0/0/295:  30%|██▉       | 295/1000 [00:48<01:47,  6.57it/s]"
     ]
    },
    {
     "name": "stderr",
     "output_type": "stream",
     "text": [
      "\rWin1/Win2/Draw: 0/0/295:  30%|██▉       | 296/1000 [00:48<01:47,  6.57it/s]"
     ]
    },
    {
     "name": "stderr",
     "output_type": "stream",
     "text": [
      "\rWin1/Win2/Draw: 0/0/296:  30%|██▉       | 296/1000 [00:48<01:47,  6.57it/s]"
     ]
    },
    {
     "name": "stderr",
     "output_type": "stream",
     "text": [
      "\rWin1/Win2/Draw: 0/0/296:  30%|██▉       | 297/1000 [00:48<01:46,  6.60it/s]"
     ]
    },
    {
     "name": "stderr",
     "output_type": "stream",
     "text": [
      "\rWin1/Win2/Draw: 0/0/297:  30%|██▉       | 297/1000 [00:48<01:46,  6.60it/s]"
     ]
    },
    {
     "name": "stderr",
     "output_type": "stream",
     "text": [
      "\rWin1/Win2/Draw: 0/0/297:  30%|██▉       | 298/1000 [00:48<01:46,  6.61it/s]"
     ]
    },
    {
     "name": "stderr",
     "output_type": "stream",
     "text": [
      "\rWin1/Win2/Draw: 0/0/298:  30%|██▉       | 298/1000 [00:48<01:46,  6.61it/s]"
     ]
    },
    {
     "name": "stderr",
     "output_type": "stream",
     "text": [
      "\rWin1/Win2/Draw: 0/0/298:  30%|██▉       | 299/1000 [00:49<01:50,  6.32it/s]"
     ]
    },
    {
     "name": "stderr",
     "output_type": "stream",
     "text": [
      "\rWin1/Win2/Draw: 0/0/299:  30%|██▉       | 299/1000 [00:49<01:50,  6.32it/s]"
     ]
    },
    {
     "name": "stderr",
     "output_type": "stream",
     "text": [
      "\rWin1/Win2/Draw: 0/0/299:  30%|███       | 300/1000 [00:49<01:48,  6.43it/s]"
     ]
    },
    {
     "name": "stderr",
     "output_type": "stream",
     "text": [
      "\rWin1/Win2/Draw: 0/0/300:  30%|███       | 300/1000 [00:49<01:48,  6.43it/s]"
     ]
    },
    {
     "name": "stderr",
     "output_type": "stream",
     "text": [
      "\rWin1/Win2/Draw: 0/0/300:  30%|███       | 301/1000 [00:49<01:48,  6.47it/s]"
     ]
    },
    {
     "name": "stderr",
     "output_type": "stream",
     "text": [
      "\rWin1/Win2/Draw: 0/0/301:  30%|███       | 301/1000 [00:49<01:48,  6.47it/s]"
     ]
    },
    {
     "name": "stderr",
     "output_type": "stream",
     "text": [
      "\rWin1/Win2/Draw: 0/0/301:  30%|███       | 302/1000 [00:49<01:47,  6.52it/s]"
     ]
    },
    {
     "name": "stderr",
     "output_type": "stream",
     "text": [
      "\rWin1/Win2/Draw: 0/0/302:  30%|███       | 302/1000 [00:49<01:47,  6.52it/s]"
     ]
    },
    {
     "name": "stderr",
     "output_type": "stream",
     "text": [
      "\rWin1/Win2/Draw: 0/0/302:  30%|███       | 303/1000 [00:49<01:45,  6.58it/s]"
     ]
    },
    {
     "name": "stderr",
     "output_type": "stream",
     "text": [
      "\rWin1/Win2/Draw: 0/0/303:  30%|███       | 303/1000 [00:49<01:45,  6.58it/s]"
     ]
    },
    {
     "name": "stderr",
     "output_type": "stream",
     "text": [
      "\rWin1/Win2/Draw: 0/0/303:  30%|███       | 304/1000 [00:49<01:45,  6.62it/s]"
     ]
    },
    {
     "name": "stderr",
     "output_type": "stream",
     "text": [
      "\rWin1/Win2/Draw: 0/0/304:  30%|███       | 304/1000 [00:49<01:45,  6.62it/s]"
     ]
    },
    {
     "name": "stderr",
     "output_type": "stream",
     "text": [
      "\rWin1/Win2/Draw: 0/0/304:  30%|███       | 305/1000 [00:49<01:44,  6.62it/s]"
     ]
    },
    {
     "name": "stderr",
     "output_type": "stream",
     "text": [
      "\rWin1/Win2/Draw: 0/0/305:  30%|███       | 305/1000 [00:49<01:44,  6.62it/s]"
     ]
    },
    {
     "name": "stderr",
     "output_type": "stream",
     "text": [
      "\rWin1/Win2/Draw: 0/0/305:  31%|███       | 306/1000 [00:50<01:44,  6.63it/s]"
     ]
    },
    {
     "name": "stderr",
     "output_type": "stream",
     "text": [
      "\rWin1/Win2/Draw: 0/0/306:  31%|███       | 306/1000 [00:50<01:44,  6.63it/s]"
     ]
    },
    {
     "name": "stderr",
     "output_type": "stream",
     "text": [
      "\rWin1/Win2/Draw: 0/0/306:  31%|███       | 307/1000 [00:50<01:44,  6.64it/s]"
     ]
    },
    {
     "name": "stderr",
     "output_type": "stream",
     "text": [
      "\rWin1/Win2/Draw: 0/0/307:  31%|███       | 307/1000 [00:50<01:44,  6.64it/s]"
     ]
    },
    {
     "name": "stderr",
     "output_type": "stream",
     "text": [
      "\rWin1/Win2/Draw: 0/0/307:  31%|███       | 308/1000 [00:50<01:43,  6.66it/s]"
     ]
    },
    {
     "name": "stderr",
     "output_type": "stream",
     "text": [
      "\rWin1/Win2/Draw: 0/0/308:  31%|███       | 308/1000 [00:50<01:43,  6.66it/s]"
     ]
    },
    {
     "name": "stderr",
     "output_type": "stream",
     "text": [
      "\rWin1/Win2/Draw: 0/0/308:  31%|███       | 309/1000 [00:50<01:43,  6.67it/s]"
     ]
    },
    {
     "name": "stderr",
     "output_type": "stream",
     "text": [
      "\rWin1/Win2/Draw: 0/0/309:  31%|███       | 309/1000 [00:50<01:43,  6.67it/s]"
     ]
    },
    {
     "name": "stderr",
     "output_type": "stream",
     "text": [
      "\rWin1/Win2/Draw: 0/0/309:  31%|███       | 310/1000 [00:50<01:49,  6.30it/s]"
     ]
    },
    {
     "name": "stderr",
     "output_type": "stream",
     "text": [
      "\rWin1/Win2/Draw: 0/0/310:  31%|███       | 310/1000 [00:50<01:49,  6.30it/s]"
     ]
    },
    {
     "name": "stderr",
     "output_type": "stream",
     "text": [
      "\rWin1/Win2/Draw: 0/0/310:  31%|███       | 311/1000 [00:50<01:47,  6.40it/s]"
     ]
    },
    {
     "name": "stderr",
     "output_type": "stream",
     "text": [
      "\rWin1/Win2/Draw: 0/0/311:  31%|███       | 311/1000 [00:50<01:47,  6.40it/s]"
     ]
    },
    {
     "name": "stderr",
     "output_type": "stream",
     "text": [
      "\rWin1/Win2/Draw: 0/0/311:  31%|███       | 312/1000 [00:50<01:46,  6.44it/s]"
     ]
    },
    {
     "name": "stderr",
     "output_type": "stream",
     "text": [
      "\rWin1/Win2/Draw: 0/0/312:  31%|███       | 312/1000 [00:50<01:46,  6.44it/s]"
     ]
    },
    {
     "name": "stderr",
     "output_type": "stream",
     "text": [
      "\rWin1/Win2/Draw: 0/0/312:  31%|███▏      | 313/1000 [00:51<01:45,  6.51it/s]"
     ]
    },
    {
     "name": "stderr",
     "output_type": "stream",
     "text": [
      "\rWin1/Win2/Draw: 0/0/313:  31%|███▏      | 313/1000 [00:51<01:45,  6.51it/s]"
     ]
    },
    {
     "name": "stderr",
     "output_type": "stream",
     "text": [
      "\rWin1/Win2/Draw: 0/0/313:  31%|███▏      | 314/1000 [00:51<01:45,  6.53it/s]"
     ]
    },
    {
     "name": "stderr",
     "output_type": "stream",
     "text": [
      "\rWin1/Win2/Draw: 0/0/314:  31%|███▏      | 314/1000 [00:51<01:45,  6.53it/s]"
     ]
    },
    {
     "name": "stderr",
     "output_type": "stream",
     "text": [
      "\rWin1/Win2/Draw: 0/0/314:  32%|███▏      | 315/1000 [00:51<01:43,  6.63it/s]"
     ]
    },
    {
     "name": "stderr",
     "output_type": "stream",
     "text": [
      "\rWin1/Win2/Draw: 0/0/315:  32%|███▏      | 315/1000 [00:51<01:43,  6.63it/s]"
     ]
    },
    {
     "name": "stderr",
     "output_type": "stream",
     "text": [
      "\rWin1/Win2/Draw: 0/0/315:  32%|███▏      | 316/1000 [00:51<01:42,  6.66it/s]"
     ]
    },
    {
     "name": "stderr",
     "output_type": "stream",
     "text": [
      "\rWin1/Win2/Draw: 0/0/316:  32%|███▏      | 316/1000 [00:51<01:42,  6.66it/s]"
     ]
    },
    {
     "name": "stderr",
     "output_type": "stream",
     "text": [
      "\rWin1/Win2/Draw: 0/0/316:  32%|███▏      | 317/1000 [00:51<01:41,  6.71it/s]"
     ]
    },
    {
     "name": "stderr",
     "output_type": "stream",
     "text": [
      "\rWin1/Win2/Draw: 0/0/317:  32%|███▏      | 317/1000 [00:51<01:41,  6.71it/s]"
     ]
    },
    {
     "name": "stderr",
     "output_type": "stream",
     "text": [
      "\rWin1/Win2/Draw: 0/0/317:  32%|███▏      | 318/1000 [00:51<01:41,  6.73it/s]"
     ]
    },
    {
     "name": "stderr",
     "output_type": "stream",
     "text": [
      "\rWin1/Win2/Draw: 0/0/318:  32%|███▏      | 318/1000 [00:51<01:41,  6.73it/s]"
     ]
    },
    {
     "name": "stderr",
     "output_type": "stream",
     "text": [
      "\rWin1/Win2/Draw: 0/0/318:  32%|███▏      | 319/1000 [00:52<01:47,  6.35it/s]"
     ]
    },
    {
     "name": "stderr",
     "output_type": "stream",
     "text": [
      "\rWin1/Win2/Draw: 0/0/319:  32%|███▏      | 319/1000 [00:52<01:47,  6.35it/s]"
     ]
    },
    {
     "name": "stderr",
     "output_type": "stream",
     "text": [
      "\rWin1/Win2/Draw: 0/0/319:  32%|███▏      | 320/1000 [00:52<01:46,  6.41it/s]"
     ]
    },
    {
     "name": "stderr",
     "output_type": "stream",
     "text": [
      "\rWin1/Win2/Draw: 0/0/320:  32%|███▏      | 320/1000 [00:52<01:46,  6.41it/s]"
     ]
    },
    {
     "name": "stderr",
     "output_type": "stream",
     "text": [
      "\rWin1/Win2/Draw: 0/0/320:  32%|███▏      | 321/1000 [00:52<01:44,  6.51it/s]"
     ]
    },
    {
     "name": "stderr",
     "output_type": "stream",
     "text": [
      "\rWin1/Win2/Draw: 0/0/321:  32%|███▏      | 321/1000 [00:52<01:44,  6.51it/s]"
     ]
    },
    {
     "name": "stderr",
     "output_type": "stream",
     "text": [
      "\rWin1/Win2/Draw: 0/0/321:  32%|███▏      | 322/1000 [00:52<01:43,  6.58it/s]"
     ]
    },
    {
     "name": "stderr",
     "output_type": "stream",
     "text": [
      "\rWin1/Win2/Draw: 0/0/322:  32%|███▏      | 322/1000 [00:52<01:43,  6.58it/s]"
     ]
    },
    {
     "name": "stderr",
     "output_type": "stream",
     "text": [
      "\rWin1/Win2/Draw: 0/0/322:  32%|███▏      | 323/1000 [00:52<01:41,  6.64it/s]"
     ]
    },
    {
     "name": "stderr",
     "output_type": "stream",
     "text": [
      "\rWin1/Win2/Draw: 0/0/323:  32%|███▏      | 323/1000 [00:52<01:41,  6.64it/s]"
     ]
    },
    {
     "name": "stderr",
     "output_type": "stream",
     "text": [
      "\rWin1/Win2/Draw: 0/0/323:  32%|███▏      | 324/1000 [00:52<01:40,  6.70it/s]"
     ]
    },
    {
     "name": "stderr",
     "output_type": "stream",
     "text": [
      "\rWin1/Win2/Draw: 0/0/324:  32%|███▏      | 324/1000 [00:52<01:40,  6.70it/s]"
     ]
    },
    {
     "name": "stderr",
     "output_type": "stream",
     "text": [
      "\rWin1/Win2/Draw: 0/0/324:  32%|███▎      | 325/1000 [00:52<01:41,  6.68it/s]"
     ]
    },
    {
     "name": "stderr",
     "output_type": "stream",
     "text": [
      "\rWin1/Win2/Draw: 0/0/325:  32%|███▎      | 325/1000 [00:52<01:41,  6.68it/s]"
     ]
    },
    {
     "name": "stderr",
     "output_type": "stream",
     "text": [
      "\rWin1/Win2/Draw: 0/0/325:  33%|███▎      | 326/1000 [00:53<01:40,  6.72it/s]"
     ]
    },
    {
     "name": "stderr",
     "output_type": "stream",
     "text": [
      "\rWin1/Win2/Draw: 0/0/326:  33%|███▎      | 326/1000 [00:53<01:40,  6.72it/s]"
     ]
    },
    {
     "name": "stderr",
     "output_type": "stream",
     "text": [
      "\rWin1/Win2/Draw: 0/0/326:  33%|███▎      | 327/1000 [00:53<01:39,  6.75it/s]"
     ]
    },
    {
     "name": "stderr",
     "output_type": "stream",
     "text": [
      "\rWin1/Win2/Draw: 0/0/327:  33%|███▎      | 327/1000 [00:53<01:39,  6.75it/s]"
     ]
    },
    {
     "name": "stderr",
     "output_type": "stream",
     "text": [
      "\rWin1/Win2/Draw: 0/0/327:  33%|███▎      | 328/1000 [00:53<01:39,  6.77it/s]"
     ]
    },
    {
     "name": "stderr",
     "output_type": "stream",
     "text": [
      "\rWin1/Win2/Draw: 0/0/328:  33%|███▎      | 328/1000 [00:53<01:39,  6.77it/s]"
     ]
    },
    {
     "name": "stderr",
     "output_type": "stream",
     "text": [
      "\rWin1/Win2/Draw: 0/0/328:  33%|███▎      | 329/1000 [00:53<01:39,  6.75it/s]"
     ]
    },
    {
     "name": "stderr",
     "output_type": "stream",
     "text": [
      "\rWin1/Win2/Draw: 0/0/329:  33%|███▎      | 329/1000 [00:53<01:39,  6.75it/s]"
     ]
    },
    {
     "name": "stderr",
     "output_type": "stream",
     "text": [
      "\rWin1/Win2/Draw: 0/0/329:  33%|███▎      | 330/1000 [00:53<01:44,  6.42it/s]"
     ]
    },
    {
     "name": "stderr",
     "output_type": "stream",
     "text": [
      "\rWin1/Win2/Draw: 0/0/330:  33%|███▎      | 330/1000 [00:53<01:44,  6.42it/s]"
     ]
    },
    {
     "name": "stderr",
     "output_type": "stream",
     "text": [
      "\rWin1/Win2/Draw: 0/0/330:  33%|███▎      | 331/1000 [00:53<01:42,  6.51it/s]"
     ]
    },
    {
     "name": "stderr",
     "output_type": "stream",
     "text": [
      "\rWin1/Win2/Draw: 0/0/331:  33%|███▎      | 331/1000 [00:53<01:42,  6.51it/s]"
     ]
    },
    {
     "name": "stderr",
     "output_type": "stream",
     "text": [
      "\rWin1/Win2/Draw: 0/0/331:  33%|███▎      | 332/1000 [00:54<01:41,  6.58it/s]"
     ]
    },
    {
     "name": "stderr",
     "output_type": "stream",
     "text": [
      "\rWin1/Win2/Draw: 0/0/332:  33%|███▎      | 332/1000 [00:54<01:41,  6.58it/s]"
     ]
    },
    {
     "name": "stderr",
     "output_type": "stream",
     "text": [
      "\rWin1/Win2/Draw: 0/0/332:  33%|███▎      | 333/1000 [00:54<01:40,  6.64it/s]"
     ]
    },
    {
     "name": "stderr",
     "output_type": "stream",
     "text": [
      "\rWin1/Win2/Draw: 0/0/333:  33%|███▎      | 333/1000 [00:54<01:40,  6.64it/s]"
     ]
    },
    {
     "name": "stderr",
     "output_type": "stream",
     "text": [
      "\rWin1/Win2/Draw: 0/0/333:  33%|███▎      | 334/1000 [00:54<01:40,  6.65it/s]"
     ]
    },
    {
     "name": "stderr",
     "output_type": "stream",
     "text": [
      "\rWin1/Win2/Draw: 0/0/334:  33%|███▎      | 334/1000 [00:54<01:40,  6.65it/s]"
     ]
    },
    {
     "name": "stderr",
     "output_type": "stream",
     "text": [
      "\rWin1/Win2/Draw: 0/0/334:  34%|███▎      | 335/1000 [00:54<01:40,  6.63it/s]"
     ]
    },
    {
     "name": "stderr",
     "output_type": "stream",
     "text": [
      "\rWin1/Win2/Draw: 0/0/335:  34%|███▎      | 335/1000 [00:54<01:40,  6.63it/s]"
     ]
    },
    {
     "name": "stderr",
     "output_type": "stream",
     "text": [
      "\rWin1/Win2/Draw: 0/0/335:  34%|███▎      | 336/1000 [00:54<01:39,  6.68it/s]"
     ]
    },
    {
     "name": "stderr",
     "output_type": "stream",
     "text": [
      "\rWin1/Win2/Draw: 0/0/336:  34%|███▎      | 336/1000 [00:54<01:39,  6.68it/s]"
     ]
    },
    {
     "name": "stderr",
     "output_type": "stream",
     "text": [
      "\rWin1/Win2/Draw: 0/0/336:  34%|███▎      | 337/1000 [00:54<01:38,  6.70it/s]"
     ]
    },
    {
     "name": "stderr",
     "output_type": "stream",
     "text": [
      "\rWin1/Win2/Draw: 0/0/337:  34%|███▎      | 337/1000 [00:54<01:38,  6.70it/s]"
     ]
    },
    {
     "name": "stderr",
     "output_type": "stream",
     "text": [
      "\rWin1/Win2/Draw: 0/0/337:  34%|███▍      | 338/1000 [00:54<01:39,  6.65it/s]"
     ]
    },
    {
     "name": "stderr",
     "output_type": "stream",
     "text": [
      "\rWin1/Win2/Draw: 0/0/338:  34%|███▍      | 338/1000 [00:54<01:39,  6.65it/s]"
     ]
    },
    {
     "name": "stderr",
     "output_type": "stream",
     "text": [
      "\rWin1/Win2/Draw: 0/0/338:  34%|███▍      | 339/1000 [00:55<01:38,  6.69it/s]"
     ]
    },
    {
     "name": "stderr",
     "output_type": "stream",
     "text": [
      "\rWin1/Win2/Draw: 0/0/339:  34%|███▍      | 339/1000 [00:55<01:38,  6.69it/s]"
     ]
    },
    {
     "name": "stderr",
     "output_type": "stream",
     "text": [
      "\rWin1/Win2/Draw: 0/0/339:  34%|███▍      | 340/1000 [00:55<01:42,  6.41it/s]"
     ]
    },
    {
     "name": "stderr",
     "output_type": "stream",
     "text": [
      "\rWin1/Win2/Draw: 0/0/340:  34%|███▍      | 340/1000 [00:55<01:42,  6.41it/s]"
     ]
    },
    {
     "name": "stderr",
     "output_type": "stream",
     "text": [
      "\rWin1/Win2/Draw: 0/0/340:  34%|███▍      | 341/1000 [00:55<01:41,  6.52it/s]"
     ]
    },
    {
     "name": "stderr",
     "output_type": "stream",
     "text": [
      "\rWin1/Win2/Draw: 0/0/341:  34%|███▍      | 341/1000 [00:55<01:41,  6.52it/s]"
     ]
    },
    {
     "name": "stderr",
     "output_type": "stream",
     "text": [
      "\rWin1/Win2/Draw: 0/0/341:  34%|███▍      | 342/1000 [00:55<01:40,  6.52it/s]"
     ]
    },
    {
     "name": "stderr",
     "output_type": "stream",
     "text": [
      "\rWin1/Win2/Draw: 0/0/342:  34%|███▍      | 342/1000 [00:55<01:40,  6.52it/s]"
     ]
    },
    {
     "name": "stderr",
     "output_type": "stream",
     "text": [
      "\rWin1/Win2/Draw: 0/0/342:  34%|███▍      | 343/1000 [00:55<01:39,  6.58it/s]"
     ]
    },
    {
     "name": "stderr",
     "output_type": "stream",
     "text": [
      "\rWin1/Win2/Draw: 0/0/343:  34%|███▍      | 343/1000 [00:55<01:39,  6.58it/s]"
     ]
    },
    {
     "name": "stderr",
     "output_type": "stream",
     "text": [
      "\rWin1/Win2/Draw: 0/0/343:  34%|███▍      | 344/1000 [00:55<01:38,  6.65it/s]"
     ]
    },
    {
     "name": "stderr",
     "output_type": "stream",
     "text": [
      "\rWin1/Win2/Draw: 0/0/344:  34%|███▍      | 344/1000 [00:55<01:38,  6.65it/s]"
     ]
    },
    {
     "name": "stderr",
     "output_type": "stream",
     "text": [
      "\rWin1/Win2/Draw: 0/0/344:  34%|███▍      | 345/1000 [00:55<01:37,  6.70it/s]"
     ]
    },
    {
     "name": "stderr",
     "output_type": "stream",
     "text": [
      "\rWin1/Win2/Draw: 0/0/345:  34%|███▍      | 345/1000 [00:55<01:37,  6.70it/s]"
     ]
    },
    {
     "name": "stderr",
     "output_type": "stream",
     "text": [
      "\rWin1/Win2/Draw: 0/0/345:  35%|███▍      | 346/1000 [00:56<01:37,  6.74it/s]"
     ]
    },
    {
     "name": "stderr",
     "output_type": "stream",
     "text": [
      "\rWin1/Win2/Draw: 0/0/346:  35%|███▍      | 346/1000 [00:56<01:37,  6.74it/s]"
     ]
    },
    {
     "name": "stderr",
     "output_type": "stream",
     "text": [
      "\rWin1/Win2/Draw: 0/0/346:  35%|███▍      | 347/1000 [00:56<01:36,  6.75it/s]"
     ]
    },
    {
     "name": "stderr",
     "output_type": "stream",
     "text": [
      "\rWin1/Win2/Draw: 0/0/347:  35%|███▍      | 347/1000 [00:56<01:36,  6.75it/s]"
     ]
    },
    {
     "name": "stderr",
     "output_type": "stream",
     "text": [
      "\rWin1/Win2/Draw: 0/0/347:  35%|███▍      | 348/1000 [00:56<01:36,  6.77it/s]"
     ]
    },
    {
     "name": "stderr",
     "output_type": "stream",
     "text": [
      "\rWin1/Win2/Draw: 0/0/348:  35%|███▍      | 348/1000 [00:56<01:36,  6.77it/s]"
     ]
    },
    {
     "name": "stderr",
     "output_type": "stream",
     "text": [
      "\rWin1/Win2/Draw: 0/0/348:  35%|███▍      | 349/1000 [00:56<01:36,  6.77it/s]"
     ]
    },
    {
     "name": "stderr",
     "output_type": "stream",
     "text": [
      "\rWin1/Win2/Draw: 0/0/349:  35%|███▍      | 349/1000 [00:56<01:36,  6.77it/s]"
     ]
    },
    {
     "name": "stderr",
     "output_type": "stream",
     "text": [
      "\rWin1/Win2/Draw: 0/0/349:  35%|███▌      | 350/1000 [00:56<01:35,  6.79it/s]"
     ]
    },
    {
     "name": "stderr",
     "output_type": "stream",
     "text": [
      "\rWin1/Win2/Draw: 0/0/350:  35%|███▌      | 350/1000 [00:56<01:35,  6.79it/s]"
     ]
    },
    {
     "name": "stderr",
     "output_type": "stream",
     "text": [
      "\rWin1/Win2/Draw: 0/0/350:  35%|███▌      | 351/1000 [00:56<01:40,  6.43it/s]"
     ]
    },
    {
     "name": "stderr",
     "output_type": "stream",
     "text": [
      "\rWin1/Win2/Draw: 0/0/351:  35%|███▌      | 351/1000 [00:56<01:40,  6.43it/s]"
     ]
    },
    {
     "name": "stderr",
     "output_type": "stream",
     "text": [
      "\rWin1/Win2/Draw: 0/0/351:  35%|███▌      | 352/1000 [00:57<01:39,  6.51it/s]"
     ]
    },
    {
     "name": "stderr",
     "output_type": "stream",
     "text": [
      "\rWin1/Win2/Draw: 0/0/352:  35%|███▌      | 352/1000 [00:57<01:39,  6.51it/s]"
     ]
    },
    {
     "name": "stderr",
     "output_type": "stream",
     "text": [
      "\rWin1/Win2/Draw: 0/0/352:  35%|███▌      | 353/1000 [00:57<01:38,  6.59it/s]"
     ]
    },
    {
     "name": "stderr",
     "output_type": "stream",
     "text": [
      "\rWin1/Win2/Draw: 0/0/353:  35%|███▌      | 353/1000 [00:57<01:38,  6.59it/s]"
     ]
    },
    {
     "name": "stderr",
     "output_type": "stream",
     "text": [
      "\rWin1/Win2/Draw: 0/0/353:  35%|███▌      | 354/1000 [00:57<01:37,  6.65it/s]"
     ]
    },
    {
     "name": "stderr",
     "output_type": "stream",
     "text": [
      "\rWin1/Win2/Draw: 0/0/354:  35%|███▌      | 354/1000 [00:57<01:37,  6.65it/s]"
     ]
    },
    {
     "name": "stderr",
     "output_type": "stream",
     "text": [
      "\rWin1/Win2/Draw: 0/0/354:  36%|███▌      | 355/1000 [00:57<01:36,  6.69it/s]"
     ]
    },
    {
     "name": "stderr",
     "output_type": "stream",
     "text": [
      "\rWin1/Win2/Draw: 0/0/355:  36%|███▌      | 355/1000 [00:57<01:36,  6.69it/s]"
     ]
    },
    {
     "name": "stderr",
     "output_type": "stream",
     "text": [
      "\rWin1/Win2/Draw: 0/0/355:  36%|███▌      | 356/1000 [00:57<01:35,  6.73it/s]"
     ]
    },
    {
     "name": "stderr",
     "output_type": "stream",
     "text": [
      "\rWin1/Win2/Draw: 0/0/356:  36%|███▌      | 356/1000 [00:57<01:35,  6.73it/s]"
     ]
    },
    {
     "name": "stderr",
     "output_type": "stream",
     "text": [
      "\rWin1/Win2/Draw: 0/0/356:  36%|███▌      | 357/1000 [00:57<01:35,  6.75it/s]"
     ]
    },
    {
     "name": "stderr",
     "output_type": "stream",
     "text": [
      "\rWin1/Win2/Draw: 0/0/357:  36%|███▌      | 357/1000 [00:57<01:35,  6.75it/s]"
     ]
    },
    {
     "name": "stderr",
     "output_type": "stream",
     "text": [
      "\rWin1/Win2/Draw: 0/0/357:  36%|███▌      | 358/1000 [00:57<01:35,  6.75it/s]"
     ]
    },
    {
     "name": "stderr",
     "output_type": "stream",
     "text": [
      "\rWin1/Win2/Draw: 0/0/358:  36%|███▌      | 358/1000 [00:57<01:35,  6.75it/s]"
     ]
    },
    {
     "name": "stderr",
     "output_type": "stream",
     "text": [
      "\rWin1/Win2/Draw: 0/0/358:  36%|███▌      | 359/1000 [00:58<01:34,  6.78it/s]"
     ]
    },
    {
     "name": "stderr",
     "output_type": "stream",
     "text": [
      "\rWin1/Win2/Draw: 0/0/359:  36%|███▌      | 359/1000 [00:58<01:34,  6.78it/s]"
     ]
    },
    {
     "name": "stderr",
     "output_type": "stream",
     "text": [
      "\rWin1/Win2/Draw: 0/0/359:  36%|███▌      | 360/1000 [00:58<01:34,  6.74it/s]"
     ]
    },
    {
     "name": "stderr",
     "output_type": "stream",
     "text": [
      "\rWin1/Win2/Draw: 0/0/360:  36%|███▌      | 360/1000 [00:58<01:34,  6.74it/s]"
     ]
    },
    {
     "name": "stderr",
     "output_type": "stream",
     "text": [
      "\rWin1/Win2/Draw: 0/0/360:  36%|███▌      | 361/1000 [00:58<01:34,  6.76it/s]"
     ]
    },
    {
     "name": "stderr",
     "output_type": "stream",
     "text": [
      "\rWin1/Win2/Draw: 0/0/361:  36%|███▌      | 361/1000 [00:58<01:34,  6.76it/s]"
     ]
    },
    {
     "name": "stderr",
     "output_type": "stream",
     "text": [
      "\rWin1/Win2/Draw: 0/0/361:  36%|███▌      | 362/1000 [00:58<01:39,  6.40it/s]"
     ]
    },
    {
     "name": "stderr",
     "output_type": "stream",
     "text": [
      "\rWin1/Win2/Draw: 0/0/362:  36%|███▌      | 362/1000 [00:58<01:39,  6.40it/s]"
     ]
    },
    {
     "name": "stderr",
     "output_type": "stream",
     "text": [
      "\rWin1/Win2/Draw: 0/0/362:  36%|███▋      | 363/1000 [00:58<01:37,  6.53it/s]"
     ]
    },
    {
     "name": "stderr",
     "output_type": "stream",
     "text": [
      "\rWin1/Win2/Draw: 0/0/363:  36%|███▋      | 363/1000 [00:58<01:37,  6.53it/s]"
     ]
    },
    {
     "name": "stderr",
     "output_type": "stream",
     "text": [
      "\rWin1/Win2/Draw: 0/0/363:  36%|███▋      | 364/1000 [00:58<01:36,  6.61it/s]"
     ]
    },
    {
     "name": "stderr",
     "output_type": "stream",
     "text": [
      "\rWin1/Win2/Draw: 0/0/364:  36%|███▋      | 364/1000 [00:58<01:36,  6.61it/s]"
     ]
    },
    {
     "name": "stderr",
     "output_type": "stream",
     "text": [
      "\rWin1/Win2/Draw: 0/0/364:  36%|███▋      | 365/1000 [00:58<01:36,  6.59it/s]"
     ]
    },
    {
     "name": "stderr",
     "output_type": "stream",
     "text": [
      "\rWin1/Win2/Draw: 0/0/365:  36%|███▋      | 365/1000 [00:58<01:36,  6.59it/s]"
     ]
    },
    {
     "name": "stderr",
     "output_type": "stream",
     "text": [
      "\rWin1/Win2/Draw: 0/0/365:  37%|███▋      | 366/1000 [00:59<01:35,  6.66it/s]"
     ]
    },
    {
     "name": "stderr",
     "output_type": "stream",
     "text": [
      "\rWin1/Win2/Draw: 0/0/366:  37%|███▋      | 366/1000 [00:59<01:35,  6.66it/s]"
     ]
    },
    {
     "name": "stderr",
     "output_type": "stream",
     "text": [
      "\rWin1/Win2/Draw: 0/0/366:  37%|███▋      | 367/1000 [00:59<01:34,  6.71it/s]"
     ]
    },
    {
     "name": "stderr",
     "output_type": "stream",
     "text": [
      "\rWin1/Win2/Draw: 0/0/367:  37%|███▋      | 367/1000 [00:59<01:34,  6.71it/s]"
     ]
    },
    {
     "name": "stderr",
     "output_type": "stream",
     "text": [
      "\rWin1/Win2/Draw: 0/0/367:  37%|███▋      | 368/1000 [00:59<01:34,  6.71it/s]"
     ]
    },
    {
     "name": "stderr",
     "output_type": "stream",
     "text": [
      "\rWin1/Win2/Draw: 0/0/368:  37%|███▋      | 368/1000 [00:59<01:34,  6.71it/s]"
     ]
    },
    {
     "name": "stderr",
     "output_type": "stream",
     "text": [
      "\rWin1/Win2/Draw: 0/0/368:  37%|███▋      | 369/1000 [00:59<01:33,  6.74it/s]"
     ]
    },
    {
     "name": "stderr",
     "output_type": "stream",
     "text": [
      "\rWin1/Win2/Draw: 0/0/369:  37%|███▋      | 369/1000 [00:59<01:33,  6.74it/s]"
     ]
    },
    {
     "name": "stderr",
     "output_type": "stream",
     "text": [
      "\rWin1/Win2/Draw: 0/0/369:  37%|███▋      | 370/1000 [00:59<01:36,  6.54it/s]"
     ]
    },
    {
     "name": "stderr",
     "output_type": "stream",
     "text": [
      "\rWin1/Win2/Draw: 0/0/370:  37%|███▋      | 370/1000 [00:59<01:36,  6.54it/s]"
     ]
    },
    {
     "name": "stderr",
     "output_type": "stream",
     "text": [
      "\rWin1/Win2/Draw: 0/0/370:  37%|███▋      | 371/1000 [00:59<01:41,  6.22it/s]"
     ]
    },
    {
     "name": "stderr",
     "output_type": "stream",
     "text": [
      "\rWin1/Win2/Draw: 0/0/371:  37%|███▋      | 371/1000 [00:59<01:41,  6.22it/s]"
     ]
    },
    {
     "name": "stderr",
     "output_type": "stream",
     "text": [
      "\rWin1/Win2/Draw: 0/0/371:  37%|███▋      | 372/1000 [01:00<01:39,  6.28it/s]"
     ]
    },
    {
     "name": "stderr",
     "output_type": "stream",
     "text": [
      "\rWin1/Win2/Draw: 0/0/372:  37%|███▋      | 372/1000 [01:00<01:39,  6.28it/s]"
     ]
    },
    {
     "name": "stderr",
     "output_type": "stream",
     "text": [
      "\rWin1/Win2/Draw: 0/0/372:  37%|███▋      | 373/1000 [01:00<01:39,  6.33it/s]"
     ]
    },
    {
     "name": "stderr",
     "output_type": "stream",
     "text": [
      "\rWin1/Win2/Draw: 0/0/373:  37%|███▋      | 373/1000 [01:00<01:39,  6.33it/s]"
     ]
    },
    {
     "name": "stderr",
     "output_type": "stream",
     "text": [
      "\rWin1/Win2/Draw: 0/0/373:  37%|███▋      | 374/1000 [01:00<01:37,  6.42it/s]"
     ]
    },
    {
     "name": "stderr",
     "output_type": "stream",
     "text": [
      "\rWin1/Win2/Draw: 0/0/374:  37%|███▋      | 374/1000 [01:00<01:37,  6.42it/s]"
     ]
    },
    {
     "name": "stderr",
     "output_type": "stream",
     "text": [
      "\rWin1/Win2/Draw: 0/0/374:  38%|███▊      | 375/1000 [01:00<01:37,  6.44it/s]"
     ]
    },
    {
     "name": "stderr",
     "output_type": "stream",
     "text": [
      "\rWin1/Win2/Draw: 0/0/375:  38%|███▊      | 375/1000 [01:00<01:37,  6.44it/s]"
     ]
    },
    {
     "name": "stderr",
     "output_type": "stream",
     "text": [
      "\rWin1/Win2/Draw: 0/0/375:  38%|███▊      | 376/1000 [01:00<01:35,  6.53it/s]"
     ]
    },
    {
     "name": "stderr",
     "output_type": "stream",
     "text": [
      "\rWin1/Win2/Draw: 0/0/376:  38%|███▊      | 376/1000 [01:00<01:35,  6.53it/s]"
     ]
    },
    {
     "name": "stderr",
     "output_type": "stream",
     "text": [
      "\rWin1/Win2/Draw: 0/0/376:  38%|███▊      | 377/1000 [01:00<01:34,  6.57it/s]"
     ]
    },
    {
     "name": "stderr",
     "output_type": "stream",
     "text": [
      "\rWin1/Win2/Draw: 0/0/377:  38%|███▊      | 377/1000 [01:00<01:34,  6.57it/s]"
     ]
    },
    {
     "name": "stderr",
     "output_type": "stream",
     "text": [
      "\rWin1/Win2/Draw: 0/0/377:  38%|███▊      | 378/1000 [01:00<01:35,  6.50it/s]"
     ]
    },
    {
     "name": "stderr",
     "output_type": "stream",
     "text": [
      "\rWin1/Win2/Draw: 0/0/378:  38%|███▊      | 378/1000 [01:00<01:35,  6.50it/s]"
     ]
    },
    {
     "name": "stderr",
     "output_type": "stream",
     "text": [
      "\rWin1/Win2/Draw: 0/0/378:  38%|███▊      | 379/1000 [01:01<01:35,  6.52it/s]"
     ]
    },
    {
     "name": "stderr",
     "output_type": "stream",
     "text": [
      "\rWin1/Win2/Draw: 0/0/379:  38%|███▊      | 379/1000 [01:01<01:35,  6.52it/s]"
     ]
    },
    {
     "name": "stderr",
     "output_type": "stream",
     "text": [
      "\rWin1/Win2/Draw: 0/0/379:  38%|███▊      | 380/1000 [01:01<01:36,  6.43it/s]"
     ]
    },
    {
     "name": "stderr",
     "output_type": "stream",
     "text": [
      "\rWin1/Win2/Draw: 0/0/380:  38%|███▊      | 380/1000 [01:01<01:36,  6.43it/s]"
     ]
    },
    {
     "name": "stderr",
     "output_type": "stream",
     "text": [
      "\rWin1/Win2/Draw: 0/0/380:  38%|███▊      | 381/1000 [01:01<01:43,  5.96it/s]"
     ]
    },
    {
     "name": "stderr",
     "output_type": "stream",
     "text": [
      "\rWin1/Win2/Draw: 0/0/381:  38%|███▊      | 381/1000 [01:01<01:43,  5.96it/s]"
     ]
    },
    {
     "name": "stderr",
     "output_type": "stream",
     "text": [
      "\rWin1/Win2/Draw: 0/0/381:  38%|███▊      | 382/1000 [01:01<01:58,  5.21it/s]"
     ]
    },
    {
     "name": "stderr",
     "output_type": "stream",
     "text": [
      "\rWin1/Win2/Draw: 0/0/382:  38%|███▊      | 382/1000 [01:01<01:58,  5.21it/s]"
     ]
    },
    {
     "name": "stderr",
     "output_type": "stream",
     "text": [
      "\rWin1/Win2/Draw: 0/0/382:  38%|███▊      | 383/1000 [01:01<02:10,  4.74it/s]"
     ]
    },
    {
     "name": "stderr",
     "output_type": "stream",
     "text": [
      "\rWin1/Win2/Draw: 0/0/383:  38%|███▊      | 383/1000 [01:01<02:10,  4.74it/s]"
     ]
    },
    {
     "name": "stderr",
     "output_type": "stream",
     "text": [
      "\rWin1/Win2/Draw: 0/0/383:  38%|███▊      | 384/1000 [01:02<03:32,  2.90it/s]"
     ]
    },
    {
     "name": "stderr",
     "output_type": "stream",
     "text": [
      "\rWin1/Win2/Draw: 0/0/384:  38%|███▊      | 384/1000 [01:02<03:32,  2.90it/s]"
     ]
    },
    {
     "name": "stderr",
     "output_type": "stream",
     "text": [
      "\rWin1/Win2/Draw: 0/0/384:  38%|███▊      | 385/1000 [01:02<03:11,  3.22it/s]"
     ]
    },
    {
     "name": "stderr",
     "output_type": "stream",
     "text": [
      "\rWin1/Win2/Draw: 0/0/385:  38%|███▊      | 385/1000 [01:02<03:11,  3.22it/s]"
     ]
    },
    {
     "name": "stderr",
     "output_type": "stream",
     "text": [
      "\rWin1/Win2/Draw: 0/0/385:  39%|███▊      | 386/1000 [01:03<02:47,  3.67it/s]"
     ]
    },
    {
     "name": "stderr",
     "output_type": "stream",
     "text": [
      "\rWin1/Win2/Draw: 0/0/386:  39%|███▊      | 386/1000 [01:03<02:47,  3.67it/s]"
     ]
    },
    {
     "name": "stderr",
     "output_type": "stream",
     "text": [
      "\rWin1/Win2/Draw: 0/0/386:  39%|███▊      | 387/1000 [01:03<02:29,  4.09it/s]"
     ]
    },
    {
     "name": "stderr",
     "output_type": "stream",
     "text": [
      "\rWin1/Win2/Draw: 0/0/387:  39%|███▊      | 387/1000 [01:03<02:29,  4.09it/s]"
     ]
    },
    {
     "name": "stderr",
     "output_type": "stream",
     "text": [
      "\rWin1/Win2/Draw: 0/0/387:  39%|███▉      | 388/1000 [01:03<02:17,  4.46it/s]"
     ]
    },
    {
     "name": "stderr",
     "output_type": "stream",
     "text": [
      "\rWin1/Win2/Draw: 0/0/388:  39%|███▉      | 388/1000 [01:03<02:17,  4.46it/s]"
     ]
    },
    {
     "name": "stderr",
     "output_type": "stream",
     "text": [
      "\rWin1/Win2/Draw: 0/0/388:  39%|███▉      | 389/1000 [01:03<02:10,  4.67it/s]"
     ]
    },
    {
     "name": "stderr",
     "output_type": "stream",
     "text": [
      "\rWin1/Win2/Draw: 0/0/389:  39%|███▉      | 389/1000 [01:03<02:10,  4.67it/s]"
     ]
    },
    {
     "name": "stderr",
     "output_type": "stream",
     "text": [
      "\rWin1/Win2/Draw: 0/0/389:  39%|███▉      | 390/1000 [01:03<02:07,  4.78it/s]"
     ]
    },
    {
     "name": "stderr",
     "output_type": "stream",
     "text": [
      "\rWin1/Win2/Draw: 0/0/390:  39%|███▉      | 390/1000 [01:03<02:07,  4.78it/s]"
     ]
    },
    {
     "name": "stderr",
     "output_type": "stream",
     "text": [
      "\rWin1/Win2/Draw: 0/0/390:  39%|███▉      | 391/1000 [01:03<01:57,  5.20it/s]"
     ]
    },
    {
     "name": "stderr",
     "output_type": "stream",
     "text": [
      "\rWin1/Win2/Draw: 0/0/391:  39%|███▉      | 391/1000 [01:03<01:57,  5.20it/s]"
     ]
    },
    {
     "name": "stderr",
     "output_type": "stream",
     "text": [
      "\rWin1/Win2/Draw: 0/0/391:  39%|███▉      | 392/1000 [01:04<01:56,  5.22it/s]"
     ]
    },
    {
     "name": "stderr",
     "output_type": "stream",
     "text": [
      "\rWin1/Win2/Draw: 0/0/392:  39%|███▉      | 392/1000 [01:04<01:56,  5.22it/s]"
     ]
    },
    {
     "name": "stderr",
     "output_type": "stream",
     "text": [
      "\rWin1/Win2/Draw: 0/0/392:  39%|███▉      | 393/1000 [01:04<01:52,  5.42it/s]"
     ]
    },
    {
     "name": "stderr",
     "output_type": "stream",
     "text": [
      "\rWin1/Win2/Draw: 0/0/393:  39%|███▉      | 393/1000 [01:04<01:52,  5.42it/s]"
     ]
    },
    {
     "name": "stderr",
     "output_type": "stream",
     "text": [
      "\rWin1/Win2/Draw: 0/0/393:  39%|███▉      | 394/1000 [01:04<01:49,  5.53it/s]"
     ]
    },
    {
     "name": "stderr",
     "output_type": "stream",
     "text": [
      "\rWin1/Win2/Draw: 0/0/394:  39%|███▉      | 394/1000 [01:04<01:49,  5.53it/s]"
     ]
    },
    {
     "name": "stderr",
     "output_type": "stream",
     "text": [
      "\rWin1/Win2/Draw: 0/0/394:  40%|███▉      | 395/1000 [01:04<01:46,  5.70it/s]"
     ]
    },
    {
     "name": "stderr",
     "output_type": "stream",
     "text": [
      "\rWin1/Win2/Draw: 0/0/395:  40%|███▉      | 395/1000 [01:04<01:46,  5.70it/s]"
     ]
    },
    {
     "name": "stderr",
     "output_type": "stream",
     "text": [
      "\rWin1/Win2/Draw: 0/0/395:  40%|███▉      | 396/1000 [01:04<01:45,  5.72it/s]"
     ]
    },
    {
     "name": "stderr",
     "output_type": "stream",
     "text": [
      "\rWin1/Win2/Draw: 0/0/396:  40%|███▉      | 396/1000 [01:04<01:45,  5.72it/s]"
     ]
    },
    {
     "name": "stderr",
     "output_type": "stream",
     "text": [
      "\rWin1/Win2/Draw: 0/0/396:  40%|███▉      | 397/1000 [01:04<01:42,  5.89it/s]"
     ]
    },
    {
     "name": "stderr",
     "output_type": "stream",
     "text": [
      "\rWin1/Win2/Draw: 0/0/397:  40%|███▉      | 397/1000 [01:04<01:42,  5.89it/s]"
     ]
    },
    {
     "name": "stderr",
     "output_type": "stream",
     "text": [
      "\rWin1/Win2/Draw: 0/0/397:  40%|███▉      | 398/1000 [01:05<01:41,  5.94it/s]"
     ]
    },
    {
     "name": "stderr",
     "output_type": "stream",
     "text": [
      "\rWin1/Win2/Draw: 0/0/398:  40%|███▉      | 398/1000 [01:05<01:41,  5.94it/s]"
     ]
    },
    {
     "name": "stderr",
     "output_type": "stream",
     "text": [
      "\rWin1/Win2/Draw: 0/0/398:  40%|███▉      | 399/1000 [01:05<01:40,  5.98it/s]"
     ]
    },
    {
     "name": "stderr",
     "output_type": "stream",
     "text": [
      "\rWin1/Win2/Draw: 0/0/399:  40%|███▉      | 399/1000 [01:05<01:40,  5.98it/s]"
     ]
    },
    {
     "name": "stderr",
     "output_type": "stream",
     "text": [
      "\rWin1/Win2/Draw: 0/0/399:  40%|████      | 400/1000 [01:05<01:39,  6.02it/s]"
     ]
    },
    {
     "name": "stderr",
     "output_type": "stream",
     "text": [
      "\rWin1/Win2/Draw: 0/0/400:  40%|████      | 400/1000 [01:05<01:39,  6.02it/s]"
     ]
    },
    {
     "name": "stderr",
     "output_type": "stream",
     "text": [
      "\rWin1/Win2/Draw: 0/0/400:  40%|████      | 401/1000 [01:05<01:42,  5.84it/s]"
     ]
    },
    {
     "name": "stderr",
     "output_type": "stream",
     "text": [
      "\rWin1/Win2/Draw: 0/0/401:  40%|████      | 401/1000 [01:05<01:42,  5.84it/s]"
     ]
    },
    {
     "name": "stderr",
     "output_type": "stream",
     "text": [
      "\rWin1/Win2/Draw: 0/0/401:  40%|████      | 402/1000 [01:05<01:41,  5.92it/s]"
     ]
    },
    {
     "name": "stderr",
     "output_type": "stream",
     "text": [
      "\rWin1/Win2/Draw: 0/0/402:  40%|████      | 402/1000 [01:05<01:41,  5.92it/s]"
     ]
    },
    {
     "name": "stderr",
     "output_type": "stream",
     "text": [
      "\rWin1/Win2/Draw: 0/0/402:  40%|████      | 403/1000 [01:06<01:43,  5.77it/s]"
     ]
    },
    {
     "name": "stderr",
     "output_type": "stream",
     "text": [
      "\rWin1/Win2/Draw: 0/0/403:  40%|████      | 403/1000 [01:06<01:43,  5.77it/s]"
     ]
    },
    {
     "name": "stderr",
     "output_type": "stream",
     "text": [
      "\rWin1/Win2/Draw: 0/0/403:  40%|████      | 404/1000 [01:06<01:48,  5.50it/s]"
     ]
    },
    {
     "name": "stderr",
     "output_type": "stream",
     "text": [
      "\rWin1/Win2/Draw: 0/0/404:  40%|████      | 404/1000 [01:06<01:48,  5.50it/s]"
     ]
    },
    {
     "name": "stderr",
     "output_type": "stream",
     "text": [
      "\rWin1/Win2/Draw: 0/0/404:  40%|████      | 405/1000 [01:06<01:45,  5.64it/s]"
     ]
    },
    {
     "name": "stderr",
     "output_type": "stream",
     "text": [
      "\rWin1/Win2/Draw: 0/0/405:  40%|████      | 405/1000 [01:06<01:45,  5.64it/s]"
     ]
    },
    {
     "name": "stderr",
     "output_type": "stream",
     "text": [
      "\rWin1/Win2/Draw: 0/0/405:  41%|████      | 406/1000 [01:06<01:44,  5.70it/s]"
     ]
    },
    {
     "name": "stderr",
     "output_type": "stream",
     "text": [
      "\rWin1/Win2/Draw: 0/0/406:  41%|████      | 406/1000 [01:06<01:44,  5.70it/s]"
     ]
    },
    {
     "name": "stderr",
     "output_type": "stream",
     "text": [
      "\rWin1/Win2/Draw: 0/0/406:  41%|████      | 407/1000 [01:06<01:41,  5.82it/s]"
     ]
    },
    {
     "name": "stderr",
     "output_type": "stream",
     "text": [
      "\rWin1/Win2/Draw: 0/0/407:  41%|████      | 407/1000 [01:06<01:41,  5.82it/s]"
     ]
    },
    {
     "name": "stderr",
     "output_type": "stream",
     "text": [
      "\rWin1/Win2/Draw: 0/0/407:  41%|████      | 408/1000 [01:06<01:40,  5.91it/s]"
     ]
    },
    {
     "name": "stderr",
     "output_type": "stream",
     "text": [
      "\rWin1/Win2/Draw: 0/0/408:  41%|████      | 408/1000 [01:06<01:40,  5.91it/s]"
     ]
    },
    {
     "name": "stderr",
     "output_type": "stream",
     "text": [
      "\rWin1/Win2/Draw: 0/0/408:  41%|████      | 409/1000 [01:07<01:40,  5.88it/s]"
     ]
    },
    {
     "name": "stderr",
     "output_type": "stream",
     "text": [
      "\rWin1/Win2/Draw: 0/0/409:  41%|████      | 409/1000 [01:07<01:40,  5.88it/s]"
     ]
    },
    {
     "name": "stderr",
     "output_type": "stream",
     "text": [
      "\rWin1/Win2/Draw: 0/0/409:  41%|████      | 410/1000 [01:07<01:41,  5.79it/s]"
     ]
    },
    {
     "name": "stderr",
     "output_type": "stream",
     "text": [
      "\rWin1/Win2/Draw: 0/0/410:  41%|████      | 410/1000 [01:07<01:41,  5.79it/s]"
     ]
    },
    {
     "name": "stderr",
     "output_type": "stream",
     "text": [
      "\rWin1/Win2/Draw: 0/0/410:  41%|████      | 411/1000 [01:07<01:40,  5.84it/s]"
     ]
    },
    {
     "name": "stderr",
     "output_type": "stream",
     "text": [
      "\rWin1/Win2/Draw: 0/0/411:  41%|████      | 411/1000 [01:07<01:40,  5.84it/s]"
     ]
    },
    {
     "name": "stderr",
     "output_type": "stream",
     "text": [
      "\rWin1/Win2/Draw: 0/0/411:  41%|████      | 412/1000 [01:07<01:44,  5.65it/s]"
     ]
    },
    {
     "name": "stderr",
     "output_type": "stream",
     "text": [
      "\rWin1/Win2/Draw: 0/0/412:  41%|████      | 412/1000 [01:07<01:44,  5.65it/s]"
     ]
    },
    {
     "name": "stderr",
     "output_type": "stream",
     "text": [
      "\rWin1/Win2/Draw: 0/0/412:  41%|████▏     | 413/1000 [01:07<01:41,  5.78it/s]"
     ]
    },
    {
     "name": "stderr",
     "output_type": "stream",
     "text": [
      "\rWin1/Win2/Draw: 0/0/413:  41%|████▏     | 413/1000 [01:07<01:41,  5.78it/s]"
     ]
    },
    {
     "name": "stderr",
     "output_type": "stream",
     "text": [
      "\rWin1/Win2/Draw: 0/0/413:  41%|████▏     | 414/1000 [01:07<01:38,  5.95it/s]"
     ]
    },
    {
     "name": "stderr",
     "output_type": "stream",
     "text": [
      "\rWin1/Win2/Draw: 0/0/414:  41%|████▏     | 414/1000 [01:07<01:38,  5.95it/s]"
     ]
    },
    {
     "name": "stderr",
     "output_type": "stream",
     "text": [
      "\rWin1/Win2/Draw: 0/0/414:  42%|████▏     | 415/1000 [01:08<01:37,  6.03it/s]"
     ]
    },
    {
     "name": "stderr",
     "output_type": "stream",
     "text": [
      "\rWin1/Win2/Draw: 0/0/415:  42%|████▏     | 415/1000 [01:08<01:37,  6.03it/s]"
     ]
    },
    {
     "name": "stderr",
     "output_type": "stream",
     "text": [
      "\rWin1/Win2/Draw: 0/0/415:  42%|████▏     | 416/1000 [01:08<01:38,  5.92it/s]"
     ]
    },
    {
     "name": "stderr",
     "output_type": "stream",
     "text": [
      "\rWin1/Win2/Draw: 0/0/416:  42%|████▏     | 416/1000 [01:08<01:38,  5.92it/s]"
     ]
    },
    {
     "name": "stderr",
     "output_type": "stream",
     "text": [
      "\rWin1/Win2/Draw: 0/0/416:  42%|████▏     | 417/1000 [01:08<01:38,  5.94it/s]"
     ]
    },
    {
     "name": "stderr",
     "output_type": "stream",
     "text": [
      "\rWin1/Win2/Draw: 0/0/417:  42%|████▏     | 417/1000 [01:08<01:38,  5.94it/s]"
     ]
    },
    {
     "name": "stderr",
     "output_type": "stream",
     "text": [
      "\rWin1/Win2/Draw: 0/0/417:  42%|████▏     | 418/1000 [01:08<01:39,  5.88it/s]"
     ]
    },
    {
     "name": "stderr",
     "output_type": "stream",
     "text": [
      "\rWin1/Win2/Draw: 0/0/418:  42%|████▏     | 418/1000 [01:08<01:39,  5.88it/s]"
     ]
    },
    {
     "name": "stderr",
     "output_type": "stream",
     "text": [
      "\rWin1/Win2/Draw: 0/0/418:  42%|████▏     | 419/1000 [01:08<01:36,  6.03it/s]"
     ]
    },
    {
     "name": "stderr",
     "output_type": "stream",
     "text": [
      "\rWin1/Win2/Draw: 0/0/419:  42%|████▏     | 419/1000 [01:08<01:36,  6.03it/s]"
     ]
    },
    {
     "name": "stderr",
     "output_type": "stream",
     "text": [
      "\rWin1/Win2/Draw: 0/0/419:  42%|████▏     | 420/1000 [01:08<01:35,  6.05it/s]"
     ]
    },
    {
     "name": "stderr",
     "output_type": "stream",
     "text": [
      "\rWin1/Win2/Draw: 0/0/420:  42%|████▏     | 420/1000 [01:08<01:35,  6.05it/s]"
     ]
    },
    {
     "name": "stderr",
     "output_type": "stream",
     "text": [
      "\rWin1/Win2/Draw: 0/0/420:  42%|████▏     | 421/1000 [01:09<01:36,  6.01it/s]"
     ]
    },
    {
     "name": "stderr",
     "output_type": "stream",
     "text": [
      "\rWin1/Win2/Draw: 0/0/421:  42%|████▏     | 421/1000 [01:09<01:36,  6.01it/s]"
     ]
    },
    {
     "name": "stderr",
     "output_type": "stream",
     "text": [
      "\rWin1/Win2/Draw: 0/0/421:  42%|████▏     | 422/1000 [01:09<01:49,  5.28it/s]"
     ]
    },
    {
     "name": "stderr",
     "output_type": "stream",
     "text": [
      "\rWin1/Win2/Draw: 0/0/422:  42%|████▏     | 422/1000 [01:09<01:49,  5.28it/s]"
     ]
    },
    {
     "name": "stderr",
     "output_type": "stream",
     "text": [
      "\rWin1/Win2/Draw: 0/0/422:  42%|████▏     | 423/1000 [01:09<01:48,  5.33it/s]"
     ]
    },
    {
     "name": "stderr",
     "output_type": "stream",
     "text": [
      "\rWin1/Win2/Draw: 0/0/423:  42%|████▏     | 423/1000 [01:09<01:48,  5.33it/s]"
     ]
    },
    {
     "name": "stderr",
     "output_type": "stream",
     "text": [
      "\rWin1/Win2/Draw: 0/0/423:  42%|████▏     | 424/1000 [01:09<01:44,  5.53it/s]"
     ]
    },
    {
     "name": "stderr",
     "output_type": "stream",
     "text": [
      "\rWin1/Win2/Draw: 0/0/424:  42%|████▏     | 424/1000 [01:09<01:44,  5.53it/s]"
     ]
    },
    {
     "name": "stderr",
     "output_type": "stream",
     "text": [
      "\rWin1/Win2/Draw: 0/0/424:  42%|████▎     | 425/1000 [01:09<01:41,  5.69it/s]"
     ]
    },
    {
     "name": "stderr",
     "output_type": "stream",
     "text": [
      "\rWin1/Win2/Draw: 0/0/425:  42%|████▎     | 425/1000 [01:09<01:41,  5.69it/s]"
     ]
    },
    {
     "name": "stderr",
     "output_type": "stream",
     "text": [
      "\rWin1/Win2/Draw: 0/0/425:  43%|████▎     | 426/1000 [01:09<01:38,  5.84it/s]"
     ]
    },
    {
     "name": "stderr",
     "output_type": "stream",
     "text": [
      "\rWin1/Win2/Draw: 0/0/426:  43%|████▎     | 426/1000 [01:09<01:38,  5.84it/s]"
     ]
    },
    {
     "name": "stderr",
     "output_type": "stream",
     "text": [
      "\rWin1/Win2/Draw: 0/0/426:  43%|████▎     | 427/1000 [01:10<01:35,  5.99it/s]"
     ]
    },
    {
     "name": "stderr",
     "output_type": "stream",
     "text": [
      "\rWin1/Win2/Draw: 0/0/427:  43%|████▎     | 427/1000 [01:10<01:35,  5.99it/s]"
     ]
    },
    {
     "name": "stderr",
     "output_type": "stream",
     "text": [
      "\rWin1/Win2/Draw: 0/0/427:  43%|████▎     | 428/1000 [01:10<01:34,  6.06it/s]"
     ]
    },
    {
     "name": "stderr",
     "output_type": "stream",
     "text": [
      "\rWin1/Win2/Draw: 0/0/428:  43%|████▎     | 428/1000 [01:10<01:34,  6.06it/s]"
     ]
    },
    {
     "name": "stderr",
     "output_type": "stream",
     "text": [
      "\rWin1/Win2/Draw: 0/0/428:  43%|████▎     | 429/1000 [01:10<01:33,  6.14it/s]"
     ]
    },
    {
     "name": "stderr",
     "output_type": "stream",
     "text": [
      "\rWin1/Win2/Draw: 0/0/429:  43%|████▎     | 429/1000 [01:10<01:33,  6.14it/s]"
     ]
    },
    {
     "name": "stderr",
     "output_type": "stream",
     "text": [
      "\rWin1/Win2/Draw: 0/0/429:  43%|████▎     | 430/1000 [01:10<01:31,  6.20it/s]"
     ]
    },
    {
     "name": "stderr",
     "output_type": "stream",
     "text": [
      "\rWin1/Win2/Draw: 0/0/430:  43%|████▎     | 430/1000 [01:10<01:31,  6.20it/s]"
     ]
    },
    {
     "name": "stderr",
     "output_type": "stream",
     "text": [
      "\rWin1/Win2/Draw: 0/0/430:  43%|████▎     | 431/1000 [01:10<01:30,  6.26it/s]"
     ]
    },
    {
     "name": "stderr",
     "output_type": "stream",
     "text": [
      "\rWin1/Win2/Draw: 0/0/431:  43%|████▎     | 431/1000 [01:10<01:30,  6.26it/s]"
     ]
    },
    {
     "name": "stderr",
     "output_type": "stream",
     "text": [
      "\rWin1/Win2/Draw: 0/0/431:  43%|████▎     | 432/1000 [01:10<01:30,  6.26it/s]"
     ]
    },
    {
     "name": "stderr",
     "output_type": "stream",
     "text": [
      "\rWin1/Win2/Draw: 0/0/432:  43%|████▎     | 432/1000 [01:10<01:30,  6.26it/s]"
     ]
    },
    {
     "name": "stderr",
     "output_type": "stream",
     "text": [
      "\rWin1/Win2/Draw: 0/0/432:  43%|████▎     | 433/1000 [01:11<01:35,  5.96it/s]"
     ]
    },
    {
     "name": "stderr",
     "output_type": "stream",
     "text": [
      "\rWin1/Win2/Draw: 0/0/433:  43%|████▎     | 433/1000 [01:11<01:35,  5.96it/s]"
     ]
    },
    {
     "name": "stderr",
     "output_type": "stream",
     "text": [
      "\rWin1/Win2/Draw: 0/0/433:  43%|████▎     | 434/1000 [01:11<01:32,  6.15it/s]"
     ]
    },
    {
     "name": "stderr",
     "output_type": "stream",
     "text": [
      "\rWin1/Win2/Draw: 0/0/434:  43%|████▎     | 434/1000 [01:11<01:32,  6.15it/s]"
     ]
    },
    {
     "name": "stderr",
     "output_type": "stream",
     "text": [
      "\rWin1/Win2/Draw: 0/0/434:  44%|████▎     | 435/1000 [01:11<01:31,  6.19it/s]"
     ]
    },
    {
     "name": "stderr",
     "output_type": "stream",
     "text": [
      "\rWin1/Win2/Draw: 0/0/435:  44%|████▎     | 435/1000 [01:11<01:31,  6.19it/s]"
     ]
    },
    {
     "name": "stderr",
     "output_type": "stream",
     "text": [
      "\rWin1/Win2/Draw: 0/0/435:  44%|████▎     | 436/1000 [01:11<01:31,  6.19it/s]"
     ]
    },
    {
     "name": "stderr",
     "output_type": "stream",
     "text": [
      "\rWin1/Win2/Draw: 0/0/436:  44%|████▎     | 436/1000 [01:11<01:31,  6.19it/s]"
     ]
    },
    {
     "name": "stderr",
     "output_type": "stream",
     "text": [
      "\rWin1/Win2/Draw: 0/0/436:  44%|████▎     | 437/1000 [01:11<01:30,  6.22it/s]"
     ]
    },
    {
     "name": "stderr",
     "output_type": "stream",
     "text": [
      "\rWin1/Win2/Draw: 0/0/437:  44%|████▎     | 437/1000 [01:11<01:30,  6.22it/s]"
     ]
    },
    {
     "name": "stderr",
     "output_type": "stream",
     "text": [
      "\rWin1/Win2/Draw: 0/0/437:  44%|████▍     | 438/1000 [01:11<01:29,  6.26it/s]"
     ]
    },
    {
     "name": "stderr",
     "output_type": "stream",
     "text": [
      "\rWin1/Win2/Draw: 0/0/438:  44%|████▍     | 438/1000 [01:11<01:29,  6.26it/s]"
     ]
    },
    {
     "name": "stderr",
     "output_type": "stream",
     "text": [
      "\rWin1/Win2/Draw: 0/0/438:  44%|████▍     | 439/1000 [01:12<01:29,  6.26it/s]"
     ]
    },
    {
     "name": "stderr",
     "output_type": "stream",
     "text": [
      "\rWin1/Win2/Draw: 0/0/439:  44%|████▍     | 439/1000 [01:12<01:29,  6.26it/s]"
     ]
    },
    {
     "name": "stderr",
     "output_type": "stream",
     "text": [
      "\rWin1/Win2/Draw: 0/0/439:  44%|████▍     | 440/1000 [01:12<01:28,  6.35it/s]"
     ]
    },
    {
     "name": "stderr",
     "output_type": "stream",
     "text": [
      "\rWin1/Win2/Draw: 0/0/440:  44%|████▍     | 440/1000 [01:12<01:28,  6.35it/s]"
     ]
    },
    {
     "name": "stderr",
     "output_type": "stream",
     "text": [
      "\rWin1/Win2/Draw: 0/0/440:  44%|████▍     | 441/1000 [01:12<01:26,  6.44it/s]"
     ]
    },
    {
     "name": "stderr",
     "output_type": "stream",
     "text": [
      "\rWin1/Win2/Draw: 0/0/441:  44%|████▍     | 441/1000 [01:12<01:26,  6.44it/s]"
     ]
    },
    {
     "name": "stderr",
     "output_type": "stream",
     "text": [
      "\rWin1/Win2/Draw: 0/0/441:  44%|████▍     | 442/1000 [01:12<01:27,  6.41it/s]"
     ]
    },
    {
     "name": "stderr",
     "output_type": "stream",
     "text": [
      "\rWin1/Win2/Draw: 0/0/442:  44%|████▍     | 442/1000 [01:12<01:27,  6.41it/s]"
     ]
    },
    {
     "name": "stderr",
     "output_type": "stream",
     "text": [
      "\rWin1/Win2/Draw: 0/0/442:  44%|████▍     | 443/1000 [01:12<01:27,  6.39it/s]"
     ]
    },
    {
     "name": "stderr",
     "output_type": "stream",
     "text": [
      "\rWin1/Win2/Draw: 0/0/443:  44%|████▍     | 443/1000 [01:12<01:27,  6.39it/s]"
     ]
    },
    {
     "name": "stderr",
     "output_type": "stream",
     "text": [
      "\rWin1/Win2/Draw: 0/0/443:  44%|████▍     | 444/1000 [01:12<01:31,  6.07it/s]"
     ]
    },
    {
     "name": "stderr",
     "output_type": "stream",
     "text": [
      "\rWin1/Win2/Draw: 0/0/444:  44%|████▍     | 444/1000 [01:12<01:31,  6.07it/s]"
     ]
    },
    {
     "name": "stderr",
     "output_type": "stream",
     "text": [
      "\rWin1/Win2/Draw: 0/0/444:  44%|████▍     | 445/1000 [01:13<01:30,  6.13it/s]"
     ]
    },
    {
     "name": "stderr",
     "output_type": "stream",
     "text": [
      "\rWin1/Win2/Draw: 0/0/445:  44%|████▍     | 445/1000 [01:13<01:30,  6.13it/s]"
     ]
    },
    {
     "name": "stderr",
     "output_type": "stream",
     "text": [
      "\rWin1/Win2/Draw: 0/0/445:  45%|████▍     | 446/1000 [01:13<01:27,  6.31it/s]"
     ]
    },
    {
     "name": "stderr",
     "output_type": "stream",
     "text": [
      "\rWin1/Win2/Draw: 0/0/446:  45%|████▍     | 446/1000 [01:13<01:27,  6.31it/s]"
     ]
    },
    {
     "name": "stderr",
     "output_type": "stream",
     "text": [
      "\rWin1/Win2/Draw: 0/0/446:  45%|████▍     | 447/1000 [01:13<01:26,  6.36it/s]"
     ]
    },
    {
     "name": "stderr",
     "output_type": "stream",
     "text": [
      "\rWin1/Win2/Draw: 0/0/447:  45%|████▍     | 447/1000 [01:13<01:26,  6.36it/s]"
     ]
    },
    {
     "name": "stderr",
     "output_type": "stream",
     "text": [
      "\rWin1/Win2/Draw: 0/0/447:  45%|████▍     | 448/1000 [01:13<01:25,  6.42it/s]"
     ]
    },
    {
     "name": "stderr",
     "output_type": "stream",
     "text": [
      "\rWin1/Win2/Draw: 0/0/448:  45%|████▍     | 448/1000 [01:13<01:25,  6.42it/s]"
     ]
    },
    {
     "name": "stderr",
     "output_type": "stream",
     "text": [
      "\rWin1/Win2/Draw: 0/0/448:  45%|████▍     | 449/1000 [01:13<01:25,  6.47it/s]"
     ]
    },
    {
     "name": "stderr",
     "output_type": "stream",
     "text": [
      "\rWin1/Win2/Draw: 0/0/449:  45%|████▍     | 449/1000 [01:13<01:25,  6.47it/s]"
     ]
    },
    {
     "name": "stderr",
     "output_type": "stream",
     "text": [
      "\rWin1/Win2/Draw: 0/0/449:  45%|████▌     | 450/1000 [01:13<01:24,  6.54it/s]"
     ]
    },
    {
     "name": "stderr",
     "output_type": "stream",
     "text": [
      "\rWin1/Win2/Draw: 0/0/450:  45%|████▌     | 450/1000 [01:13<01:24,  6.54it/s]"
     ]
    },
    {
     "name": "stderr",
     "output_type": "stream",
     "text": [
      "\rWin1/Win2/Draw: 0/0/450:  45%|████▌     | 451/1000 [01:13<01:23,  6.57it/s]"
     ]
    },
    {
     "name": "stderr",
     "output_type": "stream",
     "text": [
      "\rWin1/Win2/Draw: 0/0/451:  45%|████▌     | 451/1000 [01:13<01:23,  6.57it/s]"
     ]
    },
    {
     "name": "stderr",
     "output_type": "stream",
     "text": [
      "\rWin1/Win2/Draw: 0/0/451:  45%|████▌     | 452/1000 [01:14<01:22,  6.61it/s]"
     ]
    },
    {
     "name": "stderr",
     "output_type": "stream",
     "text": [
      "\rWin1/Win2/Draw: 0/0/452:  45%|████▌     | 452/1000 [01:14<01:22,  6.61it/s]"
     ]
    },
    {
     "name": "stderr",
     "output_type": "stream",
     "text": [
      "\rWin1/Win2/Draw: 0/0/452:  45%|████▌     | 453/1000 [01:14<01:28,  6.18it/s]"
     ]
    },
    {
     "name": "stderr",
     "output_type": "stream",
     "text": [
      "\rWin1/Win2/Draw: 0/0/453:  45%|████▌     | 453/1000 [01:14<01:28,  6.18it/s]"
     ]
    },
    {
     "name": "stderr",
     "output_type": "stream",
     "text": [
      "\rWin1/Win2/Draw: 0/0/453:  45%|████▌     | 454/1000 [01:14<01:26,  6.33it/s]"
     ]
    },
    {
     "name": "stderr",
     "output_type": "stream",
     "text": [
      "\rWin1/Win2/Draw: 0/0/454:  45%|████▌     | 454/1000 [01:14<01:26,  6.33it/s]"
     ]
    },
    {
     "name": "stderr",
     "output_type": "stream",
     "text": [
      "\rWin1/Win2/Draw: 0/0/454:  46%|████▌     | 455/1000 [01:14<01:25,  6.39it/s]"
     ]
    },
    {
     "name": "stderr",
     "output_type": "stream",
     "text": [
      "\rWin1/Win2/Draw: 0/0/455:  46%|████▌     | 455/1000 [01:14<01:25,  6.39it/s]"
     ]
    },
    {
     "name": "stderr",
     "output_type": "stream",
     "text": [
      "\rWin1/Win2/Draw: 0/0/455:  46%|████▌     | 456/1000 [01:14<01:23,  6.48it/s]"
     ]
    },
    {
     "name": "stderr",
     "output_type": "stream",
     "text": [
      "\rWin1/Win2/Draw: 0/0/456:  46%|████▌     | 456/1000 [01:14<01:23,  6.48it/s]"
     ]
    },
    {
     "name": "stderr",
     "output_type": "stream",
     "text": [
      "\rWin1/Win2/Draw: 0/0/456:  46%|████▌     | 457/1000 [01:14<01:25,  6.32it/s]"
     ]
    },
    {
     "name": "stderr",
     "output_type": "stream",
     "text": [
      "\rWin1/Win2/Draw: 0/0/457:  46%|████▌     | 457/1000 [01:14<01:25,  6.32it/s]"
     ]
    },
    {
     "name": "stderr",
     "output_type": "stream",
     "text": [
      "\rWin1/Win2/Draw: 0/0/457:  46%|████▌     | 458/1000 [01:15<01:26,  6.30it/s]"
     ]
    },
    {
     "name": "stderr",
     "output_type": "stream",
     "text": [
      "\rWin1/Win2/Draw: 0/0/458:  46%|████▌     | 458/1000 [01:15<01:26,  6.30it/s]"
     ]
    },
    {
     "name": "stderr",
     "output_type": "stream",
     "text": [
      "\rWin1/Win2/Draw: 0/0/458:  46%|████▌     | 459/1000 [01:15<01:27,  6.17it/s]"
     ]
    },
    {
     "name": "stderr",
     "output_type": "stream",
     "text": [
      "\rWin1/Win2/Draw: 0/0/459:  46%|████▌     | 459/1000 [01:15<01:27,  6.17it/s]"
     ]
    },
    {
     "name": "stderr",
     "output_type": "stream",
     "text": [
      "\rWin1/Win2/Draw: 0/0/459:  46%|████▌     | 460/1000 [01:15<01:29,  6.03it/s]"
     ]
    },
    {
     "name": "stderr",
     "output_type": "stream",
     "text": [
      "\rWin1/Win2/Draw: 0/0/460:  46%|████▌     | 460/1000 [01:15<01:29,  6.03it/s]"
     ]
    },
    {
     "name": "stderr",
     "output_type": "stream",
     "text": [
      "\rWin1/Win2/Draw: 0/0/460:  46%|████▌     | 461/1000 [01:15<01:28,  6.09it/s]"
     ]
    },
    {
     "name": "stderr",
     "output_type": "stream",
     "text": [
      "\rWin1/Win2/Draw: 0/0/461:  46%|████▌     | 461/1000 [01:15<01:28,  6.09it/s]"
     ]
    },
    {
     "name": "stderr",
     "output_type": "stream",
     "text": [
      "\rWin1/Win2/Draw: 0/0/461:  46%|████▌     | 462/1000 [01:15<01:29,  6.04it/s]"
     ]
    },
    {
     "name": "stderr",
     "output_type": "stream",
     "text": [
      "\rWin1/Win2/Draw: 0/0/462:  46%|████▌     | 462/1000 [01:15<01:29,  6.04it/s]"
     ]
    },
    {
     "name": "stderr",
     "output_type": "stream",
     "text": [
      "\rWin1/Win2/Draw: 0/0/462:  46%|████▋     | 463/1000 [01:15<01:33,  5.77it/s]"
     ]
    },
    {
     "name": "stderr",
     "output_type": "stream",
     "text": [
      "\rWin1/Win2/Draw: 0/0/463:  46%|████▋     | 463/1000 [01:15<01:33,  5.77it/s]"
     ]
    },
    {
     "name": "stderr",
     "output_type": "stream",
     "text": [
      "\rWin1/Win2/Draw: 0/0/463:  46%|████▋     | 464/1000 [01:16<01:30,  5.95it/s]"
     ]
    },
    {
     "name": "stderr",
     "output_type": "stream",
     "text": [
      "\rWin1/Win2/Draw: 0/0/464:  46%|████▋     | 464/1000 [01:16<01:30,  5.95it/s]"
     ]
    },
    {
     "name": "stderr",
     "output_type": "stream",
     "text": [
      "\rWin1/Win2/Draw: 0/0/464:  46%|████▋     | 465/1000 [01:16<01:27,  6.09it/s]"
     ]
    },
    {
     "name": "stderr",
     "output_type": "stream",
     "text": [
      "\rWin1/Win2/Draw: 0/0/465:  46%|████▋     | 465/1000 [01:16<01:27,  6.09it/s]"
     ]
    },
    {
     "name": "stderr",
     "output_type": "stream",
     "text": [
      "\rWin1/Win2/Draw: 0/0/465:  47%|████▋     | 466/1000 [01:16<01:26,  6.19it/s]"
     ]
    },
    {
     "name": "stderr",
     "output_type": "stream",
     "text": [
      "\rWin1/Win2/Draw: 0/0/466:  47%|████▋     | 466/1000 [01:16<01:26,  6.19it/s]"
     ]
    },
    {
     "name": "stderr",
     "output_type": "stream",
     "text": [
      "\rWin1/Win2/Draw: 0/0/466:  47%|████▋     | 467/1000 [01:16<01:25,  6.25it/s]"
     ]
    },
    {
     "name": "stderr",
     "output_type": "stream",
     "text": [
      "\rWin1/Win2/Draw: 0/0/467:  47%|████▋     | 467/1000 [01:16<01:25,  6.25it/s]"
     ]
    },
    {
     "name": "stderr",
     "output_type": "stream",
     "text": [
      "\rWin1/Win2/Draw: 0/0/467:  47%|████▋     | 468/1000 [01:16<01:25,  6.25it/s]"
     ]
    },
    {
     "name": "stderr",
     "output_type": "stream",
     "text": [
      "\rWin1/Win2/Draw: 0/0/468:  47%|████▋     | 468/1000 [01:16<01:25,  6.25it/s]"
     ]
    },
    {
     "name": "stderr",
     "output_type": "stream",
     "text": [
      "\rWin1/Win2/Draw: 0/0/468:  47%|████▋     | 469/1000 [01:16<01:25,  6.18it/s]"
     ]
    },
    {
     "name": "stderr",
     "output_type": "stream",
     "text": [
      "\rWin1/Win2/Draw: 0/0/469:  47%|████▋     | 469/1000 [01:16<01:25,  6.18it/s]"
     ]
    },
    {
     "name": "stderr",
     "output_type": "stream",
     "text": [
      "\rWin1/Win2/Draw: 0/0/469:  47%|████▋     | 470/1000 [01:17<01:29,  5.94it/s]"
     ]
    },
    {
     "name": "stderr",
     "output_type": "stream",
     "text": [
      "\rWin1/Win2/Draw: 0/0/470:  47%|████▋     | 470/1000 [01:17<01:29,  5.94it/s]"
     ]
    },
    {
     "name": "stderr",
     "output_type": "stream",
     "text": [
      "\rWin1/Win2/Draw: 0/0/470:  47%|████▋     | 471/1000 [01:17<01:30,  5.85it/s]"
     ]
    },
    {
     "name": "stderr",
     "output_type": "stream",
     "text": [
      "\rWin1/Win2/Draw: 0/0/471:  47%|████▋     | 471/1000 [01:17<01:30,  5.85it/s]"
     ]
    },
    {
     "name": "stderr",
     "output_type": "stream",
     "text": [
      "\rWin1/Win2/Draw: 0/0/471:  47%|████▋     | 472/1000 [01:17<01:31,  5.78it/s]"
     ]
    },
    {
     "name": "stderr",
     "output_type": "stream",
     "text": [
      "\rWin1/Win2/Draw: 0/0/472:  47%|████▋     | 472/1000 [01:17<01:31,  5.78it/s]"
     ]
    },
    {
     "name": "stderr",
     "output_type": "stream",
     "text": [
      "\rWin1/Win2/Draw: 0/0/472:  47%|████▋     | 473/1000 [01:17<01:29,  5.87it/s]"
     ]
    },
    {
     "name": "stderr",
     "output_type": "stream",
     "text": [
      "\rWin1/Win2/Draw: 0/0/473:  47%|████▋     | 473/1000 [01:17<01:29,  5.87it/s]"
     ]
    },
    {
     "name": "stderr",
     "output_type": "stream",
     "text": [
      "\rWin1/Win2/Draw: 0/0/473:  47%|████▋     | 474/1000 [01:17<01:27,  6.02it/s]"
     ]
    },
    {
     "name": "stderr",
     "output_type": "stream",
     "text": [
      "\rWin1/Win2/Draw: 0/0/474:  47%|████▋     | 474/1000 [01:17<01:27,  6.02it/s]"
     ]
    },
    {
     "name": "stderr",
     "output_type": "stream",
     "text": [
      "\rWin1/Win2/Draw: 0/0/474:  48%|████▊     | 475/1000 [01:17<01:29,  5.87it/s]"
     ]
    },
    {
     "name": "stderr",
     "output_type": "stream",
     "text": [
      "\rWin1/Win2/Draw: 0/0/475:  48%|████▊     | 475/1000 [01:17<01:29,  5.87it/s]"
     ]
    },
    {
     "name": "stderr",
     "output_type": "stream",
     "text": [
      "\rWin1/Win2/Draw: 0/0/475:  48%|████▊     | 476/1000 [01:18<01:27,  6.01it/s]"
     ]
    },
    {
     "name": "stderr",
     "output_type": "stream",
     "text": [
      "\rWin1/Win2/Draw: 0/0/476:  48%|████▊     | 476/1000 [01:18<01:27,  6.01it/s]"
     ]
    },
    {
     "name": "stderr",
     "output_type": "stream",
     "text": [
      "\rWin1/Win2/Draw: 0/0/476:  48%|████▊     | 477/1000 [01:18<01:26,  6.07it/s]"
     ]
    },
    {
     "name": "stderr",
     "output_type": "stream",
     "text": [
      "\rWin1/Win2/Draw: 0/0/477:  48%|████▊     | 477/1000 [01:18<01:26,  6.07it/s]"
     ]
    },
    {
     "name": "stderr",
     "output_type": "stream",
     "text": [
      "\rWin1/Win2/Draw: 0/0/477:  48%|████▊     | 478/1000 [01:18<01:24,  6.20it/s]"
     ]
    },
    {
     "name": "stderr",
     "output_type": "stream",
     "text": [
      "\rWin1/Win2/Draw: 0/0/478:  48%|████▊     | 478/1000 [01:18<01:24,  6.20it/s]"
     ]
    },
    {
     "name": "stderr",
     "output_type": "stream",
     "text": [
      "\rWin1/Win2/Draw: 0/0/478:  48%|████▊     | 479/1000 [01:18<01:23,  6.26it/s]"
     ]
    },
    {
     "name": "stderr",
     "output_type": "stream",
     "text": [
      "\rWin1/Win2/Draw: 0/0/479:  48%|████▊     | 479/1000 [01:18<01:23,  6.26it/s]"
     ]
    },
    {
     "name": "stderr",
     "output_type": "stream",
     "text": [
      "\rWin1/Win2/Draw: 0/0/479:  48%|████▊     | 480/1000 [01:18<01:22,  6.29it/s]"
     ]
    },
    {
     "name": "stderr",
     "output_type": "stream",
     "text": [
      "\rWin1/Win2/Draw: 0/0/480:  48%|████▊     | 480/1000 [01:18<01:22,  6.29it/s]"
     ]
    },
    {
     "name": "stderr",
     "output_type": "stream",
     "text": [
      "\rWin1/Win2/Draw: 0/0/480:  48%|████▊     | 481/1000 [01:18<01:22,  6.26it/s]"
     ]
    },
    {
     "name": "stderr",
     "output_type": "stream",
     "text": [
      "\rWin1/Win2/Draw: 0/0/481:  48%|████▊     | 481/1000 [01:18<01:22,  6.26it/s]"
     ]
    },
    {
     "name": "stderr",
     "output_type": "stream",
     "text": [
      "\rWin1/Win2/Draw: 0/0/481:  48%|████▊     | 482/1000 [01:19<01:23,  6.21it/s]"
     ]
    },
    {
     "name": "stderr",
     "output_type": "stream",
     "text": [
      "\rWin1/Win2/Draw: 0/0/482:  48%|████▊     | 482/1000 [01:19<01:23,  6.21it/s]"
     ]
    },
    {
     "name": "stderr",
     "output_type": "stream",
     "text": [
      "\rWin1/Win2/Draw: 0/0/482:  48%|████▊     | 483/1000 [01:19<01:23,  6.22it/s]"
     ]
    },
    {
     "name": "stderr",
     "output_type": "stream",
     "text": [
      "\rWin1/Win2/Draw: 0/0/483:  48%|████▊     | 483/1000 [01:19<01:23,  6.22it/s]"
     ]
    },
    {
     "name": "stderr",
     "output_type": "stream",
     "text": [
      "\rWin1/Win2/Draw: 0/0/483:  48%|████▊     | 484/1000 [01:19<01:26,  5.94it/s]"
     ]
    },
    {
     "name": "stderr",
     "output_type": "stream",
     "text": [
      "\rWin1/Win2/Draw: 0/0/484:  48%|████▊     | 484/1000 [01:19<01:26,  5.94it/s]"
     ]
    },
    {
     "name": "stderr",
     "output_type": "stream",
     "text": [
      "\rWin1/Win2/Draw: 0/0/484:  48%|████▊     | 485/1000 [01:19<01:26,  5.95it/s]"
     ]
    },
    {
     "name": "stderr",
     "output_type": "stream",
     "text": [
      "\rWin1/Win2/Draw: 0/0/485:  48%|████▊     | 485/1000 [01:19<01:26,  5.95it/s]"
     ]
    },
    {
     "name": "stderr",
     "output_type": "stream",
     "text": [
      "\rWin1/Win2/Draw: 0/0/485:  49%|████▊     | 486/1000 [01:19<01:25,  6.04it/s]"
     ]
    },
    {
     "name": "stderr",
     "output_type": "stream",
     "text": [
      "\rWin1/Win2/Draw: 0/0/486:  49%|████▊     | 486/1000 [01:19<01:25,  6.04it/s]"
     ]
    },
    {
     "name": "stderr",
     "output_type": "stream",
     "text": [
      "\rWin1/Win2/Draw: 0/0/486:  49%|████▊     | 487/1000 [01:19<01:23,  6.15it/s]"
     ]
    },
    {
     "name": "stderr",
     "output_type": "stream",
     "text": [
      "\rWin1/Win2/Draw: 0/0/487:  49%|████▊     | 487/1000 [01:19<01:23,  6.15it/s]"
     ]
    },
    {
     "name": "stderr",
     "output_type": "stream",
     "text": [
      "\rWin1/Win2/Draw: 0/0/487:  49%|████▉     | 488/1000 [01:19<01:22,  6.22it/s]"
     ]
    },
    {
     "name": "stderr",
     "output_type": "stream",
     "text": [
      "\rWin1/Win2/Draw: 0/0/488:  49%|████▉     | 488/1000 [01:19<01:22,  6.22it/s]"
     ]
    },
    {
     "name": "stderr",
     "output_type": "stream",
     "text": [
      "\rWin1/Win2/Draw: 0/0/488:  49%|████▉     | 489/1000 [01:20<01:20,  6.33it/s]"
     ]
    },
    {
     "name": "stderr",
     "output_type": "stream",
     "text": [
      "\rWin1/Win2/Draw: 0/0/489:  49%|████▉     | 489/1000 [01:20<01:20,  6.33it/s]"
     ]
    },
    {
     "name": "stderr",
     "output_type": "stream",
     "text": [
      "\rWin1/Win2/Draw: 0/0/489:  49%|████▉     | 490/1000 [01:20<01:20,  6.31it/s]"
     ]
    },
    {
     "name": "stderr",
     "output_type": "stream",
     "text": [
      "\rWin1/Win2/Draw: 0/0/490:  49%|████▉     | 490/1000 [01:20<01:20,  6.31it/s]"
     ]
    },
    {
     "name": "stderr",
     "output_type": "stream",
     "text": [
      "\rWin1/Win2/Draw: 0/0/490:  49%|████▉     | 491/1000 [01:20<01:21,  6.27it/s]"
     ]
    },
    {
     "name": "stderr",
     "output_type": "stream",
     "text": [
      "\rWin1/Win2/Draw: 0/0/491:  49%|████▉     | 491/1000 [01:20<01:21,  6.27it/s]"
     ]
    },
    {
     "name": "stderr",
     "output_type": "stream",
     "text": [
      "\rWin1/Win2/Draw: 0/0/491:  49%|████▉     | 492/1000 [01:20<01:20,  6.28it/s]"
     ]
    },
    {
     "name": "stderr",
     "output_type": "stream",
     "text": [
      "\rWin1/Win2/Draw: 0/0/492:  49%|████▉     | 492/1000 [01:20<01:20,  6.28it/s]"
     ]
    },
    {
     "name": "stderr",
     "output_type": "stream",
     "text": [
      "\rWin1/Win2/Draw: 0/0/492:  49%|████▉     | 493/1000 [01:20<01:21,  6.21it/s]"
     ]
    },
    {
     "name": "stderr",
     "output_type": "stream",
     "text": [
      "\rWin1/Win2/Draw: 0/0/493:  49%|████▉     | 493/1000 [01:20<01:21,  6.21it/s]"
     ]
    },
    {
     "name": "stderr",
     "output_type": "stream",
     "text": [
      "\rWin1/Win2/Draw: 0/0/493:  49%|████▉     | 494/1000 [01:20<01:23,  6.09it/s]"
     ]
    },
    {
     "name": "stderr",
     "output_type": "stream",
     "text": [
      "\rWin1/Win2/Draw: 0/0/494:  49%|████▉     | 494/1000 [01:20<01:23,  6.09it/s]"
     ]
    },
    {
     "name": "stderr",
     "output_type": "stream",
     "text": [
      "\rWin1/Win2/Draw: 0/0/494:  50%|████▉     | 495/1000 [01:21<01:28,  5.69it/s]"
     ]
    },
    {
     "name": "stderr",
     "output_type": "stream",
     "text": [
      "\rWin1/Win2/Draw: 0/0/495:  50%|████▉     | 495/1000 [01:21<01:28,  5.69it/s]"
     ]
    },
    {
     "name": "stderr",
     "output_type": "stream",
     "text": [
      "\rWin1/Win2/Draw: 0/0/495:  50%|████▉     | 496/1000 [01:21<01:25,  5.87it/s]"
     ]
    },
    {
     "name": "stderr",
     "output_type": "stream",
     "text": [
      "\rWin1/Win2/Draw: 0/0/496:  50%|████▉     | 496/1000 [01:21<01:25,  5.87it/s]"
     ]
    },
    {
     "name": "stderr",
     "output_type": "stream",
     "text": [
      "\rWin1/Win2/Draw: 0/0/496:  50%|████▉     | 497/1000 [01:21<01:23,  6.00it/s]"
     ]
    },
    {
     "name": "stderr",
     "output_type": "stream",
     "text": [
      "\rWin1/Win2/Draw: 0/0/497:  50%|████▉     | 497/1000 [01:21<01:23,  6.00it/s]"
     ]
    },
    {
     "name": "stderr",
     "output_type": "stream",
     "text": [
      "\rWin1/Win2/Draw: 0/0/497:  50%|████▉     | 498/1000 [01:21<01:22,  6.11it/s]"
     ]
    },
    {
     "name": "stderr",
     "output_type": "stream",
     "text": [
      "\rWin1/Win2/Draw: 0/0/498:  50%|████▉     | 498/1000 [01:21<01:22,  6.11it/s]"
     ]
    },
    {
     "name": "stderr",
     "output_type": "stream",
     "text": [
      "\rWin1/Win2/Draw: 0/0/498:  50%|████▉     | 499/1000 [01:21<01:20,  6.19it/s]"
     ]
    },
    {
     "name": "stderr",
     "output_type": "stream",
     "text": [
      "\rWin1/Win2/Draw: 0/0/499:  50%|████▉     | 499/1000 [01:21<01:20,  6.19it/s]"
     ]
    },
    {
     "name": "stderr",
     "output_type": "stream",
     "text": [
      "\rWin1/Win2/Draw: 0/0/499:  50%|█████     | 500/1000 [01:21<01:20,  6.25it/s]"
     ]
    },
    {
     "name": "stderr",
     "output_type": "stream",
     "text": [
      "\rWin1/Win2/Draw: 0/0/500:  50%|█████     | 500/1000 [01:21<01:20,  6.25it/s]"
     ]
    },
    {
     "name": "stderr",
     "output_type": "stream",
     "text": [
      "\rWin1/Win2/Draw: 0/0/500:  50%|█████     | 501/1000 [01:22<01:19,  6.30it/s]"
     ]
    },
    {
     "name": "stderr",
     "output_type": "stream",
     "text": [
      "\rWin1/Win2/Draw: 0/0/501:  50%|█████     | 501/1000 [01:22<01:19,  6.30it/s]"
     ]
    },
    {
     "name": "stderr",
     "output_type": "stream",
     "text": [
      "\rWin1/Win2/Draw: 0/0/501:  50%|█████     | 502/1000 [01:22<01:18,  6.32it/s]"
     ]
    },
    {
     "name": "stderr",
     "output_type": "stream",
     "text": [
      "\rWin1/Win2/Draw: 0/0/502:  50%|█████     | 502/1000 [01:22<01:18,  6.32it/s]"
     ]
    },
    {
     "name": "stderr",
     "output_type": "stream",
     "text": [
      "\rWin1/Win2/Draw: 0/0/502:  50%|█████     | 503/1000 [01:22<01:18,  6.34it/s]"
     ]
    },
    {
     "name": "stderr",
     "output_type": "stream",
     "text": [
      "\rWin1/Win2/Draw: 0/0/503:  50%|█████     | 503/1000 [01:22<01:18,  6.34it/s]"
     ]
    },
    {
     "name": "stderr",
     "output_type": "stream",
     "text": [
      "\rWin1/Win2/Draw: 0/0/503:  50%|█████     | 504/1000 [01:22<01:17,  6.41it/s]"
     ]
    },
    {
     "name": "stderr",
     "output_type": "stream",
     "text": [
      "\rWin1/Win2/Draw: 0/0/504:  50%|█████     | 504/1000 [01:22<01:17,  6.41it/s]"
     ]
    },
    {
     "name": "stderr",
     "output_type": "stream",
     "text": [
      "\rWin1/Win2/Draw: 0/0/504:  50%|█████     | 505/1000 [01:22<01:17,  6.42it/s]"
     ]
    },
    {
     "name": "stderr",
     "output_type": "stream",
     "text": [
      "\rWin1/Win2/Draw: 0/0/505:  50%|█████     | 505/1000 [01:22<01:17,  6.42it/s]"
     ]
    },
    {
     "name": "stderr",
     "output_type": "stream",
     "text": [
      "\rWin1/Win2/Draw: 0/0/505:  51%|█████     | 506/1000 [01:22<01:21,  6.10it/s]"
     ]
    },
    {
     "name": "stderr",
     "output_type": "stream",
     "text": [
      "\rWin1/Win2/Draw: 0/0/506:  51%|█████     | 506/1000 [01:22<01:21,  6.10it/s]"
     ]
    },
    {
     "name": "stderr",
     "output_type": "stream",
     "text": [
      "\rWin1/Win2/Draw: 0/0/506:  51%|█████     | 507/1000 [01:23<01:20,  6.11it/s]"
     ]
    },
    {
     "name": "stderr",
     "output_type": "stream",
     "text": [
      "\rWin1/Win2/Draw: 0/0/507:  51%|█████     | 507/1000 [01:23<01:20,  6.11it/s]"
     ]
    },
    {
     "name": "stderr",
     "output_type": "stream",
     "text": [
      "\rWin1/Win2/Draw: 0/0/507:  51%|█████     | 508/1000 [01:23<01:19,  6.19it/s]"
     ]
    },
    {
     "name": "stderr",
     "output_type": "stream",
     "text": [
      "\rWin1/Win2/Draw: 0/0/508:  51%|█████     | 508/1000 [01:23<01:19,  6.19it/s]"
     ]
    },
    {
     "name": "stderr",
     "output_type": "stream",
     "text": [
      "\rWin1/Win2/Draw: 0/0/508:  51%|█████     | 509/1000 [01:23<01:17,  6.30it/s]"
     ]
    },
    {
     "name": "stderr",
     "output_type": "stream",
     "text": [
      "\rWin1/Win2/Draw: 0/0/509:  51%|█████     | 509/1000 [01:23<01:17,  6.30it/s]"
     ]
    },
    {
     "name": "stderr",
     "output_type": "stream",
     "text": [
      "\rWin1/Win2/Draw: 0/0/509:  51%|█████     | 510/1000 [01:23<01:16,  6.37it/s]"
     ]
    },
    {
     "name": "stderr",
     "output_type": "stream",
     "text": [
      "\rWin1/Win2/Draw: 0/0/510:  51%|█████     | 510/1000 [01:23<01:16,  6.37it/s]"
     ]
    },
    {
     "name": "stderr",
     "output_type": "stream",
     "text": [
      "\rWin1/Win2/Draw: 0/0/510:  51%|█████     | 511/1000 [01:23<01:15,  6.44it/s]"
     ]
    },
    {
     "name": "stderr",
     "output_type": "stream",
     "text": [
      "\rWin1/Win2/Draw: 0/0/511:  51%|█████     | 511/1000 [01:23<01:15,  6.44it/s]"
     ]
    },
    {
     "name": "stderr",
     "output_type": "stream",
     "text": [
      "\rWin1/Win2/Draw: 0/0/511:  51%|█████     | 512/1000 [01:23<01:15,  6.47it/s]"
     ]
    },
    {
     "name": "stderr",
     "output_type": "stream",
     "text": [
      "\rWin1/Win2/Draw: 0/0/512:  51%|█████     | 512/1000 [01:23<01:15,  6.47it/s]"
     ]
    },
    {
     "name": "stderr",
     "output_type": "stream",
     "text": [
      "\rWin1/Win2/Draw: 0/0/512:  51%|█████▏    | 513/1000 [01:23<01:15,  6.49it/s]"
     ]
    },
    {
     "name": "stderr",
     "output_type": "stream",
     "text": [
      "\rWin1/Win2/Draw: 0/0/513:  51%|█████▏    | 513/1000 [01:23<01:15,  6.49it/s]"
     ]
    },
    {
     "name": "stderr",
     "output_type": "stream",
     "text": [
      "\rWin1/Win2/Draw: 0/0/513:  51%|█████▏    | 514/1000 [01:24<01:14,  6.54it/s]"
     ]
    },
    {
     "name": "stderr",
     "output_type": "stream",
     "text": [
      "\rWin1/Win2/Draw: 0/0/514:  51%|█████▏    | 514/1000 [01:24<01:14,  6.54it/s]"
     ]
    },
    {
     "name": "stderr",
     "output_type": "stream",
     "text": [
      "\rWin1/Win2/Draw: 0/0/514:  52%|█████▏    | 515/1000 [01:24<01:17,  6.28it/s]"
     ]
    },
    {
     "name": "stderr",
     "output_type": "stream",
     "text": [
      "\rWin1/Win2/Draw: 0/0/515:  52%|█████▏    | 515/1000 [01:24<01:17,  6.28it/s]"
     ]
    },
    {
     "name": "stderr",
     "output_type": "stream",
     "text": [
      "\rWin1/Win2/Draw: 0/0/515:  52%|█████▏    | 516/1000 [01:24<01:15,  6.42it/s]"
     ]
    },
    {
     "name": "stderr",
     "output_type": "stream",
     "text": [
      "\rWin1/Win2/Draw: 0/0/516:  52%|█████▏    | 516/1000 [01:24<01:15,  6.42it/s]"
     ]
    },
    {
     "name": "stderr",
     "output_type": "stream",
     "text": [
      "\rWin1/Win2/Draw: 0/0/516:  52%|█████▏    | 517/1000 [01:24<01:14,  6.52it/s]"
     ]
    },
    {
     "name": "stderr",
     "output_type": "stream",
     "text": [
      "\rWin1/Win2/Draw: 0/0/517:  52%|█████▏    | 517/1000 [01:24<01:14,  6.52it/s]"
     ]
    },
    {
     "name": "stderr",
     "output_type": "stream",
     "text": [
      "\rWin1/Win2/Draw: 0/0/517:  52%|█████▏    | 518/1000 [01:24<01:13,  6.58it/s]"
     ]
    },
    {
     "name": "stderr",
     "output_type": "stream",
     "text": [
      "\rWin1/Win2/Draw: 0/0/518:  52%|█████▏    | 518/1000 [01:24<01:13,  6.58it/s]"
     ]
    },
    {
     "name": "stderr",
     "output_type": "stream",
     "text": [
      "\rWin1/Win2/Draw: 0/0/518:  52%|█████▏    | 519/1000 [01:24<01:13,  6.57it/s]"
     ]
    },
    {
     "name": "stderr",
     "output_type": "stream",
     "text": [
      "\rWin1/Win2/Draw: 0/0/519:  52%|█████▏    | 519/1000 [01:24<01:13,  6.57it/s]"
     ]
    },
    {
     "name": "stderr",
     "output_type": "stream",
     "text": [
      "\rWin1/Win2/Draw: 0/0/519:  52%|█████▏    | 520/1000 [01:25<01:12,  6.64it/s]"
     ]
    },
    {
     "name": "stderr",
     "output_type": "stream",
     "text": [
      "\rWin1/Win2/Draw: 0/0/520:  52%|█████▏    | 520/1000 [01:25<01:12,  6.64it/s]"
     ]
    },
    {
     "name": "stderr",
     "output_type": "stream",
     "text": [
      "\rWin1/Win2/Draw: 0/0/520:  52%|█████▏    | 521/1000 [01:25<01:11,  6.68it/s]"
     ]
    },
    {
     "name": "stderr",
     "output_type": "stream",
     "text": [
      "\rWin1/Win2/Draw: 0/0/521:  52%|█████▏    | 521/1000 [01:25<01:11,  6.68it/s]"
     ]
    },
    {
     "name": "stderr",
     "output_type": "stream",
     "text": [
      "\rWin1/Win2/Draw: 0/0/521:  52%|█████▏    | 522/1000 [01:25<01:11,  6.69it/s]"
     ]
    },
    {
     "name": "stderr",
     "output_type": "stream",
     "text": [
      "\rWin1/Win2/Draw: 0/0/522:  52%|█████▏    | 522/1000 [01:25<01:11,  6.69it/s]"
     ]
    },
    {
     "name": "stderr",
     "output_type": "stream",
     "text": [
      "\rWin1/Win2/Draw: 0/0/522:  52%|█████▏    | 523/1000 [01:25<01:11,  6.69it/s]"
     ]
    },
    {
     "name": "stderr",
     "output_type": "stream",
     "text": [
      "\rWin1/Win2/Draw: 0/0/523:  52%|█████▏    | 523/1000 [01:25<01:11,  6.69it/s]"
     ]
    },
    {
     "name": "stderr",
     "output_type": "stream",
     "text": [
      "\rWin1/Win2/Draw: 0/0/523:  52%|█████▏    | 524/1000 [01:25<01:10,  6.72it/s]"
     ]
    },
    {
     "name": "stderr",
     "output_type": "stream",
     "text": [
      "\rWin1/Win2/Draw: 0/0/524:  52%|█████▏    | 524/1000 [01:25<01:10,  6.72it/s]"
     ]
    },
    {
     "name": "stderr",
     "output_type": "stream",
     "text": [
      "\rWin1/Win2/Draw: 0/0/524:  52%|█████▎    | 525/1000 [01:25<01:10,  6.69it/s]"
     ]
    },
    {
     "name": "stderr",
     "output_type": "stream",
     "text": [
      "\rWin1/Win2/Draw: 0/0/525:  52%|█████▎    | 525/1000 [01:25<01:10,  6.69it/s]"
     ]
    },
    {
     "name": "stderr",
     "output_type": "stream",
     "text": [
      "\rWin1/Win2/Draw: 0/0/525:  53%|█████▎    | 526/1000 [01:25<01:13,  6.44it/s]"
     ]
    },
    {
     "name": "stderr",
     "output_type": "stream",
     "text": [
      "\rWin1/Win2/Draw: 0/0/526:  53%|█████▎    | 526/1000 [01:25<01:13,  6.44it/s]"
     ]
    },
    {
     "name": "stderr",
     "output_type": "stream",
     "text": [
      "\rWin1/Win2/Draw: 0/0/526:  53%|█████▎    | 527/1000 [01:26<01:12,  6.52it/s]"
     ]
    },
    {
     "name": "stderr",
     "output_type": "stream",
     "text": [
      "\rWin1/Win2/Draw: 0/0/527:  53%|█████▎    | 527/1000 [01:26<01:12,  6.52it/s]"
     ]
    },
    {
     "name": "stderr",
     "output_type": "stream",
     "text": [
      "\rWin1/Win2/Draw: 0/0/527:  53%|█████▎    | 528/1000 [01:26<01:11,  6.57it/s]"
     ]
    },
    {
     "name": "stderr",
     "output_type": "stream",
     "text": [
      "\rWin1/Win2/Draw: 0/0/528:  53%|█████▎    | 528/1000 [01:26<01:11,  6.57it/s]"
     ]
    },
    {
     "name": "stderr",
     "output_type": "stream",
     "text": [
      "\rWin1/Win2/Draw: 0/0/528:  53%|█████▎    | 529/1000 [01:26<01:10,  6.64it/s]"
     ]
    },
    {
     "name": "stderr",
     "output_type": "stream",
     "text": [
      "\rWin1/Win2/Draw: 0/0/529:  53%|█████▎    | 529/1000 [01:26<01:10,  6.64it/s]"
     ]
    },
    {
     "name": "stderr",
     "output_type": "stream",
     "text": [
      "\rWin1/Win2/Draw: 0/0/529:  53%|█████▎    | 530/1000 [01:26<01:11,  6.58it/s]"
     ]
    },
    {
     "name": "stderr",
     "output_type": "stream",
     "text": [
      "\rWin1/Win2/Draw: 0/0/530:  53%|█████▎    | 530/1000 [01:26<01:11,  6.58it/s]"
     ]
    },
    {
     "name": "stderr",
     "output_type": "stream",
     "text": [
      "\rWin1/Win2/Draw: 0/0/530:  53%|█████▎    | 531/1000 [01:26<01:10,  6.62it/s]"
     ]
    },
    {
     "name": "stderr",
     "output_type": "stream",
     "text": [
      "\rWin1/Win2/Draw: 0/0/531:  53%|█████▎    | 531/1000 [01:26<01:10,  6.62it/s]"
     ]
    },
    {
     "name": "stderr",
     "output_type": "stream",
     "text": [
      "\rWin1/Win2/Draw: 0/0/531:  53%|█████▎    | 532/1000 [01:26<01:10,  6.63it/s]"
     ]
    },
    {
     "name": "stderr",
     "output_type": "stream",
     "text": [
      "\rWin1/Win2/Draw: 0/0/532:  53%|█████▎    | 532/1000 [01:26<01:10,  6.63it/s]"
     ]
    },
    {
     "name": "stderr",
     "output_type": "stream",
     "text": [
      "\rWin1/Win2/Draw: 0/0/532:  53%|█████▎    | 533/1000 [01:27<01:10,  6.62it/s]"
     ]
    },
    {
     "name": "stderr",
     "output_type": "stream",
     "text": [
      "\rWin1/Win2/Draw: 0/0/533:  53%|█████▎    | 533/1000 [01:27<01:10,  6.62it/s]"
     ]
    },
    {
     "name": "stderr",
     "output_type": "stream",
     "text": [
      "\rWin1/Win2/Draw: 0/0/533:  53%|█████▎    | 534/1000 [01:27<01:10,  6.65it/s]"
     ]
    },
    {
     "name": "stderr",
     "output_type": "stream",
     "text": [
      "\rWin1/Win2/Draw: 0/0/534:  53%|█████▎    | 534/1000 [01:27<01:10,  6.65it/s]"
     ]
    },
    {
     "name": "stderr",
     "output_type": "stream",
     "text": [
      "\rWin1/Win2/Draw: 0/0/534:  54%|█████▎    | 535/1000 [01:27<01:13,  6.34it/s]"
     ]
    },
    {
     "name": "stderr",
     "output_type": "stream",
     "text": [
      "\rWin1/Win2/Draw: 0/0/535:  54%|█████▎    | 535/1000 [01:27<01:13,  6.34it/s]"
     ]
    },
    {
     "name": "stderr",
     "output_type": "stream",
     "text": [
      "\rWin1/Win2/Draw: 0/0/535:  54%|█████▎    | 536/1000 [01:27<01:12,  6.44it/s]"
     ]
    },
    {
     "name": "stderr",
     "output_type": "stream",
     "text": [
      "\rWin1/Win2/Draw: 0/0/536:  54%|█████▎    | 536/1000 [01:27<01:12,  6.44it/s]"
     ]
    },
    {
     "name": "stderr",
     "output_type": "stream",
     "text": [
      "\rWin1/Win2/Draw: 0/0/536:  54%|█████▎    | 537/1000 [01:27<01:11,  6.51it/s]"
     ]
    },
    {
     "name": "stderr",
     "output_type": "stream",
     "text": [
      "\rWin1/Win2/Draw: 0/0/537:  54%|█████▎    | 537/1000 [01:27<01:11,  6.51it/s]"
     ]
    },
    {
     "name": "stderr",
     "output_type": "stream",
     "text": [
      "\rWin1/Win2/Draw: 0/0/537:  54%|█████▍    | 538/1000 [01:27<01:10,  6.57it/s]"
     ]
    },
    {
     "name": "stderr",
     "output_type": "stream",
     "text": [
      "\rWin1/Win2/Draw: 0/0/538:  54%|█████▍    | 538/1000 [01:27<01:10,  6.57it/s]"
     ]
    },
    {
     "name": "stderr",
     "output_type": "stream",
     "text": [
      "\rWin1/Win2/Draw: 0/0/538:  54%|█████▍    | 539/1000 [01:27<01:09,  6.60it/s]"
     ]
    },
    {
     "name": "stderr",
     "output_type": "stream",
     "text": [
      "\rWin1/Win2/Draw: 0/0/539:  54%|█████▍    | 539/1000 [01:27<01:09,  6.60it/s]"
     ]
    },
    {
     "name": "stderr",
     "output_type": "stream",
     "text": [
      "\rWin1/Win2/Draw: 0/0/539:  54%|█████▍    | 540/1000 [01:28<01:09,  6.64it/s]"
     ]
    },
    {
     "name": "stderr",
     "output_type": "stream",
     "text": [
      "\rWin1/Win2/Draw: 0/0/540:  54%|█████▍    | 540/1000 [01:28<01:09,  6.64it/s]"
     ]
    },
    {
     "name": "stderr",
     "output_type": "stream",
     "text": [
      "\rWin1/Win2/Draw: 0/0/540:  54%|█████▍    | 541/1000 [01:28<01:09,  6.63it/s]"
     ]
    },
    {
     "name": "stderr",
     "output_type": "stream",
     "text": [
      "\rWin1/Win2/Draw: 0/0/541:  54%|█████▍    | 541/1000 [01:28<01:09,  6.63it/s]"
     ]
    },
    {
     "name": "stderr",
     "output_type": "stream",
     "text": [
      "\rWin1/Win2/Draw: 0/0/541:  54%|█████▍    | 542/1000 [01:28<01:08,  6.67it/s]"
     ]
    },
    {
     "name": "stderr",
     "output_type": "stream",
     "text": [
      "\rWin1/Win2/Draw: 0/0/542:  54%|█████▍    | 542/1000 [01:28<01:08,  6.67it/s]"
     ]
    },
    {
     "name": "stderr",
     "output_type": "stream",
     "text": [
      "\rWin1/Win2/Draw: 0/0/542:  54%|█████▍    | 543/1000 [01:28<01:08,  6.65it/s]"
     ]
    },
    {
     "name": "stderr",
     "output_type": "stream",
     "text": [
      "\rWin1/Win2/Draw: 0/0/543:  54%|█████▍    | 543/1000 [01:28<01:08,  6.65it/s]"
     ]
    },
    {
     "name": "stderr",
     "output_type": "stream",
     "text": [
      "\rWin1/Win2/Draw: 0/0/543:  54%|█████▍    | 544/1000 [01:28<01:08,  6.67it/s]"
     ]
    },
    {
     "name": "stderr",
     "output_type": "stream",
     "text": [
      "\rWin1/Win2/Draw: 0/0/544:  54%|█████▍    | 544/1000 [01:28<01:08,  6.67it/s]"
     ]
    },
    {
     "name": "stderr",
     "output_type": "stream",
     "text": [
      "\rWin1/Win2/Draw: 0/0/544:  55%|█████▍    | 545/1000 [01:28<01:11,  6.32it/s]"
     ]
    },
    {
     "name": "stderr",
     "output_type": "stream",
     "text": [
      "\rWin1/Win2/Draw: 0/0/545:  55%|█████▍    | 545/1000 [01:28<01:11,  6.32it/s]"
     ]
    },
    {
     "name": "stderr",
     "output_type": "stream",
     "text": [
      "\rWin1/Win2/Draw: 0/0/545:  55%|█████▍    | 546/1000 [01:29<01:11,  6.38it/s]"
     ]
    },
    {
     "name": "stderr",
     "output_type": "stream",
     "text": [
      "\rWin1/Win2/Draw: 0/0/546:  55%|█████▍    | 546/1000 [01:29<01:11,  6.38it/s]"
     ]
    },
    {
     "name": "stderr",
     "output_type": "stream",
     "text": [
      "\rWin1/Win2/Draw: 0/0/546:  55%|█████▍    | 547/1000 [01:29<01:10,  6.42it/s]"
     ]
    },
    {
     "name": "stderr",
     "output_type": "stream",
     "text": [
      "\rWin1/Win2/Draw: 0/0/547:  55%|█████▍    | 547/1000 [01:29<01:10,  6.42it/s]"
     ]
    },
    {
     "name": "stderr",
     "output_type": "stream",
     "text": [
      "\rWin1/Win2/Draw: 0/0/547:  55%|█████▍    | 548/1000 [01:29<01:09,  6.47it/s]"
     ]
    },
    {
     "name": "stderr",
     "output_type": "stream",
     "text": [
      "\rWin1/Win2/Draw: 0/0/548:  55%|█████▍    | 548/1000 [01:29<01:09,  6.47it/s]"
     ]
    },
    {
     "name": "stderr",
     "output_type": "stream",
     "text": [
      "\rWin1/Win2/Draw: 0/0/548:  55%|█████▍    | 549/1000 [01:29<01:08,  6.55it/s]"
     ]
    },
    {
     "name": "stderr",
     "output_type": "stream",
     "text": [
      "\rWin1/Win2/Draw: 0/0/549:  55%|█████▍    | 549/1000 [01:29<01:08,  6.55it/s]"
     ]
    },
    {
     "name": "stderr",
     "output_type": "stream",
     "text": [
      "\rWin1/Win2/Draw: 0/0/549:  55%|█████▌    | 550/1000 [01:29<01:08,  6.59it/s]"
     ]
    },
    {
     "name": "stderr",
     "output_type": "stream",
     "text": [
      "\rWin1/Win2/Draw: 0/0/550:  55%|█████▌    | 550/1000 [01:29<01:08,  6.59it/s]"
     ]
    },
    {
     "name": "stderr",
     "output_type": "stream",
     "text": [
      "\rWin1/Win2/Draw: 0/0/550:  55%|█████▌    | 551/1000 [01:29<01:08,  6.59it/s]"
     ]
    },
    {
     "name": "stderr",
     "output_type": "stream",
     "text": [
      "\rWin1/Win2/Draw: 0/0/551:  55%|█████▌    | 551/1000 [01:29<01:08,  6.59it/s]"
     ]
    },
    {
     "name": "stderr",
     "output_type": "stream",
     "text": [
      "\rWin1/Win2/Draw: 0/0/551:  55%|█████▌    | 552/1000 [01:29<01:07,  6.62it/s]"
     ]
    },
    {
     "name": "stderr",
     "output_type": "stream",
     "text": [
      "\rWin1/Win2/Draw: 0/0/552:  55%|█████▌    | 552/1000 [01:29<01:07,  6.62it/s]"
     ]
    },
    {
     "name": "stderr",
     "output_type": "stream",
     "text": [
      "\rWin1/Win2/Draw: 0/0/552:  55%|█████▌    | 553/1000 [01:30<01:07,  6.64it/s]"
     ]
    },
    {
     "name": "stderr",
     "output_type": "stream",
     "text": [
      "\rWin1/Win2/Draw: 0/0/553:  55%|█████▌    | 553/1000 [01:30<01:07,  6.64it/s]"
     ]
    },
    {
     "name": "stderr",
     "output_type": "stream",
     "text": [
      "\rWin1/Win2/Draw: 0/0/553:  55%|█████▌    | 554/1000 [01:30<01:06,  6.67it/s]"
     ]
    },
    {
     "name": "stderr",
     "output_type": "stream",
     "text": [
      "\rWin1/Win2/Draw: 0/0/554:  55%|█████▌    | 554/1000 [01:30<01:06,  6.67it/s]"
     ]
    },
    {
     "name": "stderr",
     "output_type": "stream",
     "text": [
      "\rWin1/Win2/Draw: 0/0/554:  56%|█████▌    | 555/1000 [01:30<01:06,  6.69it/s]"
     ]
    },
    {
     "name": "stderr",
     "output_type": "stream",
     "text": [
      "\rWin1/Win2/Draw: 0/0/555:  56%|█████▌    | 555/1000 [01:30<01:06,  6.69it/s]"
     ]
    },
    {
     "name": "stderr",
     "output_type": "stream",
     "text": [
      "\rWin1/Win2/Draw: 0/0/555:  56%|█████▌    | 556/1000 [01:30<01:06,  6.68it/s]"
     ]
    },
    {
     "name": "stderr",
     "output_type": "stream",
     "text": [
      "\rWin1/Win2/Draw: 0/0/556:  56%|█████▌    | 556/1000 [01:30<01:06,  6.68it/s]"
     ]
    },
    {
     "name": "stderr",
     "output_type": "stream",
     "text": [
      "\rWin1/Win2/Draw: 0/0/556:  56%|█████▌    | 557/1000 [01:30<01:09,  6.40it/s]"
     ]
    },
    {
     "name": "stderr",
     "output_type": "stream",
     "text": [
      "\rWin1/Win2/Draw: 0/0/557:  56%|█████▌    | 557/1000 [01:30<01:09,  6.40it/s]"
     ]
    },
    {
     "name": "stderr",
     "output_type": "stream",
     "text": [
      "\rWin1/Win2/Draw: 0/0/557:  56%|█████▌    | 558/1000 [01:30<01:08,  6.47it/s]"
     ]
    },
    {
     "name": "stderr",
     "output_type": "stream",
     "text": [
      "\rWin1/Win2/Draw: 0/0/558:  56%|█████▌    | 558/1000 [01:30<01:08,  6.47it/s]"
     ]
    },
    {
     "name": "stderr",
     "output_type": "stream",
     "text": [
      "\rWin1/Win2/Draw: 0/0/558:  56%|█████▌    | 559/1000 [01:31<01:07,  6.49it/s]"
     ]
    },
    {
     "name": "stderr",
     "output_type": "stream",
     "text": [
      "\rWin1/Win2/Draw: 0/0/559:  56%|█████▌    | 559/1000 [01:31<01:07,  6.49it/s]"
     ]
    },
    {
     "name": "stderr",
     "output_type": "stream",
     "text": [
      "\rWin1/Win2/Draw: 0/0/559:  56%|█████▌    | 560/1000 [01:31<01:07,  6.56it/s]"
     ]
    },
    {
     "name": "stderr",
     "output_type": "stream",
     "text": [
      "\rWin1/Win2/Draw: 0/0/560:  56%|█████▌    | 560/1000 [01:31<01:07,  6.56it/s]"
     ]
    },
    {
     "name": "stderr",
     "output_type": "stream",
     "text": [
      "\rWin1/Win2/Draw: 0/0/560:  56%|█████▌    | 561/1000 [01:31<01:06,  6.57it/s]"
     ]
    },
    {
     "name": "stderr",
     "output_type": "stream",
     "text": [
      "\rWin1/Win2/Draw: 0/0/561:  56%|█████▌    | 561/1000 [01:31<01:06,  6.57it/s]"
     ]
    },
    {
     "name": "stderr",
     "output_type": "stream",
     "text": [
      "\rWin1/Win2/Draw: 0/0/561:  56%|█████▌    | 562/1000 [01:31<01:06,  6.59it/s]"
     ]
    },
    {
     "name": "stderr",
     "output_type": "stream",
     "text": [
      "\rWin1/Win2/Draw: 0/0/562:  56%|█████▌    | 562/1000 [01:31<01:06,  6.59it/s]"
     ]
    },
    {
     "name": "stderr",
     "output_type": "stream",
     "text": [
      "\rWin1/Win2/Draw: 0/0/562:  56%|█████▋    | 563/1000 [01:31<01:07,  6.49it/s]"
     ]
    },
    {
     "name": "stderr",
     "output_type": "stream",
     "text": [
      "\rWin1/Win2/Draw: 0/0/563:  56%|█████▋    | 563/1000 [01:31<01:07,  6.49it/s]"
     ]
    },
    {
     "name": "stderr",
     "output_type": "stream",
     "text": [
      "\rWin1/Win2/Draw: 0/0/563:  56%|█████▋    | 564/1000 [01:31<01:06,  6.56it/s]"
     ]
    },
    {
     "name": "stderr",
     "output_type": "stream",
     "text": [
      "\rWin1/Win2/Draw: 0/0/564:  56%|█████▋    | 564/1000 [01:31<01:06,  6.56it/s]"
     ]
    },
    {
     "name": "stderr",
     "output_type": "stream",
     "text": [
      "\rWin1/Win2/Draw: 0/0/564:  56%|█████▋    | 565/1000 [01:31<01:06,  6.59it/s]"
     ]
    },
    {
     "name": "stderr",
     "output_type": "stream",
     "text": [
      "\rWin1/Win2/Draw: 0/0/565:  56%|█████▋    | 565/1000 [01:31<01:06,  6.59it/s]"
     ]
    },
    {
     "name": "stderr",
     "output_type": "stream",
     "text": [
      "\rWin1/Win2/Draw: 0/0/565:  57%|█████▋    | 566/1000 [01:32<01:09,  6.28it/s]"
     ]
    },
    {
     "name": "stderr",
     "output_type": "stream",
     "text": [
      "\rWin1/Win2/Draw: 0/0/566:  57%|█████▋    | 566/1000 [01:32<01:09,  6.28it/s]"
     ]
    },
    {
     "name": "stderr",
     "output_type": "stream",
     "text": [
      "\rWin1/Win2/Draw: 0/0/566:  57%|█████▋    | 567/1000 [01:32<01:07,  6.40it/s]"
     ]
    },
    {
     "name": "stderr",
     "output_type": "stream",
     "text": [
      "\rWin1/Win2/Draw: 0/0/567:  57%|█████▋    | 567/1000 [01:32<01:07,  6.40it/s]"
     ]
    },
    {
     "name": "stderr",
     "output_type": "stream",
     "text": [
      "\rWin1/Win2/Draw: 0/0/567:  57%|█████▋    | 568/1000 [01:32<01:06,  6.47it/s]"
     ]
    },
    {
     "name": "stderr",
     "output_type": "stream",
     "text": [
      "\rWin1/Win2/Draw: 0/0/568:  57%|█████▋    | 568/1000 [01:32<01:06,  6.47it/s]"
     ]
    },
    {
     "name": "stderr",
     "output_type": "stream",
     "text": [
      "\rWin1/Win2/Draw: 0/0/568:  57%|█████▋    | 569/1000 [01:32<01:05,  6.53it/s]"
     ]
    },
    {
     "name": "stderr",
     "output_type": "stream",
     "text": [
      "\rWin1/Win2/Draw: 0/0/569:  57%|█████▋    | 569/1000 [01:32<01:05,  6.53it/s]"
     ]
    },
    {
     "name": "stderr",
     "output_type": "stream",
     "text": [
      "\rWin1/Win2/Draw: 0/0/569:  57%|█████▋    | 570/1000 [01:32<01:05,  6.59it/s]"
     ]
    },
    {
     "name": "stderr",
     "output_type": "stream",
     "text": [
      "\rWin1/Win2/Draw: 0/0/570:  57%|█████▋    | 570/1000 [01:32<01:05,  6.59it/s]"
     ]
    },
    {
     "name": "stderr",
     "output_type": "stream",
     "text": [
      "\rWin1/Win2/Draw: 0/0/570:  57%|█████▋    | 571/1000 [01:32<01:05,  6.60it/s]"
     ]
    },
    {
     "name": "stderr",
     "output_type": "stream",
     "text": [
      "\rWin1/Win2/Draw: 0/0/571:  57%|█████▋    | 571/1000 [01:32<01:05,  6.60it/s]"
     ]
    },
    {
     "name": "stderr",
     "output_type": "stream",
     "text": [
      "\rWin1/Win2/Draw: 0/0/571:  57%|█████▋    | 572/1000 [01:32<01:05,  6.52it/s]"
     ]
    },
    {
     "name": "stderr",
     "output_type": "stream",
     "text": [
      "\rWin1/Win2/Draw: 0/0/572:  57%|█████▋    | 572/1000 [01:32<01:05,  6.52it/s]"
     ]
    },
    {
     "name": "stderr",
     "output_type": "stream",
     "text": [
      "\rWin1/Win2/Draw: 0/0/572:  57%|█████▋    | 573/1000 [01:33<01:04,  6.57it/s]"
     ]
    },
    {
     "name": "stderr",
     "output_type": "stream",
     "text": [
      "\rWin1/Win2/Draw: 0/0/573:  57%|█████▋    | 573/1000 [01:33<01:04,  6.57it/s]"
     ]
    },
    {
     "name": "stderr",
     "output_type": "stream",
     "text": [
      "\rWin1/Win2/Draw: 0/0/573:  57%|█████▋    | 574/1000 [01:33<01:05,  6.47it/s]"
     ]
    },
    {
     "name": "stderr",
     "output_type": "stream",
     "text": [
      "\rWin1/Win2/Draw: 0/0/574:  57%|█████▋    | 574/1000 [01:33<01:05,  6.47it/s]"
     ]
    },
    {
     "name": "stderr",
     "output_type": "stream",
     "text": [
      "\rWin1/Win2/Draw: 0/0/574:  57%|█████▊    | 575/1000 [01:33<01:05,  6.48it/s]"
     ]
    },
    {
     "name": "stderr",
     "output_type": "stream",
     "text": [
      "\rWin1/Win2/Draw: 0/0/575:  57%|█████▊    | 575/1000 [01:33<01:05,  6.48it/s]"
     ]
    },
    {
     "name": "stderr",
     "output_type": "stream",
     "text": [
      "\rWin1/Win2/Draw: 0/0/575:  58%|█████▊    | 576/1000 [01:33<01:05,  6.51it/s]"
     ]
    },
    {
     "name": "stderr",
     "output_type": "stream",
     "text": [
      "\rWin1/Win2/Draw: 0/0/576:  58%|█████▊    | 576/1000 [01:33<01:05,  6.51it/s]"
     ]
    },
    {
     "name": "stderr",
     "output_type": "stream",
     "text": [
      "\rWin1/Win2/Draw: 0/0/576:  58%|█████▊    | 577/1000 [01:33<01:08,  6.18it/s]"
     ]
    },
    {
     "name": "stderr",
     "output_type": "stream",
     "text": [
      "\rWin1/Win2/Draw: 0/0/577:  58%|█████▊    | 577/1000 [01:33<01:08,  6.18it/s]"
     ]
    },
    {
     "name": "stderr",
     "output_type": "stream",
     "text": [
      "\rWin1/Win2/Draw: 0/0/577:  58%|█████▊    | 578/1000 [01:33<01:06,  6.33it/s]"
     ]
    },
    {
     "name": "stderr",
     "output_type": "stream",
     "text": [
      "\rWin1/Win2/Draw: 0/0/578:  58%|█████▊    | 578/1000 [01:33<01:06,  6.33it/s]"
     ]
    },
    {
     "name": "stderr",
     "output_type": "stream",
     "text": [
      "\rWin1/Win2/Draw: 0/0/578:  58%|█████▊    | 579/1000 [01:34<01:05,  6.45it/s]"
     ]
    },
    {
     "name": "stderr",
     "output_type": "stream",
     "text": [
      "\rWin1/Win2/Draw: 0/0/579:  58%|█████▊    | 579/1000 [01:34<01:05,  6.45it/s]"
     ]
    },
    {
     "name": "stderr",
     "output_type": "stream",
     "text": [
      "\rWin1/Win2/Draw: 0/0/579:  58%|█████▊    | 580/1000 [01:34<01:04,  6.53it/s]"
     ]
    },
    {
     "name": "stderr",
     "output_type": "stream",
     "text": [
      "\rWin1/Win2/Draw: 0/0/580:  58%|█████▊    | 580/1000 [01:34<01:04,  6.53it/s]"
     ]
    },
    {
     "name": "stderr",
     "output_type": "stream",
     "text": [
      "\rWin1/Win2/Draw: 0/0/580:  58%|█████▊    | 581/1000 [01:34<01:03,  6.59it/s]"
     ]
    },
    {
     "name": "stderr",
     "output_type": "stream",
     "text": [
      "\rWin1/Win2/Draw: 0/0/581:  58%|█████▊    | 581/1000 [01:34<01:03,  6.59it/s]"
     ]
    },
    {
     "name": "stderr",
     "output_type": "stream",
     "text": [
      "\rWin1/Win2/Draw: 0/0/581:  58%|█████▊    | 582/1000 [01:34<01:03,  6.58it/s]"
     ]
    },
    {
     "name": "stderr",
     "output_type": "stream",
     "text": [
      "\rWin1/Win2/Draw: 0/0/582:  58%|█████▊    | 582/1000 [01:34<01:03,  6.58it/s]"
     ]
    },
    {
     "name": "stderr",
     "output_type": "stream",
     "text": [
      "\rWin1/Win2/Draw: 0/0/582:  58%|█████▊    | 583/1000 [01:34<01:03,  6.54it/s]"
     ]
    },
    {
     "name": "stderr",
     "output_type": "stream",
     "text": [
      "\rWin1/Win2/Draw: 0/0/583:  58%|█████▊    | 583/1000 [01:34<01:03,  6.54it/s]"
     ]
    },
    {
     "name": "stderr",
     "output_type": "stream",
     "text": [
      "\rWin1/Win2/Draw: 0/0/583:  58%|█████▊    | 584/1000 [01:34<01:04,  6.50it/s]"
     ]
    },
    {
     "name": "stderr",
     "output_type": "stream",
     "text": [
      "\rWin1/Win2/Draw: 0/0/584:  58%|█████▊    | 584/1000 [01:34<01:04,  6.50it/s]"
     ]
    },
    {
     "name": "stderr",
     "output_type": "stream",
     "text": [
      "\rWin1/Win2/Draw: 0/0/584:  58%|█████▊    | 585/1000 [01:35<01:04,  6.45it/s]"
     ]
    },
    {
     "name": "stderr",
     "output_type": "stream",
     "text": [
      "\rWin1/Win2/Draw: 0/0/585:  58%|█████▊    | 585/1000 [01:35<01:04,  6.45it/s]"
     ]
    },
    {
     "name": "stderr",
     "output_type": "stream",
     "text": [
      "\rWin1/Win2/Draw: 0/0/585:  59%|█████▊    | 586/1000 [01:35<01:03,  6.48it/s]"
     ]
    },
    {
     "name": "stderr",
     "output_type": "stream",
     "text": [
      "\rWin1/Win2/Draw: 0/0/586:  59%|█████▊    | 586/1000 [01:35<01:03,  6.48it/s]"
     ]
    },
    {
     "name": "stderr",
     "output_type": "stream",
     "text": [
      "\rWin1/Win2/Draw: 0/0/586:  59%|█████▊    | 587/1000 [01:35<01:03,  6.52it/s]"
     ]
    },
    {
     "name": "stderr",
     "output_type": "stream",
     "text": [
      "\rWin1/Win2/Draw: 0/0/587:  59%|█████▊    | 587/1000 [01:35<01:03,  6.52it/s]"
     ]
    },
    {
     "name": "stderr",
     "output_type": "stream",
     "text": [
      "\rWin1/Win2/Draw: 0/0/587:  59%|█████▉    | 588/1000 [01:35<01:06,  6.22it/s]"
     ]
    },
    {
     "name": "stderr",
     "output_type": "stream",
     "text": [
      "\rWin1/Win2/Draw: 0/0/588:  59%|█████▉    | 588/1000 [01:35<01:06,  6.22it/s]"
     ]
    },
    {
     "name": "stderr",
     "output_type": "stream",
     "text": [
      "\rWin1/Win2/Draw: 0/0/588:  59%|█████▉    | 589/1000 [01:35<01:05,  6.24it/s]"
     ]
    },
    {
     "name": "stderr",
     "output_type": "stream",
     "text": [
      "\rWin1/Win2/Draw: 0/0/589:  59%|█████▉    | 589/1000 [01:35<01:05,  6.24it/s]"
     ]
    },
    {
     "name": "stderr",
     "output_type": "stream",
     "text": [
      "\rWin1/Win2/Draw: 0/0/589:  59%|█████▉    | 590/1000 [01:35<01:04,  6.35it/s]"
     ]
    },
    {
     "name": "stderr",
     "output_type": "stream",
     "text": [
      "\rWin1/Win2/Draw: 0/0/590:  59%|█████▉    | 590/1000 [01:35<01:04,  6.35it/s]"
     ]
    },
    {
     "name": "stderr",
     "output_type": "stream",
     "text": [
      "\rWin1/Win2/Draw: 0/0/590:  59%|█████▉    | 591/1000 [01:35<01:04,  6.37it/s]"
     ]
    },
    {
     "name": "stderr",
     "output_type": "stream",
     "text": [
      "\rWin1/Win2/Draw: 0/0/591:  59%|█████▉    | 591/1000 [01:35<01:04,  6.37it/s]"
     ]
    },
    {
     "name": "stderr",
     "output_type": "stream",
     "text": [
      "\rWin1/Win2/Draw: 0/0/591:  59%|█████▉    | 592/1000 [01:36<01:03,  6.45it/s]"
     ]
    },
    {
     "name": "stderr",
     "output_type": "stream",
     "text": [
      "\rWin1/Win2/Draw: 0/0/592:  59%|█████▉    | 592/1000 [01:36<01:03,  6.45it/s]"
     ]
    },
    {
     "name": "stderr",
     "output_type": "stream",
     "text": [
      "\rWin1/Win2/Draw: 0/0/592:  59%|█████▉    | 593/1000 [01:36<01:02,  6.48it/s]"
     ]
    },
    {
     "name": "stderr",
     "output_type": "stream",
     "text": [
      "\rWin1/Win2/Draw: 0/0/593:  59%|█████▉    | 593/1000 [01:36<01:02,  6.48it/s]"
     ]
    },
    {
     "name": "stderr",
     "output_type": "stream",
     "text": [
      "\rWin1/Win2/Draw: 0/0/593:  59%|█████▉    | 594/1000 [01:36<01:02,  6.46it/s]"
     ]
    },
    {
     "name": "stderr",
     "output_type": "stream",
     "text": [
      "\rWin1/Win2/Draw: 0/0/594:  59%|█████▉    | 594/1000 [01:36<01:02,  6.46it/s]"
     ]
    },
    {
     "name": "stderr",
     "output_type": "stream",
     "text": [
      "\rWin1/Win2/Draw: 0/0/594:  60%|█████▉    | 595/1000 [01:36<01:02,  6.45it/s]"
     ]
    },
    {
     "name": "stderr",
     "output_type": "stream",
     "text": [
      "\rWin1/Win2/Draw: 0/0/595:  60%|█████▉    | 595/1000 [01:36<01:02,  6.45it/s]"
     ]
    },
    {
     "name": "stderr",
     "output_type": "stream",
     "text": [
      "\rWin1/Win2/Draw: 0/0/595:  60%|█████▉    | 596/1000 [01:36<01:02,  6.49it/s]"
     ]
    },
    {
     "name": "stderr",
     "output_type": "stream",
     "text": [
      "\rWin1/Win2/Draw: 0/0/596:  60%|█████▉    | 596/1000 [01:36<01:02,  6.49it/s]"
     ]
    },
    {
     "name": "stderr",
     "output_type": "stream",
     "text": [
      "\rWin1/Win2/Draw: 0/0/596:  60%|█████▉    | 597/1000 [01:36<01:05,  6.15it/s]"
     ]
    },
    {
     "name": "stderr",
     "output_type": "stream",
     "text": [
      "\rWin1/Win2/Draw: 0/0/597:  60%|█████▉    | 597/1000 [01:36<01:05,  6.15it/s]"
     ]
    },
    {
     "name": "stderr",
     "output_type": "stream",
     "text": [
      "\rWin1/Win2/Draw: 0/0/597:  60%|█████▉    | 598/1000 [01:37<01:04,  6.27it/s]"
     ]
    },
    {
     "name": "stderr",
     "output_type": "stream",
     "text": [
      "\rWin1/Win2/Draw: 0/0/598:  60%|█████▉    | 598/1000 [01:37<01:04,  6.27it/s]"
     ]
    },
    {
     "name": "stderr",
     "output_type": "stream",
     "text": [
      "\rWin1/Win2/Draw: 0/0/598:  60%|█████▉    | 599/1000 [01:37<01:03,  6.32it/s]"
     ]
    },
    {
     "name": "stderr",
     "output_type": "stream",
     "text": [
      "\rWin1/Win2/Draw: 0/0/599:  60%|█████▉    | 599/1000 [01:37<01:03,  6.32it/s]"
     ]
    },
    {
     "name": "stderr",
     "output_type": "stream",
     "text": [
      "\rWin1/Win2/Draw: 0/0/599:  60%|██████    | 600/1000 [01:37<01:02,  6.39it/s]"
     ]
    },
    {
     "name": "stderr",
     "output_type": "stream",
     "text": [
      "\rWin1/Win2/Draw: 0/0/600:  60%|██████    | 600/1000 [01:37<01:02,  6.39it/s]"
     ]
    },
    {
     "name": "stderr",
     "output_type": "stream",
     "text": [
      "\rWin1/Win2/Draw: 0/0/600:  60%|██████    | 601/1000 [01:37<01:02,  6.41it/s]"
     ]
    },
    {
     "name": "stderr",
     "output_type": "stream",
     "text": [
      "\rWin1/Win2/Draw: 0/0/601:  60%|██████    | 601/1000 [01:37<01:02,  6.41it/s]"
     ]
    },
    {
     "name": "stderr",
     "output_type": "stream",
     "text": [
      "\rWin1/Win2/Draw: 0/0/601:  60%|██████    | 602/1000 [01:37<01:02,  6.40it/s]"
     ]
    },
    {
     "name": "stderr",
     "output_type": "stream",
     "text": [
      "\rWin1/Win2/Draw: 0/0/602:  60%|██████    | 602/1000 [01:37<01:02,  6.40it/s]"
     ]
    },
    {
     "name": "stderr",
     "output_type": "stream",
     "text": [
      "\rWin1/Win2/Draw: 0/0/602:  60%|██████    | 603/1000 [01:37<01:02,  6.39it/s]"
     ]
    },
    {
     "name": "stderr",
     "output_type": "stream",
     "text": [
      "\rWin1/Win2/Draw: 0/0/603:  60%|██████    | 603/1000 [01:37<01:02,  6.39it/s]"
     ]
    },
    {
     "name": "stderr",
     "output_type": "stream",
     "text": [
      "\rWin1/Win2/Draw: 0/0/603:  60%|██████    | 604/1000 [01:37<01:01,  6.40it/s]"
     ]
    },
    {
     "name": "stderr",
     "output_type": "stream",
     "text": [
      "\rWin1/Win2/Draw: 0/0/604:  60%|██████    | 604/1000 [01:37<01:01,  6.40it/s]"
     ]
    },
    {
     "name": "stderr",
     "output_type": "stream",
     "text": [
      "\rWin1/Win2/Draw: 0/0/604:  60%|██████    | 605/1000 [01:38<01:01,  6.41it/s]"
     ]
    },
    {
     "name": "stderr",
     "output_type": "stream",
     "text": [
      "\rWin1/Win2/Draw: 0/0/605:  60%|██████    | 605/1000 [01:38<01:01,  6.41it/s]"
     ]
    },
    {
     "name": "stderr",
     "output_type": "stream",
     "text": [
      "\rWin1/Win2/Draw: 0/0/605:  61%|██████    | 606/1000 [01:38<01:01,  6.40it/s]"
     ]
    },
    {
     "name": "stderr",
     "output_type": "stream",
     "text": [
      "\rWin1/Win2/Draw: 0/0/606:  61%|██████    | 606/1000 [01:38<01:01,  6.40it/s]"
     ]
    },
    {
     "name": "stderr",
     "output_type": "stream",
     "text": [
      "\rWin1/Win2/Draw: 0/0/606:  61%|██████    | 607/1000 [01:38<01:01,  6.43it/s]"
     ]
    },
    {
     "name": "stderr",
     "output_type": "stream",
     "text": [
      "\rWin1/Win2/Draw: 0/0/607:  61%|██████    | 607/1000 [01:38<01:01,  6.43it/s]"
     ]
    },
    {
     "name": "stderr",
     "output_type": "stream",
     "text": [
      "\rWin1/Win2/Draw: 0/0/607:  61%|██████    | 608/1000 [01:38<01:03,  6.13it/s]"
     ]
    },
    {
     "name": "stderr",
     "output_type": "stream",
     "text": [
      "\rWin1/Win2/Draw: 0/0/608:  61%|██████    | 608/1000 [01:38<01:03,  6.13it/s]"
     ]
    },
    {
     "name": "stderr",
     "output_type": "stream",
     "text": [
      "\rWin1/Win2/Draw: 0/0/608:  61%|██████    | 609/1000 [01:38<01:02,  6.26it/s]"
     ]
    },
    {
     "name": "stderr",
     "output_type": "stream",
     "text": [
      "\rWin1/Win2/Draw: 0/0/609:  61%|██████    | 609/1000 [01:38<01:02,  6.26it/s]"
     ]
    },
    {
     "name": "stderr",
     "output_type": "stream",
     "text": [
      "\rWin1/Win2/Draw: 0/0/609:  61%|██████    | 610/1000 [01:38<01:02,  6.25it/s]"
     ]
    },
    {
     "name": "stderr",
     "output_type": "stream",
     "text": [
      "\rWin1/Win2/Draw: 0/0/610:  61%|██████    | 610/1000 [01:38<01:02,  6.25it/s]"
     ]
    },
    {
     "name": "stderr",
     "output_type": "stream",
     "text": [
      "\rWin1/Win2/Draw: 0/0/610:  61%|██████    | 611/1000 [01:39<01:02,  6.27it/s]"
     ]
    },
    {
     "name": "stderr",
     "output_type": "stream",
     "text": [
      "\rWin1/Win2/Draw: 0/0/611:  61%|██████    | 611/1000 [01:39<01:02,  6.27it/s]"
     ]
    },
    {
     "name": "stderr",
     "output_type": "stream",
     "text": [
      "\rWin1/Win2/Draw: 0/0/611:  61%|██████    | 612/1000 [01:39<01:02,  6.25it/s]"
     ]
    },
    {
     "name": "stderr",
     "output_type": "stream",
     "text": [
      "\rWin1/Win2/Draw: 0/0/612:  61%|██████    | 612/1000 [01:39<01:02,  6.25it/s]"
     ]
    },
    {
     "name": "stderr",
     "output_type": "stream",
     "text": [
      "\rWin1/Win2/Draw: 0/0/612:  61%|██████▏   | 613/1000 [01:39<01:01,  6.32it/s]"
     ]
    },
    {
     "name": "stderr",
     "output_type": "stream",
     "text": [
      "\rWin1/Win2/Draw: 0/0/613:  61%|██████▏   | 613/1000 [01:39<01:01,  6.32it/s]"
     ]
    },
    {
     "name": "stderr",
     "output_type": "stream",
     "text": [
      "\rWin1/Win2/Draw: 0/0/613:  61%|██████▏   | 614/1000 [01:39<01:00,  6.33it/s]"
     ]
    },
    {
     "name": "stderr",
     "output_type": "stream",
     "text": [
      "\rWin1/Win2/Draw: 0/0/614:  61%|██████▏   | 614/1000 [01:39<01:00,  6.33it/s]"
     ]
    },
    {
     "name": "stderr",
     "output_type": "stream",
     "text": [
      "\rWin1/Win2/Draw: 0/0/614:  62%|██████▏   | 615/1000 [01:39<01:00,  6.39it/s]"
     ]
    },
    {
     "name": "stderr",
     "output_type": "stream",
     "text": [
      "\rWin1/Win2/Draw: 0/0/615:  62%|██████▏   | 615/1000 [01:39<01:00,  6.39it/s]"
     ]
    },
    {
     "name": "stderr",
     "output_type": "stream",
     "text": [
      "\rWin1/Win2/Draw: 0/0/615:  62%|██████▏   | 616/1000 [01:39<01:00,  6.36it/s]"
     ]
    },
    {
     "name": "stderr",
     "output_type": "stream",
     "text": [
      "\rWin1/Win2/Draw: 0/0/616:  62%|██████▏   | 616/1000 [01:39<01:00,  6.36it/s]"
     ]
    },
    {
     "name": "stderr",
     "output_type": "stream",
     "text": [
      "\rWin1/Win2/Draw: 0/0/616:  62%|██████▏   | 617/1000 [01:40<01:02,  6.11it/s]"
     ]
    },
    {
     "name": "stderr",
     "output_type": "stream",
     "text": [
      "\rWin1/Win2/Draw: 0/0/617:  62%|██████▏   | 617/1000 [01:40<01:02,  6.11it/s]"
     ]
    },
    {
     "name": "stderr",
     "output_type": "stream",
     "text": [
      "\rWin1/Win2/Draw: 0/0/617:  62%|██████▏   | 618/1000 [01:40<01:04,  5.93it/s]"
     ]
    },
    {
     "name": "stderr",
     "output_type": "stream",
     "text": [
      "\rWin1/Win2/Draw: 0/0/618:  62%|██████▏   | 618/1000 [01:40<01:04,  5.93it/s]"
     ]
    },
    {
     "name": "stderr",
     "output_type": "stream",
     "text": [
      "\rWin1/Win2/Draw: 0/0/618:  62%|██████▏   | 619/1000 [01:40<01:02,  6.12it/s]"
     ]
    },
    {
     "name": "stderr",
     "output_type": "stream",
     "text": [
      "\rWin1/Win2/Draw: 0/0/619:  62%|██████▏   | 619/1000 [01:40<01:02,  6.12it/s]"
     ]
    },
    {
     "name": "stderr",
     "output_type": "stream",
     "text": [
      "\rWin1/Win2/Draw: 0/0/619:  62%|██████▏   | 620/1000 [01:40<01:01,  6.16it/s]"
     ]
    },
    {
     "name": "stderr",
     "output_type": "stream",
     "text": [
      "\rWin1/Win2/Draw: 0/0/620:  62%|██████▏   | 620/1000 [01:40<01:01,  6.16it/s]"
     ]
    },
    {
     "name": "stderr",
     "output_type": "stream",
     "text": [
      "\rWin1/Win2/Draw: 0/0/620:  62%|██████▏   | 621/1000 [01:40<01:01,  6.17it/s]"
     ]
    },
    {
     "name": "stderr",
     "output_type": "stream",
     "text": [
      "\rWin1/Win2/Draw: 0/0/621:  62%|██████▏   | 621/1000 [01:40<01:01,  6.17it/s]"
     ]
    },
    {
     "name": "stderr",
     "output_type": "stream",
     "text": [
      "\rWin1/Win2/Draw: 0/0/621:  62%|██████▏   | 622/1000 [01:40<01:00,  6.23it/s]"
     ]
    },
    {
     "name": "stderr",
     "output_type": "stream",
     "text": [
      "\rWin1/Win2/Draw: 0/0/622:  62%|██████▏   | 622/1000 [01:40<01:00,  6.23it/s]"
     ]
    },
    {
     "name": "stderr",
     "output_type": "stream",
     "text": [
      "\rWin1/Win2/Draw: 0/0/622:  62%|██████▏   | 623/1000 [01:41<00:59,  6.30it/s]"
     ]
    },
    {
     "name": "stderr",
     "output_type": "stream",
     "text": [
      "\rWin1/Win2/Draw: 0/0/623:  62%|██████▏   | 623/1000 [01:41<00:59,  6.30it/s]"
     ]
    },
    {
     "name": "stderr",
     "output_type": "stream",
     "text": [
      "\rWin1/Win2/Draw: 0/0/623:  62%|██████▏   | 624/1000 [01:41<00:59,  6.36it/s]"
     ]
    },
    {
     "name": "stderr",
     "output_type": "stream",
     "text": [
      "\rWin1/Win2/Draw: 0/0/624:  62%|██████▏   | 624/1000 [01:41<00:59,  6.36it/s]"
     ]
    },
    {
     "name": "stderr",
     "output_type": "stream",
     "text": [
      "\rWin1/Win2/Draw: 0/0/624:  62%|██████▎   | 625/1000 [01:41<00:58,  6.37it/s]"
     ]
    },
    {
     "name": "stderr",
     "output_type": "stream",
     "text": [
      "\rWin1/Win2/Draw: 0/0/625:  62%|██████▎   | 625/1000 [01:41<00:58,  6.37it/s]"
     ]
    },
    {
     "name": "stderr",
     "output_type": "stream",
     "text": [
      "\rWin1/Win2/Draw: 0/0/625:  63%|██████▎   | 626/1000 [01:41<00:58,  6.41it/s]"
     ]
    },
    {
     "name": "stderr",
     "output_type": "stream",
     "text": [
      "\rWin1/Win2/Draw: 0/0/626:  63%|██████▎   | 626/1000 [01:41<00:58,  6.41it/s]"
     ]
    },
    {
     "name": "stderr",
     "output_type": "stream",
     "text": [
      "\rWin1/Win2/Draw: 0/0/626:  63%|██████▎   | 627/1000 [01:41<01:00,  6.15it/s]"
     ]
    },
    {
     "name": "stderr",
     "output_type": "stream",
     "text": [
      "\rWin1/Win2/Draw: 0/0/627:  63%|██████▎   | 627/1000 [01:41<01:00,  6.15it/s]"
     ]
    },
    {
     "name": "stderr",
     "output_type": "stream",
     "text": [
      "\rWin1/Win2/Draw: 0/0/627:  63%|██████▎   | 628/1000 [01:41<00:59,  6.23it/s]"
     ]
    },
    {
     "name": "stderr",
     "output_type": "stream",
     "text": [
      "\rWin1/Win2/Draw: 0/0/628:  63%|██████▎   | 628/1000 [01:41<00:59,  6.23it/s]"
     ]
    },
    {
     "name": "stderr",
     "output_type": "stream",
     "text": [
      "\rWin1/Win2/Draw: 0/0/628:  63%|██████▎   | 629/1000 [01:41<00:58,  6.33it/s]"
     ]
    },
    {
     "name": "stderr",
     "output_type": "stream",
     "text": [
      "\rWin1/Win2/Draw: 0/0/629:  63%|██████▎   | 629/1000 [01:41<00:58,  6.33it/s]"
     ]
    },
    {
     "name": "stderr",
     "output_type": "stream",
     "text": [
      "\rWin1/Win2/Draw: 0/0/629:  63%|██████▎   | 630/1000 [01:42<00:57,  6.41it/s]"
     ]
    },
    {
     "name": "stderr",
     "output_type": "stream",
     "text": [
      "\rWin1/Win2/Draw: 0/0/630:  63%|██████▎   | 630/1000 [01:42<00:57,  6.41it/s]"
     ]
    },
    {
     "name": "stderr",
     "output_type": "stream",
     "text": [
      "\rWin1/Win2/Draw: 0/0/630:  63%|██████▎   | 631/1000 [01:42<00:57,  6.46it/s]"
     ]
    },
    {
     "name": "stderr",
     "output_type": "stream",
     "text": [
      "\rWin1/Win2/Draw: 0/0/631:  63%|██████▎   | 631/1000 [01:42<00:57,  6.46it/s]"
     ]
    },
    {
     "name": "stderr",
     "output_type": "stream",
     "text": [
      "\rWin1/Win2/Draw: 0/0/631:  63%|██████▎   | 632/1000 [01:42<00:56,  6.48it/s]"
     ]
    },
    {
     "name": "stderr",
     "output_type": "stream",
     "text": [
      "\rWin1/Win2/Draw: 0/0/632:  63%|██████▎   | 632/1000 [01:42<00:56,  6.48it/s]"
     ]
    },
    {
     "name": "stderr",
     "output_type": "stream",
     "text": [
      "\rWin1/Win2/Draw: 0/0/632:  63%|██████▎   | 633/1000 [01:42<00:56,  6.52it/s]"
     ]
    },
    {
     "name": "stderr",
     "output_type": "stream",
     "text": [
      "\rWin1/Win2/Draw: 0/0/633:  63%|██████▎   | 633/1000 [01:42<00:56,  6.52it/s]"
     ]
    },
    {
     "name": "stderr",
     "output_type": "stream",
     "text": [
      "\rWin1/Win2/Draw: 0/0/633:  63%|██████▎   | 634/1000 [01:42<00:55,  6.55it/s]"
     ]
    },
    {
     "name": "stderr",
     "output_type": "stream",
     "text": [
      "\rWin1/Win2/Draw: 0/0/634:  63%|██████▎   | 634/1000 [01:42<00:55,  6.55it/s]"
     ]
    },
    {
     "name": "stderr",
     "output_type": "stream",
     "text": [
      "\rWin1/Win2/Draw: 0/0/634:  64%|██████▎   | 635/1000 [01:42<00:56,  6.49it/s]"
     ]
    },
    {
     "name": "stderr",
     "output_type": "stream",
     "text": [
      "\rWin1/Win2/Draw: 0/0/635:  64%|██████▎   | 635/1000 [01:42<00:56,  6.49it/s]"
     ]
    },
    {
     "name": "stderr",
     "output_type": "stream",
     "text": [
      "\rWin1/Win2/Draw: 0/0/635:  64%|██████▎   | 636/1000 [01:43<00:55,  6.53it/s]"
     ]
    },
    {
     "name": "stderr",
     "output_type": "stream",
     "text": [
      "\rWin1/Win2/Draw: 0/0/636:  64%|██████▎   | 636/1000 [01:43<00:55,  6.53it/s]"
     ]
    },
    {
     "name": "stderr",
     "output_type": "stream",
     "text": [
      "\rWin1/Win2/Draw: 0/0/636:  64%|██████▎   | 637/1000 [01:43<00:55,  6.54it/s]"
     ]
    },
    {
     "name": "stderr",
     "output_type": "stream",
     "text": [
      "\rWin1/Win2/Draw: 0/0/637:  64%|██████▎   | 637/1000 [01:43<00:55,  6.54it/s]"
     ]
    },
    {
     "name": "stderr",
     "output_type": "stream",
     "text": [
      "\rWin1/Win2/Draw: 0/0/637:  64%|██████▍   | 638/1000 [01:43<00:55,  6.55it/s]"
     ]
    },
    {
     "name": "stderr",
     "output_type": "stream",
     "text": [
      "\rWin1/Win2/Draw: 0/0/638:  64%|██████▍   | 638/1000 [01:43<00:55,  6.55it/s]"
     ]
    },
    {
     "name": "stderr",
     "output_type": "stream",
     "text": [
      "\rWin1/Win2/Draw: 0/0/638:  64%|██████▍   | 639/1000 [01:43<00:58,  6.17it/s]"
     ]
    },
    {
     "name": "stderr",
     "output_type": "stream",
     "text": [
      "\rWin1/Win2/Draw: 0/0/639:  64%|██████▍   | 639/1000 [01:43<00:58,  6.17it/s]"
     ]
    },
    {
     "name": "stderr",
     "output_type": "stream",
     "text": [
      "\rWin1/Win2/Draw: 0/0/639:  64%|██████▍   | 640/1000 [01:43<00:57,  6.27it/s]"
     ]
    },
    {
     "name": "stderr",
     "output_type": "stream",
     "text": [
      "\rWin1/Win2/Draw: 0/0/640:  64%|██████▍   | 640/1000 [01:43<00:57,  6.27it/s]"
     ]
    },
    {
     "name": "stderr",
     "output_type": "stream",
     "text": [
      "\rWin1/Win2/Draw: 0/0/640:  64%|██████▍   | 641/1000 [01:43<00:56,  6.35it/s]"
     ]
    },
    {
     "name": "stderr",
     "output_type": "stream",
     "text": [
      "\rWin1/Win2/Draw: 0/0/641:  64%|██████▍   | 641/1000 [01:43<00:56,  6.35it/s]"
     ]
    },
    {
     "name": "stderr",
     "output_type": "stream",
     "text": [
      "\rWin1/Win2/Draw: 0/0/641:  64%|██████▍   | 642/1000 [01:43<00:55,  6.44it/s]"
     ]
    },
    {
     "name": "stderr",
     "output_type": "stream",
     "text": [
      "\rWin1/Win2/Draw: 0/0/642:  64%|██████▍   | 642/1000 [01:43<00:55,  6.44it/s]"
     ]
    },
    {
     "name": "stderr",
     "output_type": "stream",
     "text": [
      "\rWin1/Win2/Draw: 0/0/642:  64%|██████▍   | 643/1000 [01:44<00:54,  6.50it/s]"
     ]
    },
    {
     "name": "stderr",
     "output_type": "stream",
     "text": [
      "\rWin1/Win2/Draw: 0/0/643:  64%|██████▍   | 643/1000 [01:44<00:54,  6.50it/s]"
     ]
    },
    {
     "name": "stderr",
     "output_type": "stream",
     "text": [
      "\rWin1/Win2/Draw: 0/0/643:  64%|██████▍   | 644/1000 [01:44<00:54,  6.52it/s]"
     ]
    },
    {
     "name": "stderr",
     "output_type": "stream",
     "text": [
      "\rWin1/Win2/Draw: 0/0/644:  64%|██████▍   | 644/1000 [01:44<00:54,  6.52it/s]"
     ]
    },
    {
     "name": "stderr",
     "output_type": "stream",
     "text": [
      "\rWin1/Win2/Draw: 0/0/644:  64%|██████▍   | 645/1000 [01:44<00:54,  6.53it/s]"
     ]
    },
    {
     "name": "stderr",
     "output_type": "stream",
     "text": [
      "\rWin1/Win2/Draw: 0/0/645:  64%|██████▍   | 645/1000 [01:44<00:54,  6.53it/s]"
     ]
    },
    {
     "name": "stderr",
     "output_type": "stream",
     "text": [
      "\rWin1/Win2/Draw: 0/0/645:  65%|██████▍   | 646/1000 [01:44<00:54,  6.54it/s]"
     ]
    },
    {
     "name": "stderr",
     "output_type": "stream",
     "text": [
      "\rWin1/Win2/Draw: 0/0/646:  65%|██████▍   | 646/1000 [01:44<00:54,  6.54it/s]"
     ]
    },
    {
     "name": "stderr",
     "output_type": "stream",
     "text": [
      "\rWin1/Win2/Draw: 0/0/646:  65%|██████▍   | 647/1000 [01:44<00:53,  6.57it/s]"
     ]
    },
    {
     "name": "stderr",
     "output_type": "stream",
     "text": [
      "\rWin1/Win2/Draw: 0/0/647:  65%|██████▍   | 647/1000 [01:44<00:53,  6.57it/s]"
     ]
    },
    {
     "name": "stderr",
     "output_type": "stream",
     "text": [
      "\rWin1/Win2/Draw: 0/0/647:  65%|██████▍   | 648/1000 [01:44<00:56,  6.22it/s]"
     ]
    },
    {
     "name": "stderr",
     "output_type": "stream",
     "text": [
      "\rWin1/Win2/Draw: 0/0/648:  65%|██████▍   | 648/1000 [01:44<00:56,  6.22it/s]"
     ]
    },
    {
     "name": "stderr",
     "output_type": "stream",
     "text": [
      "\rWin1/Win2/Draw: 0/0/648:  65%|██████▍   | 649/1000 [01:45<00:55,  6.34it/s]"
     ]
    },
    {
     "name": "stderr",
     "output_type": "stream",
     "text": [
      "\rWin1/Win2/Draw: 0/0/649:  65%|██████▍   | 649/1000 [01:45<00:55,  6.34it/s]"
     ]
    },
    {
     "name": "stderr",
     "output_type": "stream",
     "text": [
      "\rWin1/Win2/Draw: 0/0/649:  65%|██████▌   | 650/1000 [01:45<00:54,  6.41it/s]"
     ]
    },
    {
     "name": "stderr",
     "output_type": "stream",
     "text": [
      "\rWin1/Win2/Draw: 0/0/650:  65%|██████▌   | 650/1000 [01:45<00:54,  6.41it/s]"
     ]
    },
    {
     "name": "stderr",
     "output_type": "stream",
     "text": [
      "\rWin1/Win2/Draw: 0/0/650:  65%|██████▌   | 651/1000 [01:45<00:54,  6.45it/s]"
     ]
    },
    {
     "name": "stderr",
     "output_type": "stream",
     "text": [
      "\rWin1/Win2/Draw: 0/0/651:  65%|██████▌   | 651/1000 [01:45<00:54,  6.45it/s]"
     ]
    },
    {
     "name": "stderr",
     "output_type": "stream",
     "text": [
      "\rWin1/Win2/Draw: 0/0/651:  65%|██████▌   | 652/1000 [01:45<00:54,  6.43it/s]"
     ]
    },
    {
     "name": "stderr",
     "output_type": "stream",
     "text": [
      "\rWin1/Win2/Draw: 0/0/652:  65%|██████▌   | 652/1000 [01:45<00:54,  6.43it/s]"
     ]
    },
    {
     "name": "stderr",
     "output_type": "stream",
     "text": [
      "\rWin1/Win2/Draw: 0/0/652:  65%|██████▌   | 653/1000 [01:45<00:53,  6.49it/s]"
     ]
    },
    {
     "name": "stderr",
     "output_type": "stream",
     "text": [
      "\rWin1/Win2/Draw: 0/0/653:  65%|██████▌   | 653/1000 [01:45<00:53,  6.49it/s]"
     ]
    },
    {
     "name": "stderr",
     "output_type": "stream",
     "text": [
      "\rWin1/Win2/Draw: 0/0/653:  65%|██████▌   | 654/1000 [01:45<00:53,  6.50it/s]"
     ]
    },
    {
     "name": "stderr",
     "output_type": "stream",
     "text": [
      "\rWin1/Win2/Draw: 0/0/654:  65%|██████▌   | 654/1000 [01:45<00:53,  6.50it/s]"
     ]
    },
    {
     "name": "stderr",
     "output_type": "stream",
     "text": [
      "\rWin1/Win2/Draw: 0/0/654:  66%|██████▌   | 655/1000 [01:46<00:53,  6.42it/s]"
     ]
    },
    {
     "name": "stderr",
     "output_type": "stream",
     "text": [
      "\rWin1/Win2/Draw: 0/0/655:  66%|██████▌   | 655/1000 [01:46<00:53,  6.42it/s]"
     ]
    },
    {
     "name": "stderr",
     "output_type": "stream",
     "text": [
      "\rWin1/Win2/Draw: 0/0/655:  66%|██████▌   | 656/1000 [01:46<00:53,  6.48it/s]"
     ]
    },
    {
     "name": "stderr",
     "output_type": "stream",
     "text": [
      "\rWin1/Win2/Draw: 0/0/656:  66%|██████▌   | 656/1000 [01:46<00:53,  6.48it/s]"
     ]
    },
    {
     "name": "stderr",
     "output_type": "stream",
     "text": [
      "\rWin1/Win2/Draw: 0/0/656:  66%|██████▌   | 657/1000 [01:46<00:52,  6.49it/s]"
     ]
    },
    {
     "name": "stderr",
     "output_type": "stream",
     "text": [
      "\rWin1/Win2/Draw: 0/0/657:  66%|██████▌   | 657/1000 [01:46<00:52,  6.49it/s]"
     ]
    },
    {
     "name": "stderr",
     "output_type": "stream",
     "text": [
      "\rWin1/Win2/Draw: 0/0/657:  66%|██████▌   | 658/1000 [01:46<00:52,  6.49it/s]"
     ]
    },
    {
     "name": "stderr",
     "output_type": "stream",
     "text": [
      "\rWin1/Win2/Draw: 0/0/658:  66%|██████▌   | 658/1000 [01:46<00:52,  6.49it/s]"
     ]
    },
    {
     "name": "stderr",
     "output_type": "stream",
     "text": [
      "\rWin1/Win2/Draw: 0/0/658:  66%|██████▌   | 659/1000 [01:46<00:54,  6.22it/s]"
     ]
    },
    {
     "name": "stderr",
     "output_type": "stream",
     "text": [
      "\rWin1/Win2/Draw: 0/0/659:  66%|██████▌   | 659/1000 [01:46<00:54,  6.22it/s]"
     ]
    },
    {
     "name": "stderr",
     "output_type": "stream",
     "text": [
      "\rWin1/Win2/Draw: 0/0/659:  66%|██████▌   | 660/1000 [01:46<00:54,  6.28it/s]"
     ]
    },
    {
     "name": "stderr",
     "output_type": "stream",
     "text": [
      "\rWin1/Win2/Draw: 0/0/660:  66%|██████▌   | 660/1000 [01:46<00:54,  6.28it/s]"
     ]
    },
    {
     "name": "stderr",
     "output_type": "stream",
     "text": [
      "\rWin1/Win2/Draw: 0/0/660:  66%|██████▌   | 661/1000 [01:46<00:53,  6.30it/s]"
     ]
    },
    {
     "name": "stderr",
     "output_type": "stream",
     "text": [
      "\rWin1/Win2/Draw: 0/0/661:  66%|██████▌   | 661/1000 [01:46<00:53,  6.30it/s]"
     ]
    },
    {
     "name": "stderr",
     "output_type": "stream",
     "text": [
      "\rWin1/Win2/Draw: 0/0/661:  66%|██████▌   | 662/1000 [01:47<00:52,  6.38it/s]"
     ]
    },
    {
     "name": "stderr",
     "output_type": "stream",
     "text": [
      "\rWin1/Win2/Draw: 0/0/662:  66%|██████▌   | 662/1000 [01:47<00:52,  6.38it/s]"
     ]
    },
    {
     "name": "stderr",
     "output_type": "stream",
     "text": [
      "\rWin1/Win2/Draw: 0/0/662:  66%|██████▋   | 663/1000 [01:47<00:52,  6.43it/s]"
     ]
    },
    {
     "name": "stderr",
     "output_type": "stream",
     "text": [
      "\rWin1/Win2/Draw: 0/0/663:  66%|██████▋   | 663/1000 [01:47<00:52,  6.43it/s]"
     ]
    },
    {
     "name": "stderr",
     "output_type": "stream",
     "text": [
      "\rWin1/Win2/Draw: 0/0/663:  66%|██████▋   | 664/1000 [01:47<00:52,  6.45it/s]"
     ]
    },
    {
     "name": "stderr",
     "output_type": "stream",
     "text": [
      "\rWin1/Win2/Draw: 0/0/664:  66%|██████▋   | 664/1000 [01:47<00:52,  6.45it/s]"
     ]
    },
    {
     "name": "stderr",
     "output_type": "stream",
     "text": [
      "\rWin1/Win2/Draw: 0/0/664:  66%|██████▋   | 665/1000 [01:47<00:51,  6.48it/s]"
     ]
    },
    {
     "name": "stderr",
     "output_type": "stream",
     "text": [
      "\rWin1/Win2/Draw: 0/0/665:  66%|██████▋   | 665/1000 [01:47<00:51,  6.48it/s]"
     ]
    },
    {
     "name": "stderr",
     "output_type": "stream",
     "text": [
      "\rWin1/Win2/Draw: 0/0/665:  67%|██████▋   | 666/1000 [01:47<00:51,  6.53it/s]"
     ]
    },
    {
     "name": "stderr",
     "output_type": "stream",
     "text": [
      "\rWin1/Win2/Draw: 0/0/666:  67%|██████▋   | 666/1000 [01:47<00:51,  6.53it/s]"
     ]
    },
    {
     "name": "stderr",
     "output_type": "stream",
     "text": [
      "\rWin1/Win2/Draw: 0/0/666:  67%|██████▋   | 667/1000 [01:47<00:50,  6.53it/s]"
     ]
    },
    {
     "name": "stderr",
     "output_type": "stream",
     "text": [
      "\rWin1/Win2/Draw: 0/0/667:  67%|██████▋   | 667/1000 [01:47<00:50,  6.53it/s]"
     ]
    },
    {
     "name": "stderr",
     "output_type": "stream",
     "text": [
      "\rWin1/Win2/Draw: 0/0/667:  67%|██████▋   | 668/1000 [01:48<00:50,  6.56it/s]"
     ]
    },
    {
     "name": "stderr",
     "output_type": "stream",
     "text": [
      "\rWin1/Win2/Draw: 0/0/668:  67%|██████▋   | 668/1000 [01:48<00:50,  6.56it/s]"
     ]
    },
    {
     "name": "stderr",
     "output_type": "stream",
     "text": [
      "\rWin1/Win2/Draw: 0/0/668:  67%|██████▋   | 669/1000 [01:48<00:50,  6.59it/s]"
     ]
    },
    {
     "name": "stderr",
     "output_type": "stream",
     "text": [
      "\rWin1/Win2/Draw: 0/0/669:  67%|██████▋   | 669/1000 [01:48<00:50,  6.59it/s]"
     ]
    },
    {
     "name": "stderr",
     "output_type": "stream",
     "text": [
      "\rWin1/Win2/Draw: 0/0/669:  67%|██████▋   | 670/1000 [01:48<00:52,  6.31it/s]"
     ]
    },
    {
     "name": "stderr",
     "output_type": "stream",
     "text": [
      "\rWin1/Win2/Draw: 0/0/670:  67%|██████▋   | 670/1000 [01:48<00:52,  6.31it/s]"
     ]
    },
    {
     "name": "stderr",
     "output_type": "stream",
     "text": [
      "\rWin1/Win2/Draw: 0/0/670:  67%|██████▋   | 671/1000 [01:48<00:51,  6.39it/s]"
     ]
    },
    {
     "name": "stderr",
     "output_type": "stream",
     "text": [
      "\rWin1/Win2/Draw: 0/0/671:  67%|██████▋   | 671/1000 [01:48<00:51,  6.39it/s]"
     ]
    },
    {
     "name": "stderr",
     "output_type": "stream",
     "text": [
      "\rWin1/Win2/Draw: 0/0/671:  67%|██████▋   | 672/1000 [01:48<00:51,  6.41it/s]"
     ]
    },
    {
     "name": "stderr",
     "output_type": "stream",
     "text": [
      "\rWin1/Win2/Draw: 0/0/672:  67%|██████▋   | 672/1000 [01:48<00:51,  6.41it/s]"
     ]
    },
    {
     "name": "stderr",
     "output_type": "stream",
     "text": [
      "\rWin1/Win2/Draw: 0/0/672:  67%|██████▋   | 673/1000 [01:48<00:50,  6.47it/s]"
     ]
    },
    {
     "name": "stderr",
     "output_type": "stream",
     "text": [
      "\rWin1/Win2/Draw: 0/0/673:  67%|██████▋   | 673/1000 [01:48<00:50,  6.47it/s]"
     ]
    },
    {
     "name": "stderr",
     "output_type": "stream",
     "text": [
      "\rWin1/Win2/Draw: 0/0/673:  67%|██████▋   | 674/1000 [01:48<00:50,  6.47it/s]"
     ]
    },
    {
     "name": "stderr",
     "output_type": "stream",
     "text": [
      "\rWin1/Win2/Draw: 0/0/674:  67%|██████▋   | 674/1000 [01:48<00:50,  6.47it/s]"
     ]
    },
    {
     "name": "stderr",
     "output_type": "stream",
     "text": [
      "\rWin1/Win2/Draw: 0/0/674:  68%|██████▊   | 675/1000 [01:49<00:49,  6.52it/s]"
     ]
    },
    {
     "name": "stderr",
     "output_type": "stream",
     "text": [
      "\rWin1/Win2/Draw: 0/0/675:  68%|██████▊   | 675/1000 [01:49<00:49,  6.52it/s]"
     ]
    },
    {
     "name": "stderr",
     "output_type": "stream",
     "text": [
      "\rWin1/Win2/Draw: 0/0/675:  68%|██████▊   | 676/1000 [01:49<00:49,  6.53it/s]"
     ]
    },
    {
     "name": "stderr",
     "output_type": "stream",
     "text": [
      "\rWin1/Win2/Draw: 0/0/676:  68%|██████▊   | 676/1000 [01:49<00:49,  6.53it/s]"
     ]
    },
    {
     "name": "stderr",
     "output_type": "stream",
     "text": [
      "\rWin1/Win2/Draw: 0/0/676:  68%|██████▊   | 677/1000 [01:49<00:49,  6.55it/s]"
     ]
    },
    {
     "name": "stderr",
     "output_type": "stream",
     "text": [
      "\rWin1/Win2/Draw: 0/0/677:  68%|██████▊   | 677/1000 [01:49<00:49,  6.55it/s]"
     ]
    },
    {
     "name": "stderr",
     "output_type": "stream",
     "text": [
      "\rWin1/Win2/Draw: 0/0/677:  68%|██████▊   | 678/1000 [01:49<00:49,  6.56it/s]"
     ]
    },
    {
     "name": "stderr",
     "output_type": "stream",
     "text": [
      "\rWin1/Win2/Draw: 0/0/678:  68%|██████▊   | 678/1000 [01:49<00:49,  6.56it/s]"
     ]
    },
    {
     "name": "stderr",
     "output_type": "stream",
     "text": [
      "\rWin1/Win2/Draw: 0/0/678:  68%|██████▊   | 679/1000 [01:49<00:48,  6.57it/s]"
     ]
    },
    {
     "name": "stderr",
     "output_type": "stream",
     "text": [
      "\rWin1/Win2/Draw: 0/0/679:  68%|██████▊   | 679/1000 [01:49<00:48,  6.57it/s]"
     ]
    },
    {
     "name": "stderr",
     "output_type": "stream",
     "text": [
      "\rWin1/Win2/Draw: 0/0/679:  68%|██████▊   | 680/1000 [01:49<00:50,  6.28it/s]"
     ]
    },
    {
     "name": "stderr",
     "output_type": "stream",
     "text": [
      "\rWin1/Win2/Draw: 0/0/680:  68%|██████▊   | 680/1000 [01:49<00:50,  6.28it/s]"
     ]
    },
    {
     "name": "stderr",
     "output_type": "stream",
     "text": [
      "\rWin1/Win2/Draw: 0/0/680:  68%|██████▊   | 681/1000 [01:50<00:49,  6.39it/s]"
     ]
    },
    {
     "name": "stderr",
     "output_type": "stream",
     "text": [
      "\rWin1/Win2/Draw: 0/0/681:  68%|██████▊   | 681/1000 [01:50<00:49,  6.39it/s]"
     ]
    },
    {
     "name": "stderr",
     "output_type": "stream",
     "text": [
      "\rWin1/Win2/Draw: 0/0/681:  68%|██████▊   | 682/1000 [01:50<00:49,  6.45it/s]"
     ]
    },
    {
     "name": "stderr",
     "output_type": "stream",
     "text": [
      "\rWin1/Win2/Draw: 0/0/682:  68%|██████▊   | 682/1000 [01:50<00:49,  6.45it/s]"
     ]
    },
    {
     "name": "stderr",
     "output_type": "stream",
     "text": [
      "\rWin1/Win2/Draw: 0/0/682:  68%|██████▊   | 683/1000 [01:50<00:48,  6.50it/s]"
     ]
    },
    {
     "name": "stderr",
     "output_type": "stream",
     "text": [
      "\rWin1/Win2/Draw: 0/0/683:  68%|██████▊   | 683/1000 [01:50<00:48,  6.50it/s]"
     ]
    },
    {
     "name": "stderr",
     "output_type": "stream",
     "text": [
      "\rWin1/Win2/Draw: 0/0/683:  68%|██████▊   | 684/1000 [01:50<00:48,  6.51it/s]"
     ]
    },
    {
     "name": "stderr",
     "output_type": "stream",
     "text": [
      "\rWin1/Win2/Draw: 0/0/684:  68%|██████▊   | 684/1000 [01:50<00:48,  6.51it/s]"
     ]
    },
    {
     "name": "stderr",
     "output_type": "stream",
     "text": [
      "\rWin1/Win2/Draw: 0/0/684:  68%|██████▊   | 685/1000 [01:50<00:48,  6.53it/s]"
     ]
    },
    {
     "name": "stderr",
     "output_type": "stream",
     "text": [
      "\rWin1/Win2/Draw: 0/0/685:  68%|██████▊   | 685/1000 [01:50<00:48,  6.53it/s]"
     ]
    },
    {
     "name": "stderr",
     "output_type": "stream",
     "text": [
      "\rWin1/Win2/Draw: 0/0/685:  69%|██████▊   | 686/1000 [01:50<00:47,  6.55it/s]"
     ]
    },
    {
     "name": "stderr",
     "output_type": "stream",
     "text": [
      "\rWin1/Win2/Draw: 0/0/686:  69%|██████▊   | 686/1000 [01:50<00:47,  6.55it/s]"
     ]
    },
    {
     "name": "stderr",
     "output_type": "stream",
     "text": [
      "\rWin1/Win2/Draw: 0/0/686:  69%|██████▊   | 687/1000 [01:50<00:48,  6.50it/s]"
     ]
    },
    {
     "name": "stderr",
     "output_type": "stream",
     "text": [
      "\rWin1/Win2/Draw: 0/0/687:  69%|██████▊   | 687/1000 [01:50<00:48,  6.50it/s]"
     ]
    },
    {
     "name": "stderr",
     "output_type": "stream",
     "text": [
      "\rWin1/Win2/Draw: 0/0/687:  69%|██████▉   | 688/1000 [01:51<00:47,  6.54it/s]"
     ]
    },
    {
     "name": "stderr",
     "output_type": "stream",
     "text": [
      "\rWin1/Win2/Draw: 0/0/688:  69%|██████▉   | 688/1000 [01:51<00:47,  6.54it/s]"
     ]
    },
    {
     "name": "stderr",
     "output_type": "stream",
     "text": [
      "\rWin1/Win2/Draw: 0/0/688:  69%|██████▉   | 689/1000 [01:51<00:47,  6.54it/s]"
     ]
    },
    {
     "name": "stderr",
     "output_type": "stream",
     "text": [
      "\rWin1/Win2/Draw: 0/0/689:  69%|██████▉   | 689/1000 [01:51<00:47,  6.54it/s]"
     ]
    },
    {
     "name": "stderr",
     "output_type": "stream",
     "text": [
      "\rWin1/Win2/Draw: 0/0/689:  69%|██████▉   | 690/1000 [01:51<00:49,  6.24it/s]"
     ]
    },
    {
     "name": "stderr",
     "output_type": "stream",
     "text": [
      "\rWin1/Win2/Draw: 0/0/690:  69%|██████▉   | 690/1000 [01:51<00:49,  6.24it/s]"
     ]
    },
    {
     "name": "stderr",
     "output_type": "stream",
     "text": [
      "\rWin1/Win2/Draw: 0/0/690:  69%|██████▉   | 691/1000 [01:51<00:48,  6.31it/s]"
     ]
    },
    {
     "name": "stderr",
     "output_type": "stream",
     "text": [
      "\rWin1/Win2/Draw: 0/0/691:  69%|██████▉   | 691/1000 [01:51<00:48,  6.31it/s]"
     ]
    },
    {
     "name": "stderr",
     "output_type": "stream",
     "text": [
      "\rWin1/Win2/Draw: 0/0/691:  69%|██████▉   | 692/1000 [01:51<00:48,  6.40it/s]"
     ]
    },
    {
     "name": "stderr",
     "output_type": "stream",
     "text": [
      "\rWin1/Win2/Draw: 0/0/692:  69%|██████▉   | 692/1000 [01:51<00:48,  6.40it/s]"
     ]
    },
    {
     "name": "stderr",
     "output_type": "stream",
     "text": [
      "\rWin1/Win2/Draw: 0/0/692:  69%|██████▉   | 693/1000 [01:51<00:47,  6.42it/s]"
     ]
    },
    {
     "name": "stderr",
     "output_type": "stream",
     "text": [
      "\rWin1/Win2/Draw: 0/0/693:  69%|██████▉   | 693/1000 [01:51<00:47,  6.42it/s]"
     ]
    },
    {
     "name": "stderr",
     "output_type": "stream",
     "text": [
      "\rWin1/Win2/Draw: 0/0/693:  69%|██████▉   | 694/1000 [01:52<00:47,  6.48it/s]"
     ]
    },
    {
     "name": "stderr",
     "output_type": "stream",
     "text": [
      "\rWin1/Win2/Draw: 0/0/694:  69%|██████▉   | 694/1000 [01:52<00:47,  6.48it/s]"
     ]
    },
    {
     "name": "stderr",
     "output_type": "stream",
     "text": [
      "\rWin1/Win2/Draw: 0/0/694:  70%|██████▉   | 695/1000 [01:52<00:46,  6.49it/s]"
     ]
    },
    {
     "name": "stderr",
     "output_type": "stream",
     "text": [
      "\rWin1/Win2/Draw: 0/0/695:  70%|██████▉   | 695/1000 [01:52<00:46,  6.49it/s]"
     ]
    },
    {
     "name": "stderr",
     "output_type": "stream",
     "text": [
      "\rWin1/Win2/Draw: 0/0/695:  70%|██████▉   | 696/1000 [01:52<00:46,  6.51it/s]"
     ]
    },
    {
     "name": "stderr",
     "output_type": "stream",
     "text": [
      "\rWin1/Win2/Draw: 0/0/696:  70%|██████▉   | 696/1000 [01:52<00:46,  6.51it/s]"
     ]
    },
    {
     "name": "stderr",
     "output_type": "stream",
     "text": [
      "\rWin1/Win2/Draw: 0/0/696:  70%|██████▉   | 697/1000 [01:52<00:46,  6.55it/s]"
     ]
    },
    {
     "name": "stderr",
     "output_type": "stream",
     "text": [
      "\rWin1/Win2/Draw: 0/0/697:  70%|██████▉   | 697/1000 [01:52<00:46,  6.55it/s]"
     ]
    },
    {
     "name": "stderr",
     "output_type": "stream",
     "text": [
      "\rWin1/Win2/Draw: 0/0/697:  70%|██████▉   | 698/1000 [01:52<00:46,  6.56it/s]"
     ]
    },
    {
     "name": "stderr",
     "output_type": "stream",
     "text": [
      "\rWin1/Win2/Draw: 0/0/698:  70%|██████▉   | 698/1000 [01:52<00:46,  6.56it/s]"
     ]
    },
    {
     "name": "stderr",
     "output_type": "stream",
     "text": [
      "\rWin1/Win2/Draw: 0/0/698:  70%|██████▉   | 699/1000 [01:52<00:45,  6.56it/s]"
     ]
    },
    {
     "name": "stderr",
     "output_type": "stream",
     "text": [
      "\rWin1/Win2/Draw: 0/0/699:  70%|██████▉   | 699/1000 [01:52<00:45,  6.56it/s]"
     ]
    },
    {
     "name": "stderr",
     "output_type": "stream",
     "text": [
      "\rWin1/Win2/Draw: 0/0/699:  70%|███████   | 700/1000 [01:52<00:45,  6.55it/s]"
     ]
    },
    {
     "name": "stderr",
     "output_type": "stream",
     "text": [
      "\rWin1/Win2/Draw: 0/0/700:  70%|███████   | 700/1000 [01:52<00:45,  6.55it/s]"
     ]
    },
    {
     "name": "stderr",
     "output_type": "stream",
     "text": [
      "\rWin1/Win2/Draw: 0/0/700:  70%|███████   | 701/1000 [01:53<00:45,  6.57it/s]"
     ]
    },
    {
     "name": "stderr",
     "output_type": "stream",
     "text": [
      "\rWin1/Win2/Draw: 0/0/701:  70%|███████   | 701/1000 [01:53<00:45,  6.57it/s]"
     ]
    },
    {
     "name": "stderr",
     "output_type": "stream",
     "text": [
      "\rWin1/Win2/Draw: 0/0/701:  70%|███████   | 702/1000 [01:53<00:47,  6.26it/s]"
     ]
    },
    {
     "name": "stderr",
     "output_type": "stream",
     "text": [
      "\rWin1/Win2/Draw: 0/0/702:  70%|███████   | 702/1000 [01:53<00:47,  6.26it/s]"
     ]
    },
    {
     "name": "stderr",
     "output_type": "stream",
     "text": [
      "\rWin1/Win2/Draw: 0/0/702:  70%|███████   | 703/1000 [01:53<00:46,  6.33it/s]"
     ]
    },
    {
     "name": "stderr",
     "output_type": "stream",
     "text": [
      "\rWin1/Win2/Draw: 0/0/703:  70%|███████   | 703/1000 [01:53<00:46,  6.33it/s]"
     ]
    },
    {
     "name": "stderr",
     "output_type": "stream",
     "text": [
      "\rWin1/Win2/Draw: 0/0/703:  70%|███████   | 704/1000 [01:53<00:46,  6.37it/s]"
     ]
    },
    {
     "name": "stderr",
     "output_type": "stream",
     "text": [
      "\rWin1/Win2/Draw: 0/0/704:  70%|███████   | 704/1000 [01:53<00:46,  6.37it/s]"
     ]
    },
    {
     "name": "stderr",
     "output_type": "stream",
     "text": [
      "\rWin1/Win2/Draw: 0/0/704:  70%|███████   | 705/1000 [01:53<00:46,  6.33it/s]"
     ]
    },
    {
     "name": "stderr",
     "output_type": "stream",
     "text": [
      "\rWin1/Win2/Draw: 0/0/705:  70%|███████   | 705/1000 [01:53<00:46,  6.33it/s]"
     ]
    },
    {
     "name": "stderr",
     "output_type": "stream",
     "text": [
      "\rWin1/Win2/Draw: 0/0/705:  71%|███████   | 706/1000 [01:53<00:45,  6.39it/s]"
     ]
    },
    {
     "name": "stderr",
     "output_type": "stream",
     "text": [
      "\rWin1/Win2/Draw: 0/0/706:  71%|███████   | 706/1000 [01:53<00:45,  6.39it/s]"
     ]
    },
    {
     "name": "stderr",
     "output_type": "stream",
     "text": [
      "\rWin1/Win2/Draw: 0/0/706:  71%|███████   | 707/1000 [01:54<00:45,  6.47it/s]"
     ]
    },
    {
     "name": "stderr",
     "output_type": "stream",
     "text": [
      "\rWin1/Win2/Draw: 0/0/707:  71%|███████   | 707/1000 [01:54<00:45,  6.47it/s]"
     ]
    },
    {
     "name": "stderr",
     "output_type": "stream",
     "text": [
      "\rWin1/Win2/Draw: 0/0/707:  71%|███████   | 708/1000 [01:54<00:44,  6.49it/s]"
     ]
    },
    {
     "name": "stderr",
     "output_type": "stream",
     "text": [
      "\rWin1/Win2/Draw: 0/0/708:  71%|███████   | 708/1000 [01:54<00:44,  6.49it/s]"
     ]
    },
    {
     "name": "stderr",
     "output_type": "stream",
     "text": [
      "\rWin1/Win2/Draw: 0/0/708:  71%|███████   | 709/1000 [01:54<00:44,  6.53it/s]"
     ]
    },
    {
     "name": "stderr",
     "output_type": "stream",
     "text": [
      "\rWin1/Win2/Draw: 0/0/709:  71%|███████   | 709/1000 [01:54<00:44,  6.53it/s]"
     ]
    },
    {
     "name": "stderr",
     "output_type": "stream",
     "text": [
      "\rWin1/Win2/Draw: 0/0/709:  71%|███████   | 710/1000 [01:54<00:44,  6.54it/s]"
     ]
    },
    {
     "name": "stderr",
     "output_type": "stream",
     "text": [
      "\rWin1/Win2/Draw: 0/0/710:  71%|███████   | 710/1000 [01:54<00:44,  6.54it/s]"
     ]
    },
    {
     "name": "stderr",
     "output_type": "stream",
     "text": [
      "\rWin1/Win2/Draw: 0/0/710:  71%|███████   | 711/1000 [01:54<00:46,  6.28it/s]"
     ]
    },
    {
     "name": "stderr",
     "output_type": "stream",
     "text": [
      "\rWin1/Win2/Draw: 0/0/711:  71%|███████   | 711/1000 [01:54<00:46,  6.28it/s]"
     ]
    },
    {
     "name": "stderr",
     "output_type": "stream",
     "text": [
      "\rWin1/Win2/Draw: 0/0/711:  71%|███████   | 712/1000 [01:54<00:45,  6.31it/s]"
     ]
    },
    {
     "name": "stderr",
     "output_type": "stream",
     "text": [
      "\rWin1/Win2/Draw: 0/0/712:  71%|███████   | 712/1000 [01:54<00:45,  6.31it/s]"
     ]
    },
    {
     "name": "stderr",
     "output_type": "stream",
     "text": [
      "\rWin1/Win2/Draw: 0/0/712:  71%|███████▏  | 713/1000 [01:55<00:45,  6.36it/s]"
     ]
    },
    {
     "name": "stderr",
     "output_type": "stream",
     "text": [
      "\rWin1/Win2/Draw: 0/0/713:  71%|███████▏  | 713/1000 [01:55<00:45,  6.36it/s]"
     ]
    },
    {
     "name": "stderr",
     "output_type": "stream",
     "text": [
      "\rWin1/Win2/Draw: 0/0/713:  71%|███████▏  | 714/1000 [01:55<00:44,  6.43it/s]"
     ]
    },
    {
     "name": "stderr",
     "output_type": "stream",
     "text": [
      "\rWin1/Win2/Draw: 0/0/714:  71%|███████▏  | 714/1000 [01:55<00:44,  6.43it/s]"
     ]
    },
    {
     "name": "stderr",
     "output_type": "stream",
     "text": [
      "\rWin1/Win2/Draw: 0/0/714:  72%|███████▏  | 715/1000 [01:55<00:44,  6.47it/s]"
     ]
    },
    {
     "name": "stderr",
     "output_type": "stream",
     "text": [
      "\rWin1/Win2/Draw: 0/0/715:  72%|███████▏  | 715/1000 [01:55<00:44,  6.47it/s]"
     ]
    },
    {
     "name": "stderr",
     "output_type": "stream",
     "text": [
      "\rWin1/Win2/Draw: 0/0/715:  72%|███████▏  | 716/1000 [01:55<00:43,  6.49it/s]"
     ]
    },
    {
     "name": "stderr",
     "output_type": "stream",
     "text": [
      "\rWin1/Win2/Draw: 0/0/716:  72%|███████▏  | 716/1000 [01:55<00:43,  6.49it/s]"
     ]
    },
    {
     "name": "stderr",
     "output_type": "stream",
     "text": [
      "\rWin1/Win2/Draw: 0/0/716:  72%|███████▏  | 717/1000 [01:55<00:43,  6.51it/s]"
     ]
    },
    {
     "name": "stderr",
     "output_type": "stream",
     "text": [
      "\rWin1/Win2/Draw: 0/0/717:  72%|███████▏  | 717/1000 [01:55<00:43,  6.51it/s]"
     ]
    },
    {
     "name": "stderr",
     "output_type": "stream",
     "text": [
      "\rWin1/Win2/Draw: 0/0/717:  72%|███████▏  | 718/1000 [01:55<00:43,  6.55it/s]"
     ]
    },
    {
     "name": "stderr",
     "output_type": "stream",
     "text": [
      "\rWin1/Win2/Draw: 0/0/718:  72%|███████▏  | 718/1000 [01:55<00:43,  6.55it/s]"
     ]
    },
    {
     "name": "stderr",
     "output_type": "stream",
     "text": [
      "\rWin1/Win2/Draw: 0/0/718:  72%|███████▏  | 719/1000 [01:55<00:43,  6.53it/s]"
     ]
    },
    {
     "name": "stderr",
     "output_type": "stream",
     "text": [
      "\rWin1/Win2/Draw: 0/0/719:  72%|███████▏  | 719/1000 [01:55<00:43,  6.53it/s]"
     ]
    },
    {
     "name": "stderr",
     "output_type": "stream",
     "text": [
      "\rWin1/Win2/Draw: 0/0/719:  72%|███████▏  | 720/1000 [01:56<00:42,  6.56it/s]"
     ]
    },
    {
     "name": "stderr",
     "output_type": "stream",
     "text": [
      "\rWin1/Win2/Draw: 0/0/720:  72%|███████▏  | 720/1000 [01:56<00:42,  6.56it/s]"
     ]
    },
    {
     "name": "stderr",
     "output_type": "stream",
     "text": [
      "\rWin1/Win2/Draw: 0/0/720:  72%|███████▏  | 721/1000 [01:56<00:42,  6.55it/s]"
     ]
    },
    {
     "name": "stderr",
     "output_type": "stream",
     "text": [
      "\rWin1/Win2/Draw: 0/0/721:  72%|███████▏  | 721/1000 [01:56<00:42,  6.55it/s]"
     ]
    },
    {
     "name": "stderr",
     "output_type": "stream",
     "text": [
      "\rWin1/Win2/Draw: 0/0/721:  72%|███████▏  | 722/1000 [01:56<00:44,  6.22it/s]"
     ]
    },
    {
     "name": "stderr",
     "output_type": "stream",
     "text": [
      "\rWin1/Win2/Draw: 0/0/722:  72%|███████▏  | 722/1000 [01:56<00:44,  6.22it/s]"
     ]
    },
    {
     "name": "stderr",
     "output_type": "stream",
     "text": [
      "\rWin1/Win2/Draw: 0/0/722:  72%|███████▏  | 723/1000 [01:56<00:44,  6.28it/s]"
     ]
    },
    {
     "name": "stderr",
     "output_type": "stream",
     "text": [
      "\rWin1/Win2/Draw: 0/0/723:  72%|███████▏  | 723/1000 [01:56<00:44,  6.28it/s]"
     ]
    },
    {
     "name": "stderr",
     "output_type": "stream",
     "text": [
      "\rWin1/Win2/Draw: 0/0/723:  72%|███████▏  | 724/1000 [01:56<00:43,  6.38it/s]"
     ]
    },
    {
     "name": "stderr",
     "output_type": "stream",
     "text": [
      "\rWin1/Win2/Draw: 0/0/724:  72%|███████▏  | 724/1000 [01:56<00:43,  6.38it/s]"
     ]
    },
    {
     "name": "stderr",
     "output_type": "stream",
     "text": [
      "\rWin1/Win2/Draw: 0/0/724:  72%|███████▎  | 725/1000 [01:56<00:42,  6.42it/s]"
     ]
    },
    {
     "name": "stderr",
     "output_type": "stream",
     "text": [
      "\rWin1/Win2/Draw: 0/0/725:  72%|███████▎  | 725/1000 [01:56<00:42,  6.42it/s]"
     ]
    },
    {
     "name": "stderr",
     "output_type": "stream",
     "text": [
      "\rWin1/Win2/Draw: 0/0/725:  73%|███████▎  | 726/1000 [01:57<00:42,  6.45it/s]"
     ]
    },
    {
     "name": "stderr",
     "output_type": "stream",
     "text": [
      "\rWin1/Win2/Draw: 0/0/726:  73%|███████▎  | 726/1000 [01:57<00:42,  6.45it/s]"
     ]
    },
    {
     "name": "stderr",
     "output_type": "stream",
     "text": [
      "\rWin1/Win2/Draw: 0/0/726:  73%|███████▎  | 727/1000 [01:57<00:41,  6.50it/s]"
     ]
    },
    {
     "name": "stderr",
     "output_type": "stream",
     "text": [
      "\rWin1/Win2/Draw: 0/0/727:  73%|███████▎  | 727/1000 [01:57<00:41,  6.50it/s]"
     ]
    },
    {
     "name": "stderr",
     "output_type": "stream",
     "text": [
      "\rWin1/Win2/Draw: 0/0/727:  73%|███████▎  | 728/1000 [01:57<00:41,  6.49it/s]"
     ]
    },
    {
     "name": "stderr",
     "output_type": "stream",
     "text": [
      "\rWin1/Win2/Draw: 0/0/728:  73%|███████▎  | 728/1000 [01:57<00:41,  6.49it/s]"
     ]
    },
    {
     "name": "stderr",
     "output_type": "stream",
     "text": [
      "\rWin1/Win2/Draw: 0/0/728:  73%|███████▎  | 729/1000 [01:57<00:41,  6.50it/s]"
     ]
    },
    {
     "name": "stderr",
     "output_type": "stream",
     "text": [
      "\rWin1/Win2/Draw: 0/0/729:  73%|███████▎  | 729/1000 [01:57<00:41,  6.50it/s]"
     ]
    },
    {
     "name": "stderr",
     "output_type": "stream",
     "text": [
      "\rWin1/Win2/Draw: 0/0/729:  73%|███████▎  | 730/1000 [01:57<00:41,  6.52it/s]"
     ]
    },
    {
     "name": "stderr",
     "output_type": "stream",
     "text": [
      "\rWin1/Win2/Draw: 0/0/730:  73%|███████▎  | 730/1000 [01:57<00:41,  6.52it/s]"
     ]
    },
    {
     "name": "stderr",
     "output_type": "stream",
     "text": [
      "\rWin1/Win2/Draw: 0/0/730:  73%|███████▎  | 731/1000 [01:57<00:41,  6.52it/s]"
     ]
    },
    {
     "name": "stderr",
     "output_type": "stream",
     "text": [
      "\rWin1/Win2/Draw: 0/0/731:  73%|███████▎  | 731/1000 [01:57<00:41,  6.52it/s]"
     ]
    },
    {
     "name": "stderr",
     "output_type": "stream",
     "text": [
      "\rWin1/Win2/Draw: 0/0/731:  73%|███████▎  | 732/1000 [01:57<00:40,  6.54it/s]"
     ]
    },
    {
     "name": "stderr",
     "output_type": "stream",
     "text": [
      "\rWin1/Win2/Draw: 0/0/732:  73%|███████▎  | 732/1000 [01:57<00:40,  6.54it/s]"
     ]
    },
    {
     "name": "stderr",
     "output_type": "stream",
     "text": [
      "\rWin1/Win2/Draw: 0/0/732:  73%|███████▎  | 733/1000 [01:58<00:42,  6.31it/s]"
     ]
    },
    {
     "name": "stderr",
     "output_type": "stream",
     "text": [
      "\rWin1/Win2/Draw: 0/0/733:  73%|███████▎  | 733/1000 [01:58<00:42,  6.31it/s]"
     ]
    },
    {
     "name": "stderr",
     "output_type": "stream",
     "text": [
      "\rWin1/Win2/Draw: 0/0/733:  73%|███████▎  | 734/1000 [01:58<00:41,  6.37it/s]"
     ]
    },
    {
     "name": "stderr",
     "output_type": "stream",
     "text": [
      "\rWin1/Win2/Draw: 0/0/734:  73%|███████▎  | 734/1000 [01:58<00:41,  6.37it/s]"
     ]
    },
    {
     "name": "stderr",
     "output_type": "stream",
     "text": [
      "\rWin1/Win2/Draw: 0/0/734:  74%|███████▎  | 735/1000 [01:58<00:41,  6.44it/s]"
     ]
    },
    {
     "name": "stderr",
     "output_type": "stream",
     "text": [
      "\rWin1/Win2/Draw: 0/0/735:  74%|███████▎  | 735/1000 [01:58<00:41,  6.44it/s]"
     ]
    },
    {
     "name": "stderr",
     "output_type": "stream",
     "text": [
      "\rWin1/Win2/Draw: 0/0/735:  74%|███████▎  | 736/1000 [01:58<00:40,  6.45it/s]"
     ]
    },
    {
     "name": "stderr",
     "output_type": "stream",
     "text": [
      "\rWin1/Win2/Draw: 0/0/736:  74%|███████▎  | 736/1000 [01:58<00:40,  6.45it/s]"
     ]
    },
    {
     "name": "stderr",
     "output_type": "stream",
     "text": [
      "\rWin1/Win2/Draw: 0/0/736:  74%|███████▎  | 737/1000 [01:58<00:40,  6.47it/s]"
     ]
    },
    {
     "name": "stderr",
     "output_type": "stream",
     "text": [
      "\rWin1/Win2/Draw: 0/0/737:  74%|███████▎  | 737/1000 [01:58<00:40,  6.47it/s]"
     ]
    },
    {
     "name": "stderr",
     "output_type": "stream",
     "text": [
      "\rWin1/Win2/Draw: 0/0/737:  74%|███████▍  | 738/1000 [01:58<00:40,  6.48it/s]"
     ]
    },
    {
     "name": "stderr",
     "output_type": "stream",
     "text": [
      "\rWin1/Win2/Draw: 0/0/738:  74%|███████▍  | 738/1000 [01:58<00:40,  6.48it/s]"
     ]
    },
    {
     "name": "stderr",
     "output_type": "stream",
     "text": [
      "\rWin1/Win2/Draw: 0/0/738:  74%|███████▍  | 739/1000 [01:59<00:40,  6.49it/s]"
     ]
    },
    {
     "name": "stderr",
     "output_type": "stream",
     "text": [
      "\rWin1/Win2/Draw: 0/0/739:  74%|███████▍  | 739/1000 [01:59<00:40,  6.49it/s]"
     ]
    },
    {
     "name": "stderr",
     "output_type": "stream",
     "text": [
      "\rWin1/Win2/Draw: 0/0/739:  74%|███████▍  | 740/1000 [01:59<00:40,  6.48it/s]"
     ]
    },
    {
     "name": "stderr",
     "output_type": "stream",
     "text": [
      "\rWin1/Win2/Draw: 0/0/740:  74%|███████▍  | 740/1000 [01:59<00:40,  6.48it/s]"
     ]
    },
    {
     "name": "stderr",
     "output_type": "stream",
     "text": [
      "\rWin1/Win2/Draw: 0/0/740:  74%|███████▍  | 741/1000 [01:59<00:39,  6.49it/s]"
     ]
    },
    {
     "name": "stderr",
     "output_type": "stream",
     "text": [
      "\rWin1/Win2/Draw: 0/0/741:  74%|███████▍  | 741/1000 [01:59<00:39,  6.49it/s]"
     ]
    },
    {
     "name": "stderr",
     "output_type": "stream",
     "text": [
      "\rWin1/Win2/Draw: 0/0/741:  74%|███████▍  | 742/1000 [01:59<00:39,  6.51it/s]"
     ]
    },
    {
     "name": "stderr",
     "output_type": "stream",
     "text": [
      "\rWin1/Win2/Draw: 0/0/742:  74%|███████▍  | 742/1000 [01:59<00:39,  6.51it/s]"
     ]
    },
    {
     "name": "stderr",
     "output_type": "stream",
     "text": [
      "\rWin1/Win2/Draw: 0/0/742:  74%|███████▍  | 743/1000 [01:59<00:41,  6.21it/s]"
     ]
    },
    {
     "name": "stderr",
     "output_type": "stream",
     "text": [
      "\rWin1/Win2/Draw: 0/0/743:  74%|███████▍  | 743/1000 [01:59<00:41,  6.21it/s]"
     ]
    },
    {
     "name": "stderr",
     "output_type": "stream",
     "text": [
      "\rWin1/Win2/Draw: 0/0/743:  74%|███████▍  | 744/1000 [01:59<00:40,  6.33it/s]"
     ]
    },
    {
     "name": "stderr",
     "output_type": "stream",
     "text": [
      "\rWin1/Win2/Draw: 0/0/744:  74%|███████▍  | 744/1000 [01:59<00:40,  6.33it/s]"
     ]
    },
    {
     "name": "stderr",
     "output_type": "stream",
     "text": [
      "\rWin1/Win2/Draw: 0/0/744:  74%|███████▍  | 745/1000 [01:59<00:39,  6.38it/s]"
     ]
    },
    {
     "name": "stderr",
     "output_type": "stream",
     "text": [
      "\rWin1/Win2/Draw: 0/0/745:  74%|███████▍  | 745/1000 [01:59<00:39,  6.38it/s]"
     ]
    },
    {
     "name": "stderr",
     "output_type": "stream",
     "text": [
      "\rWin1/Win2/Draw: 0/0/745:  75%|███████▍  | 746/1000 [02:00<00:39,  6.45it/s]"
     ]
    },
    {
     "name": "stderr",
     "output_type": "stream",
     "text": [
      "\rWin1/Win2/Draw: 0/0/746:  75%|███████▍  | 746/1000 [02:00<00:39,  6.45it/s]"
     ]
    },
    {
     "name": "stderr",
     "output_type": "stream",
     "text": [
      "\rWin1/Win2/Draw: 0/0/746:  75%|███████▍  | 747/1000 [02:00<00:39,  6.48it/s]"
     ]
    },
    {
     "name": "stderr",
     "output_type": "stream",
     "text": [
      "\rWin1/Win2/Draw: 0/0/747:  75%|███████▍  | 747/1000 [02:00<00:39,  6.48it/s]"
     ]
    },
    {
     "name": "stderr",
     "output_type": "stream",
     "text": [
      "\rWin1/Win2/Draw: 0/0/747:  75%|███████▍  | 748/1000 [02:00<00:39,  6.45it/s]"
     ]
    },
    {
     "name": "stderr",
     "output_type": "stream",
     "text": [
      "\rWin1/Win2/Draw: 0/0/748:  75%|███████▍  | 748/1000 [02:00<00:39,  6.45it/s]"
     ]
    },
    {
     "name": "stderr",
     "output_type": "stream",
     "text": [
      "\rWin1/Win2/Draw: 0/0/748:  75%|███████▍  | 749/1000 [02:00<00:38,  6.47it/s]"
     ]
    },
    {
     "name": "stderr",
     "output_type": "stream",
     "text": [
      "\rWin1/Win2/Draw: 0/0/749:  75%|███████▍  | 749/1000 [02:00<00:38,  6.47it/s]"
     ]
    },
    {
     "name": "stderr",
     "output_type": "stream",
     "text": [
      "\rWin1/Win2/Draw: 0/0/749:  75%|███████▌  | 750/1000 [02:00<00:38,  6.44it/s]"
     ]
    },
    {
     "name": "stderr",
     "output_type": "stream",
     "text": [
      "\rWin1/Win2/Draw: 0/0/750:  75%|███████▌  | 750/1000 [02:00<00:38,  6.44it/s]"
     ]
    },
    {
     "name": "stderr",
     "output_type": "stream",
     "text": [
      "\rWin1/Win2/Draw: 0/0/750:  75%|███████▌  | 751/1000 [02:00<00:38,  6.39it/s]"
     ]
    },
    {
     "name": "stderr",
     "output_type": "stream",
     "text": [
      "\rWin1/Win2/Draw: 0/0/751:  75%|███████▌  | 751/1000 [02:00<00:38,  6.39it/s]"
     ]
    },
    {
     "name": "stderr",
     "output_type": "stream",
     "text": [
      "\rWin1/Win2/Draw: 0/0/751:  75%|███████▌  | 752/1000 [02:01<00:38,  6.39it/s]"
     ]
    },
    {
     "name": "stderr",
     "output_type": "stream",
     "text": [
      "\rWin1/Win2/Draw: 0/0/752:  75%|███████▌  | 752/1000 [02:01<00:38,  6.39it/s]"
     ]
    },
    {
     "name": "stderr",
     "output_type": "stream",
     "text": [
      "\rWin1/Win2/Draw: 0/0/752:  75%|███████▌  | 753/1000 [02:01<00:40,  6.14it/s]"
     ]
    },
    {
     "name": "stderr",
     "output_type": "stream",
     "text": [
      "\rWin1/Win2/Draw: 0/0/753:  75%|███████▌  | 753/1000 [02:01<00:40,  6.14it/s]"
     ]
    },
    {
     "name": "stderr",
     "output_type": "stream",
     "text": [
      "\rWin1/Win2/Draw: 0/0/753:  75%|███████▌  | 754/1000 [02:01<00:39,  6.26it/s]"
     ]
    },
    {
     "name": "stderr",
     "output_type": "stream",
     "text": [
      "\rWin1/Win2/Draw: 0/0/754:  75%|███████▌  | 754/1000 [02:01<00:39,  6.26it/s]"
     ]
    },
    {
     "name": "stderr",
     "output_type": "stream",
     "text": [
      "\rWin1/Win2/Draw: 0/0/754:  76%|███████▌  | 755/1000 [02:01<00:38,  6.33it/s]"
     ]
    },
    {
     "name": "stderr",
     "output_type": "stream",
     "text": [
      "\rWin1/Win2/Draw: 0/0/755:  76%|███████▌  | 755/1000 [02:01<00:38,  6.33it/s]"
     ]
    },
    {
     "name": "stderr",
     "output_type": "stream",
     "text": [
      "\rWin1/Win2/Draw: 0/0/755:  76%|███████▌  | 756/1000 [02:01<00:38,  6.36it/s]"
     ]
    },
    {
     "name": "stderr",
     "output_type": "stream",
     "text": [
      "\rWin1/Win2/Draw: 0/0/756:  76%|███████▌  | 756/1000 [02:01<00:38,  6.36it/s]"
     ]
    },
    {
     "name": "stderr",
     "output_type": "stream",
     "text": [
      "\rWin1/Win2/Draw: 0/0/756:  76%|███████▌  | 757/1000 [02:01<00:38,  6.37it/s]"
     ]
    },
    {
     "name": "stderr",
     "output_type": "stream",
     "text": [
      "\rWin1/Win2/Draw: 0/0/757:  76%|███████▌  | 757/1000 [02:01<00:38,  6.37it/s]"
     ]
    },
    {
     "name": "stderr",
     "output_type": "stream",
     "text": [
      "\rWin1/Win2/Draw: 0/0/757:  76%|███████▌  | 758/1000 [02:02<00:37,  6.41it/s]"
     ]
    },
    {
     "name": "stderr",
     "output_type": "stream",
     "text": [
      "\rWin1/Win2/Draw: 0/0/758:  76%|███████▌  | 758/1000 [02:02<00:37,  6.41it/s]"
     ]
    },
    {
     "name": "stderr",
     "output_type": "stream",
     "text": [
      "\rWin1/Win2/Draw: 0/0/758:  76%|███████▌  | 759/1000 [02:02<00:37,  6.41it/s]"
     ]
    },
    {
     "name": "stderr",
     "output_type": "stream",
     "text": [
      "\rWin1/Win2/Draw: 0/0/759:  76%|███████▌  | 759/1000 [02:02<00:37,  6.41it/s]"
     ]
    },
    {
     "name": "stderr",
     "output_type": "stream",
     "text": [
      "\rWin1/Win2/Draw: 0/0/759:  76%|███████▌  | 760/1000 [02:02<00:37,  6.40it/s]"
     ]
    },
    {
     "name": "stderr",
     "output_type": "stream",
     "text": [
      "\rWin1/Win2/Draw: 0/0/760:  76%|███████▌  | 760/1000 [02:02<00:37,  6.40it/s]"
     ]
    },
    {
     "name": "stderr",
     "output_type": "stream",
     "text": [
      "\rWin1/Win2/Draw: 0/0/760:  76%|███████▌  | 761/1000 [02:02<00:37,  6.42it/s]"
     ]
    },
    {
     "name": "stderr",
     "output_type": "stream",
     "text": [
      "\rWin1/Win2/Draw: 0/0/761:  76%|███████▌  | 761/1000 [02:02<00:37,  6.42it/s]"
     ]
    },
    {
     "name": "stderr",
     "output_type": "stream",
     "text": [
      "\rWin1/Win2/Draw: 0/0/761:  76%|███████▌  | 762/1000 [02:02<00:37,  6.41it/s]"
     ]
    },
    {
     "name": "stderr",
     "output_type": "stream",
     "text": [
      "\rWin1/Win2/Draw: 0/0/762:  76%|███████▌  | 762/1000 [02:02<00:37,  6.41it/s]"
     ]
    },
    {
     "name": "stderr",
     "output_type": "stream",
     "text": [
      "\rWin1/Win2/Draw: 0/0/762:  76%|███████▋  | 763/1000 [02:02<00:36,  6.48it/s]"
     ]
    },
    {
     "name": "stderr",
     "output_type": "stream",
     "text": [
      "\rWin1/Win2/Draw: 0/0/763:  76%|███████▋  | 763/1000 [02:02<00:36,  6.48it/s]"
     ]
    },
    {
     "name": "stderr",
     "output_type": "stream",
     "text": [
      "\rWin1/Win2/Draw: 0/0/763:  76%|███████▋  | 764/1000 [02:02<00:37,  6.36it/s]"
     ]
    },
    {
     "name": "stderr",
     "output_type": "stream",
     "text": [
      "\rWin1/Win2/Draw: 0/0/764:  76%|███████▋  | 764/1000 [02:02<00:37,  6.36it/s]"
     ]
    },
    {
     "name": "stderr",
     "output_type": "stream",
     "text": [
      "\rWin1/Win2/Draw: 0/0/764:  76%|███████▋  | 765/1000 [02:03<00:38,  6.09it/s]"
     ]
    },
    {
     "name": "stderr",
     "output_type": "stream",
     "text": [
      "\rWin1/Win2/Draw: 0/0/765:  76%|███████▋  | 765/1000 [02:03<00:38,  6.09it/s]"
     ]
    },
    {
     "name": "stderr",
     "output_type": "stream",
     "text": [
      "\rWin1/Win2/Draw: 0/0/765:  77%|███████▋  | 766/1000 [02:03<00:38,  6.16it/s]"
     ]
    },
    {
     "name": "stderr",
     "output_type": "stream",
     "text": [
      "\rWin1/Win2/Draw: 0/0/766:  77%|███████▋  | 766/1000 [02:03<00:38,  6.16it/s]"
     ]
    },
    {
     "name": "stderr",
     "output_type": "stream",
     "text": [
      "\rWin1/Win2/Draw: 0/0/766:  77%|███████▋  | 767/1000 [02:03<00:37,  6.28it/s]"
     ]
    },
    {
     "name": "stderr",
     "output_type": "stream",
     "text": [
      "\rWin1/Win2/Draw: 0/0/767:  77%|███████▋  | 767/1000 [02:03<00:37,  6.28it/s]"
     ]
    },
    {
     "name": "stderr",
     "output_type": "stream",
     "text": [
      "\rWin1/Win2/Draw: 0/0/767:  77%|███████▋  | 768/1000 [02:03<00:36,  6.28it/s]"
     ]
    },
    {
     "name": "stderr",
     "output_type": "stream",
     "text": [
      "\rWin1/Win2/Draw: 0/0/768:  77%|███████▋  | 768/1000 [02:03<00:36,  6.28it/s]"
     ]
    },
    {
     "name": "stderr",
     "output_type": "stream",
     "text": [
      "\rWin1/Win2/Draw: 0/0/768:  77%|███████▋  | 769/1000 [02:03<00:36,  6.36it/s]"
     ]
    },
    {
     "name": "stderr",
     "output_type": "stream",
     "text": [
      "\rWin1/Win2/Draw: 0/0/769:  77%|███████▋  | 769/1000 [02:03<00:36,  6.36it/s]"
     ]
    },
    {
     "name": "stderr",
     "output_type": "stream",
     "text": [
      "\rWin1/Win2/Draw: 0/0/769:  77%|███████▋  | 770/1000 [02:03<00:36,  6.31it/s]"
     ]
    },
    {
     "name": "stderr",
     "output_type": "stream",
     "text": [
      "\rWin1/Win2/Draw: 0/0/770:  77%|███████▋  | 770/1000 [02:03<00:36,  6.31it/s]"
     ]
    },
    {
     "name": "stderr",
     "output_type": "stream",
     "text": [
      "\rWin1/Win2/Draw: 0/0/770:  77%|███████▋  | 771/1000 [02:04<00:36,  6.29it/s]"
     ]
    },
    {
     "name": "stderr",
     "output_type": "stream",
     "text": [
      "\rWin1/Win2/Draw: 0/0/771:  77%|███████▋  | 771/1000 [02:04<00:36,  6.29it/s]"
     ]
    },
    {
     "name": "stderr",
     "output_type": "stream",
     "text": [
      "\rWin1/Win2/Draw: 0/0/771:  77%|███████▋  | 772/1000 [02:04<00:35,  6.40it/s]"
     ]
    },
    {
     "name": "stderr",
     "output_type": "stream",
     "text": [
      "\rWin1/Win2/Draw: 0/0/772:  77%|███████▋  | 772/1000 [02:04<00:35,  6.40it/s]"
     ]
    },
    {
     "name": "stderr",
     "output_type": "stream",
     "text": [
      "\rWin1/Win2/Draw: 0/0/772:  77%|███████▋  | 773/1000 [02:04<00:35,  6.44it/s]"
     ]
    },
    {
     "name": "stderr",
     "output_type": "stream",
     "text": [
      "\rWin1/Win2/Draw: 0/0/773:  77%|███████▋  | 773/1000 [02:04<00:35,  6.44it/s]"
     ]
    },
    {
     "name": "stderr",
     "output_type": "stream",
     "text": [
      "\rWin1/Win2/Draw: 0/0/773:  77%|███████▋  | 774/1000 [02:04<00:36,  6.16it/s]"
     ]
    },
    {
     "name": "stderr",
     "output_type": "stream",
     "text": [
      "\rWin1/Win2/Draw: 0/0/774:  77%|███████▋  | 774/1000 [02:04<00:36,  6.16it/s]"
     ]
    },
    {
     "name": "stderr",
     "output_type": "stream",
     "text": [
      "\rWin1/Win2/Draw: 0/0/774:  78%|███████▊  | 775/1000 [02:04<00:35,  6.31it/s]"
     ]
    },
    {
     "name": "stderr",
     "output_type": "stream",
     "text": [
      "\rWin1/Win2/Draw: 0/0/775:  78%|███████▊  | 775/1000 [02:04<00:35,  6.31it/s]"
     ]
    },
    {
     "name": "stderr",
     "output_type": "stream",
     "text": [
      "\rWin1/Win2/Draw: 0/0/775:  78%|███████▊  | 776/1000 [02:04<00:35,  6.36it/s]"
     ]
    },
    {
     "name": "stderr",
     "output_type": "stream",
     "text": [
      "\rWin1/Win2/Draw: 0/0/776:  78%|███████▊  | 776/1000 [02:04<00:35,  6.36it/s]"
     ]
    },
    {
     "name": "stderr",
     "output_type": "stream",
     "text": [
      "\rWin1/Win2/Draw: 0/0/776:  78%|███████▊  | 777/1000 [02:05<00:34,  6.38it/s]"
     ]
    },
    {
     "name": "stderr",
     "output_type": "stream",
     "text": [
      "\rWin1/Win2/Draw: 0/0/777:  78%|███████▊  | 777/1000 [02:05<00:34,  6.38it/s]"
     ]
    },
    {
     "name": "stderr",
     "output_type": "stream",
     "text": [
      "\rWin1/Win2/Draw: 0/0/777:  78%|███████▊  | 778/1000 [02:05<00:35,  6.33it/s]"
     ]
    },
    {
     "name": "stderr",
     "output_type": "stream",
     "text": [
      "\rWin1/Win2/Draw: 0/0/778:  78%|███████▊  | 778/1000 [02:05<00:35,  6.33it/s]"
     ]
    },
    {
     "name": "stderr",
     "output_type": "stream",
     "text": [
      "\rWin1/Win2/Draw: 0/0/778:  78%|███████▊  | 779/1000 [02:05<00:35,  6.28it/s]"
     ]
    },
    {
     "name": "stderr",
     "output_type": "stream",
     "text": [
      "\rWin1/Win2/Draw: 0/0/779:  78%|███████▊  | 779/1000 [02:05<00:35,  6.28it/s]"
     ]
    },
    {
     "name": "stderr",
     "output_type": "stream",
     "text": [
      "\rWin1/Win2/Draw: 0/0/779:  78%|███████▊  | 780/1000 [02:05<00:35,  6.28it/s]"
     ]
    },
    {
     "name": "stderr",
     "output_type": "stream",
     "text": [
      "\rWin1/Win2/Draw: 0/0/780:  78%|███████▊  | 780/1000 [02:05<00:35,  6.28it/s]"
     ]
    },
    {
     "name": "stderr",
     "output_type": "stream",
     "text": [
      "\rWin1/Win2/Draw: 0/0/780:  78%|███████▊  | 781/1000 [02:05<00:34,  6.32it/s]"
     ]
    },
    {
     "name": "stderr",
     "output_type": "stream",
     "text": [
      "\rWin1/Win2/Draw: 0/0/781:  78%|███████▊  | 781/1000 [02:05<00:34,  6.32it/s]"
     ]
    },
    {
     "name": "stderr",
     "output_type": "stream",
     "text": [
      "\rWin1/Win2/Draw: 0/0/781:  78%|███████▊  | 782/1000 [02:05<00:33,  6.43it/s]"
     ]
    },
    {
     "name": "stderr",
     "output_type": "stream",
     "text": [
      "\rWin1/Win2/Draw: 0/0/782:  78%|███████▊  | 782/1000 [02:05<00:33,  6.43it/s]"
     ]
    },
    {
     "name": "stderr",
     "output_type": "stream",
     "text": [
      "\rWin1/Win2/Draw: 0/0/782:  78%|███████▊  | 783/1000 [02:05<00:33,  6.47it/s]"
     ]
    },
    {
     "name": "stderr",
     "output_type": "stream",
     "text": [
      "\rWin1/Win2/Draw: 0/0/783:  78%|███████▊  | 783/1000 [02:05<00:33,  6.47it/s]"
     ]
    },
    {
     "name": "stderr",
     "output_type": "stream",
     "text": [
      "\rWin1/Win2/Draw: 0/0/783:  78%|███████▊  | 784/1000 [02:06<00:33,  6.45it/s]"
     ]
    },
    {
     "name": "stderr",
     "output_type": "stream",
     "text": [
      "\rWin1/Win2/Draw: 0/0/784:  78%|███████▊  | 784/1000 [02:06<00:33,  6.45it/s]"
     ]
    },
    {
     "name": "stderr",
     "output_type": "stream",
     "text": [
      "\rWin1/Win2/Draw: 0/0/784:  78%|███████▊  | 785/1000 [02:06<00:35,  6.10it/s]"
     ]
    },
    {
     "name": "stderr",
     "output_type": "stream",
     "text": [
      "\rWin1/Win2/Draw: 0/0/785:  78%|███████▊  | 785/1000 [02:06<00:35,  6.10it/s]"
     ]
    },
    {
     "name": "stderr",
     "output_type": "stream",
     "text": [
      "\rWin1/Win2/Draw: 0/0/785:  79%|███████▊  | 786/1000 [02:06<00:34,  6.22it/s]"
     ]
    },
    {
     "name": "stderr",
     "output_type": "stream",
     "text": [
      "\rWin1/Win2/Draw: 0/0/786:  79%|███████▊  | 786/1000 [02:06<00:34,  6.22it/s]"
     ]
    },
    {
     "name": "stderr",
     "output_type": "stream",
     "text": [
      "\rWin1/Win2/Draw: 0/0/786:  79%|███████▊  | 787/1000 [02:06<00:33,  6.34it/s]"
     ]
    },
    {
     "name": "stderr",
     "output_type": "stream",
     "text": [
      "\rWin1/Win2/Draw: 0/0/787:  79%|███████▊  | 787/1000 [02:06<00:33,  6.34it/s]"
     ]
    },
    {
     "name": "stderr",
     "output_type": "stream",
     "text": [
      "\rWin1/Win2/Draw: 0/0/787:  79%|███████▉  | 788/1000 [02:06<00:32,  6.45it/s]"
     ]
    },
    {
     "name": "stderr",
     "output_type": "stream",
     "text": [
      "\rWin1/Win2/Draw: 0/0/788:  79%|███████▉  | 788/1000 [02:06<00:32,  6.45it/s]"
     ]
    },
    {
     "name": "stderr",
     "output_type": "stream",
     "text": [
      "\rWin1/Win2/Draw: 0/0/788:  79%|███████▉  | 789/1000 [02:06<00:32,  6.48it/s]"
     ]
    },
    {
     "name": "stderr",
     "output_type": "stream",
     "text": [
      "\rWin1/Win2/Draw: 0/0/789:  79%|███████▉  | 789/1000 [02:06<00:32,  6.48it/s]"
     ]
    },
    {
     "name": "stderr",
     "output_type": "stream",
     "text": [
      "\rWin1/Win2/Draw: 0/0/789:  79%|███████▉  | 790/1000 [02:07<00:32,  6.54it/s]"
     ]
    },
    {
     "name": "stderr",
     "output_type": "stream",
     "text": [
      "\rWin1/Win2/Draw: 0/0/790:  79%|███████▉  | 790/1000 [02:07<00:32,  6.54it/s]"
     ]
    },
    {
     "name": "stderr",
     "output_type": "stream",
     "text": [
      "\rWin1/Win2/Draw: 0/0/790:  79%|███████▉  | 791/1000 [02:07<00:31,  6.54it/s]"
     ]
    },
    {
     "name": "stderr",
     "output_type": "stream",
     "text": [
      "\rWin1/Win2/Draw: 0/0/791:  79%|███████▉  | 791/1000 [02:07<00:31,  6.54it/s]"
     ]
    },
    {
     "name": "stderr",
     "output_type": "stream",
     "text": [
      "\rWin1/Win2/Draw: 0/0/791:  79%|███████▉  | 792/1000 [02:07<00:31,  6.54it/s]"
     ]
    },
    {
     "name": "stderr",
     "output_type": "stream",
     "text": [
      "\rWin1/Win2/Draw: 0/0/792:  79%|███████▉  | 792/1000 [02:07<00:31,  6.54it/s]"
     ]
    },
    {
     "name": "stderr",
     "output_type": "stream",
     "text": [
      "\rWin1/Win2/Draw: 0/0/792:  79%|███████▉  | 793/1000 [02:07<00:31,  6.51it/s]"
     ]
    },
    {
     "name": "stderr",
     "output_type": "stream",
     "text": [
      "\rWin1/Win2/Draw: 0/0/793:  79%|███████▉  | 793/1000 [02:07<00:31,  6.51it/s]"
     ]
    },
    {
     "name": "stderr",
     "output_type": "stream",
     "text": [
      "\rWin1/Win2/Draw: 0/0/793:  79%|███████▉  | 794/1000 [02:07<00:31,  6.47it/s]"
     ]
    },
    {
     "name": "stderr",
     "output_type": "stream",
     "text": [
      "\rWin1/Win2/Draw: 0/0/794:  79%|███████▉  | 794/1000 [02:07<00:31,  6.47it/s]"
     ]
    },
    {
     "name": "stderr",
     "output_type": "stream",
     "text": [
      "\rWin1/Win2/Draw: 0/0/794:  80%|███████▉  | 795/1000 [02:07<00:31,  6.50it/s]"
     ]
    },
    {
     "name": "stderr",
     "output_type": "stream",
     "text": [
      "\rWin1/Win2/Draw: 0/0/795:  80%|███████▉  | 795/1000 [02:07<00:31,  6.50it/s]"
     ]
    },
    {
     "name": "stderr",
     "output_type": "stream",
     "text": [
      "\rWin1/Win2/Draw: 0/0/795:  80%|███████▉  | 796/1000 [02:07<00:32,  6.21it/s]"
     ]
    },
    {
     "name": "stderr",
     "output_type": "stream",
     "text": [
      "\rWin1/Win2/Draw: 0/0/796:  80%|███████▉  | 796/1000 [02:07<00:32,  6.21it/s]"
     ]
    },
    {
     "name": "stderr",
     "output_type": "stream",
     "text": [
      "\rWin1/Win2/Draw: 0/0/796:  80%|███████▉  | 797/1000 [02:08<00:32,  6.29it/s]"
     ]
    },
    {
     "name": "stderr",
     "output_type": "stream",
     "text": [
      "\rWin1/Win2/Draw: 0/0/797:  80%|███████▉  | 797/1000 [02:08<00:32,  6.29it/s]"
     ]
    },
    {
     "name": "stderr",
     "output_type": "stream",
     "text": [
      "\rWin1/Win2/Draw: 0/0/797:  80%|███████▉  | 798/1000 [02:08<00:31,  6.33it/s]"
     ]
    },
    {
     "name": "stderr",
     "output_type": "stream",
     "text": [
      "\rWin1/Win2/Draw: 0/0/798:  80%|███████▉  | 798/1000 [02:08<00:31,  6.33it/s]"
     ]
    },
    {
     "name": "stderr",
     "output_type": "stream",
     "text": [
      "\rWin1/Win2/Draw: 0/0/798:  80%|███████▉  | 799/1000 [02:08<00:31,  6.33it/s]"
     ]
    },
    {
     "name": "stderr",
     "output_type": "stream",
     "text": [
      "\rWin1/Win2/Draw: 0/0/799:  80%|███████▉  | 799/1000 [02:08<00:31,  6.33it/s]"
     ]
    },
    {
     "name": "stderr",
     "output_type": "stream",
     "text": [
      "\rWin1/Win2/Draw: 0/0/799:  80%|████████  | 800/1000 [02:08<00:31,  6.32it/s]"
     ]
    },
    {
     "name": "stderr",
     "output_type": "stream",
     "text": [
      "\rWin1/Win2/Draw: 0/0/800:  80%|████████  | 800/1000 [02:08<00:31,  6.32it/s]"
     ]
    },
    {
     "name": "stderr",
     "output_type": "stream",
     "text": [
      "\rWin1/Win2/Draw: 0/0/800:  80%|████████  | 801/1000 [02:08<00:31,  6.32it/s]"
     ]
    },
    {
     "name": "stderr",
     "output_type": "stream",
     "text": [
      "\rWin1/Win2/Draw: 0/0/801:  80%|████████  | 801/1000 [02:08<00:31,  6.32it/s]"
     ]
    },
    {
     "name": "stderr",
     "output_type": "stream",
     "text": [
      "\rWin1/Win2/Draw: 0/0/801:  80%|████████  | 802/1000 [02:08<00:31,  6.33it/s]"
     ]
    },
    {
     "name": "stderr",
     "output_type": "stream",
     "text": [
      "\rWin1/Win2/Draw: 0/0/802:  80%|████████  | 802/1000 [02:08<00:31,  6.33it/s]"
     ]
    },
    {
     "name": "stderr",
     "output_type": "stream",
     "text": [
      "\rWin1/Win2/Draw: 0/0/802:  80%|████████  | 803/1000 [02:09<00:30,  6.40it/s]"
     ]
    },
    {
     "name": "stderr",
     "output_type": "stream",
     "text": [
      "\rWin1/Win2/Draw: 0/0/803:  80%|████████  | 803/1000 [02:09<00:30,  6.40it/s]"
     ]
    },
    {
     "name": "stderr",
     "output_type": "stream",
     "text": [
      "\rWin1/Win2/Draw: 0/0/803:  80%|████████  | 804/1000 [02:09<00:30,  6.41it/s]"
     ]
    },
    {
     "name": "stderr",
     "output_type": "stream",
     "text": [
      "\rWin1/Win2/Draw: 0/0/804:  80%|████████  | 804/1000 [02:09<00:30,  6.41it/s]"
     ]
    },
    {
     "name": "stderr",
     "output_type": "stream",
     "text": [
      "\rWin1/Win2/Draw: 0/0/804:  80%|████████  | 805/1000 [02:09<00:30,  6.41it/s]"
     ]
    },
    {
     "name": "stderr",
     "output_type": "stream",
     "text": [
      "\rWin1/Win2/Draw: 0/0/805:  80%|████████  | 805/1000 [02:09<00:30,  6.41it/s]"
     ]
    },
    {
     "name": "stderr",
     "output_type": "stream",
     "text": [
      "\rWin1/Win2/Draw: 0/0/805:  81%|████████  | 806/1000 [02:09<00:31,  6.12it/s]"
     ]
    },
    {
     "name": "stderr",
     "output_type": "stream",
     "text": [
      "\rWin1/Win2/Draw: 0/0/806:  81%|████████  | 806/1000 [02:09<00:31,  6.12it/s]"
     ]
    },
    {
     "name": "stderr",
     "output_type": "stream",
     "text": [
      "\rWin1/Win2/Draw: 0/0/806:  81%|████████  | 807/1000 [02:09<00:31,  6.21it/s]"
     ]
    },
    {
     "name": "stderr",
     "output_type": "stream",
     "text": [
      "\rWin1/Win2/Draw: 0/0/807:  81%|████████  | 807/1000 [02:09<00:31,  6.21it/s]"
     ]
    },
    {
     "name": "stderr",
     "output_type": "stream",
     "text": [
      "\rWin1/Win2/Draw: 0/0/807:  81%|████████  | 808/1000 [02:09<00:30,  6.29it/s]"
     ]
    },
    {
     "name": "stderr",
     "output_type": "stream",
     "text": [
      "\rWin1/Win2/Draw: 0/0/808:  81%|████████  | 808/1000 [02:09<00:30,  6.29it/s]"
     ]
    },
    {
     "name": "stderr",
     "output_type": "stream",
     "text": [
      "\rWin1/Win2/Draw: 0/0/808:  81%|████████  | 809/1000 [02:10<00:30,  6.32it/s]"
     ]
    },
    {
     "name": "stderr",
     "output_type": "stream",
     "text": [
      "\rWin1/Win2/Draw: 0/0/809:  81%|████████  | 809/1000 [02:10<00:30,  6.32it/s]"
     ]
    },
    {
     "name": "stderr",
     "output_type": "stream",
     "text": [
      "\rWin1/Win2/Draw: 0/0/809:  81%|████████  | 810/1000 [02:10<00:29,  6.41it/s]"
     ]
    },
    {
     "name": "stderr",
     "output_type": "stream",
     "text": [
      "\rWin1/Win2/Draw: 0/0/810:  81%|████████  | 810/1000 [02:10<00:29,  6.41it/s]"
     ]
    },
    {
     "name": "stderr",
     "output_type": "stream",
     "text": [
      "\rWin1/Win2/Draw: 0/0/810:  81%|████████  | 811/1000 [02:10<00:29,  6.46it/s]"
     ]
    },
    {
     "name": "stderr",
     "output_type": "stream",
     "text": [
      "\rWin1/Win2/Draw: 0/0/811:  81%|████████  | 811/1000 [02:10<00:29,  6.46it/s]"
     ]
    },
    {
     "name": "stderr",
     "output_type": "stream",
     "text": [
      "\rWin1/Win2/Draw: 0/0/811:  81%|████████  | 812/1000 [02:10<00:28,  6.51it/s]"
     ]
    },
    {
     "name": "stderr",
     "output_type": "stream",
     "text": [
      "\rWin1/Win2/Draw: 0/0/812:  81%|████████  | 812/1000 [02:10<00:28,  6.51it/s]"
     ]
    },
    {
     "name": "stderr",
     "output_type": "stream",
     "text": [
      "\rWin1/Win2/Draw: 0/0/812:  81%|████████▏ | 813/1000 [02:10<00:28,  6.48it/s]"
     ]
    },
    {
     "name": "stderr",
     "output_type": "stream",
     "text": [
      "\rWin1/Win2/Draw: 0/0/813:  81%|████████▏ | 813/1000 [02:10<00:28,  6.48it/s]"
     ]
    },
    {
     "name": "stderr",
     "output_type": "stream",
     "text": [
      "\rWin1/Win2/Draw: 0/0/813:  81%|████████▏ | 814/1000 [02:10<00:28,  6.45it/s]"
     ]
    },
    {
     "name": "stderr",
     "output_type": "stream",
     "text": [
      "\rWin1/Win2/Draw: 0/0/814:  81%|████████▏ | 814/1000 [02:10<00:28,  6.45it/s]"
     ]
    },
    {
     "name": "stderr",
     "output_type": "stream",
     "text": [
      "\rWin1/Win2/Draw: 0/0/814:  82%|████████▏ | 815/1000 [02:10<00:28,  6.44it/s]"
     ]
    },
    {
     "name": "stderr",
     "output_type": "stream",
     "text": [
      "\rWin1/Win2/Draw: 0/0/815:  82%|████████▏ | 815/1000 [02:10<00:28,  6.44it/s]"
     ]
    },
    {
     "name": "stderr",
     "output_type": "stream",
     "text": [
      "\rWin1/Win2/Draw: 0/0/815:  82%|████████▏ | 816/1000 [02:11<00:29,  6.16it/s]"
     ]
    },
    {
     "name": "stderr",
     "output_type": "stream",
     "text": [
      "\rWin1/Win2/Draw: 0/0/816:  82%|████████▏ | 816/1000 [02:11<00:29,  6.16it/s]"
     ]
    },
    {
     "name": "stderr",
     "output_type": "stream",
     "text": [
      "\rWin1/Win2/Draw: 0/0/816:  82%|████████▏ | 817/1000 [02:11<00:29,  6.21it/s]"
     ]
    },
    {
     "name": "stderr",
     "output_type": "stream",
     "text": [
      "\rWin1/Win2/Draw: 0/0/817:  82%|████████▏ | 817/1000 [02:11<00:29,  6.21it/s]"
     ]
    },
    {
     "name": "stderr",
     "output_type": "stream",
     "text": [
      "\rWin1/Win2/Draw: 0/0/817:  82%|████████▏ | 818/1000 [02:11<00:29,  6.27it/s]"
     ]
    },
    {
     "name": "stderr",
     "output_type": "stream",
     "text": [
      "\rWin1/Win2/Draw: 0/0/818:  82%|████████▏ | 818/1000 [02:11<00:29,  6.27it/s]"
     ]
    },
    {
     "name": "stderr",
     "output_type": "stream",
     "text": [
      "\rWin1/Win2/Draw: 0/0/818:  82%|████████▏ | 819/1000 [02:11<00:28,  6.29it/s]"
     ]
    },
    {
     "name": "stderr",
     "output_type": "stream",
     "text": [
      "\rWin1/Win2/Draw: 0/0/819:  82%|████████▏ | 819/1000 [02:11<00:28,  6.29it/s]"
     ]
    },
    {
     "name": "stderr",
     "output_type": "stream",
     "text": [
      "\rWin1/Win2/Draw: 0/0/819:  82%|████████▏ | 820/1000 [02:11<00:28,  6.37it/s]"
     ]
    },
    {
     "name": "stderr",
     "output_type": "stream",
     "text": [
      "\rWin1/Win2/Draw: 0/0/820:  82%|████████▏ | 820/1000 [02:11<00:28,  6.37it/s]"
     ]
    },
    {
     "name": "stderr",
     "output_type": "stream",
     "text": [
      "\rWin1/Win2/Draw: 0/0/820:  82%|████████▏ | 821/1000 [02:11<00:27,  6.42it/s]"
     ]
    },
    {
     "name": "stderr",
     "output_type": "stream",
     "text": [
      "\rWin1/Win2/Draw: 0/0/821:  82%|████████▏ | 821/1000 [02:11<00:27,  6.42it/s]"
     ]
    },
    {
     "name": "stderr",
     "output_type": "stream",
     "text": [
      "\rWin1/Win2/Draw: 0/0/821:  82%|████████▏ | 822/1000 [02:12<00:27,  6.42it/s]"
     ]
    },
    {
     "name": "stderr",
     "output_type": "stream",
     "text": [
      "\rWin1/Win2/Draw: 0/0/822:  82%|████████▏ | 822/1000 [02:12<00:27,  6.42it/s]"
     ]
    },
    {
     "name": "stderr",
     "output_type": "stream",
     "text": [
      "\rWin1/Win2/Draw: 0/0/822:  82%|████████▏ | 823/1000 [02:12<00:27,  6.43it/s]"
     ]
    },
    {
     "name": "stderr",
     "output_type": "stream",
     "text": [
      "\rWin1/Win2/Draw: 0/0/823:  82%|████████▏ | 823/1000 [02:12<00:27,  6.43it/s]"
     ]
    },
    {
     "name": "stderr",
     "output_type": "stream",
     "text": [
      "\rWin1/Win2/Draw: 0/0/823:  82%|████████▏ | 824/1000 [02:12<00:27,  6.40it/s]"
     ]
    },
    {
     "name": "stderr",
     "output_type": "stream",
     "text": [
      "\rWin1/Win2/Draw: 0/0/824:  82%|████████▏ | 824/1000 [02:12<00:27,  6.40it/s]"
     ]
    },
    {
     "name": "stderr",
     "output_type": "stream",
     "text": [
      "\rWin1/Win2/Draw: 0/0/824:  82%|████████▎ | 825/1000 [02:12<00:27,  6.37it/s]"
     ]
    },
    {
     "name": "stderr",
     "output_type": "stream",
     "text": [
      "\rWin1/Win2/Draw: 0/0/825:  82%|████████▎ | 825/1000 [02:12<00:27,  6.37it/s]"
     ]
    },
    {
     "name": "stderr",
     "output_type": "stream",
     "text": [
      "\rWin1/Win2/Draw: 0/0/825:  83%|████████▎ | 826/1000 [02:12<00:27,  6.39it/s]"
     ]
    },
    {
     "name": "stderr",
     "output_type": "stream",
     "text": [
      "\rWin1/Win2/Draw: 0/0/826:  83%|████████▎ | 826/1000 [02:12<00:27,  6.39it/s]"
     ]
    },
    {
     "name": "stderr",
     "output_type": "stream",
     "text": [
      "\rWin1/Win2/Draw: 0/0/826:  83%|████████▎ | 827/1000 [02:12<00:26,  6.41it/s]"
     ]
    },
    {
     "name": "stderr",
     "output_type": "stream",
     "text": [
      "\rWin1/Win2/Draw: 0/0/827:  83%|████████▎ | 827/1000 [02:12<00:26,  6.41it/s]"
     ]
    },
    {
     "name": "stderr",
     "output_type": "stream",
     "text": [
      "\rWin1/Win2/Draw: 0/0/827:  83%|████████▎ | 828/1000 [02:13<00:28,  6.13it/s]"
     ]
    },
    {
     "name": "stderr",
     "output_type": "stream",
     "text": [
      "\rWin1/Win2/Draw: 0/0/828:  83%|████████▎ | 828/1000 [02:13<00:28,  6.13it/s]"
     ]
    },
    {
     "name": "stderr",
     "output_type": "stream",
     "text": [
      "\rWin1/Win2/Draw: 0/0/828:  83%|████████▎ | 829/1000 [02:13<00:27,  6.26it/s]"
     ]
    },
    {
     "name": "stderr",
     "output_type": "stream",
     "text": [
      "\rWin1/Win2/Draw: 0/0/829:  83%|████████▎ | 829/1000 [02:13<00:27,  6.26it/s]"
     ]
    },
    {
     "name": "stderr",
     "output_type": "stream",
     "text": [
      "\rWin1/Win2/Draw: 0/0/829:  83%|████████▎ | 830/1000 [02:13<00:27,  6.29it/s]"
     ]
    },
    {
     "name": "stderr",
     "output_type": "stream",
     "text": [
      "\rWin1/Win2/Draw: 0/0/830:  83%|████████▎ | 830/1000 [02:13<00:27,  6.29it/s]"
     ]
    },
    {
     "name": "stderr",
     "output_type": "stream",
     "text": [
      "\rWin1/Win2/Draw: 0/0/830:  83%|████████▎ | 831/1000 [02:13<00:26,  6.33it/s]"
     ]
    },
    {
     "name": "stderr",
     "output_type": "stream",
     "text": [
      "\rWin1/Win2/Draw: 0/0/831:  83%|████████▎ | 831/1000 [02:13<00:26,  6.33it/s]"
     ]
    },
    {
     "name": "stderr",
     "output_type": "stream",
     "text": [
      "\rWin1/Win2/Draw: 0/0/831:  83%|████████▎ | 832/1000 [02:13<00:26,  6.36it/s]"
     ]
    },
    {
     "name": "stderr",
     "output_type": "stream",
     "text": [
      "\rWin1/Win2/Draw: 0/0/832:  83%|████████▎ | 832/1000 [02:13<00:26,  6.36it/s]"
     ]
    },
    {
     "name": "stderr",
     "output_type": "stream",
     "text": [
      "\rWin1/Win2/Draw: 0/0/832:  83%|████████▎ | 833/1000 [02:13<00:26,  6.35it/s]"
     ]
    },
    {
     "name": "stderr",
     "output_type": "stream",
     "text": [
      "\rWin1/Win2/Draw: 0/0/833:  83%|████████▎ | 833/1000 [02:13<00:26,  6.35it/s]"
     ]
    },
    {
     "name": "stderr",
     "output_type": "stream",
     "text": [
      "\rWin1/Win2/Draw: 0/0/833:  83%|████████▎ | 834/1000 [02:13<00:25,  6.43it/s]"
     ]
    },
    {
     "name": "stderr",
     "output_type": "stream",
     "text": [
      "\rWin1/Win2/Draw: 0/0/834:  83%|████████▎ | 834/1000 [02:13<00:25,  6.43it/s]"
     ]
    },
    {
     "name": "stderr",
     "output_type": "stream",
     "text": [
      "\rWin1/Win2/Draw: 0/0/834:  84%|████████▎ | 835/1000 [02:14<00:25,  6.38it/s]"
     ]
    },
    {
     "name": "stderr",
     "output_type": "stream",
     "text": [
      "\rWin1/Win2/Draw: 0/0/835:  84%|████████▎ | 835/1000 [02:14<00:25,  6.38it/s]"
     ]
    },
    {
     "name": "stderr",
     "output_type": "stream",
     "text": [
      "\rWin1/Win2/Draw: 0/0/835:  84%|████████▎ | 836/1000 [02:14<00:25,  6.32it/s]"
     ]
    },
    {
     "name": "stderr",
     "output_type": "stream",
     "text": [
      "\rWin1/Win2/Draw: 0/0/836:  84%|████████▎ | 836/1000 [02:14<00:25,  6.32it/s]"
     ]
    },
    {
     "name": "stderr",
     "output_type": "stream",
     "text": [
      "\rWin1/Win2/Draw: 0/0/836:  84%|████████▎ | 837/1000 [02:14<00:26,  6.08it/s]"
     ]
    },
    {
     "name": "stderr",
     "output_type": "stream",
     "text": [
      "\rWin1/Win2/Draw: 0/0/837:  84%|████████▎ | 837/1000 [02:14<00:26,  6.08it/s]"
     ]
    },
    {
     "name": "stderr",
     "output_type": "stream",
     "text": [
      "\rWin1/Win2/Draw: 0/0/837:  84%|████████▍ | 838/1000 [02:14<00:26,  6.18it/s]"
     ]
    },
    {
     "name": "stderr",
     "output_type": "stream",
     "text": [
      "\rWin1/Win2/Draw: 0/0/838:  84%|████████▍ | 838/1000 [02:14<00:26,  6.18it/s]"
     ]
    },
    {
     "name": "stderr",
     "output_type": "stream",
     "text": [
      "\rWin1/Win2/Draw: 0/0/838:  84%|████████▍ | 839/1000 [02:14<00:25,  6.30it/s]"
     ]
    },
    {
     "name": "stderr",
     "output_type": "stream",
     "text": [
      "\rWin1/Win2/Draw: 0/0/839:  84%|████████▍ | 839/1000 [02:14<00:25,  6.30it/s]"
     ]
    },
    {
     "name": "stderr",
     "output_type": "stream",
     "text": [
      "\rWin1/Win2/Draw: 0/0/839:  84%|████████▍ | 840/1000 [02:14<00:25,  6.30it/s]"
     ]
    },
    {
     "name": "stderr",
     "output_type": "stream",
     "text": [
      "\rWin1/Win2/Draw: 0/0/840:  84%|████████▍ | 840/1000 [02:14<00:25,  6.30it/s]"
     ]
    },
    {
     "name": "stderr",
     "output_type": "stream",
     "text": [
      "\rWin1/Win2/Draw: 0/0/840:  84%|████████▍ | 841/1000 [02:15<00:25,  6.35it/s]"
     ]
    },
    {
     "name": "stderr",
     "output_type": "stream",
     "text": [
      "\rWin1/Win2/Draw: 0/0/841:  84%|████████▍ | 841/1000 [02:15<00:25,  6.35it/s]"
     ]
    },
    {
     "name": "stderr",
     "output_type": "stream",
     "text": [
      "\rWin1/Win2/Draw: 0/0/841:  84%|████████▍ | 842/1000 [02:15<00:24,  6.40it/s]"
     ]
    },
    {
     "name": "stderr",
     "output_type": "stream",
     "text": [
      "\rWin1/Win2/Draw: 0/0/842:  84%|████████▍ | 842/1000 [02:15<00:24,  6.40it/s]"
     ]
    },
    {
     "name": "stderr",
     "output_type": "stream",
     "text": [
      "\rWin1/Win2/Draw: 0/0/842:  84%|████████▍ | 843/1000 [02:15<00:24,  6.46it/s]"
     ]
    },
    {
     "name": "stderr",
     "output_type": "stream",
     "text": [
      "\rWin1/Win2/Draw: 0/0/843:  84%|████████▍ | 843/1000 [02:15<00:24,  6.46it/s]"
     ]
    },
    {
     "name": "stderr",
     "output_type": "stream",
     "text": [
      "\rWin1/Win2/Draw: 0/0/843:  84%|████████▍ | 844/1000 [02:15<00:24,  6.44it/s]"
     ]
    },
    {
     "name": "stderr",
     "output_type": "stream",
     "text": [
      "\rWin1/Win2/Draw: 0/0/844:  84%|████████▍ | 844/1000 [02:15<00:24,  6.44it/s]"
     ]
    },
    {
     "name": "stderr",
     "output_type": "stream",
     "text": [
      "\rWin1/Win2/Draw: 0/0/844:  84%|████████▍ | 845/1000 [02:15<00:23,  6.51it/s]"
     ]
    },
    {
     "name": "stderr",
     "output_type": "stream",
     "text": [
      "\rWin1/Win2/Draw: 0/0/845:  84%|████████▍ | 845/1000 [02:15<00:23,  6.51it/s]"
     ]
    },
    {
     "name": "stderr",
     "output_type": "stream",
     "text": [
      "\rWin1/Win2/Draw: 0/0/845:  85%|████████▍ | 846/1000 [02:15<00:23,  6.53it/s]"
     ]
    },
    {
     "name": "stderr",
     "output_type": "stream",
     "text": [
      "\rWin1/Win2/Draw: 0/0/846:  85%|████████▍ | 846/1000 [02:15<00:23,  6.53it/s]"
     ]
    },
    {
     "name": "stderr",
     "output_type": "stream",
     "text": [
      "\rWin1/Win2/Draw: 0/0/846:  85%|████████▍ | 847/1000 [02:16<00:23,  6.49it/s]"
     ]
    },
    {
     "name": "stderr",
     "output_type": "stream",
     "text": [
      "\rWin1/Win2/Draw: 0/0/847:  85%|████████▍ | 847/1000 [02:16<00:23,  6.49it/s]"
     ]
    },
    {
     "name": "stderr",
     "output_type": "stream",
     "text": [
      "\rWin1/Win2/Draw: 0/0/847:  85%|████████▍ | 848/1000 [02:16<00:24,  6.23it/s]"
     ]
    },
    {
     "name": "stderr",
     "output_type": "stream",
     "text": [
      "\rWin1/Win2/Draw: 0/0/848:  85%|████████▍ | 848/1000 [02:16<00:24,  6.23it/s]"
     ]
    },
    {
     "name": "stderr",
     "output_type": "stream",
     "text": [
      "\rWin1/Win2/Draw: 0/0/848:  85%|████████▍ | 849/1000 [02:16<00:23,  6.34it/s]"
     ]
    },
    {
     "name": "stderr",
     "output_type": "stream",
     "text": [
      "\rWin1/Win2/Draw: 0/0/849:  85%|████████▍ | 849/1000 [02:16<00:23,  6.34it/s]"
     ]
    },
    {
     "name": "stderr",
     "output_type": "stream",
     "text": [
      "\rWin1/Win2/Draw: 0/0/849:  85%|████████▌ | 850/1000 [02:16<00:23,  6.43it/s]"
     ]
    },
    {
     "name": "stderr",
     "output_type": "stream",
     "text": [
      "\rWin1/Win2/Draw: 0/0/850:  85%|████████▌ | 850/1000 [02:16<00:23,  6.43it/s]"
     ]
    },
    {
     "name": "stderr",
     "output_type": "stream",
     "text": [
      "\rWin1/Win2/Draw: 0/0/850:  85%|████████▌ | 851/1000 [02:16<00:22,  6.50it/s]"
     ]
    },
    {
     "name": "stderr",
     "output_type": "stream",
     "text": [
      "\rWin1/Win2/Draw: 0/0/851:  85%|████████▌ | 851/1000 [02:16<00:22,  6.50it/s]"
     ]
    },
    {
     "name": "stderr",
     "output_type": "stream",
     "text": [
      "\rWin1/Win2/Draw: 0/0/851:  85%|████████▌ | 852/1000 [02:16<00:22,  6.55it/s]"
     ]
    },
    {
     "name": "stderr",
     "output_type": "stream",
     "text": [
      "\rWin1/Win2/Draw: 0/0/852:  85%|████████▌ | 852/1000 [02:16<00:22,  6.55it/s]"
     ]
    },
    {
     "name": "stderr",
     "output_type": "stream",
     "text": [
      "\rWin1/Win2/Draw: 0/0/852:  85%|████████▌ | 853/1000 [02:16<00:22,  6.51it/s]"
     ]
    },
    {
     "name": "stderr",
     "output_type": "stream",
     "text": [
      "\rWin1/Win2/Draw: 0/0/853:  85%|████████▌ | 853/1000 [02:16<00:22,  6.51it/s]"
     ]
    },
    {
     "name": "stderr",
     "output_type": "stream",
     "text": [
      "\rWin1/Win2/Draw: 0/0/853:  85%|████████▌ | 854/1000 [02:17<00:22,  6.54it/s]"
     ]
    },
    {
     "name": "stderr",
     "output_type": "stream",
     "text": [
      "\rWin1/Win2/Draw: 0/0/854:  85%|████████▌ | 854/1000 [02:17<00:22,  6.54it/s]"
     ]
    },
    {
     "name": "stderr",
     "output_type": "stream",
     "text": [
      "\rWin1/Win2/Draw: 0/0/854:  86%|████████▌ | 855/1000 [02:17<00:22,  6.54it/s]"
     ]
    },
    {
     "name": "stderr",
     "output_type": "stream",
     "text": [
      "\rWin1/Win2/Draw: 0/0/855:  86%|████████▌ | 855/1000 [02:17<00:22,  6.54it/s]"
     ]
    },
    {
     "name": "stderr",
     "output_type": "stream",
     "text": [
      "\rWin1/Win2/Draw: 0/0/855:  86%|████████▌ | 856/1000 [02:17<00:21,  6.58it/s]"
     ]
    },
    {
     "name": "stderr",
     "output_type": "stream",
     "text": [
      "\rWin1/Win2/Draw: 0/0/856:  86%|████████▌ | 856/1000 [02:17<00:21,  6.58it/s]"
     ]
    },
    {
     "name": "stderr",
     "output_type": "stream",
     "text": [
      "\rWin1/Win2/Draw: 0/0/856:  86%|████████▌ | 857/1000 [02:17<00:21,  6.59it/s]"
     ]
    },
    {
     "name": "stderr",
     "output_type": "stream",
     "text": [
      "\rWin1/Win2/Draw: 0/0/857:  86%|████████▌ | 857/1000 [02:17<00:21,  6.59it/s]"
     ]
    },
    {
     "name": "stderr",
     "output_type": "stream",
     "text": [
      "\rWin1/Win2/Draw: 0/0/857:  86%|████████▌ | 858/1000 [02:17<00:21,  6.59it/s]"
     ]
    },
    {
     "name": "stderr",
     "output_type": "stream",
     "text": [
      "\rWin1/Win2/Draw: 0/0/858:  86%|████████▌ | 858/1000 [02:17<00:21,  6.59it/s]"
     ]
    },
    {
     "name": "stderr",
     "output_type": "stream",
     "text": [
      "\rWin1/Win2/Draw: 0/0/858:  86%|████████▌ | 859/1000 [02:17<00:22,  6.19it/s]"
     ]
    },
    {
     "name": "stderr",
     "output_type": "stream",
     "text": [
      "\rWin1/Win2/Draw: 0/0/859:  86%|████████▌ | 859/1000 [02:17<00:22,  6.19it/s]"
     ]
    },
    {
     "name": "stderr",
     "output_type": "stream",
     "text": [
      "\rWin1/Win2/Draw: 0/0/859:  86%|████████▌ | 860/1000 [02:18<00:22,  6.31it/s]"
     ]
    },
    {
     "name": "stderr",
     "output_type": "stream",
     "text": [
      "\rWin1/Win2/Draw: 0/0/860:  86%|████████▌ | 860/1000 [02:18<00:22,  6.31it/s]"
     ]
    },
    {
     "name": "stderr",
     "output_type": "stream",
     "text": [
      "\rWin1/Win2/Draw: 0/0/860:  86%|████████▌ | 861/1000 [02:18<00:21,  6.39it/s]"
     ]
    },
    {
     "name": "stderr",
     "output_type": "stream",
     "text": [
      "\rWin1/Win2/Draw: 0/0/861:  86%|████████▌ | 861/1000 [02:18<00:21,  6.39it/s]"
     ]
    },
    {
     "name": "stderr",
     "output_type": "stream",
     "text": [
      "\rWin1/Win2/Draw: 0/0/861:  86%|████████▌ | 862/1000 [02:18<00:21,  6.38it/s]"
     ]
    },
    {
     "name": "stderr",
     "output_type": "stream",
     "text": [
      "\rWin1/Win2/Draw: 0/0/862:  86%|████████▌ | 862/1000 [02:18<00:21,  6.38it/s]"
     ]
    },
    {
     "name": "stderr",
     "output_type": "stream",
     "text": [
      "\rWin1/Win2/Draw: 0/0/862:  86%|████████▋ | 863/1000 [02:18<00:21,  6.45it/s]"
     ]
    },
    {
     "name": "stderr",
     "output_type": "stream",
     "text": [
      "\rWin1/Win2/Draw: 0/0/863:  86%|████████▋ | 863/1000 [02:18<00:21,  6.45it/s]"
     ]
    },
    {
     "name": "stderr",
     "output_type": "stream",
     "text": [
      "\rWin1/Win2/Draw: 0/0/863:  86%|████████▋ | 864/1000 [02:18<00:21,  6.48it/s]"
     ]
    },
    {
     "name": "stderr",
     "output_type": "stream",
     "text": [
      "\rWin1/Win2/Draw: 0/0/864:  86%|████████▋ | 864/1000 [02:18<00:21,  6.48it/s]"
     ]
    },
    {
     "name": "stderr",
     "output_type": "stream",
     "text": [
      "\rWin1/Win2/Draw: 0/0/864:  86%|████████▋ | 865/1000 [02:18<00:20,  6.53it/s]"
     ]
    },
    {
     "name": "stderr",
     "output_type": "stream",
     "text": [
      "\rWin1/Win2/Draw: 0/0/865:  86%|████████▋ | 865/1000 [02:18<00:20,  6.53it/s]"
     ]
    },
    {
     "name": "stderr",
     "output_type": "stream",
     "text": [
      "\rWin1/Win2/Draw: 0/0/865:  87%|████████▋ | 866/1000 [02:18<00:20,  6.47it/s]"
     ]
    },
    {
     "name": "stderr",
     "output_type": "stream",
     "text": [
      "\rWin1/Win2/Draw: 0/0/866:  87%|████████▋ | 866/1000 [02:18<00:20,  6.47it/s]"
     ]
    },
    {
     "name": "stderr",
     "output_type": "stream",
     "text": [
      "\rWin1/Win2/Draw: 0/0/866:  87%|████████▋ | 867/1000 [02:19<00:20,  6.44it/s]"
     ]
    },
    {
     "name": "stderr",
     "output_type": "stream",
     "text": [
      "\rWin1/Win2/Draw: 0/0/867:  87%|████████▋ | 867/1000 [02:19<00:20,  6.44it/s]"
     ]
    },
    {
     "name": "stderr",
     "output_type": "stream",
     "text": [
      "\rWin1/Win2/Draw: 0/0/867:  87%|████████▋ | 868/1000 [02:19<00:20,  6.42it/s]"
     ]
    },
    {
     "name": "stderr",
     "output_type": "stream",
     "text": [
      "\rWin1/Win2/Draw: 0/0/868:  87%|████████▋ | 868/1000 [02:19<00:20,  6.42it/s]"
     ]
    },
    {
     "name": "stderr",
     "output_type": "stream",
     "text": [
      "\rWin1/Win2/Draw: 0/0/868:  87%|████████▋ | 869/1000 [02:19<00:21,  6.12it/s]"
     ]
    },
    {
     "name": "stderr",
     "output_type": "stream",
     "text": [
      "\rWin1/Win2/Draw: 0/0/869:  87%|████████▋ | 869/1000 [02:19<00:21,  6.12it/s]"
     ]
    },
    {
     "name": "stderr",
     "output_type": "stream",
     "text": [
      "\rWin1/Win2/Draw: 0/0/869:  87%|████████▋ | 870/1000 [02:19<00:21,  6.19it/s]"
     ]
    },
    {
     "name": "stderr",
     "output_type": "stream",
     "text": [
      "\rWin1/Win2/Draw: 0/0/870:  87%|████████▋ | 870/1000 [02:19<00:21,  6.19it/s]"
     ]
    },
    {
     "name": "stderr",
     "output_type": "stream",
     "text": [
      "\rWin1/Win2/Draw: 0/0/870:  87%|████████▋ | 871/1000 [02:19<00:20,  6.26it/s]"
     ]
    },
    {
     "name": "stderr",
     "output_type": "stream",
     "text": [
      "\rWin1/Win2/Draw: 0/0/871:  87%|████████▋ | 871/1000 [02:19<00:20,  6.26it/s]"
     ]
    },
    {
     "name": "stderr",
     "output_type": "stream",
     "text": [
      "\rWin1/Win2/Draw: 0/0/871:  87%|████████▋ | 872/1000 [02:19<00:20,  6.31it/s]"
     ]
    },
    {
     "name": "stderr",
     "output_type": "stream",
     "text": [
      "\rWin1/Win2/Draw: 0/0/872:  87%|████████▋ | 872/1000 [02:19<00:20,  6.31it/s]"
     ]
    },
    {
     "name": "stderr",
     "output_type": "stream",
     "text": [
      "\rWin1/Win2/Draw: 0/0/872:  87%|████████▋ | 873/1000 [02:20<00:19,  6.39it/s]"
     ]
    },
    {
     "name": "stderr",
     "output_type": "stream",
     "text": [
      "\rWin1/Win2/Draw: 0/0/873:  87%|████████▋ | 873/1000 [02:20<00:19,  6.39it/s]"
     ]
    },
    {
     "name": "stderr",
     "output_type": "stream",
     "text": [
      "\rWin1/Win2/Draw: 0/0/873:  87%|████████▋ | 874/1000 [02:20<00:19,  6.33it/s]"
     ]
    },
    {
     "name": "stderr",
     "output_type": "stream",
     "text": [
      "\rWin1/Win2/Draw: 0/0/874:  87%|████████▋ | 874/1000 [02:20<00:19,  6.33it/s]"
     ]
    },
    {
     "name": "stderr",
     "output_type": "stream",
     "text": [
      "\rWin1/Win2/Draw: 0/0/874:  88%|████████▊ | 875/1000 [02:20<00:19,  6.35it/s]"
     ]
    },
    {
     "name": "stderr",
     "output_type": "stream",
     "text": [
      "\rWin1/Win2/Draw: 0/0/875:  88%|████████▊ | 875/1000 [02:20<00:19,  6.35it/s]"
     ]
    },
    {
     "name": "stderr",
     "output_type": "stream",
     "text": [
      "\rWin1/Win2/Draw: 0/0/875:  88%|████████▊ | 876/1000 [02:20<00:19,  6.36it/s]"
     ]
    },
    {
     "name": "stderr",
     "output_type": "stream",
     "text": [
      "\rWin1/Win2/Draw: 0/0/876:  88%|████████▊ | 876/1000 [02:20<00:19,  6.36it/s]"
     ]
    },
    {
     "name": "stderr",
     "output_type": "stream",
     "text": [
      "\rWin1/Win2/Draw: 0/0/876:  88%|████████▊ | 877/1000 [02:20<00:19,  6.36it/s]"
     ]
    },
    {
     "name": "stderr",
     "output_type": "stream",
     "text": [
      "\rWin1/Win2/Draw: 0/0/877:  88%|████████▊ | 877/1000 [02:20<00:19,  6.36it/s]"
     ]
    },
    {
     "name": "stderr",
     "output_type": "stream",
     "text": [
      "\rWin1/Win2/Draw: 0/0/877:  88%|████████▊ | 878/1000 [02:20<00:19,  6.39it/s]"
     ]
    },
    {
     "name": "stderr",
     "output_type": "stream",
     "text": [
      "\rWin1/Win2/Draw: 0/0/878:  88%|████████▊ | 878/1000 [02:20<00:19,  6.39it/s]"
     ]
    },
    {
     "name": "stderr",
     "output_type": "stream",
     "text": [
      "\rWin1/Win2/Draw: 0/0/878:  88%|████████▊ | 879/1000 [02:21<00:19,  6.12it/s]"
     ]
    },
    {
     "name": "stderr",
     "output_type": "stream",
     "text": [
      "\rWin1/Win2/Draw: 0/0/879:  88%|████████▊ | 879/1000 [02:21<00:19,  6.12it/s]"
     ]
    },
    {
     "name": "stderr",
     "output_type": "stream",
     "text": [
      "\rWin1/Win2/Draw: 0/0/879:  88%|████████▊ | 880/1000 [02:21<00:19,  6.25it/s]"
     ]
    },
    {
     "name": "stderr",
     "output_type": "stream",
     "text": [
      "\rWin1/Win2/Draw: 0/0/880:  88%|████████▊ | 880/1000 [02:21<00:19,  6.25it/s]"
     ]
    },
    {
     "name": "stderr",
     "output_type": "stream",
     "text": [
      "\rWin1/Win2/Draw: 0/0/880:  88%|████████▊ | 881/1000 [02:21<00:18,  6.33it/s]"
     ]
    },
    {
     "name": "stderr",
     "output_type": "stream",
     "text": [
      "\rWin1/Win2/Draw: 0/0/881:  88%|████████▊ | 881/1000 [02:21<00:18,  6.33it/s]"
     ]
    },
    {
     "name": "stderr",
     "output_type": "stream",
     "text": [
      "\rWin1/Win2/Draw: 0/0/881:  88%|████████▊ | 882/1000 [02:21<00:18,  6.33it/s]"
     ]
    },
    {
     "name": "stderr",
     "output_type": "stream",
     "text": [
      "\rWin1/Win2/Draw: 0/0/882:  88%|████████▊ | 882/1000 [02:21<00:18,  6.33it/s]"
     ]
    },
    {
     "name": "stderr",
     "output_type": "stream",
     "text": [
      "\rWin1/Win2/Draw: 0/0/882:  88%|████████▊ | 883/1000 [02:21<00:18,  6.39it/s]"
     ]
    },
    {
     "name": "stderr",
     "output_type": "stream",
     "text": [
      "\rWin1/Win2/Draw: 0/0/883:  88%|████████▊ | 883/1000 [02:21<00:18,  6.39it/s]"
     ]
    },
    {
     "name": "stderr",
     "output_type": "stream",
     "text": [
      "\rWin1/Win2/Draw: 0/0/883:  88%|████████▊ | 884/1000 [02:21<00:18,  6.42it/s]"
     ]
    },
    {
     "name": "stderr",
     "output_type": "stream",
     "text": [
      "\rWin1/Win2/Draw: 0/0/884:  88%|████████▊ | 884/1000 [02:21<00:18,  6.42it/s]"
     ]
    },
    {
     "name": "stderr",
     "output_type": "stream",
     "text": [
      "\rWin1/Win2/Draw: 0/0/884:  88%|████████▊ | 885/1000 [02:21<00:17,  6.44it/s]"
     ]
    },
    {
     "name": "stderr",
     "output_type": "stream",
     "text": [
      "\rWin1/Win2/Draw: 0/0/885:  88%|████████▊ | 885/1000 [02:21<00:17,  6.44it/s]"
     ]
    },
    {
     "name": "stderr",
     "output_type": "stream",
     "text": [
      "\rWin1/Win2/Draw: 0/0/885:  89%|████████▊ | 886/1000 [02:22<00:17,  6.47it/s]"
     ]
    },
    {
     "name": "stderr",
     "output_type": "stream",
     "text": [
      "\rWin1/Win2/Draw: 0/0/886:  89%|████████▊ | 886/1000 [02:22<00:17,  6.47it/s]"
     ]
    },
    {
     "name": "stderr",
     "output_type": "stream",
     "text": [
      "\rWin1/Win2/Draw: 0/0/886:  89%|████████▊ | 887/1000 [02:22<00:17,  6.48it/s]"
     ]
    },
    {
     "name": "stderr",
     "output_type": "stream",
     "text": [
      "\rWin1/Win2/Draw: 0/0/887:  89%|████████▊ | 887/1000 [02:22<00:17,  6.48it/s]"
     ]
    },
    {
     "name": "stderr",
     "output_type": "stream",
     "text": [
      "\rWin1/Win2/Draw: 0/0/887:  89%|████████▉ | 888/1000 [02:22<00:17,  6.49it/s]"
     ]
    },
    {
     "name": "stderr",
     "output_type": "stream",
     "text": [
      "\rWin1/Win2/Draw: 0/0/888:  89%|████████▉ | 888/1000 [02:22<00:17,  6.49it/s]"
     ]
    },
    {
     "name": "stderr",
     "output_type": "stream",
     "text": [
      "\rWin1/Win2/Draw: 0/0/888:  89%|████████▉ | 889/1000 [02:22<00:17,  6.36it/s]"
     ]
    },
    {
     "name": "stderr",
     "output_type": "stream",
     "text": [
      "\rWin1/Win2/Draw: 0/0/889:  89%|████████▉ | 889/1000 [02:22<00:17,  6.36it/s]"
     ]
    },
    {
     "name": "stderr",
     "output_type": "stream",
     "text": [
      "\rWin1/Win2/Draw: 0/0/889:  89%|████████▉ | 890/1000 [02:22<00:17,  6.41it/s]"
     ]
    },
    {
     "name": "stderr",
     "output_type": "stream",
     "text": [
      "\rWin1/Win2/Draw: 0/0/890:  89%|████████▉ | 890/1000 [02:22<00:17,  6.41it/s]"
     ]
    },
    {
     "name": "stderr",
     "output_type": "stream",
     "text": [
      "\rWin1/Win2/Draw: 0/0/890:  89%|████████▉ | 891/1000 [02:22<00:17,  6.16it/s]"
     ]
    },
    {
     "name": "stderr",
     "output_type": "stream",
     "text": [
      "\rWin1/Win2/Draw: 0/0/891:  89%|████████▉ | 891/1000 [02:22<00:17,  6.16it/s]"
     ]
    },
    {
     "name": "stderr",
     "output_type": "stream",
     "text": [
      "\rWin1/Win2/Draw: 0/0/891:  89%|████████▉ | 892/1000 [02:23<00:17,  6.29it/s]"
     ]
    },
    {
     "name": "stderr",
     "output_type": "stream",
     "text": [
      "\rWin1/Win2/Draw: 0/0/892:  89%|████████▉ | 892/1000 [02:23<00:17,  6.29it/s]"
     ]
    },
    {
     "name": "stderr",
     "output_type": "stream",
     "text": [
      "\rWin1/Win2/Draw: 0/0/892:  89%|████████▉ | 893/1000 [02:23<00:17,  6.28it/s]"
     ]
    },
    {
     "name": "stderr",
     "output_type": "stream",
     "text": [
      "\rWin1/Win2/Draw: 0/0/893:  89%|████████▉ | 893/1000 [02:23<00:17,  6.28it/s]"
     ]
    },
    {
     "name": "stderr",
     "output_type": "stream",
     "text": [
      "\rWin1/Win2/Draw: 0/0/893:  89%|████████▉ | 894/1000 [02:23<00:16,  6.34it/s]"
     ]
    },
    {
     "name": "stderr",
     "output_type": "stream",
     "text": [
      "\rWin1/Win2/Draw: 0/0/894:  89%|████████▉ | 894/1000 [02:23<00:16,  6.34it/s]"
     ]
    },
    {
     "name": "stderr",
     "output_type": "stream",
     "text": [
      "\rWin1/Win2/Draw: 0/0/894:  90%|████████▉ | 895/1000 [02:23<00:16,  6.41it/s]"
     ]
    },
    {
     "name": "stderr",
     "output_type": "stream",
     "text": [
      "\rWin1/Win2/Draw: 0/0/895:  90%|████████▉ | 895/1000 [02:23<00:16,  6.41it/s]"
     ]
    },
    {
     "name": "stderr",
     "output_type": "stream",
     "text": [
      "\rWin1/Win2/Draw: 0/0/895:  90%|████████▉ | 896/1000 [02:23<00:16,  6.38it/s]"
     ]
    },
    {
     "name": "stderr",
     "output_type": "stream",
     "text": [
      "\rWin1/Win2/Draw: 0/0/896:  90%|████████▉ | 896/1000 [02:23<00:16,  6.38it/s]"
     ]
    },
    {
     "name": "stderr",
     "output_type": "stream",
     "text": [
      "\rWin1/Win2/Draw: 0/0/896:  90%|████████▉ | 897/1000 [02:23<00:16,  6.27it/s]"
     ]
    },
    {
     "name": "stderr",
     "output_type": "stream",
     "text": [
      "\rWin1/Win2/Draw: 0/0/897:  90%|████████▉ | 897/1000 [02:23<00:16,  6.27it/s]"
     ]
    },
    {
     "name": "stderr",
     "output_type": "stream",
     "text": [
      "\rWin1/Win2/Draw: 0/0/897:  90%|████████▉ | 898/1000 [02:24<00:16,  6.34it/s]"
     ]
    },
    {
     "name": "stderr",
     "output_type": "stream",
     "text": [
      "\rWin1/Win2/Draw: 0/0/898:  90%|████████▉ | 898/1000 [02:24<00:16,  6.34it/s]"
     ]
    },
    {
     "name": "stderr",
     "output_type": "stream",
     "text": [
      "\rWin1/Win2/Draw: 0/0/898:  90%|████████▉ | 899/1000 [02:24<00:15,  6.36it/s]"
     ]
    },
    {
     "name": "stderr",
     "output_type": "stream",
     "text": [
      "\rWin1/Win2/Draw: 0/0/899:  90%|████████▉ | 899/1000 [02:24<00:15,  6.36it/s]"
     ]
    },
    {
     "name": "stderr",
     "output_type": "stream",
     "text": [
      "\rWin1/Win2/Draw: 0/0/899:  90%|█████████ | 900/1000 [02:24<00:17,  5.84it/s]"
     ]
    },
    {
     "name": "stderr",
     "output_type": "stream",
     "text": [
      "\rWin1/Win2/Draw: 0/0/900:  90%|█████████ | 900/1000 [02:24<00:17,  5.84it/s]"
     ]
    },
    {
     "name": "stderr",
     "output_type": "stream",
     "text": [
      "\rWin1/Win2/Draw: 0/0/900:  90%|█████████ | 901/1000 [02:24<00:16,  5.96it/s]"
     ]
    },
    {
     "name": "stderr",
     "output_type": "stream",
     "text": [
      "\rWin1/Win2/Draw: 0/0/901:  90%|█████████ | 901/1000 [02:24<00:16,  5.96it/s]"
     ]
    },
    {
     "name": "stderr",
     "output_type": "stream",
     "text": [
      "\rWin1/Win2/Draw: 0/0/901:  90%|█████████ | 902/1000 [02:24<00:16,  6.09it/s]"
     ]
    },
    {
     "name": "stderr",
     "output_type": "stream",
     "text": [
      "\rWin1/Win2/Draw: 0/0/902:  90%|█████████ | 902/1000 [02:24<00:16,  6.09it/s]"
     ]
    },
    {
     "name": "stderr",
     "output_type": "stream",
     "text": [
      "\rWin1/Win2/Draw: 0/0/902:  90%|█████████ | 903/1000 [02:24<00:15,  6.13it/s]"
     ]
    },
    {
     "name": "stderr",
     "output_type": "stream",
     "text": [
      "\rWin1/Win2/Draw: 0/0/903:  90%|█████████ | 903/1000 [02:24<00:15,  6.13it/s]"
     ]
    },
    {
     "name": "stderr",
     "output_type": "stream",
     "text": [
      "\rWin1/Win2/Draw: 0/0/903:  90%|█████████ | 904/1000 [02:25<00:15,  6.15it/s]"
     ]
    },
    {
     "name": "stderr",
     "output_type": "stream",
     "text": [
      "\rWin1/Win2/Draw: 0/0/904:  90%|█████████ | 904/1000 [02:25<00:15,  6.15it/s]"
     ]
    },
    {
     "name": "stderr",
     "output_type": "stream",
     "text": [
      "\rWin1/Win2/Draw: 0/0/904:  90%|█████████ | 905/1000 [02:25<00:15,  6.22it/s]"
     ]
    },
    {
     "name": "stderr",
     "output_type": "stream",
     "text": [
      "\rWin1/Win2/Draw: 0/0/905:  90%|█████████ | 905/1000 [02:25<00:15,  6.22it/s]"
     ]
    },
    {
     "name": "stderr",
     "output_type": "stream",
     "text": [
      "\rWin1/Win2/Draw: 0/0/905:  91%|█████████ | 906/1000 [02:25<00:15,  6.10it/s]"
     ]
    },
    {
     "name": "stderr",
     "output_type": "stream",
     "text": [
      "\rWin1/Win2/Draw: 0/0/906:  91%|█████████ | 906/1000 [02:25<00:15,  6.10it/s]"
     ]
    },
    {
     "name": "stderr",
     "output_type": "stream",
     "text": [
      "\rWin1/Win2/Draw: 0/0/906:  91%|█████████ | 907/1000 [02:25<00:16,  5.68it/s]"
     ]
    },
    {
     "name": "stderr",
     "output_type": "stream",
     "text": [
      "\rWin1/Win2/Draw: 0/0/907:  91%|█████████ | 907/1000 [02:25<00:16,  5.68it/s]"
     ]
    },
    {
     "name": "stderr",
     "output_type": "stream",
     "text": [
      "\rWin1/Win2/Draw: 0/0/907:  91%|█████████ | 908/1000 [02:25<00:19,  4.65it/s]"
     ]
    },
    {
     "name": "stderr",
     "output_type": "stream",
     "text": [
      "\rWin1/Win2/Draw: 0/0/908:  91%|█████████ | 908/1000 [02:25<00:19,  4.65it/s]"
     ]
    },
    {
     "name": "stderr",
     "output_type": "stream",
     "text": [
      "\rWin1/Win2/Draw: 0/0/908:  91%|█████████ | 909/1000 [02:26<00:20,  4.39it/s]"
     ]
    },
    {
     "name": "stderr",
     "output_type": "stream",
     "text": [
      "\rWin1/Win2/Draw: 0/0/909:  91%|█████████ | 909/1000 [02:26<00:20,  4.39it/s]"
     ]
    },
    {
     "name": "stderr",
     "output_type": "stream",
     "text": [
      "\rWin1/Win2/Draw: 0/0/909:  91%|█████████ | 910/1000 [02:26<00:19,  4.68it/s]"
     ]
    },
    {
     "name": "stderr",
     "output_type": "stream",
     "text": [
      "\rWin1/Win2/Draw: 0/0/910:  91%|█████████ | 910/1000 [02:26<00:19,  4.68it/s]"
     ]
    },
    {
     "name": "stderr",
     "output_type": "stream",
     "text": [
      "\rWin1/Win2/Draw: 0/0/910:  91%|█████████ | 911/1000 [02:26<00:18,  4.77it/s]"
     ]
    },
    {
     "name": "stderr",
     "output_type": "stream",
     "text": [
      "\rWin1/Win2/Draw: 0/0/911:  91%|█████████ | 911/1000 [02:26<00:18,  4.77it/s]"
     ]
    },
    {
     "name": "stderr",
     "output_type": "stream",
     "text": [
      "\rWin1/Win2/Draw: 0/0/911:  91%|█████████ | 912/1000 [02:26<00:17,  5.08it/s]"
     ]
    },
    {
     "name": "stderr",
     "output_type": "stream",
     "text": [
      "\rWin1/Win2/Draw: 0/0/912:  91%|█████████ | 912/1000 [02:26<00:17,  5.08it/s]"
     ]
    },
    {
     "name": "stderr",
     "output_type": "stream",
     "text": [
      "\rWin1/Win2/Draw: 0/0/912:  91%|█████████▏| 913/1000 [02:26<00:16,  5.37it/s]"
     ]
    },
    {
     "name": "stderr",
     "output_type": "stream",
     "text": [
      "\rWin1/Win2/Draw: 0/0/913:  91%|█████████▏| 913/1000 [02:26<00:16,  5.37it/s]"
     ]
    },
    {
     "name": "stderr",
     "output_type": "stream",
     "text": [
      "\rWin1/Win2/Draw: 0/0/913:  91%|█████████▏| 914/1000 [02:26<00:15,  5.53it/s]"
     ]
    },
    {
     "name": "stderr",
     "output_type": "stream",
     "text": [
      "\rWin1/Win2/Draw: 0/0/914:  91%|█████████▏| 914/1000 [02:26<00:15,  5.53it/s]"
     ]
    },
    {
     "name": "stderr",
     "output_type": "stream",
     "text": [
      "\rWin1/Win2/Draw: 0/0/914:  92%|█████████▏| 915/1000 [02:27<00:15,  5.50it/s]"
     ]
    },
    {
     "name": "stderr",
     "output_type": "stream",
     "text": [
      "\rWin1/Win2/Draw: 0/0/915:  92%|█████████▏| 915/1000 [02:27<00:15,  5.50it/s]"
     ]
    },
    {
     "name": "stderr",
     "output_type": "stream",
     "text": [
      "\rWin1/Win2/Draw: 0/0/915:  92%|█████████▏| 916/1000 [02:27<00:14,  5.63it/s]"
     ]
    },
    {
     "name": "stderr",
     "output_type": "stream",
     "text": [
      "\rWin1/Win2/Draw: 0/0/916:  92%|█████████▏| 916/1000 [02:27<00:14,  5.63it/s]"
     ]
    },
    {
     "name": "stderr",
     "output_type": "stream",
     "text": [
      "\rWin1/Win2/Draw: 0/0/916:  92%|█████████▏| 917/1000 [02:27<00:14,  5.75it/s]"
     ]
    },
    {
     "name": "stderr",
     "output_type": "stream",
     "text": [
      "\rWin1/Win2/Draw: 0/0/917:  92%|█████████▏| 917/1000 [02:27<00:14,  5.75it/s]"
     ]
    },
    {
     "name": "stderr",
     "output_type": "stream",
     "text": [
      "\rWin1/Win2/Draw: 0/0/917:  92%|█████████▏| 918/1000 [02:27<00:14,  5.49it/s]"
     ]
    },
    {
     "name": "stderr",
     "output_type": "stream",
     "text": [
      "\rWin1/Win2/Draw: 0/0/918:  92%|█████████▏| 918/1000 [02:27<00:14,  5.49it/s]"
     ]
    },
    {
     "name": "stderr",
     "output_type": "stream",
     "text": [
      "\rWin1/Win2/Draw: 0/0/918:  92%|█████████▏| 919/1000 [02:27<00:15,  5.19it/s]"
     ]
    },
    {
     "name": "stderr",
     "output_type": "stream",
     "text": [
      "\rWin1/Win2/Draw: 0/0/919:  92%|█████████▏| 919/1000 [02:27<00:15,  5.19it/s]"
     ]
    },
    {
     "name": "stderr",
     "output_type": "stream",
     "text": [
      "\rWin1/Win2/Draw: 0/0/919:  92%|█████████▏| 920/1000 [02:28<00:15,  5.01it/s]"
     ]
    },
    {
     "name": "stderr",
     "output_type": "stream",
     "text": [
      "\rWin1/Win2/Draw: 0/0/920:  92%|█████████▏| 920/1000 [02:28<00:15,  5.01it/s]"
     ]
    },
    {
     "name": "stderr",
     "output_type": "stream",
     "text": [
      "\rWin1/Win2/Draw: 0/0/920:  92%|█████████▏| 921/1000 [02:28<00:16,  4.68it/s]"
     ]
    },
    {
     "name": "stderr",
     "output_type": "stream",
     "text": [
      "\rWin1/Win2/Draw: 0/0/921:  92%|█████████▏| 921/1000 [02:28<00:16,  4.68it/s]"
     ]
    },
    {
     "name": "stderr",
     "output_type": "stream",
     "text": [
      "\rWin1/Win2/Draw: 0/0/921:  92%|█████████▏| 922/1000 [02:28<00:24,  3.17it/s]"
     ]
    },
    {
     "name": "stderr",
     "output_type": "stream",
     "text": [
      "\rWin1/Win2/Draw: 0/0/922:  92%|█████████▏| 922/1000 [02:28<00:24,  3.17it/s]"
     ]
    },
    {
     "name": "stderr",
     "output_type": "stream",
     "text": [
      "\rWin1/Win2/Draw: 0/0/922:  92%|█████████▏| 923/1000 [02:29<00:28,  2.73it/s]"
     ]
    },
    {
     "name": "stderr",
     "output_type": "stream",
     "text": [
      "\rWin1/Win2/Draw: 0/0/923:  92%|█████████▏| 923/1000 [02:29<00:28,  2.73it/s]"
     ]
    },
    {
     "name": "stderr",
     "output_type": "stream",
     "text": [
      "\rWin1/Win2/Draw: 0/0/923:  92%|█████████▏| 924/1000 [02:29<00:30,  2.50it/s]"
     ]
    },
    {
     "name": "stderr",
     "output_type": "stream",
     "text": [
      "\rWin1/Win2/Draw: 0/0/924:  92%|█████████▏| 924/1000 [02:29<00:30,  2.50it/s]"
     ]
    },
    {
     "name": "stderr",
     "output_type": "stream",
     "text": [
      "\rWin1/Win2/Draw: 0/0/924:  92%|█████████▎| 925/1000 [02:30<00:28,  2.67it/s]"
     ]
    },
    {
     "name": "stderr",
     "output_type": "stream",
     "text": [
      "\rWin1/Win2/Draw: 0/0/925:  92%|█████████▎| 925/1000 [02:30<00:28,  2.67it/s]"
     ]
    },
    {
     "name": "stderr",
     "output_type": "stream",
     "text": [
      "\rWin1/Win2/Draw: 0/0/925:  93%|█████████▎| 926/1000 [02:30<00:24,  3.07it/s]"
     ]
    },
    {
     "name": "stderr",
     "output_type": "stream",
     "text": [
      "\rWin1/Win2/Draw: 0/0/926:  93%|█████████▎| 926/1000 [02:30<00:24,  3.07it/s]"
     ]
    },
    {
     "name": "stderr",
     "output_type": "stream",
     "text": [
      "\rWin1/Win2/Draw: 0/0/926:  93%|█████████▎| 927/1000 [02:30<00:21,  3.34it/s]"
     ]
    },
    {
     "name": "stderr",
     "output_type": "stream",
     "text": [
      "\rWin1/Win2/Draw: 0/0/927:  93%|█████████▎| 927/1000 [02:30<00:21,  3.34it/s]"
     ]
    },
    {
     "name": "stderr",
     "output_type": "stream",
     "text": [
      "\rWin1/Win2/Draw: 0/0/927:  93%|█████████▎| 928/1000 [02:30<00:18,  3.80it/s]"
     ]
    },
    {
     "name": "stderr",
     "output_type": "stream",
     "text": [
      "\rWin1/Win2/Draw: 0/0/928:  93%|█████████▎| 928/1000 [02:30<00:18,  3.80it/s]"
     ]
    },
    {
     "name": "stderr",
     "output_type": "stream",
     "text": [
      "\rWin1/Win2/Draw: 0/0/928:  93%|█████████▎| 929/1000 [02:31<00:17,  4.02it/s]"
     ]
    },
    {
     "name": "stderr",
     "output_type": "stream",
     "text": [
      "\rWin1/Win2/Draw: 0/0/929:  93%|█████████▎| 929/1000 [02:31<00:17,  4.02it/s]"
     ]
    },
    {
     "name": "stderr",
     "output_type": "stream",
     "text": [
      "\rWin1/Win2/Draw: 0/0/929:  93%|█████████▎| 930/1000 [02:31<00:16,  4.25it/s]"
     ]
    },
    {
     "name": "stderr",
     "output_type": "stream",
     "text": [
      "\rWin1/Win2/Draw: 0/0/930:  93%|█████████▎| 930/1000 [02:31<00:16,  4.25it/s]"
     ]
    },
    {
     "name": "stderr",
     "output_type": "stream",
     "text": [
      "\rWin1/Win2/Draw: 0/0/930:  93%|█████████▎| 931/1000 [02:31<00:14,  4.64it/s]"
     ]
    },
    {
     "name": "stderr",
     "output_type": "stream",
     "text": [
      "\rWin1/Win2/Draw: 0/0/931:  93%|█████████▎| 931/1000 [02:31<00:14,  4.64it/s]"
     ]
    },
    {
     "name": "stderr",
     "output_type": "stream",
     "text": [
      "\rWin1/Win2/Draw: 0/0/931:  93%|█████████▎| 932/1000 [02:31<00:14,  4.81it/s]"
     ]
    },
    {
     "name": "stderr",
     "output_type": "stream",
     "text": [
      "\rWin1/Win2/Draw: 0/0/932:  93%|█████████▎| 932/1000 [02:31<00:14,  4.81it/s]"
     ]
    },
    {
     "name": "stderr",
     "output_type": "stream",
     "text": [
      "\rWin1/Win2/Draw: 0/0/932:  93%|█████████▎| 933/1000 [02:31<00:13,  5.11it/s]"
     ]
    },
    {
     "name": "stderr",
     "output_type": "stream",
     "text": [
      "\rWin1/Win2/Draw: 0/0/933:  93%|█████████▎| 933/1000 [02:31<00:13,  5.11it/s]"
     ]
    },
    {
     "name": "stderr",
     "output_type": "stream",
     "text": [
      "\rWin1/Win2/Draw: 0/0/933:  93%|█████████▎| 934/1000 [02:31<00:12,  5.43it/s]"
     ]
    },
    {
     "name": "stderr",
     "output_type": "stream",
     "text": [
      "\rWin1/Win2/Draw: 0/0/934:  93%|█████████▎| 934/1000 [02:31<00:12,  5.43it/s]"
     ]
    },
    {
     "name": "stderr",
     "output_type": "stream",
     "text": [
      "\rWin1/Win2/Draw: 0/0/934:  94%|█████████▎| 935/1000 [02:32<00:11,  5.64it/s]"
     ]
    },
    {
     "name": "stderr",
     "output_type": "stream",
     "text": [
      "\rWin1/Win2/Draw: 0/0/935:  94%|█████████▎| 935/1000 [02:32<00:11,  5.64it/s]"
     ]
    },
    {
     "name": "stderr",
     "output_type": "stream",
     "text": [
      "\rWin1/Win2/Draw: 0/0/935:  94%|█████████▎| 936/1000 [02:32<00:11,  5.50it/s]"
     ]
    },
    {
     "name": "stderr",
     "output_type": "stream",
     "text": [
      "\rWin1/Win2/Draw: 0/0/936:  94%|█████████▎| 936/1000 [02:32<00:11,  5.50it/s]"
     ]
    },
    {
     "name": "stderr",
     "output_type": "stream",
     "text": [
      "\rWin1/Win2/Draw: 0/0/936:  94%|█████████▎| 937/1000 [02:32<00:11,  5.72it/s]"
     ]
    },
    {
     "name": "stderr",
     "output_type": "stream",
     "text": [
      "\rWin1/Win2/Draw: 0/0/937:  94%|█████████▎| 937/1000 [02:32<00:11,  5.72it/s]"
     ]
    },
    {
     "name": "stderr",
     "output_type": "stream",
     "text": [
      "\rWin1/Win2/Draw: 0/0/937:  94%|█████████▍| 938/1000 [02:32<00:10,  5.88it/s]"
     ]
    },
    {
     "name": "stderr",
     "output_type": "stream",
     "text": [
      "\rWin1/Win2/Draw: 0/0/938:  94%|█████████▍| 938/1000 [02:32<00:10,  5.88it/s]"
     ]
    },
    {
     "name": "stderr",
     "output_type": "stream",
     "text": [
      "\rWin1/Win2/Draw: 0/0/938:  94%|█████████▍| 939/1000 [02:32<00:10,  6.02it/s]"
     ]
    },
    {
     "name": "stderr",
     "output_type": "stream",
     "text": [
      "\rWin1/Win2/Draw: 0/0/939:  94%|█████████▍| 939/1000 [02:32<00:10,  6.02it/s]"
     ]
    },
    {
     "name": "stderr",
     "output_type": "stream",
     "text": [
      "\rWin1/Win2/Draw: 0/0/939:  94%|█████████▍| 940/1000 [02:32<00:09,  6.11it/s]"
     ]
    },
    {
     "name": "stderr",
     "output_type": "stream",
     "text": [
      "\rWin1/Win2/Draw: 0/0/940:  94%|█████████▍| 940/1000 [02:32<00:09,  6.11it/s]"
     ]
    },
    {
     "name": "stderr",
     "output_type": "stream",
     "text": [
      "\rWin1/Win2/Draw: 0/0/940:  94%|█████████▍| 941/1000 [02:33<00:09,  6.02it/s]"
     ]
    },
    {
     "name": "stderr",
     "output_type": "stream",
     "text": [
      "\rWin1/Win2/Draw: 0/0/941:  94%|█████████▍| 941/1000 [02:33<00:09,  6.02it/s]"
     ]
    },
    {
     "name": "stderr",
     "output_type": "stream",
     "text": [
      "\rWin1/Win2/Draw: 0/0/941:  94%|█████████▍| 942/1000 [02:33<00:10,  5.69it/s]"
     ]
    },
    {
     "name": "stderr",
     "output_type": "stream",
     "text": [
      "\rWin1/Win2/Draw: 0/0/942:  94%|█████████▍| 942/1000 [02:33<00:10,  5.69it/s]"
     ]
    },
    {
     "name": "stderr",
     "output_type": "stream",
     "text": [
      "\rWin1/Win2/Draw: 0/0/942:  94%|█████████▍| 943/1000 [02:33<00:09,  5.80it/s]"
     ]
    },
    {
     "name": "stderr",
     "output_type": "stream",
     "text": [
      "\rWin1/Win2/Draw: 0/0/943:  94%|█████████▍| 943/1000 [02:33<00:09,  5.80it/s]"
     ]
    },
    {
     "name": "stderr",
     "output_type": "stream",
     "text": [
      "\rWin1/Win2/Draw: 0/0/943:  94%|█████████▍| 944/1000 [02:33<00:09,  5.87it/s]"
     ]
    },
    {
     "name": "stderr",
     "output_type": "stream",
     "text": [
      "\rWin1/Win2/Draw: 0/0/944:  94%|█████████▍| 944/1000 [02:33<00:09,  5.87it/s]"
     ]
    },
    {
     "name": "stderr",
     "output_type": "stream",
     "text": [
      "\rWin1/Win2/Draw: 0/0/944:  94%|█████████▍| 945/1000 [02:33<00:09,  5.96it/s]"
     ]
    },
    {
     "name": "stderr",
     "output_type": "stream",
     "text": [
      "\rWin1/Win2/Draw: 0/0/945:  94%|█████████▍| 945/1000 [02:33<00:09,  5.96it/s]"
     ]
    },
    {
     "name": "stderr",
     "output_type": "stream",
     "text": [
      "\rWin1/Win2/Draw: 0/0/945:  95%|█████████▍| 946/1000 [02:33<00:08,  6.06it/s]"
     ]
    },
    {
     "name": "stderr",
     "output_type": "stream",
     "text": [
      "\rWin1/Win2/Draw: 0/0/946:  95%|█████████▍| 946/1000 [02:33<00:08,  6.06it/s]"
     ]
    },
    {
     "name": "stderr",
     "output_type": "stream",
     "text": [
      "\rWin1/Win2/Draw: 0/0/946:  95%|█████████▍| 947/1000 [02:34<00:08,  6.11it/s]"
     ]
    },
    {
     "name": "stderr",
     "output_type": "stream",
     "text": [
      "\rWin1/Win2/Draw: 0/0/947:  95%|█████████▍| 947/1000 [02:34<00:08,  6.11it/s]"
     ]
    },
    {
     "name": "stderr",
     "output_type": "stream",
     "text": [
      "\rWin1/Win2/Draw: 0/0/947:  95%|█████████▍| 948/1000 [02:34<00:08,  6.14it/s]"
     ]
    },
    {
     "name": "stderr",
     "output_type": "stream",
     "text": [
      "\rWin1/Win2/Draw: 0/0/948:  95%|█████████▍| 948/1000 [02:34<00:08,  6.14it/s]"
     ]
    },
    {
     "name": "stderr",
     "output_type": "stream",
     "text": [
      "\rWin1/Win2/Draw: 0/0/948:  95%|█████████▍| 949/1000 [02:34<00:10,  4.69it/s]"
     ]
    },
    {
     "name": "stderr",
     "output_type": "stream",
     "text": [
      "\rWin1/Win2/Draw: 0/0/949:  95%|█████████▍| 949/1000 [02:34<00:10,  4.69it/s]"
     ]
    },
    {
     "name": "stderr",
     "output_type": "stream",
     "text": [
      "\rWin1/Win2/Draw: 0/0/949:  95%|█████████▌| 950/1000 [02:34<00:13,  3.78it/s]"
     ]
    },
    {
     "name": "stderr",
     "output_type": "stream",
     "text": [
      "\rWin1/Win2/Draw: 0/0/950:  95%|█████████▌| 950/1000 [02:34<00:13,  3.78it/s]"
     ]
    },
    {
     "name": "stderr",
     "output_type": "stream",
     "text": [
      "\rWin1/Win2/Draw: 0/0/950:  95%|█████████▌| 951/1000 [02:35<00:12,  4.07it/s]"
     ]
    },
    {
     "name": "stderr",
     "output_type": "stream",
     "text": [
      "\rWin1/Win2/Draw: 0/0/951:  95%|█████████▌| 951/1000 [02:35<00:12,  4.07it/s]"
     ]
    },
    {
     "name": "stderr",
     "output_type": "stream",
     "text": [
      "\rWin1/Win2/Draw: 0/0/951:  95%|█████████▌| 952/1000 [02:35<00:10,  4.42it/s]"
     ]
    },
    {
     "name": "stderr",
     "output_type": "stream",
     "text": [
      "\rWin1/Win2/Draw: 0/0/952:  95%|█████████▌| 952/1000 [02:35<00:10,  4.42it/s]"
     ]
    },
    {
     "name": "stderr",
     "output_type": "stream",
     "text": [
      "\rWin1/Win2/Draw: 0/0/952:  95%|█████████▌| 953/1000 [02:35<00:10,  4.68it/s]"
     ]
    },
    {
     "name": "stderr",
     "output_type": "stream",
     "text": [
      "\rWin1/Win2/Draw: 0/0/953:  95%|█████████▌| 953/1000 [02:35<00:10,  4.68it/s]"
     ]
    },
    {
     "name": "stderr",
     "output_type": "stream",
     "text": [
      "\rWin1/Win2/Draw: 0/0/953:  95%|█████████▌| 954/1000 [02:35<00:09,  4.89it/s]"
     ]
    },
    {
     "name": "stderr",
     "output_type": "stream",
     "text": [
      "\rWin1/Win2/Draw: 0/0/954:  95%|█████████▌| 954/1000 [02:35<00:09,  4.89it/s]"
     ]
    },
    {
     "name": "stderr",
     "output_type": "stream",
     "text": [
      "\rWin1/Win2/Draw: 0/0/954:  96%|█████████▌| 955/1000 [02:35<00:08,  5.22it/s]"
     ]
    },
    {
     "name": "stderr",
     "output_type": "stream",
     "text": [
      "\rWin1/Win2/Draw: 0/0/955:  96%|█████████▌| 955/1000 [02:35<00:08,  5.22it/s]"
     ]
    },
    {
     "name": "stderr",
     "output_type": "stream",
     "text": [
      "\rWin1/Win2/Draw: 0/0/955:  96%|█████████▌| 956/1000 [02:36<00:07,  5.54it/s]"
     ]
    },
    {
     "name": "stderr",
     "output_type": "stream",
     "text": [
      "\rWin1/Win2/Draw: 0/0/956:  96%|█████████▌| 956/1000 [02:36<00:07,  5.54it/s]"
     ]
    },
    {
     "name": "stderr",
     "output_type": "stream",
     "text": [
      "\rWin1/Win2/Draw: 0/0/956:  96%|█████████▌| 957/1000 [02:36<00:07,  5.75it/s]"
     ]
    },
    {
     "name": "stderr",
     "output_type": "stream",
     "text": [
      "\rWin1/Win2/Draw: 0/0/957:  96%|█████████▌| 957/1000 [02:36<00:07,  5.75it/s]"
     ]
    },
    {
     "name": "stderr",
     "output_type": "stream",
     "text": [
      "\rWin1/Win2/Draw: 0/0/957:  96%|█████████▌| 958/1000 [02:36<00:07,  5.86it/s]"
     ]
    },
    {
     "name": "stderr",
     "output_type": "stream",
     "text": [
      "\rWin1/Win2/Draw: 0/0/958:  96%|█████████▌| 958/1000 [02:36<00:07,  5.86it/s]"
     ]
    },
    {
     "name": "stderr",
     "output_type": "stream",
     "text": [
      "\rWin1/Win2/Draw: 0/0/958:  96%|█████████▌| 959/1000 [02:36<00:06,  5.97it/s]"
     ]
    },
    {
     "name": "stderr",
     "output_type": "stream",
     "text": [
      "\rWin1/Win2/Draw: 0/0/959:  96%|█████████▌| 959/1000 [02:36<00:06,  5.97it/s]"
     ]
    },
    {
     "name": "stderr",
     "output_type": "stream",
     "text": [
      "\rWin1/Win2/Draw: 0/0/959:  96%|█████████▌| 960/1000 [02:36<00:06,  6.15it/s]"
     ]
    },
    {
     "name": "stderr",
     "output_type": "stream",
     "text": [
      "\rWin1/Win2/Draw: 0/0/960:  96%|█████████▌| 960/1000 [02:36<00:06,  6.15it/s]"
     ]
    },
    {
     "name": "stderr",
     "output_type": "stream",
     "text": [
      "\rWin1/Win2/Draw: 0/0/960:  96%|█████████▌| 961/1000 [02:36<00:06,  6.21it/s]"
     ]
    },
    {
     "name": "stderr",
     "output_type": "stream",
     "text": [
      "\rWin1/Win2/Draw: 0/0/961:  96%|█████████▌| 961/1000 [02:36<00:06,  6.21it/s]"
     ]
    },
    {
     "name": "stderr",
     "output_type": "stream",
     "text": [
      "\rWin1/Win2/Draw: 0/0/961:  96%|█████████▌| 962/1000 [02:37<00:06,  6.21it/s]"
     ]
    },
    {
     "name": "stderr",
     "output_type": "stream",
     "text": [
      "\rWin1/Win2/Draw: 0/0/962:  96%|█████████▌| 962/1000 [02:37<00:06,  6.21it/s]"
     ]
    },
    {
     "name": "stderr",
     "output_type": "stream",
     "text": [
      "\rWin1/Win2/Draw: 0/0/962:  96%|█████████▋| 963/1000 [02:37<00:05,  6.27it/s]"
     ]
    },
    {
     "name": "stderr",
     "output_type": "stream",
     "text": [
      "\rWin1/Win2/Draw: 0/0/963:  96%|█████████▋| 963/1000 [02:37<00:05,  6.27it/s]"
     ]
    },
    {
     "name": "stderr",
     "output_type": "stream",
     "text": [
      "\rWin1/Win2/Draw: 0/0/963:  96%|█████████▋| 964/1000 [02:37<00:05,  6.02it/s]"
     ]
    },
    {
     "name": "stderr",
     "output_type": "stream",
     "text": [
      "\rWin1/Win2/Draw: 0/0/964:  96%|█████████▋| 964/1000 [02:37<00:05,  6.02it/s]"
     ]
    },
    {
     "name": "stderr",
     "output_type": "stream",
     "text": [
      "\rWin1/Win2/Draw: 0/0/964:  96%|█████████▋| 965/1000 [02:37<00:05,  6.10it/s]"
     ]
    },
    {
     "name": "stderr",
     "output_type": "stream",
     "text": [
      "\rWin1/Win2/Draw: 0/0/965:  96%|█████████▋| 965/1000 [02:37<00:05,  6.10it/s]"
     ]
    },
    {
     "name": "stderr",
     "output_type": "stream",
     "text": [
      "\rWin1/Win2/Draw: 0/0/965:  97%|█████████▋| 966/1000 [02:37<00:05,  5.94it/s]"
     ]
    },
    {
     "name": "stderr",
     "output_type": "stream",
     "text": [
      "\rWin1/Win2/Draw: 0/0/966:  97%|█████████▋| 966/1000 [02:37<00:05,  5.94it/s]"
     ]
    },
    {
     "name": "stderr",
     "output_type": "stream",
     "text": [
      "\rWin1/Win2/Draw: 0/0/966:  97%|█████████▋| 967/1000 [02:37<00:05,  6.12it/s]"
     ]
    },
    {
     "name": "stderr",
     "output_type": "stream",
     "text": [
      "\rWin1/Win2/Draw: 0/0/967:  97%|█████████▋| 967/1000 [02:37<00:05,  6.12it/s]"
     ]
    },
    {
     "name": "stderr",
     "output_type": "stream",
     "text": [
      "\rWin1/Win2/Draw: 0/0/967:  97%|█████████▋| 968/1000 [02:38<00:05,  6.10it/s]"
     ]
    },
    {
     "name": "stderr",
     "output_type": "stream",
     "text": [
      "\rWin1/Win2/Draw: 0/0/968:  97%|█████████▋| 968/1000 [02:38<00:05,  6.10it/s]"
     ]
    },
    {
     "name": "stderr",
     "output_type": "stream",
     "text": [
      "\rWin1/Win2/Draw: 0/0/968:  97%|█████████▋| 969/1000 [02:38<00:05,  6.18it/s]"
     ]
    },
    {
     "name": "stderr",
     "output_type": "stream",
     "text": [
      "\rWin1/Win2/Draw: 0/0/969:  97%|█████████▋| 969/1000 [02:38<00:05,  6.18it/s]"
     ]
    },
    {
     "name": "stderr",
     "output_type": "stream",
     "text": [
      "\rWin1/Win2/Draw: 0/0/969:  97%|█████████▋| 970/1000 [02:38<00:04,  6.25it/s]"
     ]
    },
    {
     "name": "stderr",
     "output_type": "stream",
     "text": [
      "\rWin1/Win2/Draw: 0/0/970:  97%|█████████▋| 970/1000 [02:38<00:04,  6.25it/s]"
     ]
    },
    {
     "name": "stderr",
     "output_type": "stream",
     "text": [
      "\rWin1/Win2/Draw: 0/0/970:  97%|█████████▋| 971/1000 [02:38<00:04,  6.31it/s]"
     ]
    },
    {
     "name": "stderr",
     "output_type": "stream",
     "text": [
      "\rWin1/Win2/Draw: 0/0/971:  97%|█████████▋| 971/1000 [02:38<00:04,  6.31it/s]"
     ]
    },
    {
     "name": "stderr",
     "output_type": "stream",
     "text": [
      "\rWin1/Win2/Draw: 0/0/971:  97%|█████████▋| 972/1000 [02:38<00:04,  6.36it/s]"
     ]
    },
    {
     "name": "stderr",
     "output_type": "stream",
     "text": [
      "\rWin1/Win2/Draw: 0/0/972:  97%|█████████▋| 972/1000 [02:38<00:04,  6.36it/s]"
     ]
    },
    {
     "name": "stderr",
     "output_type": "stream",
     "text": [
      "\rWin1/Win2/Draw: 0/0/972:  97%|█████████▋| 973/1000 [02:38<00:04,  6.35it/s]"
     ]
    },
    {
     "name": "stderr",
     "output_type": "stream",
     "text": [
      "\rWin1/Win2/Draw: 0/0/973:  97%|█████████▋| 973/1000 [02:38<00:04,  6.35it/s]"
     ]
    },
    {
     "name": "stderr",
     "output_type": "stream",
     "text": [
      "\rWin1/Win2/Draw: 0/0/973:  97%|█████████▋| 974/1000 [02:38<00:04,  6.31it/s]"
     ]
    },
    {
     "name": "stderr",
     "output_type": "stream",
     "text": [
      "\rWin1/Win2/Draw: 0/0/974:  97%|█████████▋| 974/1000 [02:38<00:04,  6.31it/s]"
     ]
    },
    {
     "name": "stderr",
     "output_type": "stream",
     "text": [
      "\rWin1/Win2/Draw: 0/0/974:  98%|█████████▊| 975/1000 [02:39<00:04,  5.98it/s]"
     ]
    },
    {
     "name": "stderr",
     "output_type": "stream",
     "text": [
      "\rWin1/Win2/Draw: 0/0/975:  98%|█████████▊| 975/1000 [02:39<00:04,  5.98it/s]"
     ]
    },
    {
     "name": "stderr",
     "output_type": "stream",
     "text": [
      "\rWin1/Win2/Draw: 0/0/975:  98%|█████████▊| 976/1000 [02:39<00:03,  6.17it/s]"
     ]
    },
    {
     "name": "stderr",
     "output_type": "stream",
     "text": [
      "\rWin1/Win2/Draw: 0/0/976:  98%|█████████▊| 976/1000 [02:39<00:03,  6.17it/s]"
     ]
    },
    {
     "name": "stderr",
     "output_type": "stream",
     "text": [
      "\rWin1/Win2/Draw: 0/0/976:  98%|█████████▊| 977/1000 [02:39<00:03,  6.28it/s]"
     ]
    },
    {
     "name": "stderr",
     "output_type": "stream",
     "text": [
      "\rWin1/Win2/Draw: 0/0/977:  98%|█████████▊| 977/1000 [02:39<00:03,  6.28it/s]"
     ]
    },
    {
     "name": "stderr",
     "output_type": "stream",
     "text": [
      "\rWin1/Win2/Draw: 0/0/977:  98%|█████████▊| 978/1000 [02:39<00:03,  6.37it/s]"
     ]
    },
    {
     "name": "stderr",
     "output_type": "stream",
     "text": [
      "\rWin1/Win2/Draw: 0/0/978:  98%|█████████▊| 978/1000 [02:39<00:03,  6.37it/s]"
     ]
    },
    {
     "name": "stderr",
     "output_type": "stream",
     "text": [
      "\rWin1/Win2/Draw: 0/0/978:  98%|█████████▊| 979/1000 [02:39<00:03,  6.46it/s]"
     ]
    },
    {
     "name": "stderr",
     "output_type": "stream",
     "text": [
      "\rWin1/Win2/Draw: 0/0/979:  98%|█████████▊| 979/1000 [02:39<00:03,  6.46it/s]"
     ]
    },
    {
     "name": "stderr",
     "output_type": "stream",
     "text": [
      "\rWin1/Win2/Draw: 0/0/979:  98%|█████████▊| 980/1000 [02:39<00:03,  6.45it/s]"
     ]
    },
    {
     "name": "stderr",
     "output_type": "stream",
     "text": [
      "\rWin1/Win2/Draw: 0/0/980:  98%|█████████▊| 980/1000 [02:39<00:03,  6.45it/s]"
     ]
    },
    {
     "name": "stderr",
     "output_type": "stream",
     "text": [
      "\rWin1/Win2/Draw: 0/0/980:  98%|█████████▊| 981/1000 [02:40<00:02,  6.44it/s]"
     ]
    },
    {
     "name": "stderr",
     "output_type": "stream",
     "text": [
      "\rWin1/Win2/Draw: 0/0/981:  98%|█████████▊| 981/1000 [02:40<00:02,  6.44it/s]"
     ]
    },
    {
     "name": "stderr",
     "output_type": "stream",
     "text": [
      "\rWin1/Win2/Draw: 0/0/981:  98%|█████████▊| 982/1000 [02:40<00:02,  6.48it/s]"
     ]
    },
    {
     "name": "stderr",
     "output_type": "stream",
     "text": [
      "\rWin1/Win2/Draw: 0/0/982:  98%|█████████▊| 982/1000 [02:40<00:02,  6.48it/s]"
     ]
    },
    {
     "name": "stderr",
     "output_type": "stream",
     "text": [
      "\rWin1/Win2/Draw: 0/0/982:  98%|█████████▊| 983/1000 [02:40<00:02,  6.53it/s]"
     ]
    },
    {
     "name": "stderr",
     "output_type": "stream",
     "text": [
      "\rWin1/Win2/Draw: 0/0/983:  98%|█████████▊| 983/1000 [02:40<00:02,  6.53it/s]"
     ]
    },
    {
     "name": "stderr",
     "output_type": "stream",
     "text": [
      "\rWin1/Win2/Draw: 0/0/983:  98%|█████████▊| 984/1000 [02:40<00:02,  6.51it/s]"
     ]
    },
    {
     "name": "stderr",
     "output_type": "stream",
     "text": [
      "\rWin1/Win2/Draw: 0/0/984:  98%|█████████▊| 984/1000 [02:40<00:02,  6.51it/s]"
     ]
    },
    {
     "name": "stderr",
     "output_type": "stream",
     "text": [
      "\rWin1/Win2/Draw: 0/0/984:  98%|█████████▊| 985/1000 [02:40<00:02,  5.25it/s]"
     ]
    },
    {
     "name": "stderr",
     "output_type": "stream",
     "text": [
      "\rWin1/Win2/Draw: 0/0/985:  98%|█████████▊| 985/1000 [02:40<00:02,  5.25it/s]"
     ]
    },
    {
     "name": "stderr",
     "output_type": "stream",
     "text": [
      "\rWin1/Win2/Draw: 0/0/985:  99%|█████████▊| 986/1000 [02:40<00:02,  5.24it/s]"
     ]
    },
    {
     "name": "stderr",
     "output_type": "stream",
     "text": [
      "\rWin1/Win2/Draw: 0/0/986:  99%|█████████▊| 986/1000 [02:40<00:02,  5.24it/s]"
     ]
    },
    {
     "name": "stderr",
     "output_type": "stream",
     "text": [
      "\rWin1/Win2/Draw: 0/0/986:  99%|█████████▊| 987/1000 [02:41<00:02,  5.58it/s]"
     ]
    },
    {
     "name": "stderr",
     "output_type": "stream",
     "text": [
      "\rWin1/Win2/Draw: 0/0/987:  99%|█████████▊| 987/1000 [02:41<00:02,  5.58it/s]"
     ]
    },
    {
     "name": "stderr",
     "output_type": "stream",
     "text": [
      "\rWin1/Win2/Draw: 0/0/987:  99%|█████████▉| 988/1000 [02:41<00:02,  5.78it/s]"
     ]
    },
    {
     "name": "stderr",
     "output_type": "stream",
     "text": [
      "\rWin1/Win2/Draw: 0/0/988:  99%|█████████▉| 988/1000 [02:41<00:02,  5.78it/s]"
     ]
    },
    {
     "name": "stderr",
     "output_type": "stream",
     "text": [
      "\rWin1/Win2/Draw: 0/0/988:  99%|█████████▉| 989/1000 [02:41<00:01,  5.95it/s]"
     ]
    },
    {
     "name": "stderr",
     "output_type": "stream",
     "text": [
      "\rWin1/Win2/Draw: 0/0/989:  99%|█████████▉| 989/1000 [02:41<00:01,  5.95it/s]"
     ]
    },
    {
     "name": "stderr",
     "output_type": "stream",
     "text": [
      "\rWin1/Win2/Draw: 0/0/989:  99%|█████████▉| 990/1000 [02:41<00:01,  6.00it/s]"
     ]
    },
    {
     "name": "stderr",
     "output_type": "stream",
     "text": [
      "\rWin1/Win2/Draw: 0/0/990:  99%|█████████▉| 990/1000 [02:41<00:01,  6.00it/s]"
     ]
    },
    {
     "name": "stderr",
     "output_type": "stream",
     "text": [
      "\rWin1/Win2/Draw: 0/0/990:  99%|█████████▉| 991/1000 [02:41<00:01,  6.15it/s]"
     ]
    },
    {
     "name": "stderr",
     "output_type": "stream",
     "text": [
      "\rWin1/Win2/Draw: 0/0/991:  99%|█████████▉| 991/1000 [02:41<00:01,  6.15it/s]"
     ]
    },
    {
     "name": "stderr",
     "output_type": "stream",
     "text": [
      "\rWin1/Win2/Draw: 0/0/991:  99%|█████████▉| 992/1000 [02:41<00:01,  6.22it/s]"
     ]
    },
    {
     "name": "stderr",
     "output_type": "stream",
     "text": [
      "\rWin1/Win2/Draw: 0/0/992:  99%|█████████▉| 992/1000 [02:41<00:01,  6.22it/s]"
     ]
    },
    {
     "name": "stderr",
     "output_type": "stream",
     "text": [
      "\rWin1/Win2/Draw: 0/0/992:  99%|█████████▉| 993/1000 [02:42<00:01,  6.29it/s]"
     ]
    },
    {
     "name": "stderr",
     "output_type": "stream",
     "text": [
      "\rWin1/Win2/Draw: 0/0/993:  99%|█████████▉| 993/1000 [02:42<00:01,  6.29it/s]"
     ]
    },
    {
     "name": "stderr",
     "output_type": "stream",
     "text": [
      "\rWin1/Win2/Draw: 0/0/993:  99%|█████████▉| 994/1000 [02:42<00:00,  6.37it/s]"
     ]
    },
    {
     "name": "stderr",
     "output_type": "stream",
     "text": [
      "\rWin1/Win2/Draw: 0/0/994:  99%|█████████▉| 994/1000 [02:42<00:00,  6.37it/s]"
     ]
    },
    {
     "name": "stderr",
     "output_type": "stream",
     "text": [
      "\rWin1/Win2/Draw: 0/0/994: 100%|█████████▉| 995/1000 [02:42<00:00,  6.09it/s]"
     ]
    },
    {
     "name": "stderr",
     "output_type": "stream",
     "text": [
      "\rWin1/Win2/Draw: 0/0/995: 100%|█████████▉| 995/1000 [02:42<00:00,  6.09it/s]"
     ]
    },
    {
     "name": "stderr",
     "output_type": "stream",
     "text": [
      "\rWin1/Win2/Draw: 0/0/995: 100%|█████████▉| 996/1000 [02:42<00:00,  6.20it/s]"
     ]
    },
    {
     "name": "stderr",
     "output_type": "stream",
     "text": [
      "\rWin1/Win2/Draw: 0/0/996: 100%|█████████▉| 996/1000 [02:42<00:00,  6.20it/s]"
     ]
    },
    {
     "name": "stderr",
     "output_type": "stream",
     "text": [
      "\rWin1/Win2/Draw: 0/0/996: 100%|█████████▉| 997/1000 [02:42<00:00,  6.29it/s]"
     ]
    },
    {
     "name": "stderr",
     "output_type": "stream",
     "text": [
      "\rWin1/Win2/Draw: 0/0/997: 100%|█████████▉| 997/1000 [02:42<00:00,  6.29it/s]"
     ]
    },
    {
     "name": "stderr",
     "output_type": "stream",
     "text": [
      "\rWin1/Win2/Draw: 0/0/997: 100%|█████████▉| 998/1000 [02:42<00:00,  6.34it/s]"
     ]
    },
    {
     "name": "stderr",
     "output_type": "stream",
     "text": [
      "\rWin1/Win2/Draw: 0/0/998: 100%|█████████▉| 998/1000 [02:42<00:00,  6.34it/s]"
     ]
    },
    {
     "name": "stderr",
     "output_type": "stream",
     "text": [
      "\rWin1/Win2/Draw: 0/0/998: 100%|█████████▉| 999/1000 [02:43<00:00,  6.33it/s]"
     ]
    },
    {
     "name": "stderr",
     "output_type": "stream",
     "text": [
      "\rWin1/Win2/Draw: 0/0/999: 100%|█████████▉| 999/1000 [02:43<00:00,  6.33it/s]"
     ]
    },
    {
     "name": "stderr",
     "output_type": "stream",
     "text": [
      "\rWin1/Win2/Draw: 0/0/999: 100%|██████████| 1000/1000 [02:43<00:00,  6.34it/s]"
     ]
    },
    {
     "name": "stderr",
     "output_type": "stream",
     "text": [
      "\rWin1/Win2/Draw: 0/0/1000: 100%|██████████| 1000/1000 [02:43<00:00,  6.34it/s]"
     ]
    },
    {
     "name": "stderr",
     "output_type": "stream",
     "text": [
      "\n"
     ]
    }
   ],
   "source": [
    "player1_results, game_logs = evaluate(noughts_and_crosses,\n",
    "                                      {2: player1, 1: player2}, 1000)"
   ]
  },
  {
   "cell_type": "code",
   "execution_count": 6,
   "metadata": {},
   "outputs": [
    {
     "name": "stdout",
     "output_type": "stream",
     "text": [
      "Counter({(1, 1): 1000})\n"
     ]
    }
   ],
   "source": [
    "from collections import Counter\n",
    "\n",
    "counter = Counter([game_log.actions[1] for game_log in game_logs])\n",
    "print(counter)\n"
   ]
  },
  {
   "cell_type": "code",
   "execution_count": null,
   "metadata": {},
   "outputs": [],
   "source": []
  }
 ],
 "metadata": {
  "kernelspec": {
   "display_name": "Python 2",
   "language": "python",
   "name": "python2"
  },
  "language_info": {
   "codemirror_mode": {
    "name": "ipython",
    "version": 2
   },
   "file_extension": ".py",
   "mimetype": "text/x-python",
   "name": "python",
   "nbconvert_exporter": "python",
   "pygments_lexer": "ipython2",
   "version": "2.7.6"
  }
 },
 "nbformat": 4,
 "nbformat_minor": 0
}
