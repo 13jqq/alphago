{
 "cells": [
  {
   "cell_type": "code",
   "execution_count": null,
   "metadata": {
    "collapsed": true
   },
   "outputs": [],
   "source": [
    "from alphago.player import MCTSPlayer, RandomPlayer\n",
    "from alphago.games import noughts_and_crosses\n",
    "from alphago.estimator import create_trivial_estimator\n",
    "from alphago.evaluator import evaluate"
   ]
  },
  {
   "cell_type": "code",
   "execution_count": 9,
   "metadata": {},
   "outputs": [],
   "source": [
    "import matplotlib.pyplot as plt\n",
    "import numpy as np"
   ]
  },
  {
   "cell_type": "code",
   "execution_count": 1,
   "metadata": {},
   "outputs": [],
   "source": [
    "mcts_wins = {(10, 0.01): 291, (50, 0.01): 358, (100, 0.01): 365, (500, 0.01): 361, (1000, 0.01): 376, (10, 0.1): 313, (50, 0.1): 357, (100, 0.1): 348, (500, 0.1): 353, (1000, 0.1): 377, (10, 1.0): 252, (50, 1.0): 308, (100, 1.0): 317, (500, 1.0): 353, (1000, 1.0): 359}\n",
    "random_wins = {(10, 0.01): 63, (50, 0.01): 8, (100, 0.01): 8, (500, 0.01): 2, (1000, 0.01): 0, (10, 0.1): 52, (50, 0.1): 11, (100, 0.1): 12, (500, 0.1): 6, (1000, 0.1): 1, (10, 1.0): 111, (50, 1.0): 50, (100, 1.0): 39, (500, 1.0): 19, (1000, 1.0): 8}\n",
    "draws = {(10, 0.01): 46, (50, 0.01): 34, (100, 0.01): 27, (500, 0.01): 37, (1000, 0.01): 24, (10, 0.1): 35, (50, 0.1): 32, (100, 0.1): 40, (500, 0.1): 41, (1000, 0.1): 22, (10, 1.0): 37, (50, 1.0): 42, (100, 1.0): 44, (500, 1.0): 28, (1000, 1.0): 33}"
   ]
  },
  {
   "cell_type": "code",
   "execution_count": 2,
   "metadata": {},
   "outputs": [
    {
     "data": {
      "text/plain": [
       "{(10, 0.01): 291,\n",
       " (10, 0.1): 313,\n",
       " (10, 1.0): 252,\n",
       " (50, 0.01): 358,\n",
       " (50, 0.1): 357,\n",
       " (50, 1.0): 308,\n",
       " (100, 0.01): 365,\n",
       " (100, 0.1): 348,\n",
       " (100, 1.0): 317,\n",
       " (500, 0.01): 361,\n",
       " (500, 0.1): 353,\n",
       " (500, 1.0): 353,\n",
       " (1000, 0.01): 376,\n",
       " (1000, 0.1): 377,\n",
       " (1000, 1.0): 359}"
      ]
     },
     "execution_count": 2,
     "metadata": {},
     "output_type": "execute_result"
    }
   ],
   "source": [
    "mcts_wins"
   ]
  },
  {
   "cell_type": "code",
   "execution_count": 3,
   "metadata": {},
   "outputs": [
    {
     "data": {
      "text/plain": [
       "{(10, 0.01): 63,\n",
       " (10, 0.1): 52,\n",
       " (10, 1.0): 111,\n",
       " (50, 0.01): 8,\n",
       " (50, 0.1): 11,\n",
       " (50, 1.0): 50,\n",
       " (100, 0.01): 8,\n",
       " (100, 0.1): 12,\n",
       " (100, 1.0): 39,\n",
       " (500, 0.01): 2,\n",
       " (500, 0.1): 6,\n",
       " (500, 1.0): 19,\n",
       " (1000, 0.01): 0,\n",
       " (1000, 0.1): 1,\n",
       " (1000, 1.0): 8}"
      ]
     },
     "execution_count": 3,
     "metadata": {},
     "output_type": "execute_result"
    }
   ],
   "source": [
    "random_wins"
   ]
  },
  {
   "cell_type": "code",
   "execution_count": 6,
   "metadata": {},
   "outputs": [],
   "source": [
    "tau_list = [0.01, 0.1, 1.0]\n",
    "mcts_iters_list = [10, 50, 100, 500, 1000]"
   ]
  },
  {
   "cell_type": "code",
   "execution_count": 12,
   "metadata": {},
   "outputs": [],
   "source": [
    "random_wins_matrix = np.array([[random_wins[(mcts_iters, tau)] for tau in tau_list] for mcts_iters in mcts_iters_list])"
   ]
  },
  {
   "cell_type": "code",
   "execution_count": 16,
   "metadata": {},
   "outputs": [
    {
     "data": {
      "text/plain": [
       "<matplotlib.colorbar.Colorbar at 0x113130c18>"
      ]
     },
     "execution_count": 16,
     "metadata": {},
     "output_type": "execute_result"
    },
    {
     "data": {
      "image/png": "[encoded data removed]",
      "text/plain": [
       "<Figure size 288x480 with 2 Axes>"
      ]
     },
     "metadata": {},
     "output_type": "display_data"
    }
   ],
   "source": [
    "plt.matshow(random_wins_matrix)\n",
    "plt.colorbar()"
   ]
  },
  {
   "cell_type": "code",
   "execution_count": 13,
   "metadata": {},
   "outputs": [
    {
     "data": {
      "text/plain": [
       "array([[ 63,  52, 111],\n",
       "       [  8,  11,  50],\n",
       "       [  8,  12,  39],\n",
       "       [  2,   6,  19],\n",
       "       [  0,   1,   8]])"
      ]
     },
     "execution_count": 13,
     "metadata": {},
     "output_type": "execute_result"
    }
   ],
   "source": [
    "random_wins_matrix"
   ]
  },
  {
   "cell_type": "code",
   "execution_count": null,
   "metadata": {},
   "outputs": [],
   "source": []
  }
 ],
 "metadata": {
  "kernelspec": {
   "display_name": "Python 3",
   "language": "python",
   "name": "python3"
  },
  "language_info": {
   "codemirror_mode": {
    "name": "ipython",
    "version": 3
   },
   "file_extension": ".py",
   "mimetype": "text/x-python",
   "name": "python",
   "nbconvert_exporter": "python",
   "pygments_lexer": "ipython3",
   "version": "3.6.4"
  }
 },
 "nbformat": 4,
 "nbformat_minor": 1
}
