{
 "cells": [
  {
   "cell_type": "code",
   "execution_count": null,
   "metadata": {},
   "outputs": [],
   "source": [
    "import time\n",
    "\n",
    "from alphago.games import NoughtsAndCrosses\n",
    "from alphago.estimator import NACNetEstimator\n",
    "from alphago.alphago import train_alphago\n",
    "\n",
    "from alphago.utilities import memoize_instance"
   ]
  },
  {
   "cell_type": "code",
   "execution_count": 2,
   "metadata": {},
   "outputs": [],
   "source": []
  },
  {
   "cell_type": "code",
   "execution_count": null,
   "metadata": {},
   "outputs": [
    {
     "name": "stderr",
     "output_type": "stream",
     "text": [
      "100%|██████████| 10/10 [00:00<00:00, 16.97it/s]\n",
      "100%|██████████| 1000/1000 [00:01<00:00, 617.35it/s]\n",
      "Win1/Win2/Draw: 0/1/0:   5%|▌         | 1/20 [00:00<00:02,  7.20it/s]"
     ]
    },
    {
     "name": "stdout",
     "output_type": "stream",
     "text": [
      "Evaluating. Self-player vs training, then training vs self-player\n"
     ]
    },
    {
     "name": "stderr",
     "output_type": "stream",
     "text": [
      "Win1/Win2/Draw: 12/6/2: 100%|██████████| 20/20 [00:01<00:00, 14.02it/s]\n",
      "Win1/Win2/Draw: 12/6/2: 100%|██████████| 20/20 [00:01<00:00, 14.58it/s]\n",
      "Win1/Win2/Draw: 3/0/1:  20%|██        | 4/20 [00:00<00:00, 25.36it/s]"
     ]
    },
    {
     "name": "stdout",
     "output_type": "stream",
     "text": [
      "Self-play player wins: 18, Training player wins: 18, Draws: 4\n",
      "Win + draw rate for training player: 0.55\n"
     ]
    },
    {
     "name": "stderr",
     "output_type": "stream",
     "text": [
      "Win1/Win2/Draw: 17/1/2: 100%|██████████| 20/20 [00:00<00:00, 25.24it/s]\n",
      "Win1/Win2/Draw: 8/8/4: 100%|██████████| 20/20 [00:00<00:00, 27.65it/s]\n",
      " 20%|██        | 2/10 [00:00<00:00, 17.64it/s]"
     ]
    },
    {
     "name": "stdout",
     "output_type": "stream",
     "text": [
      "Training player vs random. Wins: 25, Losses: 9, Draws: 6\n"
     ]
    },
    {
     "name": "stderr",
     "output_type": "stream",
     "text": [
      "100%|██████████| 10/10 [00:00<00:00, 17.78it/s]\n",
      "100%|██████████| 1000/1000 [00:02<00:00, 336.29it/s]\n",
      "100%|██████████| 10/10 [00:00<00:00, 17.91it/s]\n",
      "100%|██████████| 1000/1000 [00:02<00:00, 345.52it/s]\n",
      "Win1/Win2/Draw: 3/0/0:  15%|█▌        | 3/20 [00:00<00:01, 15.20it/s]"
     ]
    },
    {
     "name": "stdout",
     "output_type": "stream",
     "text": [
      "Evaluating. Self-player vs training, then training vs self-player\n"
     ]
    },
    {
     "name": "stderr",
     "output_type": "stream",
     "text": [
      "Win1/Win2/Draw: 16/4/0: 100%|██████████| 20/20 [00:01<00:00, 17.76it/s]\n",
      "Win1/Win2/Draw: 14/4/2: 100%|██████████| 20/20 [00:01<00:00, 17.01it/s]\n",
      "Win1/Win2/Draw: 5/0/0:  25%|██▌       | 5/20 [00:00<00:00, 25.96it/s]"
     ]
    },
    {
     "name": "stdout",
     "output_type": "stream",
     "text": [
      "Self-play player wins: 20, Training player wins: 18, Draws: 2\n",
      "Win + draw rate for training player: 0.5\n"
     ]
    },
    {
     "name": "stderr",
     "output_type": "stream",
     "text": [
      "Win1/Win2/Draw: 19/0/1: 100%|██████████| 20/20 [00:00<00:00, 26.18it/s]\n",
      "Win1/Win2/Draw: 8/6/6: 100%|██████████| 20/20 [00:00<00:00, 27.58it/s]\n",
      " 30%|███       | 3/10 [00:00<00:00, 20.61it/s]"
     ]
    },
    {
     "name": "stdout",
     "output_type": "stream",
     "text": [
      "Training player vs random. Wins: 25, Losses: 8, Draws: 7\n"
     ]
    },
    {
     "name": "stderr",
     "output_type": "stream",
     "text": [
      "100%|██████████| 10/10 [00:00<00:00, 17.45it/s]\n",
      "100%|██████████| 1000/1000 [00:02<00:00, 335.36it/s]\n",
      "100%|██████████| 10/10 [00:00<00:00, 18.64it/s]\n",
      "100%|██████████| 1000/1000 [00:02<00:00, 350.72it/s]\n",
      "Win1/Win2/Draw: 2/0/0:  10%|█         | 2/20 [00:00<00:01, 15.34it/s]"
     ]
    },
    {
     "name": "stdout",
     "output_type": "stream",
     "text": [
      "Evaluating. Self-player vs training, then training vs self-player\n"
     ]
    },
    {
     "name": "stderr",
     "output_type": "stream",
     "text": [
      "Win1/Win2/Draw: 17/2/1: 100%|██████████| 20/20 [00:01<00:00, 18.24it/s]\n",
      "Win1/Win2/Draw: 12/6/2: 100%|██████████| 20/20 [00:01<00:00, 16.87it/s]\n",
      "Win1/Win2/Draw: 3/0/1:  20%|██        | 4/20 [00:00<00:00, 18.99it/s]"
     ]
    },
    {
     "name": "stdout",
     "output_type": "stream",
     "text": [
      "Self-play player wins: 23, Training player wins: 14, Draws: 3\n",
      "Win + draw rate for training player: 0.425\n"
     ]
    },
    {
     "name": "stderr",
     "output_type": "stream",
     "text": [
      "Win1/Win2/Draw: 12/4/4: 100%|██████████| 20/20 [00:00<00:00, 23.80it/s]\n",
      "Win1/Win2/Draw: 5/9/6: 100%|██████████| 20/20 [00:00<00:00, 28.77it/s]\n",
      "  0%|          | 0/10 [00:00<?, ?it/s]"
     ]
    },
    {
     "name": "stdout",
     "output_type": "stream",
     "text": [
      "Training player vs random. Wins: 21, Losses: 9, Draws: 10\n"
     ]
    },
    {
     "name": "stderr",
     "output_type": "stream",
     "text": [
      "100%|██████████| 10/10 [00:00<00:00, 18.17it/s]\n",
      "100%|██████████| 1000/1000 [00:02<00:00, 333.40it/s]\n",
      "100%|██████████| 10/10 [00:00<00:00, 19.79it/s]\n",
      "100%|██████████| 1000/1000 [00:03<00:00, 328.51it/s]\n",
      "Win1/Win2/Draw: 2/1/0:  15%|█▌        | 3/20 [00:00<00:01, 15.46it/s]"
     ]
    },
    {
     "name": "stdout",
     "output_type": "stream",
     "text": [
      "Evaluating. Self-player vs training, then training vs self-player\n"
     ]
    },
    {
     "name": "stderr",
     "output_type": "stream",
     "text": [
      "Win1/Win2/Draw: 14/4/2: 100%|██████████| 20/20 [00:01<00:00, 16.87it/s]\n",
      "Win1/Win2/Draw: 8/9/3: 100%|██████████| 20/20 [00:01<00:00, 15.44it/s]\n",
      "Win1/Win2/Draw: 4/1/0:  25%|██▌       | 5/20 [00:00<00:00, 25.32it/s]"
     ]
    },
    {
     "name": "stdout",
     "output_type": "stream",
     "text": [
      "Self-play player wins: 23, Training player wins: 12, Draws: 5\n",
      "Win + draw rate for training player: 0.425\n"
     ]
    },
    {
     "name": "stderr",
     "output_type": "stream",
     "text": [
      "Win1/Win2/Draw: 16/4/0: 100%|██████████| 20/20 [00:00<00:00, 26.64it/s]\n",
      "Win1/Win2/Draw: 5/11/4: 100%|██████████| 20/20 [00:00<00:00, 26.25it/s]\n",
      "  0%|          | 0/10 [00:00<?, ?it/s]"
     ]
    },
    {
     "name": "stdout",
     "output_type": "stream",
     "text": [
      "Training player vs random. Wins: 27, Losses: 9, Draws: 4\n"
     ]
    },
    {
     "name": "stderr",
     "output_type": "stream",
     "text": [
      "100%|██████████| 10/10 [00:00<00:00, 19.79it/s]\n",
      "100%|██████████| 1000/1000 [00:03<00:00, 305.23it/s]\n",
      "100%|██████████| 10/10 [00:00<00:00, 16.78it/s]\n",
      "100%|██████████| 1000/1000 [00:02<00:00, 341.36it/s]\n",
      "Win1/Win2/Draw: 1/0/0:   5%|▌         | 1/20 [00:00<00:02,  6.90it/s]"
     ]
    },
    {
     "name": "stdout",
     "output_type": "stream",
     "text": [
      "Evaluating. Self-player vs training, then training vs self-player\n"
     ]
    },
    {
     "name": "stderr",
     "output_type": "stream",
     "text": [
      "Win1/Win2/Draw: 16/2/2: 100%|██████████| 20/20 [00:01<00:00, 14.84it/s]\n",
      "Win1/Win2/Draw: 10/7/3: 100%|██████████| 20/20 [00:01<00:00, 15.22it/s]\n",
      "Win1/Win2/Draw: 3/0/0:  15%|█▌        | 3/20 [00:00<00:00, 20.68it/s]"
     ]
    },
    {
     "name": "stdout",
     "output_type": "stream",
     "text": [
      "Self-play player wins: 23, Training player wins: 12, Draws: 5\n",
      "Win + draw rate for training player: 0.425\n"
     ]
    },
    {
     "name": "stderr",
     "output_type": "stream",
     "text": [
      "Win1/Win2/Draw: 18/0/2: 100%|██████████| 20/20 [00:00<00:00, 23.36it/s]\n",
      "Win1/Win2/Draw: 8/10/2: 100%|██████████| 20/20 [00:00<00:00, 27.50it/s]\n",
      " 20%|██        | 2/10 [00:00<00:00, 14.03it/s]"
     ]
    },
    {
     "name": "stdout",
     "output_type": "stream",
     "text": [
      "Training player vs random. Wins: 28, Losses: 8, Draws: 4\n"
     ]
    },
    {
     "name": "stderr",
     "output_type": "stream",
     "text": [
      "100%|██████████| 10/10 [00:00<00:00, 14.68it/s]\n",
      "100%|██████████| 1000/1000 [00:03<00:00, 320.63it/s]\n",
      "100%|██████████| 10/10 [00:00<00:00, 18.57it/s]\n",
      "100%|██████████| 1000/1000 [00:03<00:00, 312.28it/s]\n",
      "Win1/Win2/Draw: 1/0/1:  10%|█         | 2/20 [00:00<00:01, 11.11it/s]"
     ]
    },
    {
     "name": "stdout",
     "output_type": "stream",
     "text": [
      "Evaluating. Self-player vs training, then training vs self-player\n"
     ]
    },
    {
     "name": "stderr",
     "output_type": "stream",
     "text": [
      "Win1/Win2/Draw: 13/5/2: 100%|██████████| 20/20 [00:01<00:00, 13.36it/s]\n",
      "Win1/Win2/Draw: 15/3/2: 100%|██████████| 20/20 [00:01<00:00, 13.42it/s]\n",
      "Win1/Win2/Draw: 4/0/0:  20%|██        | 4/20 [00:00<00:00, 25.01it/s]"
     ]
    },
    {
     "name": "stdout",
     "output_type": "stream",
     "text": [
      "Self-play player wins: 16, Training player wins: 20, Draws: 4\n",
      "Win + draw rate for training player: 0.6\n"
     ]
    },
    {
     "name": "stderr",
     "output_type": "stream",
     "text": [
      "Win1/Win2/Draw: 17/2/1: 100%|██████████| 20/20 [00:00<00:00, 24.70it/s]\n",
      "Win1/Win2/Draw: 6/7/7: 100%|██████████| 20/20 [00:00<00:00, 25.82it/s]\n"
     ]
    },
    {
     "name": "stdout",
     "output_type": "stream",
     "text": [
      "Training player vs random. Wins: 24, Losses: 8, Draws: 8\n",
      "Updating self-play player.\n",
      "Restoring from step: 10\n",
      "INFO:tensorflow:Restoring parameters from experiments/experiment-2018-05-16_22:17:36/checkpoints/10.checkpoint\n"
     ]
    },
    {
     "name": "stderr",
     "output_type": "stream",
     "text": [
      "100%|██████████| 10/10 [00:00<00:00, 18.78it/s]\n",
      "100%|██████████| 1000/1000 [00:02<00:00, 344.29it/s]\n",
      "100%|██████████| 10/10 [00:00<00:00, 14.28it/s]\n",
      "100%|██████████| 1000/1000 [00:03<00:00, 293.20it/s]\n",
      "Win1/Win2/Draw: 1/1/0:  10%|█         | 2/20 [00:00<00:01, 10.99it/s]"
     ]
    },
    {
     "name": "stdout",
     "output_type": "stream",
     "text": [
      "Evaluating. Self-player vs training, then training vs self-player\n"
     ]
    },
    {
     "name": "stderr",
     "output_type": "stream",
     "text": [
      "Win1/Win2/Draw: 9/6/5: 100%|██████████| 20/20 [00:01<00:00, 12.28it/s]\n",
      "Win1/Win2/Draw: 13/7/0: 100%|██████████| 20/20 [00:01<00:00, 13.82it/s]\n",
      "Win1/Win2/Draw: 1/1/1:  15%|█▌        | 3/20 [00:00<00:00, 20.19it/s]"
     ]
    },
    {
     "name": "stdout",
     "output_type": "stream",
     "text": [
      "Self-play player wins: 16, Training player wins: 19, Draws: 5\n",
      "Win + draw rate for training player: 0.6\n"
     ]
    },
    {
     "name": "stderr",
     "output_type": "stream",
     "text": [
      "Win1/Win2/Draw: 17/2/1: 100%|██████████| 20/20 [00:00<00:00, 22.95it/s]\n",
      "Win1/Win2/Draw: 10/6/4: 100%|██████████| 20/20 [00:00<00:00, 24.00it/s]\n"
     ]
    },
    {
     "name": "stdout",
     "output_type": "stream",
     "text": [
      "Training player vs random. Wins: 23, Losses: 12, Draws: 5\n",
      "Updating self-play player.\n",
      "Restoring from step: 12\n",
      "INFO:tensorflow:Restoring parameters from experiments/experiment-2018-05-16_22:17:36/checkpoints/12.checkpoint\n"
     ]
    },
    {
     "name": "stderr",
     "output_type": "stream",
     "text": [
      "100%|██████████| 10/10 [00:00<00:00, 18.26it/s]\n",
      "100%|██████████| 1000/1000 [00:02<00:00, 353.52it/s]\n",
      "100%|██████████| 10/10 [00:00<00:00, 22.25it/s]\n",
      "100%|██████████| 1000/1000 [00:02<00:00, 354.29it/s]\n",
      "Win1/Win2/Draw: 3/0/1:  20%|██        | 4/20 [00:00<00:00, 22.07it/s]"
     ]
    },
    {
     "name": "stdout",
     "output_type": "stream",
     "text": [
      "Evaluating. Self-player vs training, then training vs self-player\n"
     ]
    },
    {
     "name": "stderr",
     "output_type": "stream",
     "text": [
      "Win1/Win2/Draw: 10/8/2: 100%|██████████| 20/20 [00:00<00:00, 20.17it/s]\n",
      "Win1/Win2/Draw: 13/2/5: 100%|██████████| 20/20 [00:01<00:00, 15.65it/s]\n",
      "Win1/Win2/Draw: 4/0/0:  20%|██        | 4/20 [00:00<00:00, 23.93it/s]"
     ]
    },
    {
     "name": "stdout",
     "output_type": "stream",
     "text": [
      "Self-play player wins: 12, Training player wins: 21, Draws: 7\n",
      "Win + draw rate for training player: 0.7\n"
     ]
    },
    {
     "name": "stderr",
     "output_type": "stream",
     "text": [
      "Win1/Win2/Draw: 16/0/4: 100%|██████████| 20/20 [00:00<00:00, 23.89it/s]\n",
      "Win1/Win2/Draw: 6/10/4: 100%|██████████| 20/20 [00:00<00:00, 26.24it/s]\n"
     ]
    },
    {
     "name": "stdout",
     "output_type": "stream",
     "text": [
      "Training player vs random. Wins: 26, Losses: 6, Draws: 8\n",
      "Updating self-play player.\n",
      "Restoring from step: 14\n",
      "INFO:tensorflow:Restoring parameters from experiments/experiment-2018-05-16_22:17:36/checkpoints/14.checkpoint\n"
     ]
    },
    {
     "name": "stderr",
     "output_type": "stream",
     "text": [
      "100%|██████████| 10/10 [00:00<00:00, 16.16it/s]\n",
      "100%|██████████| 1000/1000 [00:03<00:00, 302.64it/s]\n",
      "100%|██████████| 10/10 [00:00<00:00, 15.13it/s]\n",
      "100%|██████████| 1000/1000 [00:03<00:00, 270.57it/s]\n",
      "Win1/Win2/Draw: 0/3/0:  15%|█▌        | 3/20 [00:00<00:00, 18.14it/s]"
     ]
    },
    {
     "name": "stdout",
     "output_type": "stream",
     "text": [
      "Evaluating. Self-player vs training, then training vs self-player\n"
     ]
    },
    {
     "name": "stderr",
     "output_type": "stream",
     "text": [
      "Win1/Win2/Draw: 7/7/6: 100%|██████████| 20/20 [00:01<00:00, 17.36it/s]\n",
      "Win1/Win2/Draw: 10/8/2: 100%|██████████| 20/20 [00:01<00:00, 18.54it/s]\n",
      "Win1/Win2/Draw: 5/0/1:  30%|███       | 6/20 [00:00<00:00, 38.09it/s]"
     ]
    },
    {
     "name": "stdout",
     "output_type": "stream",
     "text": [
      "Self-play player wins: 15, Training player wins: 17, Draws: 8\n",
      "Win + draw rate for training player: 0.625\n"
     ]
    },
    {
     "name": "stderr",
     "output_type": "stream",
     "text": [
      "Win1/Win2/Draw: 17/2/1: 100%|██████████| 20/20 [00:00<00:00, 28.47it/s]\n",
      "Win1/Win2/Draw: 7/8/5: 100%|██████████| 20/20 [00:00<00:00, 26.36it/s]\n"
     ]
    },
    {
     "name": "stdout",
     "output_type": "stream",
     "text": [
      "Training player vs random. Wins: 25, Losses: 9, Draws: 6\n",
      "Updating self-play player.\n",
      "Restoring from step: 16\n",
      "INFO:tensorflow:Restoring parameters from experiments/experiment-2018-05-16_22:17:36/checkpoints/16.checkpoint\n"
     ]
    },
    {
     "name": "stderr",
     "output_type": "stream",
     "text": [
      "100%|██████████| 10/10 [00:00<00:00, 18.15it/s]\n",
      "100%|██████████| 1000/1000 [00:02<00:00, 348.79it/s]\n",
      "100%|██████████| 10/10 [00:00<00:00, 18.86it/s]\n",
      "100%|██████████| 1000/1000 [00:05<00:00, 196.73it/s]\n",
      "Win1/Win2/Draw: 1/0/0:   5%|▌         | 1/20 [00:00<00:02,  6.74it/s]"
     ]
    },
    {
     "name": "stdout",
     "output_type": "stream",
     "text": [
      "Evaluating. Self-player vs training, then training vs self-player\n"
     ]
    },
    {
     "name": "stderr",
     "output_type": "stream",
     "text": [
      "Win1/Win2/Draw: 9/8/3: 100%|██████████| 20/20 [00:02<00:00,  9.57it/s]\n",
      "Win1/Win2/Draw: 12/6/2: 100%|██████████| 20/20 [00:01<00:00, 16.98it/s]\n",
      "Win1/Win2/Draw: 3/2/0:  25%|██▌       | 5/20 [00:00<00:00, 34.73it/s]"
     ]
    },
    {
     "name": "stdout",
     "output_type": "stream",
     "text": [
      "Self-play player wins: 15, Training player wins: 20, Draws: 5\n",
      "Win + draw rate for training player: 0.625\n"
     ]
    },
    {
     "name": "stderr",
     "output_type": "stream",
     "text": [
      "Win1/Win2/Draw: 14/2/4: 100%|██████████| 20/20 [00:00<00:00, 24.57it/s]\n",
      "Win1/Win2/Draw: 4/10/6: 100%|██████████| 20/20 [00:00<00:00, 25.19it/s]\n"
     ]
    },
    {
     "name": "stdout",
     "output_type": "stream",
     "text": [
      "Training player vs random. Wins: 24, Losses: 6, Draws: 10\n",
      "Updating self-play player.\n",
      "Restoring from step: 18\n",
      "INFO:tensorflow:Restoring parameters from experiments/experiment-2018-05-16_22:17:36/checkpoints/18.checkpoint\n"
     ]
    },
    {
     "name": "stderr",
     "output_type": "stream",
     "text": [
      "100%|██████████| 10/10 [00:00<00:00, 21.89it/s]\n",
      "100%|██████████| 1000/1000 [00:02<00:00, 375.35it/s]\n",
      "100%|██████████| 10/10 [00:00<00:00, 22.81it/s]\n",
      "100%|██████████| 1000/1000 [00:02<00:00, 360.32it/s]\n",
      "Win1/Win2/Draw: 0/1/1:  10%|█         | 2/20 [00:00<00:01, 12.26it/s]"
     ]
    },
    {
     "name": "stdout",
     "output_type": "stream",
     "text": [
      "Evaluating. Self-player vs training, then training vs self-player\n"
     ]
    },
    {
     "name": "stderr",
     "output_type": "stream",
     "text": [
      "Win1/Win2/Draw: 12/7/1: 100%|██████████| 20/20 [00:01<00:00, 14.98it/s]\n",
      "Win1/Win2/Draw: 10/7/3: 100%|██████████| 20/20 [00:01<00:00, 15.48it/s]\n",
      "Win1/Win2/Draw: 5/0/1:  30%|███       | 6/20 [00:00<00:00, 35.28it/s]"
     ]
    },
    {
     "name": "stdout",
     "output_type": "stream",
     "text": [
      "Self-play player wins: 19, Training player wins: 17, Draws: 4\n",
      "Win + draw rate for training player: 0.525\n"
     ]
    },
    {
     "name": "stderr",
     "output_type": "stream",
     "text": [
      "Win1/Win2/Draw: 15/1/4: 100%|██████████| 20/20 [00:00<00:00, 29.77it/s]\n",
      "Win1/Win2/Draw: 7/11/2: 100%|██████████| 20/20 [00:00<00:00, 38.16it/s]\n",
      " 30%|███       | 3/10 [00:00<00:00, 19.99it/s]"
     ]
    },
    {
     "name": "stdout",
     "output_type": "stream",
     "text": [
      "Training player vs random. Wins: 26, Losses: 8, Draws: 6\n"
     ]
    },
    {
     "name": "stderr",
     "output_type": "stream",
     "text": [
      "100%|██████████| 10/10 [00:00<00:00, 21.05it/s]\n",
      "100%|██████████| 1000/1000 [00:02<00:00, 381.34it/s]\n",
      "100%|██████████| 10/10 [00:00<00:00, 18.25it/s]\n",
      "100%|██████████| 1000/1000 [00:03<00:00, 276.51it/s]\n",
      "Win1/Win2/Draw: 1/1/1:  15%|█▌        | 3/20 [00:00<00:00, 19.40it/s]"
     ]
    },
    {
     "name": "stdout",
     "output_type": "stream",
     "text": [
      "Evaluating. Self-player vs training, then training vs self-player\n"
     ]
    },
    {
     "name": "stderr",
     "output_type": "stream",
     "text": [
      "Win1/Win2/Draw: 10/7/3: 100%|██████████| 20/20 [00:01<00:00, 19.96it/s]\n",
      "Win1/Win2/Draw: 8/10/2: 100%|██████████| 20/20 [00:01<00:00, 16.81it/s]\n",
      "Win1/Win2/Draw: 3/0/2:  25%|██▌       | 5/20 [00:00<00:00, 28.50it/s]"
     ]
    },
    {
     "name": "stdout",
     "output_type": "stream",
     "text": [
      "Self-play player wins: 20, Training player wins: 15, Draws: 5\n",
      "Win + draw rate for training player: 0.5\n"
     ]
    },
    {
     "name": "stderr",
     "output_type": "stream",
     "text": [
      "Win1/Win2/Draw: 14/3/3: 100%|██████████| 20/20 [00:00<00:00, 29.47it/s]\n",
      "Win1/Win2/Draw: 6/9/5: 100%|██████████| 20/20 [00:00<00:00, 35.57it/s]\n",
      " 30%|███       | 3/10 [00:00<00:00, 25.32it/s]"
     ]
    },
    {
     "name": "stdout",
     "output_type": "stream",
     "text": [
      "Training player vs random. Wins: 23, Losses: 9, Draws: 8\n"
     ]
    },
    {
     "name": "stderr",
     "output_type": "stream",
     "text": [
      "100%|██████████| 10/10 [00:00<00:00, 20.53it/s]\n",
      "100%|██████████| 1000/1000 [00:02<00:00, 345.87it/s]\n",
      "100%|██████████| 10/10 [00:00<00:00, 23.10it/s]\n",
      "100%|██████████| 1000/1000 [00:04<00:00, 220.37it/s]\n",
      "Win1/Win2/Draw: 1/0/0:   5%|▌         | 1/20 [00:00<00:01, 11.44it/s]"
     ]
    },
    {
     "name": "stdout",
     "output_type": "stream",
     "text": [
      "Evaluating. Self-player vs training, then training vs self-player\n"
     ]
    },
    {
     "name": "stderr",
     "output_type": "stream",
     "text": [
      "Win1/Win2/Draw: 19/0/1: 100%|██████████| 20/20 [00:01<00:00, 11.24it/s]\n",
      "Win1/Win2/Draw: 11/5/4: 100%|██████████| 20/20 [00:01<00:00, 16.48it/s]\n",
      "Win1/Win2/Draw: 4/0/0:  20%|██        | 4/20 [00:00<00:00, 25.86it/s]"
     ]
    },
    {
     "name": "stdout",
     "output_type": "stream",
     "text": [
      "Self-play player wins: 24, Training player wins: 11, Draws: 5\n",
      "Win + draw rate for training player: 0.4\n"
     ]
    },
    {
     "name": "stderr",
     "output_type": "stream",
     "text": [
      "Win1/Win2/Draw: 15/4/1: 100%|██████████| 20/20 [00:01<00:00, 16.66it/s]\n",
      "Win1/Win2/Draw: 8/10/2: 100%|██████████| 20/20 [00:01<00:00, 18.04it/s]\n",
      "  0%|          | 0/10 [00:00<?, ?it/s]"
     ]
    },
    {
     "name": "stdout",
     "output_type": "stream",
     "text": [
      "Training player vs random. Wins: 25, Losses: 12, Draws: 3\n"
     ]
    },
    {
     "name": "stderr",
     "output_type": "stream",
     "text": [
      "100%|██████████| 10/10 [00:00<00:00, 16.05it/s]\n",
      "100%|██████████| 1000/1000 [00:03<00:00, 301.29it/s]\n",
      "100%|██████████| 10/10 [00:00<00:00, 18.06it/s]\n",
      "100%|██████████| 1000/1000 [00:03<00:00, 260.91it/s]\n",
      "Win1/Win2/Draw: 1/2/0:  15%|█▌        | 3/20 [00:00<00:01, 16.64it/s]"
     ]
    },
    {
     "name": "stdout",
     "output_type": "stream",
     "text": [
      "Evaluating. Self-player vs training, then training vs self-player\n"
     ]
    },
    {
     "name": "stderr",
     "output_type": "stream",
     "text": [
      "Win1/Win2/Draw: 9/11/0: 100%|██████████| 20/20 [00:01<00:00, 15.71it/s]\n",
      "Win1/Win2/Draw: 11/3/6: 100%|██████████| 20/20 [00:01<00:00, 10.39it/s]\n",
      "Win1/Win2/Draw: 4/1/1:  30%|███       | 6/20 [00:00<00:00, 32.35it/s]"
     ]
    },
    {
     "name": "stdout",
     "output_type": "stream",
     "text": [
      "Self-play player wins: 12, Training player wins: 22, Draws: 6\n",
      "Win + draw rate for training player: 0.7\n"
     ]
    },
    {
     "name": "stderr",
     "output_type": "stream",
     "text": [
      "Win1/Win2/Draw: 18/1/1: 100%|██████████| 20/20 [00:00<00:00, 23.50it/s]\n",
      "Win1/Win2/Draw: 7/10/3: 100%|██████████| 20/20 [00:00<00:00, 24.20it/s]\n"
     ]
    },
    {
     "name": "stdout",
     "output_type": "stream",
     "text": [
      "Training player vs random. Wins: 28, Losses: 8, Draws: 4\n",
      "Updating self-play player.\n",
      "Restoring from step: 26\n",
      "INFO:tensorflow:Restoring parameters from experiments/experiment-2018-05-16_22:17:36/checkpoints/26.checkpoint\n"
     ]
    },
    {
     "name": "stderr",
     "output_type": "stream",
     "text": [
      "100%|██████████| 10/10 [00:00<00:00, 13.56it/s]\n",
      "100%|██████████| 1000/1000 [00:03<00:00, 285.60it/s]\n",
      "100%|██████████| 10/10 [00:00<00:00, 14.63it/s]\n",
      "100%|██████████| 1000/1000 [00:03<00:00, 269.71it/s]\n",
      "Win1/Win2/Draw: 2/1/0:  15%|█▌        | 3/20 [00:00<00:00, 17.81it/s]"
     ]
    },
    {
     "name": "stdout",
     "output_type": "stream",
     "text": [
      "Evaluating. Self-player vs training, then training vs self-player\n"
     ]
    },
    {
     "name": "stderr",
     "output_type": "stream",
     "text": [
      "Win1/Win2/Draw: 12/7/1: 100%|██████████| 20/20 [00:01<00:00, 15.73it/s]\n",
      "Win1/Win2/Draw: 9/11/0: 100%|██████████| 20/20 [00:01<00:00, 12.97it/s]\n",
      "Win1/Win2/Draw: 3/0/0:  15%|█▌        | 3/20 [00:00<00:00, 20.65it/s]"
     ]
    },
    {
     "name": "stdout",
     "output_type": "stream",
     "text": [
      "Self-play player wins: 23, Training player wins: 16, Draws: 1\n",
      "Win + draw rate for training player: 0.425\n"
     ]
    },
    {
     "name": "stderr",
     "output_type": "stream",
     "text": [
      "Win1/Win2/Draw: 17/2/1: 100%|██████████| 20/20 [00:00<00:00, 24.82it/s]\n",
      "Win1/Win2/Draw: 5/11/4: 100%|██████████| 20/20 [00:00<00:00, 27.46it/s]\n",
      " 20%|██        | 2/10 [00:00<00:00, 14.91it/s]"
     ]
    },
    {
     "name": "stdout",
     "output_type": "stream",
     "text": [
      "Training player vs random. Wins: 28, Losses: 7, Draws: 5\n"
     ]
    },
    {
     "name": "stderr",
     "output_type": "stream",
     "text": [
      "100%|██████████| 10/10 [00:00<00:00, 15.13it/s]\n",
      "100%|██████████| 1000/1000 [00:03<00:00, 265.03it/s]\n",
      "100%|██████████| 10/10 [00:00<00:00, 14.54it/s]\n",
      "100%|██████████| 1000/1000 [00:03<00:00, 292.75it/s]\n",
      "Win1/Win2/Draw: 3/0/0:  15%|█▌        | 3/20 [00:00<00:00, 21.28it/s]"
     ]
    },
    {
     "name": "stdout",
     "output_type": "stream",
     "text": [
      "Evaluating. Self-player vs training, then training vs self-player\n"
     ]
    },
    {
     "name": "stderr",
     "output_type": "stream",
     "text": [
      "Win1/Win2/Draw: 17/3/0: 100%|██████████| 20/20 [00:00<00:00, 20.32it/s]\n",
      "Win1/Win2/Draw: 9/9/2: 100%|██████████| 20/20 [00:01<00:00, 19.20it/s]\n",
      "Win1/Win2/Draw: 3/0/1:  20%|██        | 4/20 [00:00<00:00, 35.74it/s]"
     ]
    },
    {
     "name": "stdout",
     "output_type": "stream",
     "text": [
      "Self-play player wins: 26, Training player wins: 12, Draws: 2\n",
      "Win + draw rate for training player: 0.35\n"
     ]
    },
    {
     "name": "stderr",
     "output_type": "stream",
     "text": [
      "Win1/Win2/Draw: 16/3/1: 100%|██████████| 20/20 [00:01<00:00, 15.34it/s]\n",
      "Win1/Win2/Draw: 2/14/4: 100%|██████████| 20/20 [00:01<00:00, 13.45it/s]\n",
      "  0%|          | 0/10 [00:00<?, ?it/s]"
     ]
    },
    {
     "name": "stdout",
     "output_type": "stream",
     "text": [
      "Training player vs random. Wins: 30, Losses: 5, Draws: 5\n"
     ]
    },
    {
     "name": "stderr",
     "output_type": "stream",
     "text": [
      "100%|██████████| 10/10 [00:01<00:00,  8.37it/s]\n",
      "100%|██████████| 1000/1000 [00:03<00:00, 307.74it/s]\n",
      "100%|██████████| 10/10 [00:00<00:00, 20.90it/s]\n",
      "100%|██████████| 1000/1000 [00:03<00:00, 328.77it/s]\n",
      "Win1/Win2/Draw: 3/0/0:  15%|█▌        | 3/20 [00:00<00:00, 18.86it/s]"
     ]
    },
    {
     "name": "stdout",
     "output_type": "stream",
     "text": [
      "Evaluating. Self-player vs training, then training vs self-player\n"
     ]
    },
    {
     "name": "stderr",
     "output_type": "stream",
     "text": [
      "Win1/Win2/Draw: 15/4/1: 100%|██████████| 20/20 [00:01<00:00, 17.77it/s]\n",
      "Win1/Win2/Draw: 9/8/3: 100%|██████████| 20/20 [00:01<00:00, 17.28it/s]\n",
      "Win1/Win2/Draw: 3/0/1:  20%|██        | 4/20 [00:00<00:00, 22.16it/s]"
     ]
    },
    {
     "name": "stdout",
     "output_type": "stream",
     "text": [
      "Self-play player wins: 23, Training player wins: 13, Draws: 4\n",
      "Win + draw rate for training player: 0.425\n"
     ]
    },
    {
     "name": "stderr",
     "output_type": "stream",
     "text": [
      "Win1/Win2/Draw: 18/1/1: 100%|██████████| 20/20 [00:00<00:00, 22.64it/s]\n",
      "Win1/Win2/Draw: 8/7/5: 100%|██████████| 20/20 [00:00<00:00, 27.89it/s]\n",
      " 20%|██        | 2/10 [00:00<00:00, 18.98it/s]"
     ]
    },
    {
     "name": "stdout",
     "output_type": "stream",
     "text": [
      "Training player vs random. Wins: 25, Losses: 9, Draws: 6\n"
     ]
    },
    {
     "name": "stderr",
     "output_type": "stream",
     "text": [
      "100%|██████████| 10/10 [00:00<00:00, 18.55it/s]\n",
      "100%|██████████| 1000/1000 [00:03<00:00, 287.47it/s]\n",
      "100%|██████████| 10/10 [00:00<00:00, 16.98it/s]\n",
      "100%|██████████| 1000/1000 [00:03<00:00, 317.43it/s]\n",
      "Win1/Win2/Draw: 1/0/1:  10%|█         | 2/20 [00:00<00:01, 12.86it/s]"
     ]
    },
    {
     "name": "stdout",
     "output_type": "stream",
     "text": [
      "Evaluating. Self-player vs training, then training vs self-player\n"
     ]
    },
    {
     "name": "stderr",
     "output_type": "stream",
     "text": [
      "Win1/Win2/Draw: 16/1/3: 100%|██████████| 20/20 [00:01<00:00, 13.84it/s]\n",
      "Win1/Win2/Draw: 6/12/2: 100%|██████████| 20/20 [00:01<00:00, 15.84it/s]\n",
      "Win1/Win2/Draw: 4/0/0:  20%|██        | 4/20 [00:00<00:00, 22.08it/s]"
     ]
    },
    {
     "name": "stdout",
     "output_type": "stream",
     "text": [
      "Self-play player wins: 28, Training player wins: 7, Draws: 5\n",
      "Win + draw rate for training player: 0.3\n"
     ]
    },
    {
     "name": "stderr",
     "output_type": "stream",
     "text": [
      "Win1/Win2/Draw: 17/3/0: 100%|██████████| 20/20 [00:00<00:00, 22.56it/s]\n",
      "Win1/Win2/Draw: 3/13/4: 100%|██████████| 20/20 [00:00<00:00, 27.58it/s]\n",
      " 30%|███       | 3/10 [00:00<00:00, 24.82it/s]"
     ]
    },
    {
     "name": "stdout",
     "output_type": "stream",
     "text": [
      "Training player vs random. Wins: 30, Losses: 6, Draws: 4\n"
     ]
    },
    {
     "name": "stderr",
     "output_type": "stream",
     "text": [
      "100%|██████████| 10/10 [00:00<00:00, 13.90it/s]\n",
      "100%|██████████| 1000/1000 [00:03<00:00, 272.05it/s]\n",
      "100%|██████████| 10/10 [00:00<00:00, 16.79it/s]\n",
      "100%|██████████| 1000/1000 [00:03<00:00, 277.17it/s]\n",
      "Win1/Win2/Draw: 3/0/0:  15%|█▌        | 3/20 [00:00<00:00, 17.70it/s]"
     ]
    },
    {
     "name": "stdout",
     "output_type": "stream",
     "text": [
      "Evaluating. Self-player vs training, then training vs self-player\n"
     ]
    },
    {
     "name": "stderr",
     "output_type": "stream",
     "text": [
      "Win1/Win2/Draw: 13/5/2: 100%|██████████| 20/20 [00:01<00:00, 18.90it/s]\n",
      "Win1/Win2/Draw: 10/9/1: 100%|██████████| 20/20 [00:00<00:00, 20.66it/s]\n",
      "Win1/Win2/Draw: 7/0/0:  35%|███▌      | 7/20 [00:00<00:00, 38.15it/s]"
     ]
    },
    {
     "name": "stdout",
     "output_type": "stream",
     "text": [
      "Self-play player wins: 22, Training player wins: 15, Draws: 3\n",
      "Win + draw rate for training player: 0.45\n"
     ]
    },
    {
     "name": "stderr",
     "output_type": "stream",
     "text": [
      "Win1/Win2/Draw: 19/0/1: 100%|██████████| 20/20 [00:00<00:00, 38.11it/s]\n",
      "Win1/Win2/Draw: 6/5/9: 100%|██████████| 20/20 [00:00<00:00, 34.74it/s]\n",
      " 30%|███       | 3/10 [00:00<00:00, 19.67it/s]"
     ]
    },
    {
     "name": "stdout",
     "output_type": "stream",
     "text": [
      "Training player vs random. Wins: 24, Losses: 6, Draws: 10\n"
     ]
    },
    {
     "name": "stderr",
     "output_type": "stream",
     "text": [
      "100%|██████████| 10/10 [00:00<00:00, 20.86it/s]\n",
      "100%|██████████| 1000/1000 [00:02<00:00, 347.74it/s]\n",
      "100%|██████████| 10/10 [00:00<00:00, 22.04it/s]\n",
      "100%|██████████| 1000/1000 [00:02<00:00, 347.81it/s]\n",
      "Win1/Win2/Draw: 1/1/1:  15%|█▌        | 3/20 [00:00<00:00, 18.16it/s]"
     ]
    },
    {
     "name": "stdout",
     "output_type": "stream",
     "text": [
      "Evaluating. Self-player vs training, then training vs self-player\n"
     ]
    },
    {
     "name": "stderr",
     "output_type": "stream",
     "text": [
      "Win1/Win2/Draw: 15/3/2: 100%|██████████| 20/20 [00:01<00:00, 19.90it/s]\n",
      "Win1/Win2/Draw: 10/9/1: 100%|██████████| 20/20 [00:01<00:00, 19.99it/s]\n",
      "Win1/Win2/Draw: 5/1/0:  30%|███       | 6/20 [00:00<00:00, 32.18it/s]"
     ]
    },
    {
     "name": "stdout",
     "output_type": "stream",
     "text": [
      "Self-play player wins: 24, Training player wins: 13, Draws: 3\n",
      "Win + draw rate for training player: 0.4\n"
     ]
    },
    {
     "name": "stderr",
     "output_type": "stream",
     "text": [
      "Win1/Win2/Draw: 15/3/2: 100%|██████████| 20/20 [00:00<00:00, 34.64it/s]\n",
      "Win1/Win2/Draw: 8/9/3: 100%|██████████| 20/20 [00:00<00:00, 37.38it/s]\n",
      " 30%|███       | 3/10 [00:00<00:00, 21.21it/s]"
     ]
    },
    {
     "name": "stdout",
     "output_type": "stream",
     "text": [
      "Training player vs random. Wins: 24, Losses: 11, Draws: 5\n"
     ]
    },
    {
     "name": "stderr",
     "output_type": "stream",
     "text": [
      "100%|██████████| 10/10 [00:00<00:00, 21.14it/s]\n",
      "100%|██████████| 1000/1000 [00:02<00:00, 371.62it/s]\n",
      "100%|██████████| 10/10 [00:00<00:00, 23.50it/s]\n",
      "100%|██████████| 1000/1000 [00:02<00:00, 349.73it/s]\n",
      "Win1/Win2/Draw: 4/0/0:  20%|██        | 4/20 [00:00<00:00, 21.70it/s]"
     ]
    },
    {
     "name": "stdout",
     "output_type": "stream",
     "text": [
      "Evaluating. Self-player vs training, then training vs self-player\n"
     ]
    },
    {
     "name": "stderr",
     "output_type": "stream",
     "text": [
      "Win1/Win2/Draw: 15/3/2: 100%|██████████| 20/20 [00:01<00:00, 19.41it/s]\n",
      "Win1/Win2/Draw: 7/10/3: 100%|██████████| 20/20 [00:01<00:00, 17.89it/s]\n",
      "Win1/Win2/Draw: 5/0/1:  30%|███       | 6/20 [00:00<00:00, 29.19it/s]"
     ]
    },
    {
     "name": "stdout",
     "output_type": "stream",
     "text": [
      "Self-play player wins: 25, Training player wins: 10, Draws: 5\n",
      "Win + draw rate for training player: 0.375\n"
     ]
    },
    {
     "name": "stderr",
     "output_type": "stream",
     "text": [
      "Win1/Win2/Draw: 15/2/3: 100%|██████████| 20/20 [00:00<00:00, 29.99it/s]\n",
      "Win1/Win2/Draw: 5/10/5: 100%|██████████| 20/20 [00:00<00:00, 32.36it/s]\n",
      " 20%|██        | 2/10 [00:00<00:00, 19.51it/s]"
     ]
    },
    {
     "name": "stdout",
     "output_type": "stream",
     "text": [
      "Training player vs random. Wins: 25, Losses: 7, Draws: 8\n"
     ]
    },
    {
     "name": "stderr",
     "output_type": "stream",
     "text": [
      "100%|██████████| 10/10 [00:00<00:00, 20.35it/s]\n",
      "100%|██████████| 1000/1000 [00:03<00:00, 323.13it/s]\n",
      "100%|██████████| 10/10 [00:00<00:00, 21.49it/s]\n",
      "100%|██████████| 1000/1000 [00:02<00:00, 348.43it/s]\n",
      "Win1/Win2/Draw: 2/0/1:  15%|█▌        | 3/20 [00:00<00:01, 16.58it/s]"
     ]
    },
    {
     "name": "stdout",
     "output_type": "stream",
     "text": [
      "Evaluating. Self-player vs training, then training vs self-player\n"
     ]
    },
    {
     "name": "stderr",
     "output_type": "stream",
     "text": [
      "Win1/Win2/Draw: 11/6/3: 100%|██████████| 20/20 [00:01<00:00, 15.46it/s]\n",
      "Win1/Win2/Draw: 8/8/4: 100%|██████████| 20/20 [00:01<00:00, 15.92it/s]\n",
      "Win1/Win2/Draw: 4/0/0:  20%|██        | 4/20 [00:00<00:00, 24.87it/s]"
     ]
    },
    {
     "name": "stdout",
     "output_type": "stream",
     "text": [
      "Self-play player wins: 19, Training player wins: 14, Draws: 7\n",
      "Win + draw rate for training player: 0.525\n"
     ]
    },
    {
     "name": "stderr",
     "output_type": "stream",
     "text": [
      "Win1/Win2/Draw: 19/0/1: 100%|██████████| 20/20 [00:00<00:00, 25.60it/s]\n",
      "Win1/Win2/Draw: 4/12/4: 100%|██████████| 20/20 [00:00<00:00, 22.89it/s]\n",
      "  0%|          | 0/10 [00:00<?, ?it/s]"
     ]
    },
    {
     "name": "stdout",
     "output_type": "stream",
     "text": [
      "Training player vs random. Wins: 31, Losses: 4, Draws: 5\n"
     ]
    },
    {
     "name": "stderr",
     "output_type": "stream",
     "text": [
      "100%|██████████| 10/10 [00:00<00:00, 17.96it/s]\n",
      "100%|██████████| 1000/1000 [00:03<00:00, 297.47it/s]\n",
      "100%|██████████| 10/10 [00:00<00:00, 20.18it/s]\n",
      "100%|██████████| 1000/1000 [00:02<00:00, 338.98it/s]\n",
      "Win1/Win2/Draw: 3/0/0:  15%|█▌        | 3/20 [00:00<00:01, 16.61it/s]"
     ]
    },
    {
     "name": "stdout",
     "output_type": "stream",
     "text": [
      "Evaluating. Self-player vs training, then training vs self-player\n"
     ]
    },
    {
     "name": "stderr",
     "output_type": "stream",
     "text": [
      "Win1/Win2/Draw: 14/3/3: 100%|██████████| 20/20 [00:01<00:00, 16.36it/s]\n",
      "Win1/Win2/Draw: 10/10/0: 100%|██████████| 20/20 [00:01<00:00, 16.59it/s]\n",
      "Win1/Win2/Draw: 4/0/1:  25%|██▌       | 5/20 [00:00<00:00, 24.33it/s]"
     ]
    },
    {
     "name": "stdout",
     "output_type": "stream",
     "text": [
      "Self-play player wins: 24, Training player wins: 13, Draws: 3\n",
      "Win + draw rate for training player: 0.4\n"
     ]
    },
    {
     "name": "stderr",
     "output_type": "stream",
     "text": [
      "Win1/Win2/Draw: 18/1/1: 100%|██████████| 20/20 [00:00<00:00, 25.56it/s]\n",
      "Win1/Win2/Draw: 7/9/4: 100%|██████████| 20/20 [00:00<00:00, 26.43it/s]\n",
      " 20%|██        | 2/10 [00:00<00:00, 16.41it/s]"
     ]
    },
    {
     "name": "stdout",
     "output_type": "stream",
     "text": [
      "Training player vs random. Wins: 27, Losses: 8, Draws: 5\n"
     ]
    },
    {
     "name": "stderr",
     "output_type": "stream",
     "text": [
      "100%|██████████| 10/10 [00:00<00:00, 19.24it/s]\n",
      "100%|██████████| 1000/1000 [00:03<00:00, 318.77it/s]\n",
      "100%|██████████| 10/10 [00:00<00:00, 21.20it/s]\n",
      "100%|██████████| 1000/1000 [00:03<00:00, 319.56it/s]\n",
      "Win1/Win2/Draw: 1/2/0:  15%|█▌        | 3/20 [00:00<00:01, 16.15it/s]"
     ]
    },
    {
     "name": "stdout",
     "output_type": "stream",
     "text": [
      "Evaluating. Self-player vs training, then training vs self-player\n"
     ]
    },
    {
     "name": "stderr",
     "output_type": "stream",
     "text": [
      "Win1/Win2/Draw: 14/4/2: 100%|██████████| 20/20 [00:01<00:00, 12.64it/s]\n",
      "Win1/Win2/Draw: 10/8/2: 100%|██████████| 20/20 [00:01<00:00, 18.33it/s]\n",
      "Win1/Win2/Draw: 5/0/0:  25%|██▌       | 5/20 [00:00<00:00, 27.74it/s]"
     ]
    },
    {
     "name": "stdout",
     "output_type": "stream",
     "text": [
      "Self-play player wins: 22, Training player wins: 14, Draws: 4\n",
      "Win + draw rate for training player: 0.45\n"
     ]
    },
    {
     "name": "stderr",
     "output_type": "stream",
     "text": [
      "Win1/Win2/Draw: 18/2/0: 100%|██████████| 20/20 [00:00<00:00, 27.68it/s]\n",
      "Win1/Win2/Draw: 4/11/5: 100%|██████████| 20/20 [00:00<00:00, 28.56it/s]\n",
      " 20%|██        | 2/10 [00:00<00:00, 19.97it/s]"
     ]
    },
    {
     "name": "stdout",
     "output_type": "stream",
     "text": [
      "Training player vs random. Wins: 29, Losses: 6, Draws: 5\n"
     ]
    },
    {
     "name": "stderr",
     "output_type": "stream",
     "text": [
      "100%|██████████| 10/10 [00:00<00:00, 19.99it/s]\n",
      "100%|██████████| 1000/1000 [00:03<00:00, 314.77it/s]\n",
      "100%|██████████| 10/10 [00:00<00:00, 19.64it/s]\n",
      "100%|██████████| 1000/1000 [00:03<00:00, 309.28it/s]\n",
      "Win1/Win2/Draw: 0/1/1:  10%|█         | 2/20 [00:00<00:01, 14.65it/s]"
     ]
    },
    {
     "name": "stdout",
     "output_type": "stream",
     "text": [
      "Evaluating. Self-player vs training, then training vs self-player\n"
     ]
    },
    {
     "name": "stderr",
     "output_type": "stream",
     "text": [
      "Win1/Win2/Draw: 12/4/4: 100%|██████████| 20/20 [00:01<00:00, 14.71it/s]\n",
      "Win1/Win2/Draw: 4/9/7: 100%|██████████| 20/20 [00:01<00:00, 13.83it/s]\n",
      "Win1/Win2/Draw: 4/0/0:  20%|██        | 4/20 [00:00<00:00, 17.27it/s]"
     ]
    },
    {
     "name": "stdout",
     "output_type": "stream",
     "text": [
      "Self-play player wins: 21, Training player wins: 8, Draws: 11\n",
      "Win + draw rate for training player: 0.475\n"
     ]
    },
    {
     "name": "stderr",
     "output_type": "stream",
     "text": [
      "Win1/Win2/Draw: 16/1/3: 100%|██████████| 20/20 [00:00<00:00, 20.66it/s]\n",
      "Win1/Win2/Draw: 7/10/3: 100%|██████████| 20/20 [00:00<00:00, 20.30it/s]\n",
      " 30%|███       | 3/10 [00:00<00:00, 23.23it/s]"
     ]
    },
    {
     "name": "stdout",
     "output_type": "stream",
     "text": [
      "Training player vs random. Wins: 26, Losses: 8, Draws: 6\n"
     ]
    },
    {
     "name": "stderr",
     "output_type": "stream",
     "text": [
      "100%|██████████| 10/10 [00:00<00:00, 18.64it/s]\n",
      "100%|██████████| 1000/1000 [00:02<00:00, 338.54it/s]\n",
      "100%|██████████| 10/10 [00:00<00:00, 17.08it/s]\n",
      "100%|██████████| 1000/1000 [00:04<00:00, 247.40it/s]\n",
      "Win1/Win2/Draw: 2/1/0:  15%|█▌        | 3/20 [00:00<00:00, 19.53it/s]"
     ]
    },
    {
     "name": "stdout",
     "output_type": "stream",
     "text": [
      "Evaluating. Self-player vs training, then training vs self-player\n"
     ]
    },
    {
     "name": "stderr",
     "output_type": "stream",
     "text": [
      "Win1/Win2/Draw: 12/7/1: 100%|██████████| 20/20 [00:01<00:00, 13.93it/s]\n",
      "Win1/Win2/Draw: 9/7/4: 100%|██████████| 20/20 [00:01<00:00, 14.49it/s]\n",
      "Win1/Win2/Draw: 6/0/0:  30%|███       | 6/20 [00:00<00:00, 34.06it/s]"
     ]
    },
    {
     "name": "stdout",
     "output_type": "stream",
     "text": [
      "Self-play player wins: 19, Training player wins: 16, Draws: 5\n",
      "Win + draw rate for training player: 0.525\n"
     ]
    },
    {
     "name": "stderr",
     "output_type": "stream",
     "text": [
      "Win1/Win2/Draw: 18/1/1: 100%|██████████| 20/20 [00:00<00:00, 27.97it/s]\n",
      "Win1/Win2/Draw: 5/9/6: 100%|██████████| 20/20 [00:00<00:00, 34.02it/s]\n",
      " 30%|███       | 3/10 [00:00<00:00, 20.58it/s]"
     ]
    },
    {
     "name": "stdout",
     "output_type": "stream",
     "text": [
      "Training player vs random. Wins: 27, Losses: 6, Draws: 7\n"
     ]
    },
    {
     "name": "stderr",
     "output_type": "stream",
     "text": [
      "100%|██████████| 10/10 [00:00<00:00, 20.62it/s]\n",
      "100%|██████████| 1000/1000 [00:03<00:00, 320.88it/s]\n",
      "100%|██████████| 10/10 [00:00<00:00, 14.47it/s]\n",
      "100%|██████████| 1000/1000 [00:03<00:00, 270.68it/s]\n",
      "Win1/Win2/Draw: 1/2/0:  15%|█▌        | 3/20 [00:00<00:01, 15.32it/s]"
     ]
    },
    {
     "name": "stdout",
     "output_type": "stream",
     "text": [
      "Evaluating. Self-player vs training, then training vs self-player\n"
     ]
    },
    {
     "name": "stderr",
     "output_type": "stream",
     "text": [
      "Win1/Win2/Draw: 9/9/2: 100%|██████████| 20/20 [00:01<00:00, 14.38it/s]\n",
      "Win1/Win2/Draw: 8/8/4: 100%|██████████| 20/20 [00:01<00:00, 17.53it/s]\n",
      "Win1/Win2/Draw: 8/0/0:  40%|████      | 8/20 [00:00<00:00, 41.42it/s]"
     ]
    },
    {
     "name": "stdout",
     "output_type": "stream",
     "text": [
      "Self-play player wins: 17, Training player wins: 17, Draws: 6\n",
      "Win + draw rate for training player: 0.575\n"
     ]
    },
    {
     "name": "stderr",
     "output_type": "stream",
     "text": [
      "Win1/Win2/Draw: 18/1/1: 100%|██████████| 20/20 [00:00<00:00, 38.08it/s]\n",
      "Win1/Win2/Draw: 11/6/3: 100%|██████████| 20/20 [00:00<00:00, 38.32it/s]\n"
     ]
    },
    {
     "name": "stdout",
     "output_type": "stream",
     "text": [
      "Training player vs random. Wins: 24, Losses: 12, Draws: 4\n",
      "Updating self-play player.\n",
      "Restoring from step: 52\n",
      "INFO:tensorflow:Restoring parameters from experiments/experiment-2018-05-16_22:17:36/checkpoints/52.checkpoint\n"
     ]
    },
    {
     "name": "stderr",
     "output_type": "stream",
     "text": [
      "100%|██████████| 10/10 [00:00<00:00, 20.48it/s]\n",
      "100%|██████████| 1000/1000 [00:02<00:00, 345.19it/s]\n",
      "100%|██████████| 10/10 [00:00<00:00, 15.76it/s]\n",
      "100%|██████████| 1000/1000 [00:02<00:00, 335.45it/s]\n",
      "Win1/Win2/Draw: 3/0/0:  15%|█▌        | 3/20 [00:00<00:01, 14.30it/s]"
     ]
    },
    {
     "name": "stdout",
     "output_type": "stream",
     "text": [
      "Evaluating. Self-player vs training, then training vs self-player\n"
     ]
    },
    {
     "name": "stderr",
     "output_type": "stream",
     "text": [
      "Win1/Win2/Draw: 13/5/2: 100%|██████████| 20/20 [00:01<00:00, 19.67it/s]\n",
      "Win1/Win2/Draw: 10/8/2: 100%|██████████| 20/20 [00:01<00:00, 19.98it/s]\n",
      "Win1/Win2/Draw: 4/0/2:  30%|███       | 6/20 [00:00<00:00, 29.72it/s]"
     ]
    },
    {
     "name": "stdout",
     "output_type": "stream",
     "text": [
      "Self-play player wins: 21, Training player wins: 15, Draws: 4\n",
      "Win + draw rate for training player: 0.475\n"
     ]
    },
    {
     "name": "stderr",
     "output_type": "stream",
     "text": [
      "Win1/Win2/Draw: 16/1/3: 100%|██████████| 20/20 [00:00<00:00, 35.66it/s]\n",
      "Win1/Win2/Draw: 7/9/4: 100%|██████████| 20/20 [00:00<00:00, 37.37it/s]\n",
      " 20%|██        | 2/10 [00:00<00:00, 18.89it/s]"
     ]
    },
    {
     "name": "stdout",
     "output_type": "stream",
     "text": [
      "Training player vs random. Wins: 25, Losses: 8, Draws: 7\n"
     ]
    },
    {
     "name": "stderr",
     "output_type": "stream",
     "text": [
      "100%|██████████| 10/10 [00:00<00:00, 18.25it/s]\n",
      "100%|██████████| 1000/1000 [00:03<00:00, 319.54it/s]\n",
      "100%|██████████| 10/10 [00:00<00:00, 19.83it/s]\n",
      "100%|██████████| 1000/1000 [00:02<00:00, 351.49it/s]\n",
      "Win1/Win2/Draw: 5/0/0:  25%|██▌       | 5/20 [00:00<00:00, 26.05it/s]"
     ]
    },
    {
     "name": "stdout",
     "output_type": "stream",
     "text": [
      "Evaluating. Self-player vs training, then training vs self-player\n"
     ]
    },
    {
     "name": "stderr",
     "output_type": "stream",
     "text": [
      "Win1/Win2/Draw: 19/1/0: 100%|██████████| 20/20 [00:00<00:00, 24.72it/s]\n",
      "Win1/Win2/Draw: 10/9/1: 100%|██████████| 20/20 [00:00<00:00, 20.49it/s]\n",
      "Win1/Win2/Draw: 6/0/1:  35%|███▌      | 7/20 [00:00<00:00, 39.41it/s]"
     ]
    },
    {
     "name": "stdout",
     "output_type": "stream",
     "text": [
      "Self-play player wins: 28, Training player wins: 11, Draws: 1\n",
      "Win + draw rate for training player: 0.3\n"
     ]
    },
    {
     "name": "stderr",
     "output_type": "stream",
     "text": [
      "Win1/Win2/Draw: 16/1/3: 100%|██████████| 20/20 [00:00<00:00, 36.04it/s]\n",
      "Win1/Win2/Draw: 5/14/1: 100%|██████████| 20/20 [00:00<00:00, 40.46it/s]\n",
      " 30%|███       | 3/10 [00:00<00:00, 24.74it/s]"
     ]
    },
    {
     "name": "stdout",
     "output_type": "stream",
     "text": [
      "Training player vs random. Wins: 30, Losses: 6, Draws: 4\n"
     ]
    },
    {
     "name": "stderr",
     "output_type": "stream",
     "text": [
      "100%|██████████| 10/10 [00:00<00:00, 21.10it/s]\n",
      "100%|██████████| 1000/1000 [00:03<00:00, 331.69it/s]\n",
      "100%|██████████| 10/10 [00:00<00:00, 20.31it/s]\n",
      "100%|██████████| 1000/1000 [00:03<00:00, 302.42it/s]\n",
      "Win1/Win2/Draw: 3/0/0:  15%|█▌        | 3/20 [00:00<00:01, 16.99it/s]"
     ]
    },
    {
     "name": "stdout",
     "output_type": "stream",
     "text": [
      "Evaluating. Self-player vs training, then training vs self-player\n"
     ]
    },
    {
     "name": "stderr",
     "output_type": "stream",
     "text": [
      "Win1/Win2/Draw: 9/5/6: 100%|██████████| 20/20 [00:01<00:00, 13.58it/s]\n",
      "Win1/Win2/Draw: 13/4/3: 100%|██████████| 20/20 [00:01<00:00, 15.98it/s]\n",
      "Win1/Win2/Draw: 6/0/0:  30%|███       | 6/20 [00:00<00:00, 30.58it/s]"
     ]
    },
    {
     "name": "stdout",
     "output_type": "stream",
     "text": [
      "Self-play player wins: 13, Training player wins: 18, Draws: 9\n",
      "Win + draw rate for training player: 0.675\n"
     ]
    },
    {
     "name": "stderr",
     "output_type": "stream",
     "text": [
      "Win1/Win2/Draw: 17/1/2: 100%|██████████| 20/20 [00:00<00:00, 31.53it/s]\n",
      "Win1/Win2/Draw: 6/12/2: 100%|██████████| 20/20 [00:00<00:00, 20.20it/s]\n"
     ]
    },
    {
     "name": "stdout",
     "output_type": "stream",
     "text": [
      "Training player vs random. Wins: 29, Losses: 7, Draws: 4\n",
      "Updating self-play player.\n",
      "Restoring from step: 58\n",
      "INFO:tensorflow:Restoring parameters from experiments/experiment-2018-05-16_22:17:36/checkpoints/58.checkpoint\n"
     ]
    },
    {
     "name": "stderr",
     "output_type": "stream",
     "text": [
      "100%|██████████| 10/10 [00:00<00:00, 12.04it/s]\n",
      "100%|██████████| 1000/1000 [00:05<00:00, 198.83it/s]\n",
      "100%|██████████| 10/10 [00:00<00:00, 11.74it/s]\n",
      "100%|██████████| 1000/1000 [00:02<00:00, 336.91it/s]\n",
      "Win1/Win2/Draw: 1/1/1:  15%|█▌        | 3/20 [00:00<00:00, 18.82it/s]"
     ]
    },
    {
     "name": "stdout",
     "output_type": "stream",
     "text": [
      "Evaluating. Self-player vs training, then training vs self-player\n"
     ]
    },
    {
     "name": "stderr",
     "output_type": "stream",
     "text": [
      "Win1/Win2/Draw: 9/3/8: 100%|██████████| 20/20 [00:01<00:00, 17.49it/s]\n",
      "Win1/Win2/Draw: 12/4/4: 100%|██████████| 20/20 [00:01<00:00, 19.62it/s]\n",
      "Win1/Win2/Draw: 4/1/1:  30%|███       | 6/20 [00:00<00:00, 33.09it/s]"
     ]
    },
    {
     "name": "stdout",
     "output_type": "stream",
     "text": [
      "Self-play player wins: 13, Training player wins: 15, Draws: 12\n",
      "Win + draw rate for training player: 0.675\n"
     ]
    },
    {
     "name": "stderr",
     "output_type": "stream",
     "text": [
      "Win1/Win2/Draw: 17/2/1: 100%|██████████| 20/20 [00:00<00:00, 35.70it/s]\n",
      "Win1/Win2/Draw: 5/9/6: 100%|██████████| 20/20 [00:00<00:00, 33.91it/s]\n"
     ]
    },
    {
     "name": "stdout",
     "output_type": "stream",
     "text": [
      "Training player vs random. Wins: 26, Losses: 7, Draws: 7\n",
      "Updating self-play player.\n",
      "Restoring from step: 60\n",
      "INFO:tensorflow:Restoring parameters from experiments/experiment-2018-05-16_22:17:36/checkpoints/60.checkpoint\n"
     ]
    },
    {
     "name": "stderr",
     "output_type": "stream",
     "text": [
      "100%|██████████| 10/10 [00:01<00:00,  9.00it/s]\n",
      "100%|██████████| 1000/1000 [00:04<00:00, 229.76it/s]\n",
      "100%|██████████| 10/10 [00:00<00:00, 17.65it/s]\n",
      "100%|██████████| 1000/1000 [00:03<00:00, 290.52it/s]\n",
      "Win1/Win2/Draw: 2/0/0:  10%|█         | 2/20 [00:00<00:02,  7.32it/s]"
     ]
    },
    {
     "name": "stdout",
     "output_type": "stream",
     "text": [
      "Evaluating. Self-player vs training, then training vs self-player\n"
     ]
    },
    {
     "name": "stderr",
     "output_type": "stream",
     "text": [
      "Win1/Win2/Draw: 17/2/1: 100%|██████████| 20/20 [00:01<00:00, 14.36it/s]\n",
      "Win1/Win2/Draw: 11/6/3: 100%|██████████| 20/20 [00:01<00:00, 15.40it/s]\n",
      "Win1/Win2/Draw: 3/1/0:  20%|██        | 4/20 [00:00<00:00, 19.26it/s]"
     ]
    },
    {
     "name": "stdout",
     "output_type": "stream",
     "text": [
      "Self-play player wins: 23, Training player wins: 13, Draws: 4\n",
      "Win + draw rate for training player: 0.425\n"
     ]
    },
    {
     "name": "stderr",
     "output_type": "stream",
     "text": [
      "Win1/Win2/Draw: 15/5/0: 100%|██████████| 20/20 [00:00<00:00, 22.64it/s]\n",
      "Win1/Win2/Draw: 7/11/2: 100%|██████████| 20/20 [00:00<00:00, 20.68it/s]\n",
      "  0%|          | 0/10 [00:00<?, ?it/s]"
     ]
    },
    {
     "name": "stdout",
     "output_type": "stream",
     "text": [
      "Training player vs random. Wins: 26, Losses: 12, Draws: 2\n"
     ]
    },
    {
     "name": "stderr",
     "output_type": "stream",
     "text": [
      "100%|██████████| 10/10 [00:00<00:00, 16.40it/s]\n",
      "100%|██████████| 1000/1000 [00:03<00:00, 268.23it/s]\n",
      "100%|██████████| 10/10 [00:00<00:00, 15.11it/s]\n",
      "100%|██████████| 1000/1000 [00:03<00:00, 320.31it/s]\n",
      "Win1/Win2/Draw: 2/0/0:  10%|█         | 2/20 [00:00<00:01, 15.02it/s]"
     ]
    },
    {
     "name": "stdout",
     "output_type": "stream",
     "text": [
      "Evaluating. Self-player vs training, then training vs self-player\n"
     ]
    },
    {
     "name": "stderr",
     "output_type": "stream",
     "text": [
      "Win1/Win2/Draw: 12/7/1: 100%|██████████| 20/20 [00:01<00:00, 14.82it/s]\n",
      "Win1/Win2/Draw: 13/5/2: 100%|██████████| 20/20 [00:01<00:00, 15.28it/s]\n",
      "Win1/Win2/Draw: 4/0/0:  20%|██        | 4/20 [00:00<00:00, 24.09it/s]"
     ]
    },
    {
     "name": "stdout",
     "output_type": "stream",
     "text": [
      "Self-play player wins: 17, Training player wins: 20, Draws: 3\n",
      "Win + draw rate for training player: 0.575\n"
     ]
    },
    {
     "name": "stderr",
     "output_type": "stream",
     "text": [
      "Win1/Win2/Draw: 19/0/1: 100%|██████████| 20/20 [00:00<00:00, 23.47it/s]\n",
      "Win1/Win2/Draw: 6/10/4: 100%|██████████| 20/20 [00:00<00:00, 24.42it/s]\n"
     ]
    },
    {
     "name": "stdout",
     "output_type": "stream",
     "text": [
      "Training player vs random. Wins: 29, Losses: 6, Draws: 5\n",
      "Updating self-play player.\n",
      "Restoring from step: 64\n",
      "INFO:tensorflow:Restoring parameters from experiments/experiment-2018-05-16_22:17:36/checkpoints/64.checkpoint\n"
     ]
    },
    {
     "name": "stderr",
     "output_type": "stream",
     "text": [
      "100%|██████████| 10/10 [00:00<00:00, 17.22it/s]\n",
      "100%|██████████| 1000/1000 [00:03<00:00, 271.84it/s]\n",
      "100%|██████████| 10/10 [00:00<00:00, 16.94it/s]\n",
      "100%|██████████| 1000/1000 [00:03<00:00, 276.49it/s]\n",
      "Win1/Win2/Draw: 2/1/0:  15%|█▌        | 3/20 [00:00<00:00, 19.63it/s]"
     ]
    },
    {
     "name": "stdout",
     "output_type": "stream",
     "text": [
      "Evaluating. Self-player vs training, then training vs self-player\n"
     ]
    },
    {
     "name": "stderr",
     "output_type": "stream",
     "text": [
      "Win1/Win2/Draw: 12/7/1: 100%|██████████| 20/20 [00:01<00:00, 17.11it/s]\n",
      "Win1/Win2/Draw: 11/4/5: 100%|██████████| 20/20 [00:01<00:00, 16.36it/s]\n",
      "Win1/Win2/Draw: 4/1/0:  25%|██▌       | 5/20 [00:00<00:00, 28.85it/s]"
     ]
    },
    {
     "name": "stdout",
     "output_type": "stream",
     "text": [
      "Self-play player wins: 16, Training player wins: 18, Draws: 6\n",
      "Win + draw rate for training player: 0.6\n"
     ]
    },
    {
     "name": "stderr",
     "output_type": "stream",
     "text": [
      "Win1/Win2/Draw: 16/3/1: 100%|██████████| 20/20 [00:00<00:00, 27.16it/s]\n",
      "Win1/Win2/Draw: 7/13/0: 100%|██████████| 20/20 [00:00<00:00, 28.40it/s]\n"
     ]
    },
    {
     "name": "stdout",
     "output_type": "stream",
     "text": [
      "Training player vs random. Wins: 29, Losses: 10, Draws: 1\n",
      "Updating self-play player.\n",
      "Restoring from step: 66\n",
      "INFO:tensorflow:Restoring parameters from experiments/experiment-2018-05-16_22:17:36/checkpoints/66.checkpoint\n"
     ]
    },
    {
     "name": "stderr",
     "output_type": "stream",
     "text": [
      "100%|██████████| 10/10 [00:00<00:00, 21.69it/s]\n",
      "100%|██████████| 1000/1000 [00:03<00:00, 263.97it/s]\n",
      "100%|██████████| 10/10 [00:00<00:00, 16.40it/s]\n",
      "100%|██████████| 1000/1000 [00:03<00:00, 307.55it/s]\n",
      "Win1/Win2/Draw: 0/0/2:  10%|█         | 2/20 [00:00<00:01, 13.47it/s]"
     ]
    },
    {
     "name": "stdout",
     "output_type": "stream",
     "text": [
      "Evaluating. Self-player vs training, then training vs self-player\n"
     ]
    },
    {
     "name": "stderr",
     "output_type": "stream",
     "text": [
      "Win1/Win2/Draw: 6/6/8: 100%|██████████| 20/20 [00:01<00:00, 16.11it/s]\n",
      "Win1/Win2/Draw: 9/8/3: 100%|██████████| 20/20 [00:01<00:00, 16.36it/s]\n",
      "Win1/Win2/Draw: 5/0/0:  25%|██▌       | 5/20 [00:00<00:00, 28.84it/s]"
     ]
    },
    {
     "name": "stdout",
     "output_type": "stream",
     "text": [
      "Self-play player wins: 14, Training player wins: 15, Draws: 11\n",
      "Win + draw rate for training player: 0.65\n"
     ]
    },
    {
     "name": "stderr",
     "output_type": "stream",
     "text": [
      "Win1/Win2/Draw: 17/1/2: 100%|██████████| 20/20 [00:00<00:00, 29.29it/s]\n",
      "Win1/Win2/Draw: 6/13/1: 100%|██████████| 20/20 [00:00<00:00, 30.18it/s]\n"
     ]
    },
    {
     "name": "stdout",
     "output_type": "stream",
     "text": [
      "Training player vs random. Wins: 30, Losses: 7, Draws: 3\n",
      "Updating self-play player.\n",
      "Restoring from step: 68\n",
      "INFO:tensorflow:Restoring parameters from experiments/experiment-2018-05-16_22:17:36/checkpoints/68.checkpoint\n"
     ]
    },
    {
     "name": "stderr",
     "output_type": "stream",
     "text": [
      "100%|██████████| 10/10 [00:00<00:00, 20.14it/s]\n",
      "100%|██████████| 1000/1000 [00:02<00:00, 349.07it/s]\n",
      "100%|██████████| 10/10 [00:00<00:00, 21.52it/s]\n",
      "100%|██████████| 1000/1000 [00:02<00:00, 353.89it/s]\n",
      "Win1/Win2/Draw: 0/2/1:  15%|█▌        | 3/20 [00:00<00:00, 18.31it/s]"
     ]
    },
    {
     "name": "stdout",
     "output_type": "stream",
     "text": [
      "Evaluating. Self-player vs training, then training vs self-player\n"
     ]
    },
    {
     "name": "stderr",
     "output_type": "stream",
     "text": [
      "Win1/Win2/Draw: 11/6/3: 100%|██████████| 20/20 [00:01<00:00, 17.09it/s]\n",
      "Win1/Win2/Draw: 10/7/3: 100%|██████████| 20/20 [00:01<00:00, 18.07it/s]\n",
      "Win1/Win2/Draw: 5/0/0:  25%|██▌       | 5/20 [00:00<00:00, 29.09it/s]"
     ]
    },
    {
     "name": "stdout",
     "output_type": "stream",
     "text": [
      "Self-play player wins: 18, Training player wins: 16, Draws: 6\n",
      "Win + draw rate for training player: 0.55\n"
     ]
    },
    {
     "name": "stderr",
     "output_type": "stream",
     "text": [
      "Win1/Win2/Draw: 19/0/1: 100%|██████████| 20/20 [00:00<00:00, 28.40it/s]\n",
      "Win1/Win2/Draw: 6/14/0: 100%|██████████| 20/20 [00:00<00:00, 32.38it/s]\n",
      " 30%|███       | 3/10 [00:00<00:00, 24.29it/s]"
     ]
    },
    {
     "name": "stdout",
     "output_type": "stream",
     "text": [
      "Training player vs random. Wins: 33, Losses: 6, Draws: 1\n"
     ]
    },
    {
     "name": "stderr",
     "output_type": "stream",
     "text": [
      "100%|██████████| 10/10 [00:00<00:00, 21.57it/s]\n",
      "100%|██████████| 1000/1000 [00:02<00:00, 350.31it/s]\n",
      "100%|██████████| 10/10 [00:00<00:00, 23.48it/s]\n",
      "100%|██████████| 1000/1000 [00:02<00:00, 350.18it/s]\n",
      "Win1/Win2/Draw: 2/1/0:  15%|█▌        | 3/20 [00:00<00:00, 17.22it/s]"
     ]
    },
    {
     "name": "stdout",
     "output_type": "stream",
     "text": [
      "Evaluating. Self-player vs training, then training vs self-player\n"
     ]
    },
    {
     "name": "stderr",
     "output_type": "stream",
     "text": [
      "Win1/Win2/Draw: 9/9/2: 100%|██████████| 20/20 [00:01<00:00, 17.44it/s]\n",
      "Win1/Win2/Draw: 17/2/1: 100%|██████████| 20/20 [00:01<00:00, 18.60it/s]\n",
      "Win1/Win2/Draw: 5/0/1:  30%|███       | 6/20 [00:00<00:00, 31.51it/s]"
     ]
    },
    {
     "name": "stdout",
     "output_type": "stream",
     "text": [
      "Self-play player wins: 11, Training player wins: 26, Draws: 3\n",
      "Win + draw rate for training player: 0.725\n"
     ]
    },
    {
     "name": "stderr",
     "output_type": "stream",
     "text": [
      "Win1/Win2/Draw: 17/1/2: 100%|██████████| 20/20 [00:00<00:00, 29.16it/s]\n",
      "Win1/Win2/Draw: 9/9/2: 100%|██████████| 20/20 [00:00<00:00, 31.45it/s]\n"
     ]
    },
    {
     "name": "stdout",
     "output_type": "stream",
     "text": [
      "Training player vs random. Wins: 26, Losses: 10, Draws: 4\n",
      "Updating self-play player.\n",
      "Restoring from step: 72\n",
      "INFO:tensorflow:Restoring parameters from experiments/experiment-2018-05-16_22:17:36/checkpoints/72.checkpoint\n"
     ]
    },
    {
     "name": "stderr",
     "output_type": "stream",
     "text": [
      "100%|██████████| 10/10 [00:00<00:00, 21.72it/s]\n",
      "100%|██████████| 1000/1000 [00:02<00:00, 335.98it/s]\n",
      "100%|██████████| 10/10 [00:00<00:00, 23.45it/s]\n",
      "100%|██████████| 1000/1000 [00:03<00:00, 320.73it/s]\n",
      "Win1/Win2/Draw: 3/0/0:  15%|█▌        | 3/20 [00:00<00:00, 20.64it/s]"
     ]
    },
    {
     "name": "stdout",
     "output_type": "stream",
     "text": [
      "Evaluating. Self-player vs training, then training vs self-player\n"
     ]
    },
    {
     "name": "stderr",
     "output_type": "stream",
     "text": [
      "Win1/Win2/Draw: 18/2/0: 100%|██████████| 20/20 [00:01<00:00, 19.38it/s]\n",
      "Win1/Win2/Draw: 5/10/5: 100%|██████████| 20/20 [00:01<00:00, 16.71it/s]\n",
      "Win1/Win2/Draw: 2/2/0:  20%|██        | 4/20 [00:00<00:00, 21.50it/s]"
     ]
    },
    {
     "name": "stdout",
     "output_type": "stream",
     "text": [
      "Self-play player wins: 28, Training player wins: 7, Draws: 5\n",
      "Win + draw rate for training player: 0.3\n"
     ]
    },
    {
     "name": "stderr",
     "output_type": "stream",
     "text": [
      "Win1/Win2/Draw: 17/3/0: 100%|██████████| 20/20 [00:00<00:00, 26.40it/s]\n",
      "Win1/Win2/Draw: 6/9/5: 100%|██████████| 20/20 [00:00<00:00, 31.27it/s]\n",
      " 30%|███       | 3/10 [00:00<00:00, 22.81it/s]"
     ]
    },
    {
     "name": "stdout",
     "output_type": "stream",
     "text": [
      "Training player vs random. Wins: 26, Losses: 9, Draws: 5\n"
     ]
    },
    {
     "name": "stderr",
     "output_type": "stream",
     "text": [
      "100%|██████████| 10/10 [00:00<00:00, 21.85it/s]\n",
      "100%|██████████| 1000/1000 [00:02<00:00, 354.41it/s]\n",
      "100%|██████████| 10/10 [00:00<00:00, 24.14it/s]\n",
      "100%|██████████| 1000/1000 [00:02<00:00, 353.80it/s]\n",
      "Win1/Win2/Draw: 1/2/0:  15%|█▌        | 3/20 [00:00<00:00, 19.20it/s]"
     ]
    },
    {
     "name": "stdout",
     "output_type": "stream",
     "text": [
      "Evaluating. Self-player vs training, then training vs self-player\n"
     ]
    },
    {
     "name": "stderr",
     "output_type": "stream",
     "text": [
      "Win1/Win2/Draw: 13/7/0: 100%|██████████| 20/20 [00:01<00:00, 18.39it/s]\n",
      "Win1/Win2/Draw: 14/5/1: 100%|██████████| 20/20 [00:01<00:00, 19.24it/s]\n",
      "Win1/Win2/Draw: 6/0/0:  30%|███       | 6/20 [00:00<00:00, 32.11it/s]"
     ]
    },
    {
     "name": "stdout",
     "output_type": "stream",
     "text": [
      "Self-play player wins: 18, Training player wins: 21, Draws: 1\n",
      "Win + draw rate for training player: 0.55\n"
     ]
    },
    {
     "name": "stderr",
     "output_type": "stream",
     "text": [
      "Win1/Win2/Draw: 13/6/1: 100%|██████████| 20/20 [00:00<00:00, 29.68it/s]\n",
      "Win1/Win2/Draw: 1/15/4: 100%|██████████| 20/20 [00:00<00:00, 31.29it/s]\n",
      " 30%|███       | 3/10 [00:00<00:00, 23.91it/s]"
     ]
    },
    {
     "name": "stdout",
     "output_type": "stream",
     "text": [
      "Training player vs random. Wins: 28, Losses: 7, Draws: 5\n"
     ]
    },
    {
     "name": "stderr",
     "output_type": "stream",
     "text": [
      "100%|██████████| 10/10 [00:00<00:00, 22.40it/s]\n",
      "100%|██████████| 1000/1000 [00:02<00:00, 339.84it/s]\n",
      "100%|██████████| 10/10 [00:00<00:00, 22.15it/s]\n",
      "100%|██████████| 1000/1000 [00:03<00:00, 324.68it/s]\n",
      "Win1/Win2/Draw: 2/1/0:  15%|█▌        | 3/20 [00:00<00:01, 16.34it/s]"
     ]
    },
    {
     "name": "stdout",
     "output_type": "stream",
     "text": [
      "Evaluating. Self-player vs training, then training vs self-player\n"
     ]
    },
    {
     "name": "stderr",
     "output_type": "stream",
     "text": [
      "Win1/Win2/Draw: 17/3/0: 100%|██████████| 20/20 [00:01<00:00, 17.43it/s]\n",
      "Win1/Win2/Draw: 6/11/3: 100%|██████████| 20/20 [00:01<00:00, 16.81it/s]\n",
      "Win1/Win2/Draw: 5/0/0:  25%|██▌       | 5/20 [00:00<00:00, 27.53it/s]"
     ]
    },
    {
     "name": "stdout",
     "output_type": "stream",
     "text": [
      "Self-play player wins: 28, Training player wins: 9, Draws: 3\n",
      "Win + draw rate for training player: 0.3\n"
     ]
    },
    {
     "name": "stderr",
     "output_type": "stream",
     "text": [
      "Win1/Win2/Draw: 19/1/0: 100%|██████████| 20/20 [00:00<00:00, 28.38it/s]\n",
      "Win1/Win2/Draw: 8/8/4: 100%|██████████| 20/20 [00:00<00:00, 27.96it/s]\n",
      " 30%|███       | 3/10 [00:00<00:00, 20.91it/s]"
     ]
    },
    {
     "name": "stdout",
     "output_type": "stream",
     "text": [
      "Training player vs random. Wins: 27, Losses: 9, Draws: 4\n"
     ]
    },
    {
     "name": "stderr",
     "output_type": "stream",
     "text": [
      "100%|██████████| 10/10 [00:00<00:00, 20.79it/s]\n",
      "100%|██████████| 1000/1000 [00:03<00:00, 309.72it/s]\n",
      "100%|██████████| 10/10 [00:00<00:00, 18.19it/s]\n",
      "100%|██████████| 1000/1000 [00:03<00:00, 305.35it/s]\n",
      "Win1/Win2/Draw: 2/1/0:  15%|█▌        | 3/20 [00:00<00:00, 18.40it/s]"
     ]
    },
    {
     "name": "stdout",
     "output_type": "stream",
     "text": [
      "Evaluating. Self-player vs training, then training vs self-player\n"
     ]
    },
    {
     "name": "stderr",
     "output_type": "stream",
     "text": [
      "Win1/Win2/Draw: 12/7/1: 100%|██████████| 20/20 [00:01<00:00, 18.51it/s]\n",
      "Win1/Win2/Draw: 7/12/1: 100%|██████████| 20/20 [00:01<00:00, 17.49it/s]\n",
      "Win1/Win2/Draw: 4/0/1:  25%|██▌       | 5/20 [00:00<00:00, 25.86it/s]"
     ]
    },
    {
     "name": "stdout",
     "output_type": "stream",
     "text": [
      "Self-play player wins: 24, Training player wins: 14, Draws: 2\n",
      "Win + draw rate for training player: 0.4\n"
     ]
    },
    {
     "name": "stderr",
     "output_type": "stream",
     "text": [
      "Win1/Win2/Draw: 18/1/1: 100%|██████████| 20/20 [00:00<00:00, 28.39it/s]\n",
      "Win1/Win2/Draw: 5/10/5: 100%|██████████| 20/20 [00:00<00:00, 27.91it/s]\n",
      " 30%|███       | 3/10 [00:00<00:00, 22.12it/s]"
     ]
    },
    {
     "name": "stdout",
     "output_type": "stream",
     "text": [
      "Training player vs random. Wins: 28, Losses: 6, Draws: 6\n"
     ]
    },
    {
     "name": "stderr",
     "output_type": "stream",
     "text": [
      "100%|██████████| 10/10 [00:00<00:00, 22.28it/s]\n",
      "100%|██████████| 1000/1000 [00:02<00:00, 337.15it/s]\n",
      "100%|██████████| 10/10 [00:00<00:00, 22.85it/s]\n",
      "100%|██████████| 1000/1000 [00:02<00:00, 338.46it/s]\n",
      "Win1/Win2/Draw: 3/0/0:  15%|█▌        | 3/20 [00:00<00:00, 19.41it/s]"
     ]
    },
    {
     "name": "stdout",
     "output_type": "stream",
     "text": [
      "Evaluating. Self-player vs training, then training vs self-player\n"
     ]
    },
    {
     "name": "stderr",
     "output_type": "stream",
     "text": [
      "Win1/Win2/Draw: 17/2/1: 100%|██████████| 20/20 [00:01<00:00, 19.50it/s]\n",
      "Win1/Win2/Draw: 11/4/5: 100%|██████████| 20/20 [00:01<00:00, 16.74it/s]\n",
      "Win1/Win2/Draw: 5/0/0:  25%|██▌       | 5/20 [00:00<00:00, 25.37it/s]"
     ]
    },
    {
     "name": "stdout",
     "output_type": "stream",
     "text": [
      "Self-play player wins: 21, Training player wins: 13, Draws: 6\n",
      "Win + draw rate for training player: 0.475\n"
     ]
    },
    {
     "name": "stderr",
     "output_type": "stream",
     "text": [
      "Win1/Win2/Draw: 17/2/1: 100%|██████████| 20/20 [00:00<00:00, 27.98it/s]\n",
      "Win1/Win2/Draw: 4/11/5: 100%|██████████| 20/20 [00:00<00:00, 29.65it/s]\n",
      " 30%|███       | 3/10 [00:00<00:00, 24.39it/s]"
     ]
    },
    {
     "name": "stdout",
     "output_type": "stream",
     "text": [
      "Training player vs random. Wins: 28, Losses: 6, Draws: 6\n"
     ]
    },
    {
     "name": "stderr",
     "output_type": "stream",
     "text": [
      "100%|██████████| 10/10 [00:00<00:00, 24.08it/s]\n",
      "100%|██████████| 1000/1000 [00:02<00:00, 346.71it/s]\n",
      "100%|██████████| 10/10 [00:00<00:00, 22.97it/s]\n",
      "100%|██████████| 1000/1000 [00:02<00:00, 338.10it/s]\n",
      "Win1/Win2/Draw: 3/0/0:  15%|█▌        | 3/20 [00:00<00:01, 15.74it/s]"
     ]
    },
    {
     "name": "stdout",
     "output_type": "stream",
     "text": [
      "Evaluating. Self-player vs training, then training vs self-player\n"
     ]
    },
    {
     "name": "stderr",
     "output_type": "stream",
     "text": [
      "Win1/Win2/Draw: 14/4/2: 100%|██████████| 20/20 [00:01<00:00, 16.79it/s]\n",
      "Win1/Win2/Draw: 11/3/6: 100%|██████████| 20/20 [00:01<00:00, 16.76it/s]\n",
      "Win1/Win2/Draw: 6/0/0:  30%|███       | 6/20 [00:00<00:00, 32.40it/s]"
     ]
    },
    {
     "name": "stdout",
     "output_type": "stream",
     "text": [
      "Self-play player wins: 17, Training player wins: 15, Draws: 8\n",
      "Win + draw rate for training player: 0.575\n"
     ]
    },
    {
     "name": "stderr",
     "output_type": "stream",
     "text": [
      "Win1/Win2/Draw: 19/0/1: 100%|██████████| 20/20 [00:00<00:00, 26.90it/s]\n",
      "Win1/Win2/Draw: 6/11/3: 100%|██████████| 20/20 [00:00<00:00, 30.17it/s]\n"
     ]
    },
    {
     "name": "stdout",
     "output_type": "stream",
     "text": [
      "Training player vs random. Wins: 30, Losses: 6, Draws: 4\n",
      "Updating self-play player.\n",
      "Restoring from step: 84\n",
      "INFO:tensorflow:Restoring parameters from experiments/experiment-2018-05-16_22:17:36/checkpoints/84.checkpoint\n"
     ]
    },
    {
     "name": "stderr",
     "output_type": "stream",
     "text": [
      "100%|██████████| 10/10 [00:00<00:00, 18.56it/s]\n",
      "100%|██████████| 1000/1000 [00:03<00:00, 326.52it/s]\n",
      "100%|██████████| 10/10 [00:00<00:00, 20.50it/s]\n",
      "100%|██████████| 1000/1000 [00:02<00:00, 338.53it/s]\n",
      "Win1/Win2/Draw: 1/2/0:  15%|█▌        | 3/20 [00:00<00:01, 15.86it/s]"
     ]
    },
    {
     "name": "stdout",
     "output_type": "stream",
     "text": [
      "Evaluating. Self-player vs training, then training vs self-player\n"
     ]
    },
    {
     "name": "stderr",
     "output_type": "stream",
     "text": [
      "Win1/Win2/Draw: 12/7/1: 100%|██████████| 20/20 [00:01<00:00, 18.83it/s]\n",
      "Win1/Win2/Draw: 20/0/0: 100%|██████████| 20/20 [00:01<00:00, 17.89it/s]\n",
      "Win1/Win2/Draw: 4/0/1:  25%|██▌       | 5/20 [00:00<00:00, 27.09it/s]"
     ]
    },
    {
     "name": "stdout",
     "output_type": "stream",
     "text": [
      "Self-play player wins: 12, Training player wins: 27, Draws: 1\n",
      "Win + draw rate for training player: 0.7\n"
     ]
    },
    {
     "name": "stderr",
     "output_type": "stream",
     "text": [
      "Win1/Win2/Draw: 18/0/2: 100%|██████████| 20/20 [00:00<00:00, 27.40it/s]\n",
      "Win1/Win2/Draw: 5/13/2: 100%|██████████| 20/20 [00:00<00:00, 30.72it/s]\n"
     ]
    },
    {
     "name": "stdout",
     "output_type": "stream",
     "text": [
      "Training player vs random. Wins: 31, Losses: 5, Draws: 4\n",
      "Updating self-play player.\n",
      "Restoring from step: 86\n",
      "INFO:tensorflow:Restoring parameters from experiments/experiment-2018-05-16_22:17:36/checkpoints/86.checkpoint\n"
     ]
    },
    {
     "name": "stderr",
     "output_type": "stream",
     "text": [
      "100%|██████████| 10/10 [00:00<00:00, 19.90it/s]\n",
      "100%|██████████| 1000/1000 [00:03<00:00, 328.13it/s]\n",
      "100%|██████████| 10/10 [00:00<00:00, 20.79it/s]\n",
      "100%|██████████| 1000/1000 [00:03<00:00, 326.99it/s]\n",
      "Win1/Win2/Draw: 3/0/0:  15%|█▌        | 3/20 [00:00<00:00, 17.65it/s]"
     ]
    },
    {
     "name": "stdout",
     "output_type": "stream",
     "text": [
      "Evaluating. Self-player vs training, then training vs self-player\n"
     ]
    },
    {
     "name": "stderr",
     "output_type": "stream",
     "text": [
      "Win1/Win2/Draw: 17/2/1: 100%|██████████| 20/20 [00:01<00:00, 17.84it/s]\n",
      "Win1/Win2/Draw: 9/8/3: 100%|██████████| 20/20 [00:01<00:00, 16.62it/s]\n",
      "Win1/Win2/Draw: 6/0/0:  30%|███       | 6/20 [00:00<00:00, 31.96it/s]"
     ]
    },
    {
     "name": "stdout",
     "output_type": "stream",
     "text": [
      "Self-play player wins: 25, Training player wins: 11, Draws: 4\n",
      "Win + draw rate for training player: 0.375\n"
     ]
    },
    {
     "name": "stderr",
     "output_type": "stream",
     "text": [
      "Win1/Win2/Draw: 16/2/2: 100%|██████████| 20/20 [00:00<00:00, 29.25it/s]\n",
      "Win1/Win2/Draw: 9/10/1: 100%|██████████| 20/20 [00:00<00:00, 29.77it/s]\n",
      " 30%|███       | 3/10 [00:00<00:00, 21.16it/s]"
     ]
    },
    {
     "name": "stdout",
     "output_type": "stream",
     "text": [
      "Training player vs random. Wins: 26, Losses: 11, Draws: 3\n"
     ]
    },
    {
     "name": "stderr",
     "output_type": "stream",
     "text": [
      "100%|██████████| 10/10 [00:00<00:00, 19.96it/s]\n",
      "100%|██████████| 1000/1000 [00:03<00:00, 330.70it/s]\n",
      "100%|██████████| 10/10 [00:00<00:00, 20.31it/s]\n",
      "100%|██████████| 1000/1000 [00:03<00:00, 328.97it/s]\n",
      "Win1/Win2/Draw: 2/0/0:  10%|█         | 2/20 [00:00<00:01, 15.34it/s]"
     ]
    },
    {
     "name": "stdout",
     "output_type": "stream",
     "text": [
      "Evaluating. Self-player vs training, then training vs self-player\n"
     ]
    },
    {
     "name": "stderr",
     "output_type": "stream",
     "text": [
      "Win1/Win2/Draw: 9/11/0: 100%|██████████| 20/20 [00:01<00:00, 16.56it/s]\n",
      "Win1/Win2/Draw: 10/9/1: 100%|██████████| 20/20 [00:01<00:00, 17.77it/s]\n",
      "Win1/Win2/Draw: 5/0/0:  25%|██▌       | 5/20 [00:00<00:00, 28.38it/s]"
     ]
    },
    {
     "name": "stdout",
     "output_type": "stream",
     "text": [
      "Self-play player wins: 18, Training player wins: 21, Draws: 1\n",
      "Win + draw rate for training player: 0.55\n"
     ]
    },
    {
     "name": "stderr",
     "output_type": "stream",
     "text": [
      "Win1/Win2/Draw: 19/0/1: 100%|██████████| 20/20 [00:00<00:00, 27.60it/s]\n",
      "Win1/Win2/Draw: 6/9/5: 100%|██████████| 20/20 [00:00<00:00, 30.61it/s]\n",
      "  0%|          | 0/10 [00:00<?, ?it/s]"
     ]
    },
    {
     "name": "stdout",
     "output_type": "stream",
     "text": [
      "Training player vs random. Wins: 28, Losses: 6, Draws: 6\n"
     ]
    },
    {
     "name": "stderr",
     "output_type": "stream",
     "text": [
      "100%|██████████| 10/10 [00:00<00:00, 20.02it/s]\n",
      "100%|██████████| 1000/1000 [00:02<00:00, 333.79it/s]\n",
      "100%|██████████| 10/10 [00:00<00:00, 19.83it/s]\n",
      "100%|██████████| 1000/1000 [00:03<00:00, 329.22it/s]\n",
      "Win1/Win2/Draw: 2/0/1:  15%|█▌        | 3/20 [00:00<00:01, 16.63it/s]"
     ]
    },
    {
     "name": "stdout",
     "output_type": "stream",
     "text": [
      "Evaluating. Self-player vs training, then training vs self-player\n"
     ]
    },
    {
     "name": "stderr",
     "output_type": "stream",
     "text": [
      "Win1/Win2/Draw: 12/5/3: 100%|██████████| 20/20 [00:01<00:00, 16.49it/s]\n",
      "Win1/Win2/Draw: 13/5/2: 100%|██████████| 20/20 [00:01<00:00, 18.07it/s]\n",
      "Win1/Win2/Draw: 4/0/0:  20%|██        | 4/20 [00:00<00:00, 27.76it/s]"
     ]
    },
    {
     "name": "stdout",
     "output_type": "stream",
     "text": [
      "Self-play player wins: 17, Training player wins: 18, Draws: 5\n",
      "Win + draw rate for training player: 0.575\n"
     ]
    },
    {
     "name": "stderr",
     "output_type": "stream",
     "text": [
      "Win1/Win2/Draw: 18/2/0: 100%|██████████| 20/20 [00:00<00:00, 27.06it/s]\n",
      "Win1/Win2/Draw: 7/11/2: 100%|██████████| 20/20 [00:00<00:00, 31.59it/s]\n"
     ]
    },
    {
     "name": "stdout",
     "output_type": "stream",
     "text": [
      "Training player vs random. Wins: 29, Losses: 9, Draws: 2\n",
      "Updating self-play player.\n",
      "Restoring from step: 92\n",
      "INFO:tensorflow:Restoring parameters from experiments/experiment-2018-05-16_22:17:36/checkpoints/92.checkpoint\n"
     ]
    },
    {
     "name": "stderr",
     "output_type": "stream",
     "text": [
      "100%|██████████| 10/10 [00:00<00:00, 20.45it/s]\n",
      "100%|██████████| 1000/1000 [00:03<00:00, 333.15it/s]\n",
      "100%|██████████| 10/10 [00:00<00:00, 21.06it/s]\n",
      "100%|██████████| 1000/1000 [00:02<00:00, 340.86it/s]\n",
      "Win1/Win2/Draw: 0/2/1:  15%|█▌        | 3/20 [00:00<00:01, 15.35it/s]"
     ]
    },
    {
     "name": "stdout",
     "output_type": "stream",
     "text": [
      "Evaluating. Self-player vs training, then training vs self-player\n"
     ]
    },
    {
     "name": "stderr",
     "output_type": "stream",
     "text": [
      "Win1/Win2/Draw: 11/7/2: 100%|██████████| 20/20 [00:01<00:00, 16.53it/s]\n",
      "Win1/Win2/Draw: 12/7/1: 100%|██████████| 20/20 [00:01<00:00, 17.94it/s]\n",
      "Win1/Win2/Draw: 6/0/0:  30%|███       | 6/20 [00:00<00:00, 31.33it/s]"
     ]
    },
    {
     "name": "stdout",
     "output_type": "stream",
     "text": [
      "Self-play player wins: 18, Training player wins: 19, Draws: 3\n",
      "Win + draw rate for training player: 0.55\n"
     ]
    },
    {
     "name": "stderr",
     "output_type": "stream",
     "text": [
      "Win1/Win2/Draw: 20/0/0: 100%|██████████| 20/20 [00:00<00:00, 30.91it/s]\n",
      "Win1/Win2/Draw: 9/10/1: 100%|██████████| 20/20 [00:00<00:00, 30.17it/s]\n",
      " 30%|███       | 3/10 [00:00<00:00, 22.86it/s]"
     ]
    },
    {
     "name": "stdout",
     "output_type": "stream",
     "text": [
      "Training player vs random. Wins: 30, Losses: 9, Draws: 1\n"
     ]
    },
    {
     "name": "stderr",
     "output_type": "stream",
     "text": [
      "100%|██████████| 10/10 [00:00<00:00, 22.52it/s]\n",
      "100%|██████████| 1000/1000 [00:02<00:00, 334.04it/s]\n",
      "100%|██████████| 10/10 [00:00<00:00, 20.75it/s]\n",
      "100%|██████████| 1000/1000 [00:03<00:00, 324.09it/s]\n",
      "Win1/Win2/Draw: 1/2/0:  15%|█▌        | 3/20 [00:00<00:01, 14.92it/s]"
     ]
    },
    {
     "name": "stdout",
     "output_type": "stream",
     "text": [
      "Evaluating. Self-player vs training, then training vs self-player\n"
     ]
    },
    {
     "name": "stderr",
     "output_type": "stream",
     "text": [
      "Win1/Win2/Draw: 10/10/0: 100%|██████████| 20/20 [00:01<00:00, 16.75it/s]\n",
      "Win1/Win2/Draw: 11/8/1: 100%|██████████| 20/20 [00:01<00:00, 17.00it/s]\n",
      "Win1/Win2/Draw: 5/1/0:  30%|███       | 6/20 [00:00<00:00, 30.04it/s]"
     ]
    },
    {
     "name": "stdout",
     "output_type": "stream",
     "text": [
      "Self-play player wins: 18, Training player wins: 21, Draws: 1\n",
      "Win + draw rate for training player: 0.55\n"
     ]
    },
    {
     "name": "stderr",
     "output_type": "stream",
     "text": [
      "Win1/Win2/Draw: 15/4/1: 100%|██████████| 20/20 [00:00<00:00, 28.83it/s]\n",
      "Win1/Win2/Draw: 5/14/1: 100%|██████████| 20/20 [00:00<00:00, 30.20it/s]\n",
      "  0%|          | 0/10 [00:00<?, ?it/s]"
     ]
    },
    {
     "name": "stdout",
     "output_type": "stream",
     "text": [
      "Training player vs random. Wins: 29, Losses: 9, Draws: 2\n"
     ]
    },
    {
     "name": "stderr",
     "output_type": "stream",
     "text": [
      "100%|██████████| 10/10 [00:00<00:00, 20.66it/s]\n",
      "100%|██████████| 1000/1000 [00:03<00:00, 333.07it/s]\n",
      "100%|██████████| 10/10 [00:00<00:00, 20.68it/s]\n",
      "100%|██████████| 1000/1000 [00:02<00:00, 333.97it/s]\n",
      "Win1/Win2/Draw: 2/1/0:  15%|█▌        | 3/20 [00:00<00:00, 18.14it/s]"
     ]
    },
    {
     "name": "stdout",
     "output_type": "stream",
     "text": [
      "Evaluating. Self-player vs training, then training vs self-player\n"
     ]
    },
    {
     "name": "stderr",
     "output_type": "stream",
     "text": [
      "Win1/Win2/Draw: 16/4/0: 100%|██████████| 20/20 [00:01<00:00, 17.05it/s]\n",
      "Win1/Win2/Draw: 12/5/3: 100%|██████████| 20/20 [00:01<00:00, 16.93it/s]\n",
      "Win1/Win2/Draw: 4/0/1:  25%|██▌       | 5/20 [00:00<00:00, 27.82it/s]"
     ]
    },
    {
     "name": "stdout",
     "output_type": "stream",
     "text": [
      "Self-play player wins: 21, Training player wins: 16, Draws: 3\n",
      "Win + draw rate for training player: 0.475\n"
     ]
    },
    {
     "name": "stderr",
     "output_type": "stream",
     "text": [
      "Win1/Win2/Draw: 15/3/2: 100%|██████████| 20/20 [00:00<00:00, 27.70it/s]\n",
      "Win1/Win2/Draw: 7/8/5: 100%|██████████| 20/20 [00:00<00:00, 27.39it/s]\n",
      " 30%|███       | 3/10 [00:00<00:00, 22.20it/s]"
     ]
    },
    {
     "name": "stdout",
     "output_type": "stream",
     "text": [
      "Training player vs random. Wins: 23, Losses: 10, Draws: 7\n"
     ]
    },
    {
     "name": "stderr",
     "output_type": "stream",
     "text": [
      "100%|██████████| 10/10 [00:00<00:00, 21.63it/s]\n",
      "100%|██████████| 1000/1000 [00:02<00:00, 336.26it/s]\n",
      "100%|██████████| 10/10 [00:00<00:00, 21.62it/s]\n",
      "100%|██████████| 1000/1000 [00:02<00:00, 342.71it/s]\n",
      "Win1/Win2/Draw: 0/2/1:  15%|█▌        | 3/20 [00:00<00:01, 14.96it/s]"
     ]
    },
    {
     "name": "stdout",
     "output_type": "stream",
     "text": [
      "Evaluating. Self-player vs training, then training vs self-player\n"
     ]
    },
    {
     "name": "stderr",
     "output_type": "stream",
     "text": [
      "Win1/Win2/Draw: 16/3/1: 100%|██████████| 20/20 [00:01<00:00, 18.63it/s]\n",
      "Win1/Win2/Draw: 11/6/3: 100%|██████████| 20/20 [00:01<00:00, 17.46it/s]\n",
      "Win1/Win2/Draw: 3/2/0:  25%|██▌       | 5/20 [00:00<00:00, 24.68it/s]"
     ]
    },
    {
     "name": "stdout",
     "output_type": "stream",
     "text": [
      "Self-play player wins: 22, Training player wins: 14, Draws: 4\n",
      "Win + draw rate for training player: 0.45\n"
     ]
    },
    {
     "name": "stderr",
     "output_type": "stream",
     "text": [
      "Win1/Win2/Draw: 15/4/1: 100%|██████████| 20/20 [00:00<00:00, 27.97it/s]\n",
      "Win1/Win2/Draw: 5/8/7: 100%|██████████| 20/20 [00:00<00:00, 28.41it/s]\n",
      " 20%|██        | 2/10 [00:00<00:00, 18.05it/s]"
     ]
    },
    {
     "name": "stdout",
     "output_type": "stream",
     "text": [
      "Training player vs random. Wins: 23, Losses: 9, Draws: 8\n"
     ]
    },
    {
     "name": "stderr",
     "output_type": "stream",
     "text": [
      "100%|██████████| 10/10 [00:00<00:00, 20.33it/s]\n",
      "100%|██████████| 1000/1000 [00:02<00:00, 341.10it/s]\n",
      "100%|██████████| 10/10 [00:00<00:00, 19.76it/s]\n",
      "100%|██████████| 1000/1000 [00:02<00:00, 345.66it/s]\n",
      "Win1/Win2/Draw: 3/0/0:  15%|█▌        | 3/20 [00:00<00:00, 17.78it/s]"
     ]
    },
    {
     "name": "stdout",
     "output_type": "stream",
     "text": [
      "Evaluating. Self-player vs training, then training vs self-player\n"
     ]
    },
    {
     "name": "stderr",
     "output_type": "stream",
     "text": [
      "Win1/Win2/Draw: 13/4/3: 100%|██████████| 20/20 [00:01<00:00, 16.09it/s]\n",
      "Win1/Win2/Draw: 12/7/1: 100%|██████████| 20/20 [00:01<00:00, 17.18it/s]\n",
      "Win1/Win2/Draw: 5/0/0:  25%|██▌       | 5/20 [00:00<00:00, 26.08it/s]"
     ]
    },
    {
     "name": "stdout",
     "output_type": "stream",
     "text": [
      "Self-play player wins: 20, Training player wins: 16, Draws: 4\n",
      "Win + draw rate for training player: 0.5\n"
     ]
    },
    {
     "name": "stderr",
     "output_type": "stream",
     "text": [
      "Win1/Win2/Draw: 17/2/1: 100%|██████████| 20/20 [00:00<00:00, 28.64it/s]\n",
      "Win1/Win2/Draw: 8/9/3: 100%|██████████| 20/20 [00:00<00:00, 30.69it/s]\n",
      " 30%|███       | 3/10 [00:00<00:00, 23.54it/s]"
     ]
    },
    {
     "name": "stdout",
     "output_type": "stream",
     "text": [
      "Training player vs random. Wins: 26, Losses: 10, Draws: 4\n"
     ]
    },
    {
     "name": "stderr",
     "output_type": "stream",
     "text": [
      "100%|██████████| 10/10 [00:00<00:00, 20.33it/s]\n",
      "100%|██████████| 1000/1000 [00:02<00:00, 344.48it/s]\n",
      "100%|██████████| 10/10 [00:00<00:00, 19.94it/s]\n",
      "100%|██████████| 1000/1000 [00:02<00:00, 342.37it/s]\n",
      "Win1/Win2/Draw: 3/0/0:  15%|█▌        | 3/20 [00:00<00:01, 16.29it/s]"
     ]
    },
    {
     "name": "stdout",
     "output_type": "stream",
     "text": [
      "Evaluating. Self-player vs training, then training vs self-player\n"
     ]
    },
    {
     "name": "stderr",
     "output_type": "stream",
     "text": [
      "Win1/Win2/Draw: 16/2/2: 100%|██████████| 20/20 [00:01<00:00, 17.32it/s]\n",
      "Win1/Win2/Draw: 17/1/2: 100%|██████████| 20/20 [00:01<00:00, 17.85it/s]\n",
      "Win1/Win2/Draw: 4/0/1:  25%|██▌       | 5/20 [00:00<00:00, 30.13it/s]"
     ]
    },
    {
     "name": "stdout",
     "output_type": "stream",
     "text": [
      "Self-play player wins: 17, Training player wins: 19, Draws: 4\n",
      "Win + draw rate for training player: 0.575\n"
     ]
    },
    {
     "name": "stderr",
     "output_type": "stream",
     "text": [
      "Win1/Win2/Draw: 17/1/2: 100%|██████████| 20/20 [00:00<00:00, 29.50it/s]\n",
      "Win1/Win2/Draw: 8/10/2: 100%|██████████| 20/20 [00:00<00:00, 28.35it/s]\n"
     ]
    },
    {
     "name": "stdout",
     "output_type": "stream",
     "text": [
      "Training player vs random. Wins: 27, Losses: 9, Draws: 4\n",
      "Updating self-play player.\n",
      "Restoring from step: 104\n",
      "INFO:tensorflow:Restoring parameters from experiments/experiment-2018-05-16_22:17:36/checkpoints/104.checkpoint\n"
     ]
    },
    {
     "name": "stderr",
     "output_type": "stream",
     "text": [
      "100%|██████████| 10/10 [00:00<00:00, 19.61it/s]\n",
      "100%|██████████| 1000/1000 [00:03<00:00, 331.27it/s]\n",
      "100%|██████████| 10/10 [00:00<00:00, 20.07it/s]\n",
      "100%|██████████| 1000/1000 [00:03<00:00, 333.12it/s]\n",
      "Win1/Win2/Draw: 3/0/0:  15%|█▌        | 3/20 [00:00<00:01, 16.47it/s]"
     ]
    },
    {
     "name": "stdout",
     "output_type": "stream",
     "text": [
      "Evaluating. Self-player vs training, then training vs self-player\n"
     ]
    },
    {
     "name": "stderr",
     "output_type": "stream",
     "text": [
      "Win1/Win2/Draw: 8/10/2: 100%|██████████| 20/20 [00:01<00:00, 16.58it/s]\n",
      "Win1/Win2/Draw: 20/0/0: 100%|██████████| 20/20 [00:01<00:00, 19.48it/s]\n",
      "Win1/Win2/Draw: 5/0/1:  30%|███       | 6/20 [00:00<00:00, 32.17it/s]"
     ]
    },
    {
     "name": "stdout",
     "output_type": "stream",
     "text": [
      "Self-play player wins: 8, Training player wins: 30, Draws: 2\n",
      "Win + draw rate for training player: 0.8\n"
     ]
    },
    {
     "name": "stderr",
     "output_type": "stream",
     "text": [
      "Win1/Win2/Draw: 19/0/1: 100%|██████████| 20/20 [00:00<00:00, 31.37it/s]\n",
      "Win1/Win2/Draw: 6/9/5: 100%|██████████| 20/20 [00:00<00:00, 30.75it/s]\n"
     ]
    },
    {
     "name": "stdout",
     "output_type": "stream",
     "text": [
      "Training player vs random. Wins: 28, Losses: 6, Draws: 6\n",
      "Updating self-play player.\n",
      "Restoring from step: 106\n",
      "INFO:tensorflow:Restoring parameters from experiments/experiment-2018-05-16_22:17:36/checkpoints/106.checkpoint\n"
     ]
    },
    {
     "name": "stderr",
     "output_type": "stream",
     "text": [
      "100%|██████████| 10/10 [00:00<00:00, 18.97it/s]\n",
      "100%|██████████| 1000/1000 [00:02<00:00, 343.00it/s]\n",
      "100%|██████████| 10/10 [00:00<00:00, 20.84it/s]\n",
      "100%|██████████| 1000/1000 [00:02<00:00, 349.36it/s]\n",
      "Win1/Win2/Draw: 2/0/1:  15%|█▌        | 3/20 [00:00<00:00, 18.73it/s]"
     ]
    },
    {
     "name": "stdout",
     "output_type": "stream",
     "text": [
      "Evaluating. Self-player vs training, then training vs self-player\n"
     ]
    },
    {
     "name": "stderr",
     "output_type": "stream",
     "text": [
      "Win1/Win2/Draw: 15/0/5: 100%|██████████| 20/20 [00:01<00:00, 18.31it/s]\n",
      "Win1/Win2/Draw: 17/3/0: 100%|██████████| 20/20 [00:01<00:00, 17.03it/s]\n",
      "Win1/Win2/Draw: 4/0/1:  25%|██▌       | 5/20 [00:00<00:00, 28.94it/s]"
     ]
    },
    {
     "name": "stdout",
     "output_type": "stream",
     "text": [
      "Self-play player wins: 18, Training player wins: 17, Draws: 5\n",
      "Win + draw rate for training player: 0.55\n"
     ]
    },
    {
     "name": "stderr",
     "output_type": "stream",
     "text": [
      "Win1/Win2/Draw: 18/1/1: 100%|██████████| 20/20 [00:00<00:00, 29.60it/s]\n",
      "Win1/Win2/Draw: 6/12/2: 100%|██████████| 20/20 [00:00<00:00, 29.33it/s]\n",
      " 20%|██        | 2/10 [00:00<00:00, 17.91it/s]"
     ]
    },
    {
     "name": "stdout",
     "output_type": "stream",
     "text": [
      "Training player vs random. Wins: 30, Losses: 7, Draws: 3\n"
     ]
    },
    {
     "name": "stderr",
     "output_type": "stream",
     "text": [
      "100%|██████████| 10/10 [00:00<00:00, 19.59it/s]\n",
      "100%|██████████| 1000/1000 [00:02<00:00, 349.93it/s]\n",
      "100%|██████████| 10/10 [00:00<00:00, 19.04it/s]\n",
      "100%|██████████| 1000/1000 [00:02<00:00, 342.84it/s]\n",
      "Win1/Win2/Draw: 1/2/0:  15%|█▌        | 3/20 [00:00<00:00, 17.80it/s]"
     ]
    },
    {
     "name": "stdout",
     "output_type": "stream",
     "text": [
      "Evaluating. Self-player vs training, then training vs self-player\n"
     ]
    },
    {
     "name": "stderr",
     "output_type": "stream",
     "text": [
      "Win1/Win2/Draw: 7/10/3: 100%|██████████| 20/20 [00:01<00:00, 16.49it/s]\n",
      "Win1/Win2/Draw: 9/6/5: 100%|██████████| 20/20 [00:01<00:00, 16.44it/s]\n",
      "Win1/Win2/Draw: 3/1/1:  25%|██▌       | 5/20 [00:00<00:00, 23.29it/s]"
     ]
    },
    {
     "name": "stdout",
     "output_type": "stream",
     "text": [
      "Self-play player wins: 13, Training player wins: 19, Draws: 8\n",
      "Win + draw rate for training player: 0.675\n"
     ]
    },
    {
     "name": "stderr",
     "output_type": "stream",
     "text": [
      "Win1/Win2/Draw: 17/1/2: 100%|██████████| 20/20 [00:00<00:00, 29.30it/s]\n",
      "Win1/Win2/Draw: 3/13/4: 100%|██████████| 20/20 [00:00<00:00, 30.48it/s]\n"
     ]
    },
    {
     "name": "stdout",
     "output_type": "stream",
     "text": [
      "Training player vs random. Wins: 30, Losses: 4, Draws: 6\n",
      "Updating self-play player.\n",
      "Restoring from step: 110\n",
      "INFO:tensorflow:Restoring parameters from experiments/experiment-2018-05-16_22:17:36/checkpoints/110.checkpoint\n"
     ]
    },
    {
     "name": "stderr",
     "output_type": "stream",
     "text": [
      "100%|██████████| 10/10 [00:00<00:00, 19.27it/s]\n",
      "100%|██████████| 1000/1000 [00:02<00:00, 341.98it/s]\n",
      "100%|██████████| 10/10 [00:00<00:00, 21.31it/s]\n",
      "100%|██████████| 1000/1000 [00:02<00:00, 334.97it/s]\n",
      "Win1/Win2/Draw: 0/0/2:  10%|█         | 2/20 [00:00<00:01, 12.73it/s]"
     ]
    },
    {
     "name": "stdout",
     "output_type": "stream",
     "text": [
      "Evaluating. Self-player vs training, then training vs self-player\n"
     ]
    },
    {
     "name": "stderr",
     "output_type": "stream",
     "text": [
      "Win1/Win2/Draw: 10/1/9: 100%|██████████| 20/20 [00:01<00:00, 14.88it/s]\n",
      "Win1/Win2/Draw: 13/7/0: 100%|██████████| 20/20 [00:01<00:00, 17.66it/s]\n",
      "Win1/Win2/Draw: 5/0/0:  25%|██▌       | 5/20 [00:00<00:00, 30.59it/s]"
     ]
    },
    {
     "name": "stdout",
     "output_type": "stream",
     "text": [
      "Self-play player wins: 17, Training player wins: 14, Draws: 9\n",
      "Win + draw rate for training player: 0.575\n"
     ]
    },
    {
     "name": "stderr",
     "output_type": "stream",
     "text": [
      "Win1/Win2/Draw: 17/3/0: 100%|██████████| 20/20 [00:00<00:00, 29.44it/s]\n",
      "Win1/Win2/Draw: 6/11/3: 100%|██████████| 20/20 [00:00<00:00, 29.04it/s]\n"
     ]
    },
    {
     "name": "stdout",
     "output_type": "stream",
     "text": [
      "Training player vs random. Wins: 28, Losses: 9, Draws: 3\n",
      "Updating self-play player.\n",
      "Restoring from step: 112\n",
      "INFO:tensorflow:Restoring parameters from experiments/experiment-2018-05-16_22:17:36/checkpoints/112.checkpoint\n"
     ]
    },
    {
     "name": "stderr",
     "output_type": "stream",
     "text": [
      "100%|██████████| 10/10 [00:00<00:00, 20.87it/s]\n",
      "100%|██████████| 1000/1000 [00:02<00:00, 343.34it/s]\n",
      "100%|██████████| 10/10 [00:00<00:00, 21.64it/s]\n",
      "100%|██████████| 1000/1000 [00:02<00:00, 340.62it/s]\n",
      "Win1/Win2/Draw: 0/3/0:  15%|█▌        | 3/20 [00:00<00:00, 18.84it/s]"
     ]
    },
    {
     "name": "stdout",
     "output_type": "stream",
     "text": [
      "Evaluating. Self-player vs training, then training vs self-player\n"
     ]
    },
    {
     "name": "stderr",
     "output_type": "stream",
     "text": [
      "Win1/Win2/Draw: 11/9/0: 100%|██████████| 20/20 [00:01<00:00, 18.28it/s]\n",
      "Win1/Win2/Draw: 6/6/8: 100%|██████████| 20/20 [00:01<00:00, 15.53it/s]\n",
      "Win1/Win2/Draw: 5/0/0:  25%|██▌       | 5/20 [00:00<00:00, 27.36it/s]"
     ]
    },
    {
     "name": "stdout",
     "output_type": "stream",
     "text": [
      "Self-play player wins: 17, Training player wins: 15, Draws: 8\n",
      "Win + draw rate for training player: 0.575\n"
     ]
    },
    {
     "name": "stderr",
     "output_type": "stream",
     "text": [
      "Win1/Win2/Draw: 17/2/1: 100%|██████████| 20/20 [00:00<00:00, 28.51it/s]\n",
      "Win1/Win2/Draw: 8/11/1: 100%|██████████| 20/20 [00:00<00:00, 30.55it/s]\n"
     ]
    },
    {
     "name": "stdout",
     "output_type": "stream",
     "text": [
      "Training player vs random. Wins: 28, Losses: 10, Draws: 2\n",
      "Updating self-play player.\n",
      "Restoring from step: 114\n",
      "INFO:tensorflow:Restoring parameters from experiments/experiment-2018-05-16_22:17:36/checkpoints/114.checkpoint\n"
     ]
    },
    {
     "name": "stderr",
     "output_type": "stream",
     "text": [
      "100%|██████████| 10/10 [00:00<00:00, 21.65it/s]\n",
      "100%|██████████| 1000/1000 [00:02<00:00, 349.59it/s]\n",
      "100%|██████████| 10/10 [00:00<00:00, 21.18it/s]\n",
      "100%|██████████| 1000/1000 [00:02<00:00, 340.93it/s]\n",
      "Win1/Win2/Draw: 1/2/0:  15%|█▌        | 3/20 [00:00<00:00, 18.82it/s]"
     ]
    },
    {
     "name": "stdout",
     "output_type": "stream",
     "text": [
      "Evaluating. Self-player vs training, then training vs self-player\n"
     ]
    },
    {
     "name": "stderr",
     "output_type": "stream",
     "text": [
      "Win1/Win2/Draw: 9/10/1: 100%|██████████| 20/20 [00:01<00:00, 17.43it/s]\n",
      "Win1/Win2/Draw: 8/8/4: 100%|██████████| 20/20 [00:01<00:00, 19.15it/s]\n",
      "Win1/Win2/Draw: 3/0/1:  20%|██        | 4/20 [00:00<00:00, 23.39it/s]"
     ]
    },
    {
     "name": "stdout",
     "output_type": "stream",
     "text": [
      "Self-play player wins: 17, Training player wins: 18, Draws: 5\n",
      "Win + draw rate for training player: 0.575\n"
     ]
    },
    {
     "name": "stderr",
     "output_type": "stream",
     "text": [
      "Win1/Win2/Draw: 17/1/2: 100%|██████████| 20/20 [00:00<00:00, 27.18it/s]\n",
      "Win1/Win2/Draw: 5/9/6: 100%|██████████| 20/20 [00:00<00:00, 30.17it/s]\n"
     ]
    },
    {
     "name": "stdout",
     "output_type": "stream",
     "text": [
      "Training player vs random. Wins: 26, Losses: 6, Draws: 8\n",
      "Updating self-play player.\n",
      "Restoring from step: 116\n",
      "INFO:tensorflow:Restoring parameters from experiments/experiment-2018-05-16_22:17:36/checkpoints/116.checkpoint\n"
     ]
    },
    {
     "name": "stderr",
     "output_type": "stream",
     "text": [
      "100%|██████████| 10/10 [00:00<00:00, 20.40it/s]\n",
      "100%|██████████| 1000/1000 [00:03<00:00, 326.82it/s]\n",
      "100%|██████████| 10/10 [00:00<00:00, 20.12it/s]\n",
      "100%|██████████| 1000/1000 [00:02<00:00, 344.53it/s]\n",
      "Win1/Win2/Draw: 2/1/0:  15%|█▌        | 3/20 [00:00<00:00, 19.79it/s]"
     ]
    },
    {
     "name": "stdout",
     "output_type": "stream",
     "text": [
      "Evaluating. Self-player vs training, then training vs self-player\n"
     ]
    },
    {
     "name": "stderr",
     "output_type": "stream",
     "text": [
      "Win1/Win2/Draw: 10/5/5: 100%|██████████| 20/20 [00:01<00:00, 16.74it/s]\n",
      "Win1/Win2/Draw: 6/11/3: 100%|██████████| 20/20 [00:01<00:00, 17.12it/s]\n",
      "Win1/Win2/Draw: 5/0/0:  25%|██▌       | 5/20 [00:00<00:00, 28.40it/s]"
     ]
    },
    {
     "name": "stdout",
     "output_type": "stream",
     "text": [
      "Self-play player wins: 21, Training player wins: 11, Draws: 8\n",
      "Win + draw rate for training player: 0.475\n"
     ]
    },
    {
     "name": "stderr",
     "output_type": "stream",
     "text": [
      "Win1/Win2/Draw: 20/0/0: 100%|██████████| 20/20 [00:00<00:00, 30.36it/s]\n",
      "Win1/Win2/Draw: 3/13/4: 100%|██████████| 20/20 [00:00<00:00, 31.46it/s]\n",
      " 20%|██        | 2/10 [00:00<00:00, 19.54it/s]"
     ]
    },
    {
     "name": "stdout",
     "output_type": "stream",
     "text": [
      "Training player vs random. Wins: 33, Losses: 3, Draws: 4\n"
     ]
    },
    {
     "name": "stderr",
     "output_type": "stream",
     "text": [
      "100%|██████████| 10/10 [00:00<00:00, 19.29it/s]\n",
      "100%|██████████| 1000/1000 [00:03<00:00, 329.44it/s]\n",
      "100%|██████████| 10/10 [00:00<00:00, 19.64it/s]\n",
      "100%|██████████| 1000/1000 [00:03<00:00, 332.78it/s]\n",
      "Win1/Win2/Draw: 1/1/0:  10%|█         | 2/20 [00:00<00:01, 16.16it/s]"
     ]
    },
    {
     "name": "stdout",
     "output_type": "stream",
     "text": [
      "Evaluating. Self-player vs training, then training vs self-player\n"
     ]
    },
    {
     "name": "stderr",
     "output_type": "stream",
     "text": [
      "Win1/Win2/Draw: 11/6/3: 100%|██████████| 20/20 [00:01<00:00, 15.12it/s]\n",
      "Win1/Win2/Draw: 14/5/1: 100%|██████████| 20/20 [00:01<00:00, 19.30it/s]\n",
      "Win1/Win2/Draw: 6/0/0:  30%|███       | 6/20 [00:00<00:00, 29.90it/s]"
     ]
    },
    {
     "name": "stdout",
     "output_type": "stream",
     "text": [
      "Self-play player wins: 16, Training player wins: 20, Draws: 4\n",
      "Win + draw rate for training player: 0.6\n"
     ]
    },
    {
     "name": "stderr",
     "output_type": "stream",
     "text": [
      "Win1/Win2/Draw: 17/2/1: 100%|██████████| 20/20 [00:00<00:00, 28.01it/s]\n",
      "Win1/Win2/Draw: 5/8/7: 100%|██████████| 20/20 [00:00<00:00, 29.38it/s]\n"
     ]
    },
    {
     "name": "stdout",
     "output_type": "stream",
     "text": [
      "Training player vs random. Wins: 25, Losses: 7, Draws: 8\n",
      "Updating self-play player.\n",
      "Restoring from step: 120\n",
      "INFO:tensorflow:Restoring parameters from experiments/experiment-2018-05-16_22:17:36/checkpoints/120.checkpoint\n"
     ]
    },
    {
     "name": "stderr",
     "output_type": "stream",
     "text": [
      "100%|██████████| 10/10 [00:00<00:00, 17.79it/s]\n",
      "100%|██████████| 1000/1000 [00:03<00:00, 326.47it/s]\n",
      "100%|██████████| 10/10 [00:00<00:00, 19.13it/s]\n",
      "100%|██████████| 1000/1000 [00:03<00:00, 329.97it/s]\n",
      "Win1/Win2/Draw: 1/2/0:  15%|█▌        | 3/20 [00:00<00:01, 15.46it/s]"
     ]
    },
    {
     "name": "stdout",
     "output_type": "stream",
     "text": [
      "Evaluating. Self-player vs training, then training vs self-player\n"
     ]
    },
    {
     "name": "stderr",
     "output_type": "stream",
     "text": [
      "Win1/Win2/Draw: 12/6/2: 100%|██████████| 20/20 [00:01<00:00, 18.40it/s]\n",
      "Win1/Win2/Draw: 11/9/0: 100%|██████████| 20/20 [00:01<00:00, 17.71it/s]\n",
      "Win1/Win2/Draw: 4/1/0:  25%|██▌       | 5/20 [00:00<00:00, 26.08it/s]"
     ]
    },
    {
     "name": "stdout",
     "output_type": "stream",
     "text": [
      "Self-play player wins: 21, Training player wins: 17, Draws: 2\n",
      "Win + draw rate for training player: 0.475\n"
     ]
    },
    {
     "name": "stderr",
     "output_type": "stream",
     "text": [
      "Win1/Win2/Draw: 18/2/0: 100%|██████████| 20/20 [00:00<00:00, 32.16it/s]\n",
      "Win1/Win2/Draw: 3/17/0: 100%|██████████| 20/20 [00:00<00:00, 32.14it/s]\n",
      " 20%|██        | 2/10 [00:00<00:00, 18.52it/s]"
     ]
    },
    {
     "name": "stdout",
     "output_type": "stream",
     "text": [
      "Training player vs random. Wins: 35, Losses: 5, Draws: 0\n"
     ]
    },
    {
     "name": "stderr",
     "output_type": "stream",
     "text": [
      "100%|██████████| 10/10 [00:00<00:00, 18.21it/s]\n",
      "100%|██████████| 1000/1000 [00:03<00:00, 330.11it/s]\n",
      "100%|██████████| 10/10 [00:00<00:00, 17.90it/s]\n",
      "100%|██████████| 1000/1000 [00:03<00:00, 327.49it/s]\n",
      "Win1/Win2/Draw: 1/1/1:  15%|█▌        | 3/20 [00:00<00:00, 17.13it/s]"
     ]
    },
    {
     "name": "stdout",
     "output_type": "stream",
     "text": [
      "Evaluating. Self-player vs training, then training vs self-player\n"
     ]
    },
    {
     "name": "stderr",
     "output_type": "stream",
     "text": [
      "Win1/Win2/Draw: 10/8/2: 100%|██████████| 20/20 [00:01<00:00, 17.48it/s]\n",
      "Win1/Win2/Draw: 10/7/3: 100%|██████████| 20/20 [00:01<00:00, 16.60it/s]\n",
      "Win1/Win2/Draw: 6/0/0:  30%|███       | 6/20 [00:00<00:00, 33.59it/s]"
     ]
    },
    {
     "name": "stdout",
     "output_type": "stream",
     "text": [
      "Self-play player wins: 17, Training player wins: 18, Draws: 5\n",
      "Win + draw rate for training player: 0.575\n"
     ]
    },
    {
     "name": "stderr",
     "output_type": "stream",
     "text": [
      "Win1/Win2/Draw: 19/0/1: 100%|██████████| 20/20 [00:00<00:00, 31.97it/s]\n",
      "Win1/Win2/Draw: 4/14/2: 100%|██████████| 20/20 [00:00<00:00, 30.96it/s]\n"
     ]
    },
    {
     "name": "stdout",
     "output_type": "stream",
     "text": [
      "Training player vs random. Wins: 33, Losses: 4, Draws: 3\n",
      "Updating self-play player.\n",
      "Restoring from step: 124\n",
      "INFO:tensorflow:Restoring parameters from experiments/experiment-2018-05-16_22:17:36/checkpoints/124.checkpoint\n"
     ]
    },
    {
     "name": "stderr",
     "output_type": "stream",
     "text": [
      "100%|██████████| 10/10 [00:00<00:00, 20.04it/s]\n",
      "100%|██████████| 1000/1000 [00:03<00:00, 319.68it/s]\n",
      "100%|██████████| 10/10 [00:00<00:00, 18.05it/s]\n",
      "100%|██████████| 1000/1000 [00:03<00:00, 319.36it/s]\n",
      "Win1/Win2/Draw: 1/2/0:  15%|█▌        | 3/20 [00:00<00:00, 17.02it/s]"
     ]
    },
    {
     "name": "stdout",
     "output_type": "stream",
     "text": [
      "Evaluating. Self-player vs training, then training vs self-player\n"
     ]
    },
    {
     "name": "stderr",
     "output_type": "stream",
     "text": [
      "Win1/Win2/Draw: 8/12/0: 100%|██████████| 20/20 [00:01<00:00, 16.70it/s]\n",
      "Win1/Win2/Draw: 13/7/0: 100%|██████████| 20/20 [00:01<00:00, 17.93it/s]\n",
      "Win1/Win2/Draw: 6/0/0:  30%|███       | 6/20 [00:00<00:00, 34.03it/s]"
     ]
    },
    {
     "name": "stdout",
     "output_type": "stream",
     "text": [
      "Self-play player wins: 15, Training player wins: 25, Draws: 0\n",
      "Win + draw rate for training player: 0.625\n"
     ]
    },
    {
     "name": "stderr",
     "output_type": "stream",
     "text": [
      "Win1/Win2/Draw: 20/0/0: 100%|██████████| 20/20 [00:00<00:00, 33.02it/s]\n",
      "Win1/Win2/Draw: 8/7/5: 100%|██████████| 20/20 [00:00<00:00, 28.47it/s]\n"
     ]
    },
    {
     "name": "stdout",
     "output_type": "stream",
     "text": [
      "Training player vs random. Wins: 27, Losses: 8, Draws: 5\n",
      "Updating self-play player.\n",
      "Restoring from step: 126\n",
      "INFO:tensorflow:Restoring parameters from experiments/experiment-2018-05-16_22:17:36/checkpoints/126.checkpoint\n"
     ]
    },
    {
     "name": "stderr",
     "output_type": "stream",
     "text": [
      "100%|██████████| 10/10 [00:00<00:00, 18.44it/s]\n",
      "100%|██████████| 1000/1000 [00:03<00:00, 326.92it/s]\n",
      "100%|██████████| 10/10 [00:00<00:00, 19.80it/s]\n",
      "100%|██████████| 1000/1000 [00:03<00:00, 327.22it/s]\n",
      "Win1/Win2/Draw: 1/0/1:  10%|█         | 2/20 [00:00<00:01, 13.78it/s]"
     ]
    },
    {
     "name": "stdout",
     "output_type": "stream",
     "text": [
      "Evaluating. Self-player vs training, then training vs self-player\n"
     ]
    },
    {
     "name": "stderr",
     "output_type": "stream",
     "text": [
      "Win1/Win2/Draw: 9/0/11: 100%|██████████| 20/20 [00:01<00:00, 13.60it/s]\n",
      "Win1/Win2/Draw: 17/2/1: 100%|██████████| 20/20 [00:01<00:00, 15.88it/s]\n",
      "Win1/Win2/Draw: 6/0/0:  30%|███       | 6/20 [00:00<00:00, 36.13it/s]"
     ]
    },
    {
     "name": "stdout",
     "output_type": "stream",
     "text": [
      "Self-play player wins: 11, Training player wins: 17, Draws: 12\n",
      "Win + draw rate for training player: 0.725\n"
     ]
    },
    {
     "name": "stderr",
     "output_type": "stream",
     "text": [
      "Win1/Win2/Draw: 19/0/1: 100%|██████████| 20/20 [00:00<00:00, 26.90it/s]\n",
      "Win1/Win2/Draw: 3/9/8: 100%|██████████| 20/20 [00:00<00:00, 28.63it/s]\n"
     ]
    },
    {
     "name": "stdout",
     "output_type": "stream",
     "text": [
      "Training player vs random. Wins: 28, Losses: 3, Draws: 9\n",
      "Updating self-play player.\n",
      "Restoring from step: 128\n",
      "INFO:tensorflow:Restoring parameters from experiments/experiment-2018-05-16_22:17:36/checkpoints/128.checkpoint\n"
     ]
    },
    {
     "name": "stderr",
     "output_type": "stream",
     "text": [
      "100%|██████████| 10/10 [00:00<00:00, 13.46it/s]\n",
      "100%|██████████| 1000/1000 [00:03<00:00, 291.45it/s]\n",
      "100%|██████████| 10/10 [00:00<00:00, 20.07it/s]\n",
      "100%|██████████| 1000/1000 [00:02<00:00, 353.11it/s]\n",
      "Win1/Win2/Draw: 0/3/0:  15%|█▌        | 3/20 [00:00<00:00, 18.74it/s]"
     ]
    },
    {
     "name": "stdout",
     "output_type": "stream",
     "text": [
      "Evaluating. Self-player vs training, then training vs self-player\n"
     ]
    },
    {
     "name": "stderr",
     "output_type": "stream",
     "text": [
      "Win1/Win2/Draw: 12/8/0: 100%|██████████| 20/20 [00:01<00:00, 19.63it/s]\n",
      "Win1/Win2/Draw: 5/7/8: 100%|██████████| 20/20 [00:01<00:00, 15.10it/s]\n",
      "Win1/Win2/Draw: 5/0/1:  30%|███       | 6/20 [00:00<00:00, 31.14it/s]"
     ]
    },
    {
     "name": "stdout",
     "output_type": "stream",
     "text": [
      "Self-play player wins: 19, Training player wins: 13, Draws: 8\n",
      "Win + draw rate for training player: 0.525\n"
     ]
    },
    {
     "name": "stderr",
     "output_type": "stream",
     "text": [
      "Win1/Win2/Draw: 15/3/2: 100%|██████████| 20/20 [00:00<00:00, 29.55it/s]\n",
      "Win1/Win2/Draw: 2/14/4: 100%|██████████| 20/20 [00:00<00:00, 35.33it/s]\n",
      " 30%|███       | 3/10 [00:00<00:00, 24.06it/s]"
     ]
    },
    {
     "name": "stdout",
     "output_type": "stream",
     "text": [
      "Training player vs random. Wins: 29, Losses: 5, Draws: 6\n"
     ]
    },
    {
     "name": "stderr",
     "output_type": "stream",
     "text": [
      "100%|██████████| 10/10 [00:00<00:00, 24.21it/s]\n",
      "100%|██████████| 1000/1000 [00:02<00:00, 349.74it/s]\n",
      "100%|██████████| 10/10 [00:00<00:00, 17.00it/s]\n",
      "100%|██████████| 1000/1000 [00:03<00:00, 282.87it/s]\n",
      "Win1/Win2/Draw: 3/1/0:  20%|██        | 4/20 [00:00<00:00, 21.60it/s]"
     ]
    },
    {
     "name": "stdout",
     "output_type": "stream",
     "text": [
      "Evaluating. Self-player vs training, then training vs self-player\n"
     ]
    },
    {
     "name": "stderr",
     "output_type": "stream",
     "text": [
      "Win1/Win2/Draw: 12/8/0: 100%|██████████| 20/20 [00:01<00:00, 18.15it/s]\n",
      "Win1/Win2/Draw: 5/11/4: 100%|██████████| 20/20 [00:01<00:00, 17.19it/s]\n",
      "Win1/Win2/Draw: 6/0/1:  35%|███▌      | 7/20 [00:00<00:00, 37.32it/s]"
     ]
    },
    {
     "name": "stdout",
     "output_type": "stream",
     "text": [
      "Self-play player wins: 23, Training player wins: 13, Draws: 4\n",
      "Win + draw rate for training player: 0.425\n"
     ]
    },
    {
     "name": "stderr",
     "output_type": "stream",
     "text": [
      "Win1/Win2/Draw: 18/1/1: 100%|██████████| 20/20 [00:00<00:00, 35.90it/s]\n",
      "Win1/Win2/Draw: 5/13/2: 100%|██████████| 20/20 [00:00<00:00, 40.05it/s]\n",
      " 30%|███       | 3/10 [00:00<00:00, 20.43it/s]"
     ]
    },
    {
     "name": "stdout",
     "output_type": "stream",
     "text": [
      "Training player vs random. Wins: 31, Losses: 6, Draws: 3\n"
     ]
    },
    {
     "name": "stderr",
     "output_type": "stream",
     "text": [
      "100%|██████████| 10/10 [00:00<00:00, 21.59it/s]\n",
      "100%|██████████| 1000/1000 [00:03<00:00, 283.54it/s]\n",
      "100%|██████████| 10/10 [00:00<00:00, 21.46it/s]\n",
      "100%|██████████| 1000/1000 [00:04<00:00, 243.31it/s]\n",
      "Win1/Win2/Draw: 2/2/0:  20%|██        | 4/20 [00:00<00:00, 21.61it/s]"
     ]
    },
    {
     "name": "stdout",
     "output_type": "stream",
     "text": [
      "Evaluating. Self-player vs training, then training vs self-player\n"
     ]
    },
    {
     "name": "stderr",
     "output_type": "stream",
     "text": [
      "Win1/Win2/Draw: 8/12/0: 100%|██████████| 20/20 [00:01<00:00, 18.74it/s]\n",
      "Win1/Win2/Draw: 1/6/13: 100%|██████████| 20/20 [00:01<00:00, 12.75it/s]\n",
      "Win1/Win2/Draw: 4/0/0:  20%|██        | 4/20 [00:00<00:00, 21.42it/s]"
     ]
    },
    {
     "name": "stdout",
     "output_type": "stream",
     "text": [
      "Self-play player wins: 14, Training player wins: 13, Draws: 13\n",
      "Win + draw rate for training player: 0.65\n"
     ]
    },
    {
     "name": "stderr",
     "output_type": "stream",
     "text": [
      "Win1/Win2/Draw: 17/1/2: 100%|██████████| 20/20 [00:00<00:00, 20.97it/s]\n",
      "Win1/Win2/Draw: 3/15/2: 100%|██████████| 20/20 [00:00<00:00, 26.81it/s]\n"
     ]
    },
    {
     "name": "stdout",
     "output_type": "stream",
     "text": [
      "Training player vs random. Wins: 32, Losses: 4, Draws: 4\n",
      "Updating self-play player.\n",
      "Restoring from step: 134\n",
      "INFO:tensorflow:Restoring parameters from experiments/experiment-2018-05-16_22:17:36/checkpoints/134.checkpoint\n"
     ]
    },
    {
     "name": "stderr",
     "output_type": "stream",
     "text": [
      "100%|██████████| 10/10 [00:00<00:00, 16.33it/s]\n",
      "100%|██████████| 1000/1000 [00:03<00:00, 316.20it/s]\n",
      "100%|██████████| 10/10 [00:00<00:00, 14.96it/s]\n",
      "100%|██████████| 1000/1000 [00:03<00:00, 266.19it/s]\n",
      "Win1/Win2/Draw: 2/0/0:  10%|█         | 2/20 [00:00<00:01, 14.19it/s]"
     ]
    },
    {
     "name": "stdout",
     "output_type": "stream",
     "text": [
      "Evaluating. Self-player vs training, then training vs self-player\n"
     ]
    },
    {
     "name": "stderr",
     "output_type": "stream",
     "text": [
      "Win1/Win2/Draw: 10/7/3: 100%|██████████| 20/20 [00:01<00:00, 14.86it/s]\n",
      "Win1/Win2/Draw: 7/6/7: 100%|██████████| 20/20 [00:01<00:00, 13.78it/s]\n",
      "Win1/Win2/Draw: 4/0/1:  25%|██▌       | 5/20 [00:00<00:00, 24.79it/s]"
     ]
    },
    {
     "name": "stdout",
     "output_type": "stream",
     "text": [
      "Self-play player wins: 16, Training player wins: 14, Draws: 10\n",
      "Win + draw rate for training player: 0.6\n"
     ]
    },
    {
     "name": "stderr",
     "output_type": "stream",
     "text": [
      "Win1/Win2/Draw: 18/0/2: 100%|██████████| 20/20 [00:00<00:00, 25.31it/s]\n",
      "Win1/Win2/Draw: 7/12/1: 100%|██████████| 20/20 [00:00<00:00, 29.27it/s]\n"
     ]
    },
    {
     "name": "stdout",
     "output_type": "stream",
     "text": [
      "Training player vs random. Wins: 30, Losses: 7, Draws: 3\n",
      "Updating self-play player.\n",
      "Restoring from step: 136\n",
      "INFO:tensorflow:Restoring parameters from experiments/experiment-2018-05-16_22:17:36/checkpoints/136.checkpoint\n"
     ]
    },
    {
     "name": "stderr",
     "output_type": "stream",
     "text": [
      "100%|██████████| 10/10 [00:00<00:00, 20.75it/s]\n",
      "100%|██████████| 1000/1000 [00:03<00:00, 294.74it/s]\n",
      "100%|██████████| 10/10 [00:00<00:00, 21.70it/s]\n",
      "100%|██████████| 1000/1000 [00:03<00:00, 282.99it/s]\n",
      "Win1/Win2/Draw: 1/1/1:  15%|█▌        | 3/20 [00:00<00:01, 16.77it/s]"
     ]
    },
    {
     "name": "stdout",
     "output_type": "stream",
     "text": [
      "Evaluating. Self-player vs training, then training vs self-player\n"
     ]
    },
    {
     "name": "stderr",
     "output_type": "stream",
     "text": [
      "Win1/Win2/Draw: 12/6/2: 100%|██████████| 20/20 [00:01<00:00, 11.83it/s]\n",
      "Win1/Win2/Draw: 1/18/1: 100%|██████████| 20/20 [00:01<00:00, 14.83it/s]\n",
      "Win1/Win2/Draw: 4/0/0:  20%|██        | 4/20 [00:00<00:00, 25.16it/s]"
     ]
    },
    {
     "name": "stdout",
     "output_type": "stream",
     "text": [
      "Self-play player wins: 30, Training player wins: 7, Draws: 3\n",
      "Win + draw rate for training player: 0.25\n"
     ]
    },
    {
     "name": "stderr",
     "output_type": "stream",
     "text": [
      "Win1/Win2/Draw: 18/2/0: 100%|██████████| 20/20 [00:00<00:00, 29.58it/s]\n",
      "Win1/Win2/Draw: 2/13/5: 100%|██████████| 20/20 [00:00<00:00, 38.60it/s]\n",
      " 30%|███       | 3/10 [00:00<00:00, 23.86it/s]"
     ]
    },
    {
     "name": "stdout",
     "output_type": "stream",
     "text": [
      "Training player vs random. Wins: 31, Losses: 4, Draws: 5\n"
     ]
    },
    {
     "name": "stderr",
     "output_type": "stream",
     "text": [
      "100%|██████████| 10/10 [00:00<00:00, 25.08it/s]\n",
      "100%|██████████| 1000/1000 [00:02<00:00, 351.81it/s]\n",
      "100%|██████████| 10/10 [00:00<00:00, 23.25it/s]\n",
      "100%|██████████| 1000/1000 [00:02<00:00, 343.28it/s]\n",
      "Win1/Win2/Draw: 0/1/2:  15%|█▌        | 3/20 [00:00<00:00, 18.23it/s]"
     ]
    },
    {
     "name": "stdout",
     "output_type": "stream",
     "text": [
      "Evaluating. Self-player vs training, then training vs self-player\n"
     ]
    },
    {
     "name": "stderr",
     "output_type": "stream",
     "text": [
      "Win1/Win2/Draw: 3/1/16: 100%|██████████| 20/20 [00:01<00:00, 16.19it/s]\n",
      "Win1/Win2/Draw: 6/14/0: 100%|██████████| 20/20 [00:01<00:00, 19.30it/s]\n",
      "Win1/Win2/Draw: 6/0/0:  30%|███       | 6/20 [00:00<00:00, 34.89it/s]"
     ]
    },
    {
     "name": "stdout",
     "output_type": "stream",
     "text": [
      "Self-play player wins: 17, Training player wins: 7, Draws: 16\n",
      "Win + draw rate for training player: 0.575\n"
     ]
    },
    {
     "name": "stderr",
     "output_type": "stream",
     "text": [
      "Win1/Win2/Draw: 18/0/2: 100%|██████████| 20/20 [00:00<00:00, 33.69it/s]\n",
      "Win1/Win2/Draw: 3/13/4: 100%|██████████| 20/20 [00:00<00:00, 36.71it/s]\n"
     ]
    },
    {
     "name": "stdout",
     "output_type": "stream",
     "text": [
      "Training player vs random. Wins: 31, Losses: 3, Draws: 6\n",
      "Updating self-play player.\n",
      "Restoring from step: 140\n",
      "INFO:tensorflow:Restoring parameters from experiments/experiment-2018-05-16_22:17:36/checkpoints/140.checkpoint\n"
     ]
    },
    {
     "name": "stderr",
     "output_type": "stream",
     "text": [
      "100%|██████████| 10/10 [00:00<00:00, 20.87it/s]\n",
      "100%|██████████| 1000/1000 [00:02<00:00, 347.08it/s]\n",
      "100%|██████████| 10/10 [00:00<00:00, 23.96it/s]\n",
      "100%|██████████| 1000/1000 [00:03<00:00, 319.44it/s]\n",
      "Win1/Win2/Draw: 2/1/0:  15%|█▌        | 3/20 [00:00<00:01, 15.08it/s]"
     ]
    },
    {
     "name": "stdout",
     "output_type": "stream",
     "text": [
      "Evaluating. Self-player vs training, then training vs self-player\n"
     ]
    },
    {
     "name": "stderr",
     "output_type": "stream",
     "text": [
      "Win1/Win2/Draw: 10/5/5: 100%|██████████| 20/20 [00:01<00:00, 16.58it/s]\n",
      "Win1/Win2/Draw: 11/7/2: 100%|██████████| 20/20 [00:01<00:00, 18.37it/s]\n",
      "Win1/Win2/Draw: 6/0/1:  35%|███▌      | 7/20 [00:00<00:00, 39.01it/s]"
     ]
    },
    {
     "name": "stdout",
     "output_type": "stream",
     "text": [
      "Self-play player wins: 17, Training player wins: 16, Draws: 7\n",
      "Win + draw rate for training player: 0.575\n"
     ]
    },
    {
     "name": "stderr",
     "output_type": "stream",
     "text": [
      "Win1/Win2/Draw: 16/2/2: 100%|██████████| 20/20 [00:00<00:00, 35.86it/s]\n",
      "Win1/Win2/Draw: 5/13/2: 100%|██████████| 20/20 [00:00<00:00, 31.75it/s]\n"
     ]
    },
    {
     "name": "stdout",
     "output_type": "stream",
     "text": [
      "Training player vs random. Wins: 29, Losses: 7, Draws: 4\n",
      "Updating self-play player.\n",
      "Restoring from step: 142\n",
      "INFO:tensorflow:Restoring parameters from experiments/experiment-2018-05-16_22:17:36/checkpoints/142.checkpoint\n"
     ]
    },
    {
     "name": "stderr",
     "output_type": "stream",
     "text": [
      "100%|██████████| 10/10 [00:00<00:00, 21.72it/s]\n",
      "100%|██████████| 1000/1000 [00:02<00:00, 341.87it/s]\n",
      "100%|██████████| 10/10 [00:00<00:00, 17.51it/s]\n",
      "100%|██████████| 1000/1000 [00:03<00:00, 283.31it/s]\n",
      "Win1/Win2/Draw: 0/3/0:  15%|█▌        | 3/20 [00:00<00:01, 16.18it/s]"
     ]
    },
    {
     "name": "stdout",
     "output_type": "stream",
     "text": [
      "Evaluating. Self-player vs training, then training vs self-player\n"
     ]
    },
    {
     "name": "stderr",
     "output_type": "stream",
     "text": [
      "Win1/Win2/Draw: 13/6/1: 100%|██████████| 20/20 [00:01<00:00, 12.85it/s]\n",
      "Win1/Win2/Draw: 14/5/1: 100%|██████████| 20/20 [00:01<00:00, 10.55it/s]\n",
      "Win1/Win2/Draw: 3/1/0:  20%|██        | 4/20 [00:00<00:00, 23.21it/s]"
     ]
    },
    {
     "name": "stdout",
     "output_type": "stream",
     "text": [
      "Self-play player wins: 18, Training player wins: 20, Draws: 2\n",
      "Win + draw rate for training player: 0.55\n"
     ]
    },
    {
     "name": "stderr",
     "output_type": "stream",
     "text": [
      "Win1/Win2/Draw: 17/2/1: 100%|██████████| 20/20 [00:01<00:00, 18.50it/s]\n",
      "Win1/Win2/Draw: 7/10/3: 100%|██████████| 20/20 [00:00<00:00, 20.63it/s]\n",
      " 10%|█         | 1/10 [00:00<00:00,  9.90it/s]"
     ]
    },
    {
     "name": "stdout",
     "output_type": "stream",
     "text": [
      "Training player vs random. Wins: 27, Losses: 9, Draws: 4\n"
     ]
    },
    {
     "name": "stderr",
     "output_type": "stream",
     "text": [
      "100%|██████████| 10/10 [00:00<00:00, 13.08it/s]\n",
      "100%|██████████| 1000/1000 [00:03<00:00, 292.11it/s]\n",
      "100%|██████████| 10/10 [00:00<00:00, 17.04it/s]\n",
      "100%|██████████| 1000/1000 [00:03<00:00, 292.64it/s]\n",
      "Win1/Win2/Draw: 0/3/0:  15%|█▌        | 3/20 [00:00<00:00, 18.08it/s]"
     ]
    },
    {
     "name": "stdout",
     "output_type": "stream",
     "text": [
      "Evaluating. Self-player vs training, then training vs self-player\n"
     ]
    },
    {
     "name": "stderr",
     "output_type": "stream",
     "text": [
      "Win1/Win2/Draw: 12/8/0: 100%|██████████| 20/20 [00:01<00:00, 16.21it/s]\n",
      "Win1/Win2/Draw: 8/2/10: 100%|██████████| 20/20 [00:01<00:00, 13.10it/s]\n",
      "Win1/Win2/Draw: 5/0/0:  25%|██▌       | 5/20 [00:00<00:00, 29.33it/s]"
     ]
    },
    {
     "name": "stdout",
     "output_type": "stream",
     "text": [
      "Self-play player wins: 14, Training player wins: 16, Draws: 10\n",
      "Win + draw rate for training player: 0.65\n"
     ]
    },
    {
     "name": "stderr",
     "output_type": "stream",
     "text": [
      "Win1/Win2/Draw: 19/0/1: 100%|██████████| 20/20 [00:00<00:00, 23.96it/s]\n",
      "Win1/Win2/Draw: 9/10/1: 100%|██████████| 20/20 [00:00<00:00, 24.91it/s]\n"
     ]
    },
    {
     "name": "stdout",
     "output_type": "stream",
     "text": [
      "Training player vs random. Wins: 29, Losses: 9, Draws: 2\n",
      "Updating self-play player.\n",
      "Restoring from step: 146\n",
      "INFO:tensorflow:Restoring parameters from experiments/experiment-2018-05-16_22:17:36/checkpoints/146.checkpoint\n"
     ]
    },
    {
     "name": "stderr",
     "output_type": "stream",
     "text": [
      "100%|██████████| 10/10 [00:00<00:00, 13.66it/s]\n",
      "100%|██████████| 1000/1000 [00:03<00:00, 288.27it/s]\n",
      "100%|██████████| 10/10 [00:00<00:00, 20.37it/s]\n",
      "100%|██████████| 1000/1000 [00:03<00:00, 325.89it/s]\n",
      "Win1/Win2/Draw: 2/0/0:  10%|█         | 2/20 [00:00<00:01, 15.61it/s]"
     ]
    },
    {
     "name": "stdout",
     "output_type": "stream",
     "text": [
      "Evaluating. Self-player vs training, then training vs self-player\n"
     ]
    },
    {
     "name": "stderr",
     "output_type": "stream",
     "text": [
      "Win1/Win2/Draw: 18/1/1: 100%|██████████| 20/20 [00:01<00:00, 18.36it/s]\n",
      "Win1/Win2/Draw: 16/2/2: 100%|██████████| 20/20 [00:01<00:00, 14.77it/s]\n",
      "Win1/Win2/Draw: 6/0/0:  30%|███       | 6/20 [00:00<00:00, 34.19it/s]"
     ]
    },
    {
     "name": "stdout",
     "output_type": "stream",
     "text": [
      "Self-play player wins: 20, Training player wins: 17, Draws: 3\n",
      "Win + draw rate for training player: 0.5\n"
     ]
    },
    {
     "name": "stderr",
     "output_type": "stream",
     "text": [
      "Win1/Win2/Draw: 19/1/0: 100%|██████████| 20/20 [00:00<00:00, 33.11it/s]\n",
      "Win1/Win2/Draw: 6/12/2: 100%|██████████| 20/20 [00:00<00:00, 32.05it/s]\n",
      " 30%|███       | 3/10 [00:00<00:00, 22.81it/s]"
     ]
    },
    {
     "name": "stdout",
     "output_type": "stream",
     "text": [
      "Training player vs random. Wins: 31, Losses: 7, Draws: 2\n"
     ]
    },
    {
     "name": "stderr",
     "output_type": "stream",
     "text": [
      "100%|██████████| 10/10 [00:00<00:00, 22.84it/s]\n",
      "100%|██████████| 1000/1000 [00:03<00:00, 321.92it/s]\n",
      "100%|██████████| 10/10 [00:00<00:00, 21.92it/s]\n",
      "100%|██████████| 1000/1000 [00:03<00:00, 315.08it/s]\n",
      "Win1/Win2/Draw: 4/0/0:  20%|██        | 4/20 [00:00<00:00, 21.44it/s]"
     ]
    },
    {
     "name": "stdout",
     "output_type": "stream",
     "text": [
      "Evaluating. Self-player vs training, then training vs self-player\n"
     ]
    },
    {
     "name": "stderr",
     "output_type": "stream",
     "text": [
      "Win1/Win2/Draw: 19/1/0: 100%|██████████| 20/20 [00:01<00:00, 18.99it/s]\n",
      "Win1/Win2/Draw: 9/1/10: 100%|██████████| 20/20 [00:02<00:00, 10.75it/s]\n",
      "Win1/Win2/Draw: 8/0/0:  40%|████      | 8/20 [00:00<00:00, 45.29it/s]"
     ]
    },
    {
     "name": "stdout",
     "output_type": "stream",
     "text": [
      "Self-play player wins: 20, Training player wins: 10, Draws: 10\n",
      "Win + draw rate for training player: 0.5\n"
     ]
    },
    {
     "name": "stderr",
     "output_type": "stream",
     "text": [
      "Win1/Win2/Draw: 20/0/0: 100%|██████████| 20/20 [00:00<00:00, 35.30it/s]\n",
      "Win1/Win2/Draw: 6/11/3: 100%|██████████| 20/20 [00:00<00:00, 33.41it/s]\n",
      " 30%|███       | 3/10 [00:00<00:00, 20.58it/s]"
     ]
    },
    {
     "name": "stdout",
     "output_type": "stream",
     "text": [
      "Training player vs random. Wins: 31, Losses: 6, Draws: 3\n"
     ]
    },
    {
     "name": "stderr",
     "output_type": "stream",
     "text": [
      "100%|██████████| 10/10 [00:00<00:00, 19.55it/s]\n",
      "100%|██████████| 1000/1000 [00:03<00:00, 316.13it/s]\n",
      "100%|██████████| 10/10 [00:00<00:00, 20.02it/s]\n",
      "100%|██████████| 1000/1000 [00:03<00:00, 303.52it/s]\n",
      "Win1/Win2/Draw: 2/1/0:  15%|█▌        | 3/20 [00:00<00:00, 19.30it/s]"
     ]
    },
    {
     "name": "stdout",
     "output_type": "stream",
     "text": [
      "Evaluating. Self-player vs training, then training vs self-player\n"
     ]
    },
    {
     "name": "stderr",
     "output_type": "stream",
     "text": [
      "Win1/Win2/Draw: 16/4/0: 100%|██████████| 20/20 [00:01<00:00, 18.45it/s]\n",
      "Win1/Win2/Draw: 17/1/2: 100%|██████████| 20/20 [00:01<00:00, 14.99it/s]\n",
      "Win1/Win2/Draw: 3/0/2:  25%|██▌       | 5/20 [00:00<00:00, 29.28it/s]"
     ]
    },
    {
     "name": "stdout",
     "output_type": "stream",
     "text": [
      "Self-play player wins: 17, Training player wins: 21, Draws: 2\n",
      "Win + draw rate for training player: 0.575\n"
     ]
    },
    {
     "name": "stderr",
     "output_type": "stream",
     "text": [
      "Win1/Win2/Draw: 16/2/2: 100%|██████████| 20/20 [00:00<00:00, 27.05it/s]\n",
      "Win1/Win2/Draw: 7/10/3: 100%|██████████| 20/20 [00:00<00:00, 34.01it/s]\n"
     ]
    },
    {
     "name": "stdout",
     "output_type": "stream",
     "text": [
      "Training player vs random. Wins: 26, Losses: 9, Draws: 5\n",
      "Updating self-play player.\n",
      "Restoring from step: 152\n",
      "INFO:tensorflow:Restoring parameters from experiments/experiment-2018-05-16_22:17:36/checkpoints/152.checkpoint\n"
     ]
    },
    {
     "name": "stderr",
     "output_type": "stream",
     "text": [
      "100%|██████████| 10/10 [00:01<00:00,  8.57it/s]\n",
      "100%|██████████| 1000/1000 [00:03<00:00, 260.73it/s]\n",
      "100%|██████████| 10/10 [00:00<00:00, 10.28it/s]\n",
      "100%|██████████| 1000/1000 [00:03<00:00, 295.55it/s]\n",
      "Win1/Win2/Draw: 2/1/0:  15%|█▌        | 3/20 [00:00<00:00, 19.09it/s]"
     ]
    },
    {
     "name": "stdout",
     "output_type": "stream",
     "text": [
      "Evaluating. Self-player vs training, then training vs self-player\n"
     ]
    },
    {
     "name": "stderr",
     "output_type": "stream",
     "text": [
      "Win1/Win2/Draw: 12/2/6: 100%|██████████| 20/20 [00:01<00:00, 17.82it/s]\n",
      "Win1/Win2/Draw: 19/1/0: 100%|██████████| 20/20 [00:00<00:00, 20.45it/s]\n",
      "Win1/Win2/Draw: 6/0/0:  30%|███       | 6/20 [00:00<00:00, 33.72it/s]"
     ]
    },
    {
     "name": "stdout",
     "output_type": "stream",
     "text": [
      "Self-play player wins: 13, Training player wins: 21, Draws: 6\n",
      "Win + draw rate for training player: 0.675\n"
     ]
    },
    {
     "name": "stderr",
     "output_type": "stream",
     "text": [
      "Win1/Win2/Draw: 19/1/0: 100%|██████████| 20/20 [00:00<00:00, 35.78it/s]\n",
      "Win1/Win2/Draw: 7/10/3: 100%|██████████| 20/20 [00:00<00:00, 38.69it/s]\n"
     ]
    },
    {
     "name": "stdout",
     "output_type": "stream",
     "text": [
      "Training player vs random. Wins: 29, Losses: 8, Draws: 3\n",
      "Updating self-play player.\n",
      "Restoring from step: 154\n",
      "INFO:tensorflow:Restoring parameters from experiments/experiment-2018-05-16_22:17:36/checkpoints/154.checkpoint\n"
     ]
    },
    {
     "name": "stderr",
     "output_type": "stream",
     "text": [
      "100%|██████████| 10/10 [00:00<00:00, 14.60it/s]\n",
      "100%|██████████| 1000/1000 [00:02<00:00, 351.87it/s]\n",
      "100%|██████████| 10/10 [00:00<00:00, 22.86it/s]\n",
      "100%|██████████| 1000/1000 [00:02<00:00, 359.40it/s]\n",
      "Win1/Win2/Draw: 3/0/0:  15%|█▌        | 3/20 [00:00<00:00, 17.58it/s]"
     ]
    },
    {
     "name": "stdout",
     "output_type": "stream",
     "text": [
      "Evaluating. Self-player vs training, then training vs self-player\n"
     ]
    },
    {
     "name": "stderr",
     "output_type": "stream",
     "text": [
      "Win1/Win2/Draw: 15/5/0: 100%|██████████| 20/20 [00:01<00:00, 19.26it/s]\n",
      "Win1/Win2/Draw: 11/6/3: 100%|██████████| 20/20 [00:01<00:00, 18.26it/s]\n",
      "Win1/Win2/Draw: 4/0/0:  20%|██        | 4/20 [00:00<00:00, 19.72it/s]"
     ]
    },
    {
     "name": "stdout",
     "output_type": "stream",
     "text": [
      "Self-play player wins: 21, Training player wins: 16, Draws: 3\n",
      "Win + draw rate for training player: 0.475\n"
     ]
    },
    {
     "name": "stderr",
     "output_type": "stream",
     "text": [
      "Win1/Win2/Draw: 16/1/3: 100%|██████████| 20/20 [00:01<00:00, 18.65it/s]\n",
      "Win1/Win2/Draw: 5/13/2: 100%|██████████| 20/20 [00:00<00:00, 29.46it/s]\n",
      " 20%|██        | 2/10 [00:00<00:00, 16.81it/s]"
     ]
    },
    {
     "name": "stdout",
     "output_type": "stream",
     "text": [
      "Training player vs random. Wins: 29, Losses: 6, Draws: 5\n"
     ]
    },
    {
     "name": "stderr",
     "output_type": "stream",
     "text": [
      "100%|██████████| 10/10 [00:00<00:00, 15.30it/s]\n",
      "100%|██████████| 1000/1000 [00:03<00:00, 329.59it/s]\n",
      "100%|██████████| 10/10 [00:00<00:00, 18.04it/s]\n",
      "100%|██████████| 1000/1000 [00:03<00:00, 275.54it/s]\n",
      "Win1/Win2/Draw: 0/0/2:  10%|█         | 2/20 [00:00<00:01,  9.33it/s]"
     ]
    },
    {
     "name": "stdout",
     "output_type": "stream",
     "text": [
      "Evaluating. Self-player vs training, then training vs self-player\n"
     ]
    },
    {
     "name": "stderr",
     "output_type": "stream",
     "text": [
      "Win1/Win2/Draw: 7/1/12: 100%|██████████| 20/20 [00:01<00:00, 10.49it/s]\n",
      "Win1/Win2/Draw: 14/5/1: 100%|██████████| 20/20 [00:01<00:00, 12.11it/s]\n",
      "Win1/Win2/Draw: 0/1/0:   5%|▌         | 1/20 [00:00<00:02,  6.68it/s]"
     ]
    },
    {
     "name": "stdout",
     "output_type": "stream",
     "text": [
      "Self-play player wins: 12, Training player wins: 15, Draws: 13\n",
      "Win + draw rate for training player: 0.7\n"
     ]
    },
    {
     "name": "stderr",
     "output_type": "stream",
     "text": [
      "Win1/Win2/Draw: 17/3/0: 100%|██████████| 20/20 [00:01<00:00, 11.04it/s]\n",
      "Win1/Win2/Draw: 7/11/2: 100%|██████████| 20/20 [00:00<00:00, 26.10it/s]\n"
     ]
    },
    {
     "name": "stdout",
     "output_type": "stream",
     "text": [
      "Training player vs random. Wins: 28, Losses: 10, Draws: 2\n",
      "Updating self-play player.\n",
      "Restoring from step: 158\n",
      "INFO:tensorflow:Restoring parameters from experiments/experiment-2018-05-16_22:17:36/checkpoints/158.checkpoint\n"
     ]
    },
    {
     "name": "stderr",
     "output_type": "stream",
     "text": [
      "100%|██████████| 10/10 [00:00<00:00, 18.15it/s]\n",
      "  5%|▌         | 54/1000 [00:00<00:03, 268.42it/s]\n"
     ]
    },
    {
     "ename": "KeyboardInterrupt",
     "evalue": "",
     "traceback": [
      "\u001b[0;31m---------------------------------------------------------------------------\u001b[0m",
      "\u001b[0;31mKeyboardInterrupt\u001b[0m                         Traceback (most recent call last)",
      "\u001b[0;32m<ipython-input-2-aab6e58c9463>\u001b[0m in \u001b[0;36m<module>\u001b[0;34m()\u001b[0m\n\u001b[1;32m     32\u001b[0m                        \u001b[0mreplay_length\u001b[0m\u001b[0;34m=\u001b[0m\u001b[0mreplay_length\u001b[0m\u001b[0;34m,\u001b[0m\u001b[0;34m\u001b[0m\u001b[0m\n\u001b[1;32m     33\u001b[0m                        \u001b[0mnum_evaluate_games\u001b[0m\u001b[0;34m=\u001b[0m\u001b[0mnum_evaluate_games\u001b[0m\u001b[0;34m,\u001b[0m \u001b[0mwin_rate\u001b[0m\u001b[0;34m=\u001b[0m\u001b[0mwin_rate\u001b[0m\u001b[0;34m,\u001b[0m\u001b[0;34m\u001b[0m\u001b[0m\n\u001b[0;32m---> 34\u001b[0;31m                        restore_step=restore_step, verbose=True)\n\u001b[0m",
      "\u001b[0;32m~/PycharmProjects/alphago/alphago/alphago.py\u001b[0m in \u001b[0;36mtrain_alphago\u001b[0;34m(game, create_estimator, self_play_iters, training_iters, checkpoint_path, summary_path, alphago_steps, evaluate_every, batch_size, mcts_iters, c_puct, replay_length, num_evaluate_games, win_rate, verbose, restore_step, self_play_file_path)\u001b[0m\n\u001b[1;32m    105\u001b[0m         \u001b[0mtraining_data\u001b[0m \u001b[0;34m=\u001b[0m \u001b[0mprocess_training_data\u001b[0m\u001b[0;34m(\u001b[0m\u001b[0mself_play_data\u001b[0m\u001b[0;34m,\u001b[0m \u001b[0mreplay_length\u001b[0m\u001b[0;34m)\u001b[0m\u001b[0;34m\u001b[0m\u001b[0m\n\u001b[1;32m    106\u001b[0m         optimise_estimator(training_estimator, training_data, batch_size,\n\u001b[0;32m--> 107\u001b[0;31m                            training_iters, writer, verbose=verbose)\n\u001b[0m\u001b[1;32m    108\u001b[0m \u001b[0;34m\u001b[0m\u001b[0m\n\u001b[1;32m    109\u001b[0m         \u001b[0;31m# Evaluate the players and choose the best.\u001b[0m\u001b[0;34m\u001b[0m\u001b[0;34m\u001b[0m\u001b[0m\n",
      "\u001b[0;32m~/PycharmProjects/alphago/alphago/alphago.py\u001b[0m in \u001b[0;36moptimise_estimator\u001b[0;34m(estimator, training_data, batch_size, training_iters, writer, verbose)\u001b[0m\n\u001b[1;32m    134\u001b[0m                        writer, verbose=True):\n\u001b[1;32m    135\u001b[0m     summary = estimator.train(training_data, batch_size, training_iters,\n\u001b[0;32m--> 136\u001b[0;31m                               writer, verbose=verbose)\n\u001b[0m\u001b[1;32m    137\u001b[0m     \u001b[0;32mreturn\u001b[0m \u001b[0msummary\u001b[0m\u001b[0;34m\u001b[0m\u001b[0m\n\u001b[1;32m    138\u001b[0m \u001b[0;34m\u001b[0m\u001b[0m\n",
      "\u001b[0;32m~/PycharmProjects/alphago/alphago/estimator.py\u001b[0m in \u001b[0;36mtrain\u001b[0;34m(self, training_data, batch_size, training_iters, writer, verbose)\u001b[0m\n\u001b[1;32m    117\u001b[0m                      \u001b[0mself\u001b[0m\u001b[0;34m.\u001b[0m\u001b[0mtensors\u001b[0m\u001b[0;34m[\u001b[0m\u001b[0;34m'pi'\u001b[0m\u001b[0;34m]\u001b[0m\u001b[0;34m:\u001b[0m \u001b[0mpis\u001b[0m\u001b[0;34m,\u001b[0m\u001b[0;34m\u001b[0m\u001b[0m\n\u001b[1;32m    118\u001b[0m                      \u001b[0mself\u001b[0m\u001b[0;34m.\u001b[0m\u001b[0mtensors\u001b[0m\u001b[0;34m[\u001b[0m\u001b[0;34m'outcomes'\u001b[0m\u001b[0;34m]\u001b[0m\u001b[0;34m:\u001b[0m \u001b[0mzs\u001b[0m\u001b[0;34m,\u001b[0m\u001b[0;34m\u001b[0m\u001b[0m\n\u001b[0;32m--> 119\u001b[0;31m                      \u001b[0mself\u001b[0m\u001b[0;34m.\u001b[0m\u001b[0mtensors\u001b[0m\u001b[0;34m[\u001b[0m\u001b[0;34m'is_training'\u001b[0m\u001b[0;34m]\u001b[0m\u001b[0;34m:\u001b[0m \u001b[0;32mTrue\u001b[0m\u001b[0;34m\u001b[0m\u001b[0m\n\u001b[0m\u001b[1;32m    120\u001b[0m                      })\n\u001b[1;32m    121\u001b[0m \u001b[0;34m\u001b[0m\u001b[0m\n",
      "\u001b[0;32m~/.local/share/virtualenvs/alphago-2N9KWjys/lib/python3.6/site-packages/tensorflow/python/client/session.py\u001b[0m in \u001b[0;36mrun\u001b[0;34m(self, fetches, feed_dict, options, run_metadata)\u001b[0m\n\u001b[1;32m    898\u001b[0m     \u001b[0;32mtry\u001b[0m\u001b[0;34m:\u001b[0m\u001b[0;34m\u001b[0m\u001b[0m\n\u001b[1;32m    899\u001b[0m       result = self._run(None, fetches, feed_dict, options_ptr,\n\u001b[0;32m--> 900\u001b[0;31m                          run_metadata_ptr)\n\u001b[0m\u001b[1;32m    901\u001b[0m       \u001b[0;32mif\u001b[0m \u001b[0mrun_metadata\u001b[0m\u001b[0;34m:\u001b[0m\u001b[0;34m\u001b[0m\u001b[0m\n\u001b[1;32m    902\u001b[0m         \u001b[0mproto_data\u001b[0m \u001b[0;34m=\u001b[0m \u001b[0mtf_session\u001b[0m\u001b[0;34m.\u001b[0m\u001b[0mTF_GetBuffer\u001b[0m\u001b[0;34m(\u001b[0m\u001b[0mrun_metadata_ptr\u001b[0m\u001b[0;34m)\u001b[0m\u001b[0;34m\u001b[0m\u001b[0m\n",
      "\u001b[0;32m~/.local/share/virtualenvs/alphago-2N9KWjys/lib/python3.6/site-packages/tensorflow/python/client/session.py\u001b[0m in \u001b[0;36m_run\u001b[0;34m(self, handle, fetches, feed_dict, options, run_metadata)\u001b[0m\n\u001b[1;32m   1133\u001b[0m     \u001b[0;32mif\u001b[0m \u001b[0mfinal_fetches\u001b[0m \u001b[0;32mor\u001b[0m \u001b[0mfinal_targets\u001b[0m \u001b[0;32mor\u001b[0m \u001b[0;34m(\u001b[0m\u001b[0mhandle\u001b[0m \u001b[0;32mand\u001b[0m \u001b[0mfeed_dict_tensor\u001b[0m\u001b[0;34m)\u001b[0m\u001b[0;34m:\u001b[0m\u001b[0;34m\u001b[0m\u001b[0m\n\u001b[1;32m   1134\u001b[0m       results = self._do_run(handle, final_targets, final_fetches,\n\u001b[0;32m-> 1135\u001b[0;31m                              feed_dict_tensor, options, run_metadata)\n\u001b[0m\u001b[1;32m   1136\u001b[0m     \u001b[0;32melse\u001b[0m\u001b[0;34m:\u001b[0m\u001b[0;34m\u001b[0m\u001b[0m\n\u001b[1;32m   1137\u001b[0m       \u001b[0mresults\u001b[0m \u001b[0;34m=\u001b[0m \u001b[0;34m[\u001b[0m\u001b[0;34m]\u001b[0m\u001b[0;34m\u001b[0m\u001b[0m\n",
      "\u001b[0;32m~/.local/share/virtualenvs/alphago-2N9KWjys/lib/python3.6/site-packages/tensorflow/python/client/session.py\u001b[0m in \u001b[0;36m_do_run\u001b[0;34m(self, handle, target_list, fetch_list, feed_dict, options, run_metadata)\u001b[0m\n\u001b[1;32m   1314\u001b[0m     \u001b[0;32mif\u001b[0m \u001b[0mhandle\u001b[0m \u001b[0;32mis\u001b[0m \u001b[0;32mNone\u001b[0m\u001b[0;34m:\u001b[0m\u001b[0;34m\u001b[0m\u001b[0m\n\u001b[1;32m   1315\u001b[0m       return self._do_call(_run_fn, feeds, fetches, targets, options,\n\u001b[0;32m-> 1316\u001b[0;31m                            run_metadata)\n\u001b[0m\u001b[1;32m   1317\u001b[0m     \u001b[0;32melse\u001b[0m\u001b[0;34m:\u001b[0m\u001b[0;34m\u001b[0m\u001b[0m\n\u001b[1;32m   1318\u001b[0m       \u001b[0;32mreturn\u001b[0m \u001b[0mself\u001b[0m\u001b[0;34m.\u001b[0m\u001b[0m_do_call\u001b[0m\u001b[0;34m(\u001b[0m\u001b[0m_prun_fn\u001b[0m\u001b[0;34m,\u001b[0m \u001b[0mhandle\u001b[0m\u001b[0;34m,\u001b[0m \u001b[0mfeeds\u001b[0m\u001b[0;34m,\u001b[0m \u001b[0mfetches\u001b[0m\u001b[0;34m)\u001b[0m\u001b[0;34m\u001b[0m\u001b[0m\n",
      "\u001b[0;32m~/.local/share/virtualenvs/alphago-2N9KWjys/lib/python3.6/site-packages/tensorflow/python/client/session.py\u001b[0m in \u001b[0;36m_do_call\u001b[0;34m(self, fn, *args)\u001b[0m\n\u001b[1;32m   1320\u001b[0m   \u001b[0;32mdef\u001b[0m \u001b[0m_do_call\u001b[0m\u001b[0;34m(\u001b[0m\u001b[0mself\u001b[0m\u001b[0;34m,\u001b[0m \u001b[0mfn\u001b[0m\u001b[0;34m,\u001b[0m \u001b[0;34m*\u001b[0m\u001b[0margs\u001b[0m\u001b[0;34m)\u001b[0m\u001b[0;34m:\u001b[0m\u001b[0;34m\u001b[0m\u001b[0m\n\u001b[1;32m   1321\u001b[0m     \u001b[0;32mtry\u001b[0m\u001b[0;34m:\u001b[0m\u001b[0;34m\u001b[0m\u001b[0m\n\u001b[0;32m-> 1322\u001b[0;31m       \u001b[0;32mreturn\u001b[0m \u001b[0mfn\u001b[0m\u001b[0;34m(\u001b[0m\u001b[0;34m*\u001b[0m\u001b[0margs\u001b[0m\u001b[0;34m)\u001b[0m\u001b[0;34m\u001b[0m\u001b[0m\n\u001b[0m\u001b[1;32m   1323\u001b[0m     \u001b[0;32mexcept\u001b[0m \u001b[0merrors\u001b[0m\u001b[0;34m.\u001b[0m\u001b[0mOpError\u001b[0m \u001b[0;32mas\u001b[0m \u001b[0me\u001b[0m\u001b[0;34m:\u001b[0m\u001b[0;34m\u001b[0m\u001b[0m\n\u001b[1;32m   1324\u001b[0m       \u001b[0mmessage\u001b[0m \u001b[0;34m=\u001b[0m \u001b[0mcompat\u001b[0m\u001b[0;34m.\u001b[0m\u001b[0mas_text\u001b[0m\u001b[0;34m(\u001b[0m\u001b[0me\u001b[0m\u001b[0;34m.\u001b[0m\u001b[0mmessage\u001b[0m\u001b[0;34m)\u001b[0m\u001b[0;34m\u001b[0m\u001b[0m\n",
      "\u001b[0;32m~/.local/share/virtualenvs/alphago-2N9KWjys/lib/python3.6/site-packages/tensorflow/python/client/session.py\u001b[0m in \u001b[0;36m_run_fn\u001b[0;34m(feed_dict, fetch_list, target_list, options, run_metadata)\u001b[0m\n\u001b[1;32m   1305\u001b[0m       \u001b[0mself\u001b[0m\u001b[0;34m.\u001b[0m\u001b[0m_extend_graph\u001b[0m\u001b[0;34m(\u001b[0m\u001b[0;34m)\u001b[0m\u001b[0;34m\u001b[0m\u001b[0m\n\u001b[1;32m   1306\u001b[0m       return self._call_tf_sessionrun(\n\u001b[0;32m-> 1307\u001b[0;31m           options, feed_dict, fetch_list, target_list, run_metadata)\n\u001b[0m\u001b[1;32m   1308\u001b[0m \u001b[0;34m\u001b[0m\u001b[0m\n\u001b[1;32m   1309\u001b[0m     \u001b[0;32mdef\u001b[0m \u001b[0m_prun_fn\u001b[0m\u001b[0;34m(\u001b[0m\u001b[0mhandle\u001b[0m\u001b[0;34m,\u001b[0m \u001b[0mfeed_dict\u001b[0m\u001b[0;34m,\u001b[0m \u001b[0mfetch_list\u001b[0m\u001b[0;34m)\u001b[0m\u001b[0;34m:\u001b[0m\u001b[0;34m\u001b[0m\u001b[0m\n",
      "\u001b[0;32m~/.local/share/virtualenvs/alphago-2N9KWjys/lib/python3.6/site-packages/tensorflow/python/client/session.py\u001b[0m in \u001b[0;36m_call_tf_sessionrun\u001b[0;34m(self, options, feed_dict, fetch_list, target_list, run_metadata)\u001b[0m\n\u001b[1;32m   1407\u001b[0m       return tf_session.TF_SessionRun_wrapper(\n\u001b[1;32m   1408\u001b[0m           \u001b[0mself\u001b[0m\u001b[0;34m.\u001b[0m\u001b[0m_session\u001b[0m\u001b[0;34m,\u001b[0m \u001b[0moptions\u001b[0m\u001b[0;34m,\u001b[0m \u001b[0mfeed_dict\u001b[0m\u001b[0;34m,\u001b[0m \u001b[0mfetch_list\u001b[0m\u001b[0;34m,\u001b[0m \u001b[0mtarget_list\u001b[0m\u001b[0;34m,\u001b[0m\u001b[0;34m\u001b[0m\u001b[0m\n\u001b[0;32m-> 1409\u001b[0;31m           run_metadata)\n\u001b[0m\u001b[1;32m   1410\u001b[0m     \u001b[0;32melse\u001b[0m\u001b[0;34m:\u001b[0m\u001b[0;34m\u001b[0m\u001b[0m\n\u001b[1;32m   1411\u001b[0m       \u001b[0;32mwith\u001b[0m \u001b[0merrors\u001b[0m\u001b[0;34m.\u001b[0m\u001b[0mraise_exception_on_not_ok_status\u001b[0m\u001b[0;34m(\u001b[0m\u001b[0;34m)\u001b[0m \u001b[0;32mas\u001b[0m \u001b[0mstatus\u001b[0m\u001b[0;34m:\u001b[0m\u001b[0;34m\u001b[0m\u001b[0m\n",
      "\u001b[0;31mKeyboardInterrupt\u001b[0m: "
     ],
     "output_type": "error"
    }
   ],
   "source": [
    "learning_rate = 1e-4\n",
    "game = NoughtsAndCrosses()\n",
    "\n",
    "memoize_instance(game)\n",
    "\n",
    "def create_estimator():\n",
    "    return NACNetEstimator(learning_rate=learning_rate, action_indices=game.action_indices)\n",
    "\n",
    "self_play_iters = 10\n",
    "training_iters = 1000\n",
    "evaluate_every = 2\n",
    "alphago_steps = 1000\n",
    "mcts_iters = 10\n",
    "c_puct = 1.0\n",
    "replay_length = 10000\n",
    "num_evaluate_games = 20\n",
    "win_rate = 0.55\n",
    "\n",
    "current_time_format = time.strftime('experiment-%Y-%m-%d_%H:%M:%S')\n",
    "path = \"experiments/{}/\".format(current_time_format)\n",
    "checkpoint_path = path + 'checkpoints/'\n",
    "summary_path = path + 'logs/'\n",
    "restore_step = None\n",
    "\n",
    "losses = train_alphago(game, create_estimator, self_play_iters=self_play_iters,\n",
    "                       training_iters=training_iters,\n",
    "                       checkpoint_path=checkpoint_path,\n",
    "                       summary_path=summary_path,\n",
    "                       alphago_steps=alphago_steps,\n",
    "                       evaluate_every=evaluate_every, batch_size=32,\n",
    "                       mcts_iters=mcts_iters, c_puct=c_puct,\n",
    "                       replay_length=replay_length,\n",
    "                       num_evaluate_games=num_evaluate_games, win_rate=win_rate,\n",
    "                       restore_step=restore_step, verbose=True)"
   ]
  },
  {
   "cell_type": "code",
   "execution_count": null,
   "metadata": {},
   "outputs": [],
   "source": []
  }
 ],
 "metadata": {
  "kernelspec": {
   "display_name": "Python 3",
   "language": "python",
   "name": "python3"
  },
  "language_info": {
   "codemirror_mode": {
    "name": "ipython",
    "version": 3
   },
   "file_extension": ".py",
   "mimetype": "text/x-python",
   "name": "python",
   "nbconvert_exporter": "python",
   "pygments_lexer": "ipython3",
   "version": "3.6.4"
  }
 },
 "nbformat": 4,
 "nbformat_minor": 2
}
