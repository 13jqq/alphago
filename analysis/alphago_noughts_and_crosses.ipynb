{
 "cells": [
  {
   "cell_type": "code",
   "execution_count": null,
   "metadata": {},
   "outputs": [],
   "source": [
    "from alphago.games import NoughtsAndCrosses\n",
    "from alphago.estimator import NACNetEstimator\n",
    "from alphago.alphago import train_alphago\n",
    "\n",
    "from alphago.utilities import memoize_instance"
   ]
  },
  {
   "cell_type": "code",
   "execution_count": null,
   "metadata": {},
   "outputs": [],
   "source": []
  },
  {
   "cell_type": "code",
   "execution_count": null,
   "metadata": {},
   "outputs": [
    {
     "name": "stdout",
     "output_type": "stream",
     "text": [
      "INFO:tensorflow:Restoring parameters from checkpoints/14.checkpoint\n",
      "INFO:tensorflow:Restoring parameters from checkpoints/14.checkpoint\n"
     ]
    },
    {
     "name": "stderr",
     "output_type": "stream",
     "text": [
      "100%|██████████| 10/10 [00:01<00:00,  8.00it/s]\n",
      "100%|██████████| 1000/1000 [00:01<00:00, 731.15it/s]\n",
      " 20%|██        | 2/10 [00:00<00:00, 11.47it/s]"
     ]
    },
    {
     "name": "stdout",
     "output_type": "stream",
     "text": [
      "Mean loss: 0.8923832774162292\n"
     ]
    },
    {
     "name": "stderr",
     "output_type": "stream",
     "text": [
      "100%|██████████| 10/10 [00:01<00:00,  9.15it/s]\n",
      "100%|██████████| 1000/1000 [00:01<00:00, 723.16it/s]\n",
      "Win1/Win2/Draw: 0/1/0:   5%|▌         | 1/20 [00:00<00:02,  7.60it/s]"
     ]
    },
    {
     "name": "stdout",
     "output_type": "stream",
     "text": [
      "Mean loss: 0.6150426864624023\n",
      "Evaluating. Self-player vs training, then training vs self-player\n"
     ]
    },
    {
     "name": "stderr",
     "output_type": "stream",
     "text": [
      "Win1/Win2/Draw: 13/3/4: 100%|██████████| 20/20 [00:02<00:00,  8.58it/s]\n",
      "Win1/Win2/Draw: 13/2/5: 100%|██████████| 20/20 [00:02<00:00,  8.94it/s]\n",
      "Win1/Win2/Draw: 2/0/0:  10%|█         | 2/20 [00:00<00:01, 13.35it/s]"
     ]
    },
    {
     "name": "stdout",
     "output_type": "stream",
     "text": [
      "Self-play player wins: 15, Training player wins: 16, Draws: 9\n",
      "Win rate for training player: 0.4\n"
     ]
    },
    {
     "name": "stderr",
     "output_type": "stream",
     "text": [
      "Win1/Win2/Draw: 14/1/5: 100%|██████████| 20/20 [00:01<00:00, 15.01it/s]\n",
      "Win1/Win2/Draw: 4/13/3: 100%|██████████| 20/20 [00:01<00:00, 17.99it/s]\n",
      "  0%|          | 0/10 [00:00<?, ?it/s]"
     ]
    },
    {
     "name": "stdout",
     "output_type": "stream",
     "text": [
      "Training player vs random. Wins: 27, Losses: 5, Draws: 8\n"
     ]
    },
    {
     "name": "stderr",
     "output_type": "stream",
     "text": [
      "100%|██████████| 10/10 [00:00<00:00, 10.66it/s]\n",
      "100%|██████████| 1000/1000 [00:02<00:00, 382.52it/s]\n",
      " 10%|█         | 1/10 [00:00<00:01,  8.52it/s]"
     ]
    },
    {
     "name": "stdout",
     "output_type": "stream",
     "text": [
      "Mean loss: 0.830599844455719\n"
     ]
    },
    {
     "name": "stderr",
     "output_type": "stream",
     "text": [
      "100%|██████████| 10/10 [00:00<00:00, 10.20it/s]\n",
      "100%|██████████| 1000/1000 [00:02<00:00, 353.13it/s]\n",
      "Win1/Win2/Draw: 1/0/0:   5%|▌         | 1/20 [00:00<00:01, 10.29it/s]"
     ]
    },
    {
     "name": "stdout",
     "output_type": "stream",
     "text": [
      "Mean loss: 0.9157120585441589\n",
      "Evaluating. Self-player vs training, then training vs self-player\n"
     ]
    },
    {
     "name": "stderr",
     "output_type": "stream",
     "text": [
      "Win1/Win2/Draw: 13/3/4: 100%|██████████| 20/20 [00:01<00:00, 10.04it/s]\n",
      "Win1/Win2/Draw: 11/5/4: 100%|██████████| 20/20 [00:02<00:00,  8.14it/s]\n",
      "Win1/Win2/Draw: 2/0/0:  10%|█         | 2/20 [00:00<00:01, 14.10it/s]"
     ]
    },
    {
     "name": "stdout",
     "output_type": "stream",
     "text": [
      "Self-play player wins: 18, Training player wins: 14, Draws: 8\n",
      "Win rate for training player: 0.35\n"
     ]
    },
    {
     "name": "stderr",
     "output_type": "stream",
     "text": [
      "Win1/Win2/Draw: 19/0/1: 100%|██████████| 20/20 [00:01<00:00, 15.64it/s]\n",
      "Win1/Win2/Draw: 5/11/4: 100%|██████████| 20/20 [00:01<00:00, 17.74it/s]\n",
      " 10%|█         | 1/10 [00:00<00:01,  8.20it/s]"
     ]
    },
    {
     "name": "stdout",
     "output_type": "stream",
     "text": [
      "Training player vs random. Wins: 30, Losses: 5, Draws: 5\n"
     ]
    },
    {
     "name": "stderr",
     "output_type": "stream",
     "text": [
      "100%|██████████| 10/10 [00:00<00:00, 10.46it/s]\n",
      "100%|██████████| 1000/1000 [00:02<00:00, 351.24it/s]\n",
      " 10%|█         | 1/10 [00:00<00:01,  8.82it/s]"
     ]
    },
    {
     "name": "stdout",
     "output_type": "stream",
     "text": [
      "Mean loss: 0.32650232315063477\n"
     ]
    },
    {
     "name": "stderr",
     "output_type": "stream",
     "text": [
      "100%|██████████| 10/10 [00:00<00:00, 11.26it/s]\n",
      " 11%|█         | 108/1000 [00:00<00:02, 356.21it/s]"
     ]
    }
   ],
   "source": [
    "\n",
    "learning_rate = 1e-4\n",
    "game = NoughtsAndCrosses()\n",
    "\n",
    "memoize_instance(game)\n",
    "\n",
    "def create_estimator():\n",
    "    return NACNetEstimator(learning_rate=learning_rate, action_indices=game.action_indices)\n",
    "\n",
    "self_play_iters = 10\n",
    "training_iters = 1000\n",
    "evaluate_every = 2\n",
    "alphago_steps = 1000\n",
    "mcts_iters = 20\n",
    "c_puct = 1.0\n",
    "replay_length = 10000\n",
    "num_evaluate_games = 20\n",
    "win_rate = 0.55\n",
    "\n",
    "checkpoint_path = 'checkpoints/'\n",
    "restore_step = 14\n",
    "\n",
    "losses = train_alphago(game, create_estimator, self_play_iters=self_play_iters,\n",
    "                        training_iters=training_iters,\n",
    "                        checkpoint_path=checkpoint_path,\n",
    "                        alphago_steps=alphago_steps,\n",
    "                        evaluate_every=evaluate_every, batch_size=32,\n",
    "                        mcts_iters=mcts_iters, c_puct=c_puct,\n",
    "                        replay_length=replay_length,\n",
    "                        num_evaluate_games=num_evaluate_games, win_rate=win_rate,\n",
    "                        restore_step=restore_step, verbose=True)"
   ]
  },
  {
   "cell_type": "code",
   "execution_count": null,
   "metadata": {},
   "outputs": [],
   "source": []
  }
 ],
 "metadata": {
  "kernelspec": {
   "display_name": "Python 3",
   "language": "python",
   "name": "python3"
  },
  "language_info": {
   "codemirror_mode": {
    "name": "ipython",
    "version": 3
   },
   "file_extension": ".py",
   "mimetype": "text/x-python",
   "name": "python",
   "nbconvert_exporter": "python",
   "pygments_lexer": "ipython3",
   "version": "3.6.4"
  }
 },
 "nbformat": 4,
 "nbformat_minor": 2
}
